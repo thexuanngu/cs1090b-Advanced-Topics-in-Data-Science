{
    "metadata": {
        "kernelspec": {
            "name": "python3",
            "display_name": "Python 3 (ipykernel)",
            "language": "python"
        }
    },
    "nbformat": 4,
    "nbformat_minor": 5,
    "cells": [
        {
            "attachments": {},
            "cell_type": "markdown",
            "metadata": {},
            "source": [
                "\u003cimg style=\"float: left; padding-right: 10px; width: 45px\" src=\"https://raw.githubusercontent.com/Harvard-IACS/2018-CS109A/master/content/styles/iacs.png\"\u003e \u003cdiv style=\"font-size: 25px\"\u003eData Science 2: Advanced Topics in Data Science\u003c/div\u003e\n",
                "\n",
                "## Lab 11: Fine-Tuning with LoRA and Quantization Using Hugging Face\n",
                "**Harvard University**\u003cbr/\u003e\n",
                "**Spring 2025**\u003cbr/\u003e\n",
                "**Instructors**: Pavlos Protopapas, Natesh Pillai, and Chris Gumb\n",
                "\n",
                "\u003chr style=\"height:2pt\"\u003e"
            ]
        },
        {
            "attachments": {},
            "cell_type": "markdown",
            "metadata": {},
            "source": [
                "### 🎯 Lab Goals\n",
                "\n",
                "In this notebook, you'll learn how to fine-tune a transformer model using **LoRA (Low-Rank Adaptation)** and **4-bit quantization** — the same tools you'll use in Homework 5.\n",
                "\n",
                "The objectives of this lab are to:\n",
                "\n",
                "1. Introduce and motivate **LoRA** as a method for parameter-efficient fine-tuning\n",
                "2. Explain how **quantization** reduces memory and speeds up inference\n",
                "3. Show how to apply these techniques using Hugging Face Transformers, PEFT, and bitsandbytes\n",
                "4. Demonstrate the Hugging Face `Trainer` API as an alternative to the Keras .fit()\n",
                "5. Guide you through each step in a **runnable, motivated example** using the `emotion` dataset and a BERT-based model\n",
                "\n",
                "We’ll carefully walk through:\n",
                "- Loading and tokenizing text data\n",
                "- Loading a quantized model\n",
                "- Preparing the model for LoRA fine-tuning\n",
                "- Selecting which submodules to adapt\n",
                "- Training using the Hugging Face `Trainer` API\n",
                "\n",
                "This notebook assumes no prior experience with LoRA, PEFT, or low-bit inference — **we are introducing these ideas for the first time**.\n",
                "\n",
                "---\n",
                "\n",
                "### 🤔 Background: LoRA and Quantization in Modern Fine-Tuning\n",
                "\n",
                "Fine-tuning large pretrained models is central to modern NLP and vision tasks, but it can be prohibitively expensive — in memory, compute, and storage. Two techniques help make fine-tuning more practical, especially for academic and real-world constraints:\n",
                "\n",
                "#### 🧠 Low-Rank Adaptation (LoRA)\n",
                "LoRA is a method that injects **small trainable adapter matrices** into specific layers (typically attention projections) while **freezing the rest of the model**. It works by decomposing updates into low-rank approximations:\n",
                "- Instead of training a full matrix `W`, we train `A @ B`, where `A` and `B` have much smaller dimensions.\n",
                "- These updates are added to the frozen weight during the forward pass: `W' = W + ΔW = W + A @ B`\n",
                "- During backpropagation, **only A and B are updated**\n",
                "\n",
                "This approach has two main benefits:\n",
                "- **Massive reduction in trainable parameters**\n",
                "- **Compatible with frozen, quantized backbones**, which reduces memory and speeds up training\n",
                "\n",
                "You’ll use LoRA through the 🤗 PEFT library, which simplifies applying it to standard Hugging Face models.\n",
                "\n",
                "Key API component:\n",
                "```python\n",
                "from peft import LoraConfig, get_peft_model\n",
                "```\n",
                "\n",
                "Parameters you’ll specify:\n",
                "- `r`: rank of low-rank matrices (e.g., 8 or 16)\n",
                "- `lora_alpha`: scaling of adapter output\n",
                "- `target_modules`: which attention submodules to adapt (e.g., `query`, `key`, `value` for BERT)\n",
                "\n",
                "#### 💾 Quantization (via bitsandbytes)\n",
                "Quantization means loading model weights at **reduced precision** — typically 8-bit or 4-bit instead of 32-bit. For very large models, this reduces GPU memory usage and allows inference on consumer hardware.\n",
                "\n",
                "\n",
                "When combined with LoRA (which adds a small number of trainable float32 weights), this allows for **efficient and stable fine-tuning**.\n",
                "\n",
                "#### 🧰 Additional Setup: `prepare_model_for_kbit_training()`\n",
                "Before applying LoRA to a quantized model, we need to:\n",
                "- Freeze the backbone\n",
                "- Ensure that sensitive layers (e.g., LayerNorm) remain in full precision\n",
                "\n",
                "```python\n",
                "from peft import prepare_model_for_kbit_training\n",
                "model = prepare_model_for_kbit_training(model)\n",
                "```\n",
                "\n",
                "This setup is particularly useful for models like BERT that you can quantize **and** adapt with LoRA.\n",
                ""
            ]
        },
        {
            "attachments": {},
            "cell_type": "markdown",
            "metadata": {},
            "source": [
                "### 📂 Step 1: Load and Inspect the Emotion Dataset\n",
                "\n",
                "We'll use the [`emotion`](https://huggingface.co/datasets/dair-ai/emotion) dataset from Hugging Face, which contains over 20k short English text examples, each labeled with **one of six emotions**:\n",
                "\n",
                "- `anger`, `disgust`, `fear`, `joy`, `sadness`, `surprise`\n",
                "\n",
                "These are short informal sentences, many sourced from social media or microblogs."
            ]
        },
        {
            "cell_type": "code",
            "execution_count": 1,
            "metadata": {},
            "outputs": [],
            "source": [
                "from datasets import load_dataset\n",
                "from transformers import AutoTokenizer\n",
                "import pandas as pd\n",
                "import matplotlib.pyplot as plt\n",
                "\n",
                "# Load dataset and tokenizer\n",
                "raw_ds = load_dataset(\"emotion\")\n",
                "tokenizer = AutoTokenizer.from_pretrained(\"bert-base-uncased\")"
            ]
        },
        {
            "cell_type": "code",
            "execution_count": 2,
            "metadata": {},
            "outputs": [
                {
                    "data": {
                        "text/html": [
                            "\u003cdiv\u003e\n",
                            "\u003cstyle scoped\u003e\n",
                            "    .dataframe tbody tr th:only-of-type {\n",
                            "        vertical-align: middle;\n",
                            "    }\n",
                            "\n",
                            "    .dataframe tbody tr th {\n",
                            "        vertical-align: top;\n",
                            "    }\n",
                            "\n",
                            "    .dataframe thead th {\n",
                            "        text-align: right;\n",
                            "    }\n",
                            "\u003c/style\u003e\n",
                            "\u003ctable border=\"1\" class=\"dataframe\"\u003e\n",
                            "  \u003cthead\u003e\n",
                            "    \u003ctr style=\"text-align: right;\"\u003e\n",
                            "      \u003cth\u003e\u003c/th\u003e\n",
                            "      \u003cth\u003etext\u003c/th\u003e\n",
                            "      \u003cth\u003elabel\u003c/th\u003e\n",
                            "    \u003c/tr\u003e\n",
                            "  \u003c/thead\u003e\n",
                            "  \u003ctbody\u003e\n",
                            "    \u003ctr\u003e\n",
                            "      \u003cth\u003e0\u003c/th\u003e\n",
                            "      \u003ctd\u003ei didnt feel humiliated\u003c/td\u003e\n",
                            "      \u003ctd\u003e0\u003c/td\u003e\n",
                            "    \u003c/tr\u003e\n",
                            "    \u003ctr\u003e\n",
                            "      \u003cth\u003e1\u003c/th\u003e\n",
                            "      \u003ctd\u003ei can go from feeling so hopeless to so damned...\u003c/td\u003e\n",
                            "      \u003ctd\u003e0\u003c/td\u003e\n",
                            "    \u003c/tr\u003e\n",
                            "    \u003ctr\u003e\n",
                            "      \u003cth\u003e2\u003c/th\u003e\n",
                            "      \u003ctd\u003eim grabbing a minute to post i feel greedy wrong\u003c/td\u003e\n",
                            "      \u003ctd\u003e3\u003c/td\u003e\n",
                            "    \u003c/tr\u003e\n",
                            "    \u003ctr\u003e\n",
                            "      \u003cth\u003e3\u003c/th\u003e\n",
                            "      \u003ctd\u003ei am ever feeling nostalgic about the fireplac...\u003c/td\u003e\n",
                            "      \u003ctd\u003e2\u003c/td\u003e\n",
                            "    \u003c/tr\u003e\n",
                            "    \u003ctr\u003e\n",
                            "      \u003cth\u003e4\u003c/th\u003e\n",
                            "      \u003ctd\u003ei am feeling grouchy\u003c/td\u003e\n",
                            "      \u003ctd\u003e3\u003c/td\u003e\n",
                            "    \u003c/tr\u003e\n",
                            "  \u003c/tbody\u003e\n",
                            "\u003c/table\u003e\n",
                            "\u003c/div\u003e"
                        ],
                        "text/plain": [
                            "                                                text  label\n",
                            "0                            i didnt feel humiliated      0\n",
                            "1  i can go from feeling so hopeless to so damned...      0\n",
                            "2   im grabbing a minute to post i feel greedy wrong      3\n",
                            "3  i am ever feeling nostalgic about the fireplac...      2\n",
                            "4                               i am feeling grouchy      3"
                        ]
                    },
                    "execution_count": 2,
                    "metadata": {},
                    "output_type": "execute_result"
                }
            ],
            "source": [
                "# Convert HF dataset to pandas for inspection\n",
                "df = pd.DataFrame(raw_ds[\"train\"])\n",
                "\n",
                "# Look at the first few rows\n",
                "df.head()"
            ]
        },
        {
            "cell_type": "code",
            "execution_count": 3,
            "metadata": {},
            "outputs": [
                {
                    "name": "stdout",
                    "output_type": "stream",
                    "text": "Class labels: ['sadness', 'joy', 'love', 'anger', 'fear', 'surprise']\n"
                }
            ],
            "source": [
                "# Get class label names from the dataset metadata\n",
                "label_names = raw_ds[\"train\"].features[\"label\"].names\n",
                "print(\"Class labels:\", label_names)"
            ]
        },
        {
            "cell_type": "code",
            "execution_count": 4,
            "metadata": {},
            "outputs": [
                {
                    "data": {
                        "image/png": "[encoded data removed]",
                        "text/plain": [
                            "\u003cFigure size 800x500 with 1 Axes\u003e"
                        ]
                    },
                    "metadata": {},
                    "output_type": "display_data"
                }
            ],
            "source": [
                "# Replace label IDs with label names for plotting\n",
                "df[\"label_name\"] = df[\"label\"].map(lambda i: label_names[i])\n",
                "\n",
                "# Plot class frequencies\n",
                "plt.figure(figsize=(8, 5))\n",
                "df[\"label_name\"].value_counts().plot(kind=\"bar\", color=\"skyblue\")\n",
                "plt.title(\"Class Distribution in Emotion Dataset\")\n",
                "plt.xlabel(\"Emotion\")\n",
                "plt.ylabel(\"Number of Examples\")\n",
                "plt.xticks(rotation=45)\n",
                "plt.grid(True, axis='y')"
            ]
        },
        {
            "attachments": {},
            "cell_type": "markdown",
            "metadata": {},
            "source": [
                "#### 🧩 Tokenizing the Text Data\n",
                "\n",
                "Transformer models like BERT expect tokenized input — that is, numerical IDs representing word pieces (subword tokens). We use the `AutoTokenizer` to:\n",
                "\n",
                "- split raw text into tokens\n",
                "- add special `[CLS]` and `[SEP]` markers\n",
                "- pad and truncate sequences to a fixed length"
            ]
        },
        {
            "cell_type": "code",
            "execution_count": 5,
            "metadata": {},
            "outputs": [],
            "source": [
                "# Define a tokenization function that maps raw text to input IDs and attention masks\n",
                "def preprocess(example):\n",
                "    tokenized = tokenizer(\n",
                "        example[\"text\"],\n",
                "        padding=\"max_length\",   # Pad all sequences to the same max length\n",
                "        truncation=True,        # Truncate longer sequences to fit max length\n",
                "        max_length=128          # Reasonable max length for short texts\n",
                "    )\n",
                "    tokenized[\"label\"] = example[\"label\"]  # Make sure to keep labels!\n",
                "    return tokenized"
            ]
        },
        {
            "attachments": {},
            "cell_type": "markdown",
            "metadata": {},
            "source": [
                "The Hugging Face `datasets` library lets us apply this function efficiently to the entire dataset using `.map(batched=True)`.\n",
                "\n",
                "Finally, we use `.set_format(type=\"torch\", ...)` to convert the dataset into tensors ready for PyTorch training.\n",
                "\n",
                "At this point, we're ready to load the model and start fine-tuning."
            ]
        },
        {
            "cell_type": "code",
            "execution_count": 6,
            "metadata": {},
            "outputs": [
                {
                    "data": {
                        "application/vnd.jupyter.widget-view+json": {
                            "model_id": "a3856c8e58344695ae94c49999e3012a",
                            "version_major": 2,
                            "version_minor": 0
                        },
                        "text/plain": [
                            "Map:   0%|          | 0/12800 [00:00\u003c?, ? examples/s]"
                        ]
                    },
                    "metadata": {},
                    "output_type": "display_data"
                },
                {
                    "data": {
                        "application/vnd.jupyter.widget-view+json": {
                            "model_id": "abc8c7491c7d4a00b7fd882a53da945c",
                            "version_major": 2,
                            "version_minor": 0
                        },
                        "text/plain": [
                            "Map:   0%|          | 0/3200 [00:00\u003c?, ? examples/s]"
                        ]
                    },
                    "metadata": {},
                    "output_type": "display_data"
                }
            ],
            "source": [
                "# Split training set into train/test (80/20 split)\n",
                "tokenized_ds = raw_ds[\"train\"].train_test_split(\n",
                "    test_size=0.2,\n",
                "    stratify_by_column=\"label\"  # ensures each class is proportionally represented\n",
                ")\n",
                "\n",
                "\n",
                "# Apply the tokenizer to the dataset in batched mode\n",
                "tokenized_ds = tokenized_ds.map(preprocess, batched=True)\n",
                "\n",
                "# Set the output format so PyTorch can use it directly\n",
                "tokenized_ds.set_format(type=\"torch\", columns=[\"input_ids\", \"attention_mask\", \"label\"])"
            ]
        },
        {
            "attachments": {},
            "cell_type": "markdown",
            "metadata": {},
            "source": [
                "#### 🔎 Example: What Does a Tokenized Input Look Like?\n",
                "\n",
                "After preprocessing, each example now contains:\n",
                "\n",
                "- `input_ids`: token IDs for the BERT vocabulary\n",
                "- `attention_mask`: tells the model which tokens are padding (`0`) vs. real input (`1`)\n",
                "- `label`: the emotion class index\n",
                "\n",
                "Let’s inspect a single example so you can see exactly what will be fed into the model.\n",
                ""
            ]
        },
        {
            "cell_type": "code",
            "execution_count": 7,
            "metadata": {},
            "outputs": [
                {
                    "name": "stdout",
                    "output_type": "stream",
                    "text": "input_ids:      tensor([  101, 10047,  2667,  2000,  2424,  3971,  2000,  5587,  2062, 22746,\n         2046,  2026,  6134,  2302,  3110,  3294, 13394,   102,     0,     0,\n            0,     0,     0,     0,     0,     0,     0,     0,     0,     0,\n            0,     0,     0,     0,     0,     0,     0,     0,     0,     0,\n            0,     0,     0,     0,     0,     0,     0,     0,     0,     0,\n            0,     0,     0,     0,     0,     0,     0,     0,     0,     0,\n            0,     0,     0,     0,     0,     0,     0,     0,     0,     0,\n            0,     0,     0,     0,     0,     0,     0,     0,     0,     0,\n            0,     0,     0,     0,     0,     0,     0,     0,     0,     0,\n            0,     0,     0,     0,     0,     0,     0,     0,     0,     0,\n            0,     0,     0,     0,     0,     0,     0,     0,     0,     0,\n            0,     0,     0,     0,     0,     0,     0,     0,     0,     0,\n            0,     0,     0,     0,     0,     0,     0,     0])\nattention_mask: tensor([1, 1, 1, 1, 1, 1, 1, 1, 1, 1, 1, 1, 1, 1, 1, 1, 1, 1, 0, 0, 0, 0, 0, 0,\n        0, 0, 0, 0, 0, 0, 0, 0, 0, 0, 0, 0, 0, 0, 0, 0, 0, 0, 0, 0, 0, 0, 0, 0,\n        0, 0, 0, 0, 0, 0, 0, 0, 0, 0, 0, 0, 0, 0, 0, 0, 0, 0, 0, 0, 0, 0, 0, 0,\n        0, 0, 0, 0, 0, 0, 0, 0, 0, 0, 0, 0, 0, 0, 0, 0, 0, 0, 0, 0, 0, 0, 0, 0,\n        0, 0, 0, 0, 0, 0, 0, 0, 0, 0, 0, 0, 0, 0, 0, 0, 0, 0, 0, 0, 0, 0, 0, 0,\n        0, 0, 0, 0, 0, 0, 0, 0])\nlabel (index):  tensor(4)\nlabel (name):   fear\n"
                }
            ],
            "source": [
                "# Look at the first tokenized training example\n",
                "example = tokenized_ds[\"train\"][0]\n",
                "\n",
                "# Show token IDs and attention mask\n",
                "print(\"input_ids:     \", example[\"input_ids\"])\n",
                "print(\"attention_mask:\", example[\"attention_mask\"])\n",
                "print(\"label (index): \", example[\"label\"])\n",
                "print(\"label (name):  \", label_names[example[\"label\"]])"
            ]
        },
        {
            "attachments": {},
            "cell_type": "markdown",
            "metadata": {},
            "source": [
                "#### 🔁 Decoding Tokens Back to Text\n",
                "\n",
                "The tokenizer can also **reverse** the tokenization process — converting `input_ids` back into a string.\n",
                "\n",
                "This helps you debug whether padding, truncation, or special tokens are behaving as expected.\n",
                ""
            ]
        },
        {
            "cell_type": "code",
            "execution_count": 8,
            "metadata": {},
            "outputs": [
                {
                    "name": "stdout",
                    "output_type": "stream",
                    "text": "📝 Decoded text: im trying to find ways to add more sewing into my schedule without feeling completely overwhelmed\n"
                }
            ],
            "source": [
                "# Decode the input_ids back to a human-readable string\n",
                "decoded_text = tokenizer.decode(example[\"input_ids\"], skip_special_tokens=True)\n",
                "\n",
                "print(\"📝 Decoded text:\", decoded_text)"
            ]
        },
        {
            "attachments": {},
            "cell_type": "markdown",
            "metadata": {},
            "source": [
                "#### 🔬 Show Special Tokens\n",
                "\n",
                "By default, we strip out special tokens like `[CLS]` and `[SEP]` when decoding.\n",
                "\n",
                "These tokens are important! BERT uses `[CLS]` to represent the entire sequence and `[SEP]` to separate segments (e.g., question + context).\n",
                "\n",
                "Let’s decode again, this time **with** special tokens shown.\n",
                ""
            ]
        },
        {
            "cell_type": "code",
            "execution_count": 9,
            "metadata": {},
            "outputs": [
                {
                    "name": "stdout",
                    "output_type": "stream",
                    "text": "Decoded with special tokens: [CLS] im trying to find ways to add more sewing into my schedule without feeling completely overwhelmed [SEP] [PAD] [PAD] [PAD] [PAD] [PAD] [PAD] [PAD] [PAD] [PAD] [PAD] [PAD] [PAD] [PAD] [PAD] [PAD] [PAD] [PAD] [PAD] [PAD] [PAD] [PAD] [PAD] [PAD] [PAD] [PAD] [PAD] [PAD] [PAD] [PAD] [PAD] [PAD] [PAD] [PAD] [PAD] [PAD] [PAD] [PAD] [PAD] [PAD] [PAD] [PAD] [PAD] [PAD] [PAD] [PAD] [PAD] [PAD] [PAD] [PAD] [PAD] [PAD] [PAD] [PAD] [PAD] [PAD] [PAD] [PAD] [PAD] [PAD] [PAD] [PAD] [PAD] [PAD] [PAD] [PAD] [PAD] [PAD] [PAD] [PAD] [PAD] [PAD] [PAD] [PAD] [PAD] [PAD] [PAD] [PAD] [PAD] [PAD] [PAD] [PAD] [PAD] [PAD] [PAD] [PAD] [PAD] [PAD] [PAD] [PAD] [PAD] [PAD] [PAD] [PAD] [PAD] [PAD] [PAD] [PAD] [PAD] [PAD] [PAD] [PAD] [PAD] [PAD] [PAD] [PAD] [PAD] [PAD] [PAD] [PAD] [PAD]\n"
                }
            ],
            "source": [
                "# Decode again, but keep special tokens to show model structure\n",
                "decoded_with_specials = tokenizer.decode(example[\"input_ids\"], skip_special_tokens=False)\n",
                "\n",
                "print(\"Decoded with special tokens:\", decoded_with_specials)"
            ]
        },
        {
            "attachments": {},
            "cell_type": "markdown",
            "metadata": {},
            "source": [
                "#### ⚖️ Applying Class Weights in the Loss Function\n",
                "\n",
                "Since our dataset is class-imbalanced, we can compensate by using **class weights** in the loss.\n",
                "\n",
                "To do this with Hugging Face's `Trainer` (which we will see soon), we:\n",
                "1. Compute weights from label frequencies\n",
                "2. Define a custom loss function using `torch.nn.CrossEntropyLoss(weight=...)`\n",
                "3. Subclass `Trainer` and override the `compute_loss()` method\n",
                "\n",
                "This way, the model is **penalized more for mistakes on rare classes**, improving fairness in training.\n",
                ""
            ]
        },
        {
            "cell_type": "code",
            "execution_count": 10,
            "metadata": {},
            "outputs": [
                {
                    "name": "stdout",
                    "output_type": "stream",
                    "text": "Class weights: [0.5714795963925351, 0.4972804972804973, 2.045381911153723, 1.2352827639451844, 1.377232623197762, 4.657933042212518]\n"
                }
            ],
            "source": [
                "# Compute class weights for use in custom Trainer\n",
                "from collections import Counter\n",
                "import torch\n",
                "\n",
                "train_labels = tokenized_ds[\"train\"][\"label\"]\n",
                "train_labels = train_labels.tolist()  # Convert from tensor to list\n",
                "\n",
                "label_freqs = Counter(train_labels)\n",
                "num_classes = len(label_names)\n",
                "total = sum(label_freqs.values())\n",
                "\n",
                "class_weights = [\n",
                "    total / (num_classes * label_freqs.get(i, 1))  # fallback avoids division by zero\n",
                "    for i in range(num_classes)\n",
                "]\n",
                "\n",
                "class_weights_tensor = torch.tensor(class_weights, dtype=torch.float32)  # leave on CPU for now\n",
                "\n",
                "print(\"Class weights:\", class_weights)"
            ]
        },
        {
            "attachments": {},
            "cell_type": "markdown",
            "metadata": {},
            "source": [
                "---\n",
                "\n",
                "### 🧮 Step 2: Loading a Quantized Model\n",
                "\n",
                "In the cell cell below, we use `bitsandbytes` via `transformers` to load a 4-bit quantized version of `bert-base-uncased` for sequence classification.\n",
                "\n",
                "- `BitsAndBytesConfig` lets us define how to quantize the weights and how computation is done.\n",
                "- `bnb_4bit_quant_type='nf4'` uses a NormalFloat4 quantization scheme, which generally performs better than standard int4 quantization.\n",
                "- `bnb_4bit_compute_dtype=torch.float16` allows computation to happen in half precision, saving memory while remaining relatively stable.\n",
                "- `device_map='auto'` tells Transformers to spread the model across available devices (e.g., GPUs or CPU) automatically.\n",
                "\n",
                "This setup reduces memory footprint significantly and makes it possible to fine-tune large models — especially when combined with LoRA — on modest hardware."
            ]
        },
        {
            "cell_type": "code",
            "execution_count": 11,
            "metadata": {},
            "outputs": [
                {
                    "name": "stderr",
                    "output_type": "stream",
                    "text": "2025-04-18 01:08:08.178591: E external/local_xla/xla/stream_executor/cuda/cuda_dnn.cc:9261] Unable to register cuDNN factory: Attempting to register factory for plugin cuDNN when one has already been registered\n2025-04-18 01:08:08.178636: E external/local_xla/xla/stream_executor/cuda/cuda_fft.cc:607] Unable to register cuFFT factory: Attempting to register factory for plugin cuFFT when one has already been registered\n2025-04-18 01:08:08.179358: E external/local_xla/xla/stream_executor/cuda/cuda_blas.cc:1515] Unable to register cuBLAS factory: Attempting to register factory for plugin cuBLAS when one has already been registered\n2025-04-18 01:08:08.184030: I tensorflow/core/platform/cpu_feature_guard.cc:182] This TensorFlow binary is optimized to use available CPU instructions in performance-critical operations.\nTo enable the following instructions: SSE4.1 SSE4.2 AVX AVX2 FMA, in other operations, rebuild TensorFlow with the appropriate compiler flags.\nSome weights of BertForSequenceClassification were not initialized from the model checkpoint at bert-base-uncased and are newly initialized: ['classifier.bias', 'classifier.weight']\nYou should probably TRAIN this model on a down-stream task to be able to use it for predictions and inference.\n"
                }
            ],
            "source": [
                "import torch\n",
                "from transformers import AutoModelForSequenceClassification, BitsAndBytesConfig\n",
                "\n",
                "# Define the quantization configuration\n",
                "quantization_config = BitsAndBytesConfig(\n",
                "    load_in_4bit=True,                       # Load model weights in 4-bit precision to reduce memory use\n",
                "    bnb_4bit_compute_dtype=torch.float16,    # Perform computations in 16-bit floating point (good trade-off between speed and stability)\n",
                "    bnb_4bit_quant_type=\"nf4\"                # Use the 'nf4' (NormalFloat4) quantization scheme for improved accuracy\n",
                ")\n",
                "\n",
                "# Load a BERT model with 6 output classes (for the 'emotion' dataset), using the above quantization config\n",
                "model = AutoModelForSequenceClassification.from_pretrained(\n",
                "    \"bert-base-uncased\",                     # Pretrained BERT model\n",
                "    num_labels=6,                            # 6-class classification task (anger, joy, sadness, etc.)\n",
                "    quantization_config=quantization_config,# Apply 4-bit quantization at load time\n",
                "    device_map=\"auto\"                        # Automatically place layers on available GPU(s) or fallback to CPU\n",
                ")"
            ]
        },
        {
            "attachments": {},
            "cell_type": "markdown",
            "metadata": {},
            "source": [
                "---\n",
                "\n",
                "### 🥶 Step 3: Prepare the Model for Low-Bit Fine-Tuning\n",
                "\n",
                "Once we've loaded a quantized model, we still need to prepare it for training. Why?\n",
                "\n",
                "When weights are quantized (e.g., to 4-bit), they are no longer suitable for gradient-based optimization — they're just too coarse. So when we use **LoRA** to fine-tune these models, we freeze most of the quantized weights and only train a small number of added adapter weights.\n",
                "\n",
                "However, a few parts of the model (especially **LayerNorm layers**) are sensitive to precision and may still need to be trainable — and in float32.\n",
                "\n",
                "This is where the `prepare_model_for_kbit_training()` utility from the `peft` library comes in. It does three important things:\n",
                "- **Freezes all quantized layers** to avoid modifying low-precision weights\n",
                "- **Leaves LayerNorm layers trainable**, which can stabilize training\n",
                "- **Casts them to float32** to ensure numerical stability in backpropagation\n",
                "- **Ensures the model is compatible** with downstream PEFT LoRA injection\n",
                "\n",
                "This step is usually recommended before applying LoRA to quantized models.\n",
                ""
            ]
        },
        {
            "cell_type": "code",
            "execution_count": 12,
            "metadata": {},
            "outputs": [],
            "source": [
                "from peft import prepare_model_for_kbit_training\n",
                "\n",
                "# Modify the model in-place to support LoRA + quantization fine-tuning\n",
                "model = prepare_model_for_kbit_training(model) "
            ]
        },
        {
            "attachments": {},
            "cell_type": "markdown",
            "metadata": {},
            "source": [
                "---"
            ]
        },
        {
            "attachments": {},
            "cell_type": "markdown",
            "metadata": {},
            "source": [
                "### ⚙️ Step 4: Configure and Apply LoRA\n",
                "\n",
                "Now that we’ve prepped the quantized model, we’re ready to inject **LoRA adapters**.\n",
                "\n",
                "LoRA stands for **Low-Rank Adaptation** — it’s a way to introduce a small number of trainable parameters (low-rank matrices) into a much larger, frozen model. Instead of updating all the weights of a layer, LoRA introduces new matrices `A` and `B` such that the update is `W + A @ B`, where `W` is frozen and `A @ B` is trainable.\n",
                "\n",
                "The 🤗 `peft` library makes it easy to apply LoRA to Hugging Face models.\n",
                "\n",
                "---"
            ]
        },
        {
            "attachments": {},
            "cell_type": "markdown",
            "metadata": {},
            "source": [
                "#### 🔧 `LoraConfig`\n",
                "\n",
                "This class tells PEFT **how and where** to apply the LoRA adapters. The key parameters you’ll need are:\n",
                "\n",
                "- `r`: the rank of the low-rank matrices (smaller = fewer parameters, but less expressive)\n",
                "- `lora_alpha`: a scaling factor that controls how strong the LoRA updates are\n",
                "- `target_modules`: the names of the submodules (e.g., attention projections) where adapters should be inserted\n",
                "- `task_type`: what kind of task this is (e.g., sequence classification)\n",
                "\n",
                "When using BERT, the attention projection layers are typically named `\"query\"`, `\"key\"`, and `\"value\"` — you can verify this by printing `model.named_modules()`.\n",
                "\n",
                "---"
            ]
        },
        {
            "cell_type": "code",
            "execution_count": 13,
            "metadata": {},
            "outputs": [],
            "source": [
                "from peft import LoraConfig, get_peft_model, TaskType\n",
                "\n",
                "# Define how LoRA should be applied\n",
                "lora_config = LoraConfig(\n",
                "    r=16,                                  # Rank of the low-rank matrices (small = fewer params)\n",
                "    lora_alpha=32,                         # Scaling factor for adapter output\n",
                "    lora_dropout=0.05,                     # Dropout applied to adapter output (adds regularization)\n",
                "    bias=\"none\",                           # Don't train bias terms\n",
                "    task_type=TaskType.SEQ_CLS,            # Sequence classification task (sets defaults internally)\n",
                "    target_modules=[\"query\", \"key\", \"value\"]  # BERT attention projection layers to adapt\n",
                ")"
            ]
        },
        {
            "attachments": {},
            "cell_type": "markdown",
            "metadata": {},
            "source": [
                "#### 🤖 `get_peft_model(...)`\n",
                "\n",
                "Once you define the `LoraConfig`, you pass it along with the model to `get_peft_model(...)`, which:\n",
                "- Injects the LoRA adapters into the specified submodules\n",
                "- Marks the new weights as trainable (and leaves the rest frozen)\n",
                "- Wraps the model with PEFT’s training-aware structure\n",
                "\n",
                "This gives you a modified model ready for lightweight fine-tuning!"
            ]
        },
        {
            "cell_type": "code",
            "execution_count": 14,
            "metadata": {},
            "outputs": [
                {
                    "name": "stdout",
                    "output_type": "stream",
                    "text": "trainable params: 889,350 || all params: 110,376,204 || trainable%: 0.8057\n"
                }
            ],
            "source": [
                "# Inject LoRA adapters into the frozen, quantized BERT model\n",
                "model = get_peft_model(model, lora_config)\n",
                "model.print_trainable_parameters()"
            ]
        },
        {
            "attachments": {},
            "cell_type": "markdown",
            "metadata": {},
            "source": [
                "At this point:\n",
                "- Most of the model is frozen (not trainable)\n",
                "- Only the LoRA adapters and some LayerNorms are trainable\n",
                "- We're ready to fine-tune efficiently!\n",
                "\n",
                "---"
            ]
        },
        {
            "attachments": {},
            "cell_type": "markdown",
            "metadata": {},
            "source": [
                "### 🦮 Introducing: Hugging Face's `Trainer` API\n",
                "\n",
                "Now that we've configured our model (quantized + LoRA) and datasets, we're ready to train. Instead of using Keras's `.fit()` method — which you’ve seen in previous assignments — we’ll now use Hugging Face’s `Trainer` API.\n",
                "\n",
                "The `Trainer` handles:\n",
                "- batching and shuffling your dataset\n",
                "- running the training and evaluation loop\n",
                "- logging and saving progress\n",
                "- computing metrics like accuracy\n",
                "\n",
                "This API gives us **more control and compatibility** with Hugging Face models than `Keras.fit()` — especially when working with quantized models or LoRA-injected modules.\n",
                "\n",
                "---"
            ]
        },
        {
            "attachments": {},
            "cell_type": "markdown",
            "metadata": {},
            "source": [
                "### 📏 Step 5: Define Evaluation Metrics for the Hugging Face Trainer\n",
                "\n",
                "The Hugging Face `Trainer` API gives us an easy way to fine-tune models, but it doesn’t compute evaluation metrics for you unless you explicitly tell it how.\n",
                "\n",
                "To evaluate model performance during training and at the end of each epoch, the Trainer expects a **custom function** you define and pass via the `compute_metrics` argument.\n",
                "\n",
                "---\n",
                "\n",
                "#### 📥 What does this function receive?\n",
                "\n",
                "The function takes a single argument: `eval_pred`, which is a tuple containing:\n",
                "- `logits`: raw model outputs (before softmax)\n",
                "- `labels`: the true class labels\n",
                "\n",
                "---\n",
                "\n",
                "#### 📤 What should it return?\n",
                "\n",
                "It should return a **dictionary of metric names and values** that will be logged and reported by the Trainer during evaluation.\n",
                "\n",
                "---\n",
                "\n",
                "#### ✅ Metrics for This Task\n",
                "\n",
                "We define two evaluation metrics for the `emotion` classification problem:\n",
                "\n",
                "1. **Accuracy** — overall percentage of correct predictions.\n",
                "2. **F1 Macro** — the average F1 score computed separately for each class, useful for handling class imbalance (some emotions are less frequent than others).\n",
                "\n",
                "These give us a more complete picture of how well the model performs across all classes.\n",
                ""
            ]
        },
        {
            "cell_type": "code",
            "execution_count": 15,
            "metadata": {},
            "outputs": [],
            "source": [
                "import numpy as np\n",
                "from sklearn.metrics import accuracy_score, f1_score\n",
                "\n",
                "# This function is passed to the Hugging Face Trainer to compute evaluation metrics\n",
                "def compute_metrics(eval_pred):\n",
                "    logits, labels = eval_pred                # Tuple containing model outputs and true labels\n",
                "    preds = np.argmax(logits, axis=1)         # Convert logits to predicted class indices\n",
                "\n",
                "    return {\n",
                "        \"accuracy\": accuracy_score(labels, preds),           # Overall classification accuracy\n",
                "        \"f1_macro\": f1_score(labels, preds, average=\"macro\") # Balanced F1 across all emotion classes\n",
                "    }"
            ]
        },
        {
            "attachments": {},
            "cell_type": "markdown",
            "metadata": {},
            "source": [
                "---"
            ]
        },
        {
            "attachments": {},
            "cell_type": "markdown",
            "metadata": {},
            "source": [
                "### ⚙️ Step 6: Configure the Trainer\n",
                "\n",
                "Hugging Face provides the `Trainer` API to simplify training. It handles batching, gradient updates, logging, evaluation, and [more](https://huggingface.co/docs/transformers/en/main_classes/trainer) — so you don’t have to write the full training loop yourself.\n",
                "\n",
                "In our particular example we will configure training in two steps:\n",
                "\n",
                "---\n",
                "\n",
                "#### 🧾 A. Define TrainingArguments\n",
                "\n",
                "This object specifies:\n",
                "- Where to save outputs\n",
                "- Batch size for training and evaluation\n",
                "- How often to evaluate\n",
                "- How many epochs to train\n",
                "- Logging and reporting options\n",
                "\n",
                "---\n",
                "\n",
                "#### ⚒️ B. Subclass Trainer to Support Weighted Loss (Optional)\n",
                "\n",
                "To address class imbalance, we subclass the default `Trainer` and override the loss function using `compute_loss()`:\n",
                "\n",
                "- We use `CrossEntropyLoss(weight=...)` with precomputed class weights\n",
                "- This ensures the model **pays more attention to rare classes**\n",
                "- If you didn’t compute class weights, you could still use the standard `Trainer` instead"
            ]
        },
        {
            "cell_type": "code",
            "execution_count": 16,
            "metadata": {},
            "outputs": [],
            "source": [
                "# Import the Hugging Face Trainer and TrainingArguments classes\n",
                "from transformers import TrainingArguments, Trainer\n",
                "\n",
                "# Define training configuration\n",
                "training_args = TrainingArguments(\n",
                "    output_dir=\"./results\",                 # Where to save logs, models, etc.\n",
                "    per_device_train_batch_size=8,          # Training batch size per device (e.g., GPU)\n",
                "    per_device_eval_batch_size=8,           # Evaluation batch size per device\n",
                "    eval_strategy=\"epoch\",                  # Evaluate once per epoch\n",
                "    num_train_epochs=3,                     # For demo purposes, just 1 epoch\n",
                "    logging_steps=10,                       # Log training loss every 10 steps\n",
                "    save_strategy=\"no\",                     # Skip checkpoint saving to reduce clutter\n",
                "    report_to=\"none\"                        # Disable integrations like WandB or TensorBoard\n",
                ")"
            ]
        },
        {
            "cell_type": "code",
            "execution_count": 18,
            "metadata": {},
            "outputs": [],
            "source": [
                "from transformers import Trainer\n",
                "import torch.nn as nn\n",
                "\n",
                "# Subclass Trainer to override loss computation\n",
                "class WeightedTrainer(Trainer):\n",
                "    def compute_loss(self, model, inputs, return_outputs=False, **kwargs):\n",
                "        labels = inputs.get(\"labels\")\n",
                "        outputs = model(**inputs)\n",
                "        logits = outputs.get(\"logits\")\n",
                "\n",
                "        # Use weighted cross-entropy loss (moving weights to GPU device here)\n",
                "        loss_fct = nn.CrossEntropyLoss(weight=class_weights_tensor.to(model.device))\n",
                "        loss = loss_fct(logits, labels)\n",
                "\n",
                "        return (loss, outputs) if return_outputs else loss"
            ]
        },
        {
            "cell_type": "code",
            "execution_count": 19,
            "metadata": {},
            "outputs": [
                {
                    "name": "stderr",
                    "output_type": "stream",
                    "text": "/tmp/ipykernel_5917/3665079456.py:2: FutureWarning: `tokenizer` is deprecated and will be removed in version 5.0.0 for `WeightedTrainer.__init__`. Use `processing_class` instead.\n  trainer = WeightedTrainer(\nNo label_names provided for model class `PeftModelForSequenceClassification`. Since `PeftModel` hides base models input arguments, if label_names is not given, label_names can't be set automatically within `Trainer`. Note that empty label_names list will be used instead.\n"
                }
            ],
            "source": [
                "# Use the custom Trainer class that supports class-weighted loss\n",
                "trainer = WeightedTrainer(\n",
                "    model=model,                        # The LoRA+quantized model\n",
                "    args=training_args,                 # Training configuration\n",
                "    train_dataset=tokenized_ds[\"train\"],\n",
                "    eval_dataset=tokenized_ds[\"test\"],\n",
                "    tokenizer=tokenizer,               # Required for padding/collation\n",
                "    compute_metrics=compute_metrics    # Accuracy + F1\n",
                ")"
            ]
        },
        {
            "attachments": {},
            "cell_type": "markdown",
            "metadata": {},
            "source": [
                "---\n",
                "\n",
                "### 🚀 Step 7: Train the Model\n",
                "\n",
                "Launch training — this should complete quickly due to the small dataset and parameter-efficient setup."
            ]
        },
        {
            "cell_type": "code",
            "execution_count": 20,
            "metadata": {},
            "outputs": [
                {
                    "name": "stderr",
                    "output_type": "stream",
                    "text": "/shared/courseSharedFolders/142601outer/142601/cs109b/lib/python3.11/site-packages/torch/utils/checkpoint.py:429: UserWarning: torch.utils.checkpoint: please pass in use_reentrant=True or use_reentrant=False explicitly. The default value of use_reentrant will be updated to be False in the future. To maintain current behavior, pass use_reentrant=True. It is recommended that you use use_reentrant=False. Refer to docs for more details on the differences between the two variants.\n  warnings.warn(\n"
                },
                {
                    "data": {
                        "text/html": [
                            "\n",
                            "    \u003cdiv\u003e\n",
                            "      \n",
                            "      \u003cprogress value='4800' max='4800' style='width:300px; height:20px; vertical-align: middle;'\u003e\u003c/progress\u003e\n",
                            "      [4800/4800 08:20, Epoch 3/3]\n",
                            "    \u003c/div\u003e\n",
                            "    \u003ctable border=\"1\" class=\"dataframe\"\u003e\n",
                            "  \u003cthead\u003e\n",
                            " \u003ctr style=\"text-align: left;\"\u003e\n",
                            "      \u003cth\u003eEpoch\u003c/th\u003e\n",
                            "      \u003cth\u003eTraining Loss\u003c/th\u003e\n",
                            "      \u003cth\u003eValidation Loss\u003c/th\u003e\n",
                            "      \u003cth\u003eAccuracy\u003c/th\u003e\n",
                            "      \u003cth\u003eF1 Macro\u003c/th\u003e\n",
                            "    \u003c/tr\u003e\n",
                            "  \u003c/thead\u003e\n",
                            "  \u003ctbody\u003e\n",
                            "    \u003ctr\u003e\n",
                            "      \u003ctd\u003e1\u003c/td\u003e\n",
                            "      \u003ctd\u003e1.340800\u003c/td\u003e\n",
                            "      \u003ctd\u003e1.242445\u003c/td\u003e\n",
                            "      \u003ctd\u003e0.648750\u003c/td\u003e\n",
                            "      \u003ctd\u003e0.456756\u003c/td\u003e\n",
                            "    \u003c/tr\u003e\n",
                            "    \u003ctr\u003e\n",
                            "      \u003ctd\u003e2\u003c/td\u003e\n",
                            "      \u003ctd\u003e0.783000\u003c/td\u003e\n",
                            "      \u003ctd\u003e0.743114\u003c/td\u003e\n",
                            "      \u003ctd\u003e0.758125\u003c/td\u003e\n",
                            "      \u003ctd\u003e0.691171\u003c/td\u003e\n",
                            "    \u003c/tr\u003e\n",
                            "    \u003ctr\u003e\n",
                            "      \u003ctd\u003e3\u003c/td\u003e\n",
                            "      \u003ctd\u003e0.760300\u003c/td\u003e\n",
                            "      \u003ctd\u003e0.640729\u003c/td\u003e\n",
                            "      \u003ctd\u003e0.788125\u003c/td\u003e\n",
                            "      \u003ctd\u003e0.740977\u003c/td\u003e\n",
                            "    \u003c/tr\u003e\n",
                            "  \u003c/tbody\u003e\n",
                            "\u003c/table\u003e\u003cp\u003e"
                        ],
                        "text/plain": [
                            "\u003cIPython.core.display.HTML object\u003e"
                        ]
                    },
                    "metadata": {},
                    "output_type": "display_data"
                },
                {
                    "name": "stderr",
                    "output_type": "stream",
                    "text": "/shared/courseSharedFolders/142601outer/142601/cs109b/lib/python3.11/site-packages/torch/utils/checkpoint.py:429: UserWarning: torch.utils.checkpoint: please pass in use_reentrant=True or use_reentrant=False explicitly. The default value of use_reentrant will be updated to be False in the future. To maintain current behavior, pass use_reentrant=True. It is recommended that you use use_reentrant=False. Refer to docs for more details on the differences between the two variants.\n  warnings.warn(\n/shared/courseSharedFolders/142601outer/142601/cs109b/lib/python3.11/site-packages/torch/utils/checkpoint.py:429: UserWarning: torch.utils.checkpoint: please pass in use_reentrant=True or use_reentrant=False explicitly. The default value of use_reentrant will be updated to be False in the future. To maintain current behavior, pass use_reentrant=True. It is recommended that you use use_reentrant=False. Refer to docs for more details on the differences between the two variants.\n  warnings.warn(\n"
                },
                {
                    "data": {
                        "text/plain": [
                            "TrainOutput(global_step=4800, training_loss=1.0657496799031894, metrics={'train_runtime': 500.9959, 'train_samples_per_second': 76.647, 'train_steps_per_second': 9.581, 'total_flos': 2552184845107200.0, 'train_loss': 1.0657496799031894, 'epoch': 3.0})"
                        ]
                    },
                    "execution_count": 20,
                    "metadata": {},
                    "output_type": "execute_result"
                }
            ],
            "source": [
                "trainer.train() # Train it!"
            ]
        },
        {
            "attachments": {},
            "cell_type": "markdown",
            "metadata": {},
            "source": [
                "### 📊 Step 8: Make Predictions and Visualize Model Performance\n",
                "\n",
                "Once training is complete, we often want to evaluate **how** the model is making predictions — not just how many it gets right.\n",
                "\n",
                "The Hugging Face `Trainer` makes this easy with the `predict()` method."
            ]
        },
        {
            "attachments": {},
            "cell_type": "markdown",
            "metadata": {},
            "source": [
                "---"
            ]
        },
        {
            "attachments": {},
            "cell_type": "markdown",
            "metadata": {},
            "source": [
                "#### 🔮 Making Predictions\n",
                "\n",
                "Calling `trainer.predict(dataset)` returns:\n",
                "- `predictions`: raw logits (unnormalized model outputs)\n",
                "- `label_ids`: true labels\n",
                "- `metrics`: any metrics computed by `compute_metrics`\n",
                "\n",
                "We use `np.argmax(logits, axis=1)` to convert logits into predicted class indices."
            ]
        },
        {
            "cell_type": "code",
            "execution_count": 21,
            "metadata": {},
            "outputs": [
                {
                    "data": {
                        "text/html": [],
                        "text/plain": [
                            "\u003cIPython.core.display.HTML object\u003e"
                        ]
                    },
                    "metadata": {},
                    "output_type": "display_data"
                }
            ],
            "source": [
                "from sklearn.metrics import confusion_matrix, ConfusionMatrixDisplay\n",
                "import matplotlib.pyplot as plt\n",
                "\n",
                "# Run predictions on the test set\n",
                "pred_output = trainer.predict(tokenized_ds[\"test\"])\n",
                "\n",
                "logits = pred_output.predictions             # Raw model outputs\n",
                "true_labels = pred_output.label_ids          # Ground truth labels\n",
                "predicted_labels = np.argmax(logits, axis=1) # Convert logits to predicted class indices"
            ]
        },
        {
            "attachments": {},
            "cell_type": "markdown",
            "metadata": {},
            "source": [
                "---"
            ]
        },
        {
            "attachments": {},
            "cell_type": "markdown",
            "metadata": {},
            "source": [
                "#### ⁉️ Confusion Matrix\n",
                "\n",
                "A **confusion matrix** is a great diagnostic tool for multi-class classification. It tells us:\n",
                "\n",
                "- Which classes the model is often **confusing**\n",
                "- Whether errors are **systematic** (e.g., always predicting “joy”)\n",
                "- Where we might want to collect more data or refine our architecture\n",
                "\n",
                "Each row in the matrix represents the **true class**, and each column represents the **predicted class**.\n",
                "\n",
                "The diagonal shows **correct predictions** — everything else is an error."
            ]
        },
        {
            "cell_type": "code",
            "execution_count": 27,
            "metadata": {},
            "outputs": [
                {
                    "data": {
                        "text/plain": [
                            "\u003cFigure size 800x600 with 0 Axes\u003e"
                        ]
                    },
                    "metadata": {},
                    "output_type": "display_data"
                },
                {
                    "data": {
                        "image/png": "[encoded data removed]",
                        "text/plain": [
                            "\u003cFigure size 640x480 with 2 Axes\u003e"
                        ]
                    },
                    "metadata": {},
                    "output_type": "display_data"
                }
            ],
            "source": [
                "# Compute and plot the confusion matrix\n",
                "cm = confusion_matrix(true_labels, predicted_labels)\n",
                "\n",
                "# Display labels: class names from the dataset\n",
                "class_labels = raw_ds[\"train\"].features[\"label\"].names\n",
                "\n",
                "\n",
                "disp = ConfusionMatrixDisplay(confusion_matrix=cm, display_labels=class_labels)\n",
                "\n",
                "plt.figure(figsize=(8, 6))\n",
                "disp.plot(cmap=\"Blues\", xticks_rotation=45)\n",
                "plt.title(\"Confusion Matrix: Emotion Classification\")\n",
                "plt.grid(False)"
            ]
        },
        {
            "attachments": {},
            "cell_type": "markdown",
            "metadata": {},
            "source": [
                "🌈 **The End**"
            ]
        }
    ]
}
