{
 "cells": [
  {
   "cell_type": "raw",
   "metadata": {
    "id": "RFyNmZ6Dkdun"
   },
   "source": [
    "# ASSIGNMENT CONFIG\n",
    "files:\n",
    "    - data\n",
    "solutions_pdf: false\n",
    "export_cell: false\n",
    "show_question_points: false\n",
    "\"\n",
    "generate:\n",
    "    pdf: false\n",
    "    pagebreaks: true\n",
    "    zips: false"
   ]
  },
  {
   "cell_type": "markdown",
   "metadata": {
    "id": "QmO29d4ux0Lq"
   },
   "source": [
    "# <img style=\"float: left; padding-right: 10px; width: 45px\" src=\"https://raw.githubusercontent.com/Harvard-IACS/2018-CS109A/master/content/styles/iacs.png\"> Data Science 2: Advanced Topics in Data Science\n",
    "## Homework 5 Part 1: Fine Tuning Llama3\n",
    "\n",
    "\n",
    "**Harvard University**<br/>\n",
    "**Spring 2025**<br/>\n",
    "**Instructors**: Pavlos Protopapas, Natesh Pillai, and Chris Gumb\n",
    "\n",
    "\n",
    "<hr style=\"height:2pt\">"
   ]
  },
  {
   "cell_type": "code",
   "execution_count": 1,
   "metadata": {
    "colab": {
     "base_uri": "https://localhost:8080/",
     "height": 17
    },
    "id": "TPTLfywkx0Lw",
    "outputId": "c2ea408b-93c1-428d-ce53-05cf88cad644"
   },
   "outputs": [
    {
     "data": {
      "text/html": [
       "<style>\n",
       "blockquote { background: #AEDE94; }\n",
       "h1 { \n",
       "    padding-top: 25px;\n",
       "    padding-bottom: 25px;\n",
       "    text-align: left; \n",
       "    padding-left: 10px;\n",
       "    background-color: #DDDDDD; \n",
       "    color: black;\n",
       "}\n",
       "h2 { \n",
       "    padding-top: 10px;\n",
       "    padding-bottom: 10px;\n",
       "    text-align: left; \n",
       "    padding-left: 5px;\n",
       "    background-color: #EEEEEE; \n",
       "    color: black;\n",
       "}\n",
       "\n",
       "div.exercise {\n",
       "\tbackground-color: #ffcccc;\n",
       "\tborder-color: #E9967A; \t\n",
       "\tborder-left: 5px solid #800080; \n",
       "\tpadding: 0.5em;\n",
       "}\n",
       "\n",
       "div.exercise-r {\n",
       "\tbackground-color: #fce8e8;\n",
       "\tborder-color: #E9967A; \t\n",
       "\tborder-left: 5px solid #800080; \n",
       "\tpadding: 0.5em;\n",
       "}\n",
       "\n",
       "\n",
       "span.sub-q {\n",
       "\tfont-weight: bold;\n",
       "}\n",
       "div.theme {\n",
       "\tbackground-color: #DDDDDD;\n",
       "\tborder-color: #E9967A; \t\n",
       "\tborder-left: 5px solid #800080; \n",
       "\tpadding: 0.5em;\n",
       "\tfont-size: 18pt;\n",
       "}\n",
       "div.gc { \n",
       "\tbackground-color: #AEDE94;\n",
       "\tborder-color: #E9967A; \t \n",
       "\tborder-left: 5px solid #800080; \n",
       "\tpadding: 0.5em;\n",
       "\tfont-size: 12pt;\n",
       "}\n",
       "p.q1 { \n",
       "    padding-top: 5px;\n",
       "    padding-bottom: 5px;\n",
       "    text-align: left; \n",
       "    padding-left: 5px;\n",
       "    background-color: #EEEEEE; \n",
       "    color: black;\n",
       "}\n",
       "header {\n",
       "   padding-top: 35px;\n",
       "    padding-bottom: 35px;\n",
       "    text-align: left; \n",
       "    padding-left: 10px;\n",
       "    background-color: #DDDDDD; \n",
       "    color: black;\n",
       "}\n",
       "</style>\n",
       "\n"
      ],
      "text/plain": [
       "<IPython.core.display.HTML object>"
      ]
     },
     "execution_count": 1,
     "metadata": {},
     "output_type": "execute_result"
    }
   ],
   "source": [
    "# RUN THIS CELL\n",
    "import requests\n",
    "from IPython.core.display import HTML\n",
    "styles = requests.get(\n",
    "    \"https://raw.githubusercontent.com/Harvard-IACS/2018-CS109A/master/\"\n",
    "    \"content/styles/cs109.css\"\n",
    ").text\n",
    "HTML(styles)"
   ]
  },
  {
   "cell_type": "code",
   "execution_count": 2,
   "metadata": {
    "colab": {
     "base_uri": "https://localhost:8080/"
    },
    "id": "HaPrtFjfx0L1",
    "outputId": "32fad8bb-f1f0-4f4a-9ec1-8aa53a6560b7"
   },
   "outputs": [
    {
     "name": "stderr",
     "output_type": "stream",
     "text": [
      "2025-05-03 11:33:05.538020: E external/local_xla/xla/stream_executor/cuda/cuda_dnn.cc:9261] Unable to register cuDNN factory: Attempting to register factory for plugin cuDNN when one has already been registered\n",
      "2025-05-03 11:33:05.538067: E external/local_xla/xla/stream_executor/cuda/cuda_fft.cc:607] Unable to register cuFFT factory: Attempting to register factory for plugin cuFFT when one has already been registered\n",
      "2025-05-03 11:33:05.538716: E external/local_xla/xla/stream_executor/cuda/cuda_blas.cc:1515] Unable to register cuBLAS factory: Attempting to register factory for plugin cuBLAS when one has already been registered\n",
      "2025-05-03 11:33:05.543703: I tensorflow/core/platform/cpu_feature_guard.cc:182] This TensorFlow binary is optimized to use available CPU instructions in performance-critical operations.\n",
      "To enable the following instructions: SSE4.1 SSE4.2 AVX AVX2 FMA, in other operations, rebuild TensorFlow with the appropriate compiler flags.\n"
     ]
    }
   ],
   "source": [
    "import torch\n",
    "import torch.nn as nn\n",
    "import pandas as pd\n",
    "import numpy as np\n",
    "\n",
    "from datasets import Dataset\n",
    "from scipy.special import softmax\n",
    "from sklearn.preprocessing import LabelEncoder\n",
    "from transformers import (\n",
    "    BitsAndBytesConfig,\n",
    "    LlamaPreTrainedModel,\n",
    "    LlamaModel,\n",
    "    AutoTokenizer,\n",
    "    Trainer,\n",
    "    TrainingArguments,\n",
    "    DataCollatorWithPadding,\n",
    "    set_seed\n",
    ")\n",
    "from transformers import LlamaPreTrainedModel, LlamaModel\n",
    "from transformers.modeling_outputs import SequenceClassifierOutput\n",
    "from huggingface_hub import notebook_login, login\n",
    "import torch\n",
    "import torch.nn as nn\n",
    "\n",
    "from peft import LoraConfig, get_peft_model, prepare_model_for_kbit_training, TaskType\n",
    "from sklearn.metrics import log_loss, accuracy_score\n",
    "from sklearn.model_selection import train_test_split\n",
    "from sklearn.metrics import confusion_matrix, ConfusionMatrixDisplay\n",
    "from matplotlib import pyplot as plt\n",
    "\n",
    "import time\n",
    "import random\n",
    "import os\n",
    "import json\n",
    "import gc\n",
    "from collections import namedtuple\n",
    "\n",
    "def setup_seed(seed):\n",
    "    '''Sets the seed of the entire notebook so results are the same every time we run.'''\n",
    "    random.seed(seed)\n",
    "    set_seed(seed)\n",
    "    np.random.seed(seed)\n",
    "    torch.manual_seed(seed)\n",
    "    torch.cuda.manual_seed(seed)\n",
    "    torch.cuda.manual_seed_all(seed)\n",
    "    # When running on the CuDNN backend, two further options must be set\n",
    "    torch.backends.cudnn.deterministic = True\n",
    "    torch.backends.cudnn.benchmark = False\n",
    "    # Set a fixed value for the hash seed\n",
    "    os.environ['PYTHONHASHSEED'] = str(seed)\n",
    "\n",
    "setup_seed(42)"
   ]
  },
  {
   "cell_type": "code",
   "execution_count": 3,
   "metadata": {
    "id": "hr_dgNHgkdup",
    "outputId": "4b33c57d-688f-4f8a-8dd4-f8aaac0d6b57"
   },
   "outputs": [
    {
     "name": "stdout",
     "output_type": "stream",
     "text": [
      "PyTorch version: 2.1.0.post303\n",
      "GPU availablity: \n",
      "True\n",
      "\n"
     ]
    }
   ],
   "source": [
    "# Some PyTorch settings\n",
    "print(f\"PyTorch version: {torch.__version__}\")\n",
    "print(f\"GPU availablity: \\n{torch.cuda.is_available()}\\n\")\n",
    "\n",
    "TRAIN_CSV = \"data/chatbot_arena_conversations.csv\"\n",
    "model_path = \"meta-llama/Llama-3.2-3B-Instruct\"\n",
    "device = torch.device('cuda' if torch.cuda.is_available() else 'cpu')\n",
    "MAX_LENGTH = 1024"
   ]
  },
  {
   "cell_type": "code",
   "execution_count": 4,
   "metadata": {
    "id": "lJG4sWrmkdup"
   },
   "outputs": [],
   "source": [
    "# measure notebook runtime\n",
    "time_start = time.time()"
   ]
  },
  {
   "cell_type": "markdown",
   "metadata": {
    "id": "lW7--GrCkdup"
   },
   "source": [
    "<div style = \"background: lightsalmon; border: thin solid black; border-radius: 2px; padding: 5px\">\n",
    "\n",
    "### Instructions\n",
    "- To submit your notebook, follow the instructions given in on the Canvas assignment page.\n",
    "- Plots should be legible and interpretable *without having to refer to the code that generated them*. They should includelabels for the $x$- and $y$-axes as well as a descriptive title and/or legend when appropriate.\n",
    "- When asked to interpret a visualization, do not simply describe it (e.g., \"the curve has a steep slope up\"), but instead explain what you believe the plot *means*.\n",
    "- Autograding tests are mostly to help you debug. The tests are not exhaustive so simply passing all tests may not be sufficient for full credit.\n",
    "- The use of *extremely* inefficient or error-prone code (e.g., copy-pasting nearly identical commands rather than looping) may result in only partial credit.\n",
    "- We have tried to include all the libraries you may need to do the assignment in the imports cell provided below. Please get course staff approval before importing any additional 3rd party libraries.\n",
    "- Enable scrolling output on cells with very long output.\n",
    "- Feel free to add additional code or markdown cells as needed.\n",
    "- Ensure your code runs top to bottom without error and passes all tests by restarting the kernel and running all cells (note that this can take a few minutes).\n",
    "- **You should do a \"Restart Kernel and Run All Cells\" before submitting to ensure (1) your notebook actually runs and (2) all output is visible**\n",
    "</div>"
   ]
  },
  {
   "cell_type": "markdown",
   "metadata": {
    "id": "-7AgX8bWx0L-"
   },
   "source": [
    "\n",
    "<a id=\"contents\"></a>\n",
    "\n",
    "## Notebook Contents\n",
    "\n",
    "- [**PART 1: Fine Tuning LLM**](#part1)\n"
   ]
  },
  {
   "cell_type": "markdown",
   "metadata": {
    "id": "mzGonykqx0L_"
   },
   "source": [
    "## About this Homework"
   ]
  },
  {
   "cell_type": "markdown",
   "metadata": {
    "id": "L555gy_1x0L_"
   },
   "source": [
    "In this homework, we will explore how to fine-tune an LLM for a classification task. In particular we will be fine tuning a [Llama3.2 3B model](https://huggingface.co/meta-llama/Llama-3.2-3B-Instruct)\n",
    "\n",
    "- In [PART 1](#part1), we will begin by building a classifier for [Chatbot Arena Conversations dataset](https://huggingface.co/datasets/lmsys/chatbot_arena_conversations)\n",
    "\n",
    "\n",
    "**IMPORTANT NOTES:**\n",
    "\n",
    "- LLMs are insanely computationally intensive.\n",
    "- **We highly recommend that you train your model on a system using GPUs. For this, we recommend using the [GPU-enabled Jupyter environment](https://ood.huit.harvard.edu/pun/sys/dashboard/batch_connect/sys/ood-jupyterlab-spack-conda/cs1090b/session_contexts/new) provided to you as part of this course.**\n",
    "- Models that take hours to train on CPUs can be trained in just minutes when using GPUs.\n",
    "- **To avoid getting frustrated by having to re-train your models every time you run your notebook, you should save your trained model weights for later use.** Model history dictionaries can also be saved to disk with `pickle` and checked with an `if not` condition. This is a great way to check if the model weights exist before training, preventing redundant retraining. Please, think of the penguins! 🐧\n",
    "\n",
    "**KERNEL CRASHES:**\n",
    "\n",
    "If your kernel crashes as you attempt to train your model, please check the following items:\n",
    "- Models with too many parameters might not fit in GPU memory. Try reducing the size of your model.\n",
    "- A large `batch_size` will attempt to load too many samples in GPU memory. Avoid using a very large batch size.\n",
    "- Avoid creating multiple copies of the data."
   ]
  },
  {
   "cell_type": "markdown",
   "metadata": {
    "id": "JOHqvz5Ux0ME",
    "tags": []
   },
   "source": [
    "\n",
    "\n",
    "<a id=\"part1\"></a>\n",
    "    \n",
    "<!-- <div class=\"alert alert-block alert-danger\" style=\"color:black;background-color:#E7F4FA\"> -->\n",
    "\n",
    "# PART 1: Fine-Tuning LLMs (50 Points)\n",
    "\n",
    "\n",
    "<a id=\"part1intro\"></a>\n",
    "\n",
    "## Overview\n",
    "\n",
    "[Return to contents](#contents)\n",
    "\n",
    "In this question, you will work with the [Chatbot Arena Conversations dataset](https://huggingface.co/datasets/lmsys/chatbot_arena_conversations) to build a preference prediction model. Your task is to predict which responses users will prefer when presented with two competing answers generated by different large language models (LLMs). The dataset contains a curated subset of conversations from the [Chatbot Arena platform](https://lmarena.ai/), where human users evaluate responses from various LLMs in head-to-head comparisons. You will fine tune Llama 3.2 3B instruct model that can analyze the user's prompt and the generated responses to determine which response users are more likely to prefer.\n",
    "\n",
    "Learn more about Chatbot Arena here -> [https://arxiv.org/abs/2403.04132](https://arxiv.org/abs/2403.04132)\n",
    "\n",
    "[Llama 3.2 Models](https://ai.meta.com/blog/llama-3-2-connect-2024-vision-edge-mobile-devices//)\n",
    "\n",
    "**Note:** The dataset contains conversations that may be unsafe, offensive, or upsetting."
   ]
  },
  {
   "cell_type": "markdown",
   "metadata": {
    "id": "SSuKRAx6kduq"
   },
   "source": [
    "<div class=\"alert alert-success\" style=\"color: #333; background-color: #e8fffb; border-color: #bcfff2; border-width: 1px; border-radius: 3px; padding: 10px;\">\n",
    "\n",
    "<a id=\"q11\"></a>\n",
    "\n",
    "<b>1.1 Initial Preprocessing</b>\n",
    "<hr>\n",
    "\n",
    "<b>Q1.1.1 - Preprocessing</b>\n",
    "\n",
    "<a id=\"q111\"></a>\n",
    "\n",
    "- We provide the code for this part. We will use a separate script for this part - which will be executed just once.\n",
    "```python\n",
    "%%writefile dataset_format.py\n",
    "## preprocessing code here\n",
    "```\n",
    "- `dataset_fomat.py` script does following - \n",
    "\n",
    "- Loads [Chatbot Arena Conversations dataset](https://huggingface.co/datasets/lmsys/chatbot_arena_conversations) using [HuggingFace Dataset](https://huggingface.co/docs/datasets/v3.4.1/en/package_reference/loading_methods#datasets.load_dataset)\n",
    "- Converts dataset to pandas dataframe\n",
    "- Filters dataset for English language only\n",
    "- Separates conversations into - prompt, response_a (this is response from model_a) and response_b (this is response from model_b). Take a closer look at prompts, response_a and response_b - they are all lists, some lists have multiple prompts - these are called multi turn prompts.\n",
    "- To simplify the problem at hand, we drop all rows where there are no clear winners i.e drop rows with winner=='tie'.  Dataset contains much fewer samples where winner==tie.\n",
    "- Keeps only single turn conversations. Multiturn conversations can be very long and much harder to predict correctly.\n",
    "- Apply `utf-8` encoding/decoding for consistency and to avoid any potential tokenization errors.\n",
    "\n",
    "</div>\n"
   ]
  },
  {
   "cell_type": "code",
   "execution_count": 5,
   "metadata": {},
   "outputs": [
    {
     "data": {
      "application/vnd.jupyter.widget-view+json": {
       "model_id": "4459d45f018f4912a026d07dd973f4df",
       "version_major": 2,
       "version_minor": 0
      },
      "text/plain": [
       "VBox(children=(HTML(value='<center> <img\\nsrc=https://huggingface.co/front/assets/huggingface_logo-noborder.sv…"
      ]
     },
     "metadata": {},
     "output_type": "display_data"
    }
   ],
   "source": [
    "notebook_login()"
   ]
  },
  {
   "cell_type": "code",
   "execution_count": 6,
   "metadata": {
    "id": "D0tc7drEkduq",
    "outputId": "69655f28-a923-4115-fb6a-3b2ab3c1fe56"
   },
   "outputs": [
    {
     "name": "stdout",
     "output_type": "stream",
     "text": [
      "Overwriting dataset_format.py\n"
     ]
    }
   ],
   "source": [
    "%%writefile dataset_format.py\n",
    "\n",
    "import numpy as np\n",
    "import pandas as pd\n",
    "import json\n",
    "\n",
    "from tqdm.auto import tqdm\n",
    "tqdm.pandas()\n",
    "\n",
    "# pip install datasets\n",
    "from datasets import load_dataset\n",
    "\n",
    "# Load the chatbot arena conversations dataset from HuggingFace\n",
    "dataset = load_dataset(\"lmsys/chatbot_arena_conversations\", token=True)\n",
    "print(dataset)\n",
    "# Convert the dataset to a pandas DataFrame\n",
    "df = dataset[\"train\"].to_pandas()\n",
    "df = df[df.language=='English'].reset_index(drop=True)\n",
    "print(df.shape)\n",
    "\n",
    "def separate_conversations(conv):\n",
    "    user_texts      = [x['content'] for x in conv if x['role'] == 'user']\n",
    "    assistant_texts = [x['content'] for x in conv if x['role'] == 'assistant']\n",
    "\n",
    "    return user_texts, json.dumps(assistant_texts)\n",
    "\n",
    "\n",
    "df['prompt_a'], df['response_a'] = zip(*df.conversation_a.progress_apply(separate_conversations))\n",
    "df['prompt_b'], df['response_b'] = zip(*df.conversation_b.progress_apply(separate_conversations))\n",
    "\n",
    "\n",
    "assert (df['prompt_a'] == df['prompt_b']).all() == True\n",
    "\n",
    "df['prompt'] = df['prompt_a'].progress_apply(json.dumps)\n",
    "\n",
    "def one_hot_encode(winner):\n",
    "    return pd.Series([int('model_a'==winner), int('model_b'==winner), int('tie'==winner or 'tie (bothbad)'==winner)])\n",
    "\n",
    "df[['winner_model_a', 'winner_model_b', 'winner_tie']] = df.winner.progress_apply(one_hot_encode)\n",
    "\n",
    "cols = ['question_id', 'model_a', 'model_b', 'prompt', 'response_a',\n",
    "        'response_b', 'winner_model_a', 'winner_model_b', 'winner_tie']\n",
    "\n",
    "df = pd.DataFrame(df[cols].copy().values, columns=cols).reset_index(drop=True)\n",
    "\n",
    "## Remove ties\n",
    "df = df[df.winner_tie==0].reset_index(drop=True)\n",
    "df.drop(columns=['winner_tie'], inplace=True)\n",
    "\n",
    "df['id'] = df.index\n",
    "\n",
    "df['prompt_length'] = df['prompt'].apply(lambda x: len(eval(x)))\n",
    "df['response_a_length'] = df['response_a'].apply(lambda x: len(eval(x)))\n",
    "df['response_b_length'] = df['response_b'].apply(lambda x: len(eval(x)))\n",
    "\n",
    "df = df[df['prompt_length'] == 1].reset_index(drop=True)\n",
    "\n",
    "df['prompt'] = df['prompt'].apply(lambda x: eval(x)[0])\n",
    "df['response_a'] = df['response_a'].apply(lambda x: eval(x)[0])\n",
    "df['response_b'] = df['response_b'].apply(lambda x: eval(x)[0])\n",
    "\n",
    "df['prompt'] = df['prompt'].apply(lambda x: x.encode('utf-8', 'ignore').decode('utf-8'))\n",
    "df['response_a'] = df['response_a'].apply(lambda x: x.encode('utf-8', 'ignore').decode('utf-8'))\n",
    "df['response_b'] = df['response_b'].apply(lambda x: x.encode('utf-8', 'ignore').decode('utf-8'))\n",
    "\n",
    "df.drop(columns=['prompt_length', 'response_a_length', 'response_b_length'], inplace=True)\n",
    "\n",
    "print(df.shape)\n",
    "print(df.head(1).T)\n",
    "\n",
    "df.to_csv('data/chatbot_arena_conversations.csv', index=False)\n"
   ]
  },
  {
   "cell_type": "code",
   "execution_count": 7,
   "metadata": {
    "id": "ORuOr7_ykdur"
   },
   "outputs": [],
   "source": [
    "if not os.path.exists('data/chatbot_arena_conversations.csv'):\n",
    "    !mkdir -p data\n",
    "    !python dataset_format.py"
   ]
  },
  {
   "cell_type": "markdown",
   "metadata": {
    "id": "Df_a0yDtkdur"
   },
   "source": [
    "<div class=\"alert alert-success\" style=\"color: #333; background-color: #e8fffb; border-color: #bcfff2; border-width: 1px; border-radius: 3px; padding: 10px;\">\n",
    "    \n",
    "<b>Q1.1.2</b>\n",
    "\n",
    "<a id=\"q112\"></a>\n",
    "**Further preprocessing and loading dataset**\n",
    "- Load the dataset from `data/chatbot_arena_conversations.csv` file in a pandas dataframe.\n",
    "- Create binary label `label` from the winner columns (`winner_model_a` or `winner_model_b`). \n",
    "Note: `winner_model_b==1` => `label=1` => Model b is winner.\n",
    "- Perform preliminary EDA \n",
    "- Display dataset shape, `.head()` and target class ratio.\n",
    "\n",
    "</div>"
   ]
  },
  {
   "cell_type": "code",
   "execution_count": 8,
   "metadata": {},
   "outputs": [
    {
     "name": "stdout",
     "output_type": "stream",
     "text": [
      "Shape: (18320, 10)\n"
     ]
    },
    {
     "data": {
      "text/html": [
       "<div>\n",
       "<style scoped>\n",
       "    .dataframe tbody tr th:only-of-type {\n",
       "        vertical-align: middle;\n",
       "    }\n",
       "\n",
       "    .dataframe tbody tr th {\n",
       "        vertical-align: top;\n",
       "    }\n",
       "\n",
       "    .dataframe thead th {\n",
       "        text-align: right;\n",
       "    }\n",
       "</style>\n",
       "<table border=\"1\" class=\"dataframe\">\n",
       "  <thead>\n",
       "    <tr style=\"text-align: right;\">\n",
       "      <th></th>\n",
       "      <th>question_id</th>\n",
       "      <th>model_a</th>\n",
       "      <th>model_b</th>\n",
       "      <th>prompt</th>\n",
       "      <th>response_a</th>\n",
       "      <th>response_b</th>\n",
       "      <th>winner_model_a</th>\n",
       "      <th>winner_model_b</th>\n",
       "      <th>id</th>\n",
       "      <th>label</th>\n",
       "    </tr>\n",
       "  </thead>\n",
       "  <tbody>\n",
       "    <tr>\n",
       "      <th>0</th>\n",
       "      <td>58210e39b3fd4441a2bd4a518bb44c2d</td>\n",
       "      <td>chatglm-6b</td>\n",
       "      <td>koala-13b</td>\n",
       "      <td>What is the difference between OpenCL and CUDA?</td>\n",
       "      <td>OpenCL and CUDA are two different programming ...</td>\n",
       "      <td>OpenCL and CUDA are both programming languages...</td>\n",
       "      <td>0</td>\n",
       "      <td>1</td>\n",
       "      <td>0</td>\n",
       "      <td>1</td>\n",
       "    </tr>\n",
       "    <tr>\n",
       "      <th>1</th>\n",
       "      <td>90bfd142157948aba01931726c888e7f</td>\n",
       "      <td>koala-13b</td>\n",
       "      <td>oasst-pythia-12b</td>\n",
       "      <td>Fuji vs. Nikon, which is better?</td>\n",
       "      <td>Both Fuji and Nikon are popular camera brands ...</td>\n",
       "      <td>This is a subjective question and the answer d...</td>\n",
       "      <td>0</td>\n",
       "      <td>1</td>\n",
       "      <td>1</td>\n",
       "      <td>1</td>\n",
       "    </tr>\n",
       "    <tr>\n",
       "      <th>2</th>\n",
       "      <td>a7c5accc53e649a3bc6b2e41d962ebc4</td>\n",
       "      <td>vicuna-13b</td>\n",
       "      <td>oasst-pythia-12b</td>\n",
       "      <td>How to build an arena for chatbots?</td>\n",
       "      <td>Building an arena for chatbots can be done by ...</td>\n",
       "      <td>Building an arena for chatbots is a great way ...</td>\n",
       "      <td>0</td>\n",
       "      <td>1</td>\n",
       "      <td>2</td>\n",
       "      <td>1</td>\n",
       "    </tr>\n",
       "    <tr>\n",
       "      <th>3</th>\n",
       "      <td>adf27e819a3c494cb6e993f0c660e097</td>\n",
       "      <td>vicuna-13b</td>\n",
       "      <td>koala-13b</td>\n",
       "      <td>When is it today?</td>\n",
       "      <td>I'm sorry, I cannot determine the current date...</td>\n",
       "      <td>Today is February 23, 2023.</td>\n",
       "      <td>1</td>\n",
       "      <td>0</td>\n",
       "      <td>3</td>\n",
       "      <td>0</td>\n",
       "    </tr>\n",
       "    <tr>\n",
       "      <th>4</th>\n",
       "      <td>c0fc42c6f5f14f2aa5a89f71f8553730</td>\n",
       "      <td>vicuna-13b</td>\n",
       "      <td>koala-13b</td>\n",
       "      <td>Count from 1 to 10 with step = 3</td>\n",
       "      <td>1, 4, 7, 10\\n\\nCounting with a step of 3 means...</td>\n",
       "      <td>1, 4, 7, 10</td>\n",
       "      <td>1</td>\n",
       "      <td>0</td>\n",
       "      <td>4</td>\n",
       "      <td>0</td>\n",
       "    </tr>\n",
       "  </tbody>\n",
       "</table>\n",
       "</div>"
      ],
      "text/plain": [
       "                        question_id     model_a           model_b  \\\n",
       "0  58210e39b3fd4441a2bd4a518bb44c2d  chatglm-6b         koala-13b   \n",
       "1  90bfd142157948aba01931726c888e7f   koala-13b  oasst-pythia-12b   \n",
       "2  a7c5accc53e649a3bc6b2e41d962ebc4  vicuna-13b  oasst-pythia-12b   \n",
       "3  adf27e819a3c494cb6e993f0c660e097  vicuna-13b         koala-13b   \n",
       "4  c0fc42c6f5f14f2aa5a89f71f8553730  vicuna-13b         koala-13b   \n",
       "\n",
       "                                            prompt  \\\n",
       "0  What is the difference between OpenCL and CUDA?   \n",
       "1                 Fuji vs. Nikon, which is better?   \n",
       "2              How to build an arena for chatbots?   \n",
       "3                                When is it today?   \n",
       "4                 Count from 1 to 10 with step = 3   \n",
       "\n",
       "                                          response_a  \\\n",
       "0  OpenCL and CUDA are two different programming ...   \n",
       "1  Both Fuji and Nikon are popular camera brands ...   \n",
       "2  Building an arena for chatbots can be done by ...   \n",
       "3  I'm sorry, I cannot determine the current date...   \n",
       "4  1, 4, 7, 10\\n\\nCounting with a step of 3 means...   \n",
       "\n",
       "                                          response_b  winner_model_a  \\\n",
       "0  OpenCL and CUDA are both programming languages...               0   \n",
       "1  This is a subjective question and the answer d...               0   \n",
       "2  Building an arena for chatbots is a great way ...               0   \n",
       "3                        Today is February 23, 2023.               1   \n",
       "4                                        1, 4, 7, 10               1   \n",
       "\n",
       "   winner_model_b  id  label  \n",
       "0               1   0      1  \n",
       "1               1   1      1  \n",
       "2               1   2      1  \n",
       "3               0   3      0  \n",
       "4               0   4      0  "
      ]
     },
     "metadata": {},
     "output_type": "display_data"
    },
    {
     "name": "stdout",
     "output_type": "stream",
     "text": [
      "\n",
      "Class, 0 -> model_a won, 1 -> model_b won:\n",
      "label\n",
      "0    0.505022\n",
      "1    0.494978\n",
      "Name: proportion, dtype: float64\n"
     ]
    },
    {
     "data": {
      "image/png": "[encoded data removed]",
      "text/plain": [
       "<Figure size 1400x500 with 3 Axes>"
      ]
     },
     "metadata": {},
     "output_type": "display_data"
    },
    {
     "data": {
      "image/png": "[encoded data removed]",
      "text/plain": [
       "<Figure size 1400x500 with 2 Axes>"
      ]
     },
     "metadata": {},
     "output_type": "display_data"
    }
   ],
   "source": [
    "# your code here\n",
    "df = pd.read_csv(\"data/chatbot_arena_conversations.csv\")\n",
    "df[\"label\"] = df[\"winner_model_b\"]\n",
    "print(\"Shape:\", df.shape)\n",
    "display(df.head())\n",
    "\n",
    "print(\"\\nClass, 0 -> model_a won, 1 -> model_b won:\")\n",
    "print(df[\"label\"].value_counts(normalize=True))\n",
    "\n",
    "df[\"prompt_len\"] = df[\"prompt\"].fillna(\"\").str.split().str.len()\n",
    "df[\"response_a_len\"] = df[\"response_a\"].fillna(\"\").str.split().str.len()\n",
    "df[\"response_b_len\"] = df[\"response_b\"].fillna(\"\").str.split().str.len()\n",
    "\n",
    "plt.figure(figsize=(14, 5))\n",
    "plt.subplot(1, 3, 1)\n",
    "plt.hist(df[\"prompt_len\"], bins=30)\n",
    "plt.title(\"prompt lengths\")\n",
    "plt.xlabel(\"# of words\")\n",
    "plt.ylabel(\"count\")\n",
    "\n",
    "plt.subplot(1, 3, 2)\n",
    "plt.hist(df[\"response_a_len\"], bins=30)\n",
    "plt.title(\"response_a lengths\")\n",
    "plt.xlabel(\"# of words\")\n",
    "\n",
    "plt.subplot(1, 3, 3)\n",
    "plt.hist(df[\"response_b_len\"], bins=30)\n",
    "plt.title(\"response_b lengths\")\n",
    "plt.xlabel(\"# of words\")\n",
    "plt.tight_layout()\n",
    "plt.show()\n",
    "\n",
    "model_a_num = df[\"model_a\"].value_counts().head(10)\n",
    "model_b_num = df[\"model_b\"].value_counts().head(10)\n",
    "\n",
    "plt.figure(figsize=(14, 5))\n",
    "plt.subplot(1, 2, 1)\n",
    "plt.bar(model_a_num.index, model_a_num.values)\n",
    "plt.title(\"Top 10 model_a models\")\n",
    "plt.ylabel(\"Count\")\n",
    "plt.xticks(rotation=45, ha=\"right\")\n",
    "\n",
    "plt.subplot(1, 2, 2)\n",
    "plt.bar(model_b_num.index, model_b_num.values)\n",
    "plt.title(\"Top 10 model_b models\")\n",
    "plt.ylabel(\"Count\")\n",
    "plt.xticks(rotation=45, ha=\"right\")\n",
    "plt.tight_layout()\n",
    "plt.show()\n"
   ]
  },
  {
   "cell_type": "markdown",
   "metadata": {
    "id": "dX0OlDNcx0MF",
    "jp-MarkdownHeadingCollapsed": true,
    "tags": []
   },
   "source": [
    "<div class=\"alert alert-success\" style=\"color: #333; background-color: #e8fffb; border-color: #bcfff2; border-width: 1px; border-radius: 3px; padding: 10px;\">\n",
    "    \n",
    "<b>Q1.1.3 - Filter the dataset</b>\n",
    "\n",
    "<a id=\"q113\"></a>\n",
    "Instantiate tokenizer using `AutoTokenizer`. Analyze the token lengths of prompts and responses using the tokenizer. Filter the dataset to remove very long sequences that might cause memory issues during training. Specifically, limit prompt tokens to less than 100 and both response types to less than 400 tokens i.e `response_a` should be less than 400 tokens and `response_b` should also be less than 400 tokens. \n",
    "Display number of samples in the dataset with `dataframe.shape`\n",
    "\n",
    "Tokenizer Settings -\n",
    "- Be sure to set `tokenizer.pad_token = tokenizer.eos_token`\n",
    "- Also recommended for good practice  `tokenizer.padding_side = \"right\"` and `tokenizer.add_eos_token = True`\n",
    "\n",
    "*Note:* Reason we are limiting the number of tokens - longer texts will require more GPU memory and computation time. Assuming JupyterHub GPU, we believe total maxlen of 1024 tokens per sample should suffice.\n",
    "\n",
    "</div>"
   ]
  },
  {
   "cell_type": "code",
   "execution_count": 9,
   "metadata": {},
   "outputs": [],
   "source": [
    "# your code here\n",
    "tokenizer = AutoTokenizer.from_pretrained(model_path)\n",
    "tokenizer.pad_token = tokenizer.eos_token\n",
    "tokenizer.padding_side = \"right\"\n",
    "\n",
    "def count_tokens(text):\n",
    "    return len(tokenizer.encode(str(text), add_special_tokens=True))\n",
    "\n",
    "df[\"prompt_tokens\"] = df[\"prompt\"].apply(count_tokens)\n",
    "df[\"response_a_tokens\"] = df[\"response_a\"].apply(count_tokens)\n",
    "df[\"response_b_tokens\"] = df[\"response_b\"].apply(count_tokens)\n",
    "\n",
    "train = df[\n",
    "    (df[\"prompt_tokens\"] < 100) &\n",
    "    (df[\"response_a_tokens\"] < 400) &\n",
    "    (df[\"response_b_tokens\"] < 400)\n",
    "].reset_index(drop=True)"
   ]
  },
  {
   "cell_type": "code",
   "execution_count": 10,
   "metadata": {},
   "outputs": [
    {
     "name": "stdout",
     "output_type": "stream",
     "text": [
      "\n",
      "Dataset shape after filtering: (14223, 16)\n",
      "\n",
      "Label distribution after filtering:\n",
      "label\n",
      "0    7161\n",
      "1    7062\n",
      "Name: count, dtype: int64\n"
     ]
    }
   ],
   "source": [
    "print(\"\\nDataset shape after filtering:\", train.shape)\n",
    "print(\"\\nLabel distribution after filtering:\")\n",
    "print(train.label.value_counts())"
   ]
  },
  {
   "cell_type": "markdown",
   "metadata": {
    "id": "pXifCpQLkdur"
   },
   "source": [
    "<!-- BEGIN QUESTION -->\n",
    "\n",
    "<div class=\"alert alert-success\" style=\"color: #333; background-color: #e8fffb; border-color: #bcfff2; border-width: 1px; border-radius: 3px; padding: 10px;\">\n",
    "<b>Q1.1.4</b>\n",
    "\n",
    "\n",
    "<a id=\"q114\"></a>\n",
    "- At this point you should have ~14K samples. We are going to randomly sample (to save on training time) 600 samples of each label type ie. 600 samples with winner='model_a' and 600 samples winner='model_b'. Be sure to set random_state=42.\n",
    "\n",
    "- Split the dataset into train and validation set with 80/20 split, stratify with label and random_state=42.\n",
    "\n",
    "- We are also going to sort (ascending=False) the validation set by token length ie. sum prompt_tokens_len, response_a_tokens_len and response_b_tokens_len and then sort.\n",
    "Why should we sort the validation set ? \n",
    "\n",
    "</div>\n"
   ]
  },
  {
   "cell_type": "code",
   "execution_count": 11,
   "metadata": {},
   "outputs": [],
   "source": [
    "# your code here\n",
    "df_sample = pd.concat([\n",
    "    train[train[\"label\"] == 0].sample(n=600, random_state=42),\n",
    "    train[train[\"label\"] == 1].sample(n=600, random_state=42)\n",
    "]).reset_index(drop=True)\n",
    "\n",
    "train_df, val_df = train_test_split(\n",
    "    df_sample,\n",
    "    test_size=0.2,\n",
    "    stratify=df_sample[\"label\"],\n",
    "    random_state=42\n",
    ")\n",
    "\n",
    "val_df[\"total_tokens\"] = (\n",
    "    val_df[\"prompt_tokens\"] +\n",
    "    val_df[\"response_a_tokens\"] +\n",
    "    val_df[\"response_b_tokens\"]\n",
    ")\n",
    "val_df = val_df.sort_values(\"total_tokens\", ascending=False).reset_index(drop=True)\n"
   ]
  },
  {
   "cell_type": "markdown",
   "metadata": {},
   "source": [
    "We should sort val_df descending because we want evaluation to start with the hardest sample and move to the shortest, so that we can include and learn from the more difficult responses and prompots which will help find weaknessses in the model's performance."
   ]
  },
  {
   "cell_type": "code",
   "execution_count": 12,
   "metadata": {},
   "outputs": [
    {
     "name": "stdout",
     "output_type": "stream",
     "text": [
      "\n",
      "Training set shape: (960, 16)\n",
      "Validation set shape: (240, 17)\n"
     ]
    },
    {
     "data": {
      "text/html": [
       "<div>\n",
       "<style scoped>\n",
       "    .dataframe tbody tr th:only-of-type {\n",
       "        vertical-align: middle;\n",
       "    }\n",
       "\n",
       "    .dataframe tbody tr th {\n",
       "        vertical-align: top;\n",
       "    }\n",
       "\n",
       "    .dataframe thead th {\n",
       "        text-align: right;\n",
       "    }\n",
       "</style>\n",
       "<table border=\"1\" class=\"dataframe\">\n",
       "  <thead>\n",
       "    <tr style=\"text-align: right;\">\n",
       "      <th></th>\n",
       "      <th>question_id</th>\n",
       "      <th>model_a</th>\n",
       "      <th>model_b</th>\n",
       "      <th>prompt</th>\n",
       "      <th>response_a</th>\n",
       "      <th>response_b</th>\n",
       "      <th>winner_model_a</th>\n",
       "      <th>winner_model_b</th>\n",
       "      <th>id</th>\n",
       "      <th>label</th>\n",
       "      <th>prompt_len</th>\n",
       "      <th>response_a_len</th>\n",
       "      <th>response_b_len</th>\n",
       "      <th>prompt_tokens</th>\n",
       "      <th>response_a_tokens</th>\n",
       "      <th>response_b_tokens</th>\n",
       "      <th>total_tokens</th>\n",
       "    </tr>\n",
       "  </thead>\n",
       "  <tbody>\n",
       "    <tr>\n",
       "      <th>0</th>\n",
       "      <td>6b31320632de4e0bbf9b63d3cc78c58e</td>\n",
       "      <td>claude-v1</td>\n",
       "      <td>oasst-pythia-12b</td>\n",
       "      <td>A table-tennis championship for $2^n$ players ...</td>\n",
       "      <td>* There are $2^n$ players total in the tournam...</td>\n",
       "      <td>To calculate the probability that two players ...</td>\n",
       "      <td>1</td>\n",
       "      <td>0</td>\n",
       "      <td>11885</td>\n",
       "      <td>0</td>\n",
       "      <td>46</td>\n",
       "      <td>195</td>\n",
       "      <td>192</td>\n",
       "      <td>69</td>\n",
       "      <td>392</td>\n",
       "      <td>306</td>\n",
       "      <td>767</td>\n",
       "    </tr>\n",
       "    <tr>\n",
       "      <th>1</th>\n",
       "      <td>129c71554ba942b3b3105c15932d4df7</td>\n",
       "      <td>gpt-3.5-turbo</td>\n",
       "      <td>chatglm-6b</td>\n",
       "      <td>write me a story about Fur, who is a lonely sc...</td>\n",
       "      <td>Fur was a lonely school girl who had a hard ti...</td>\n",
       "      <td>Fur was a lonely school girl with no friends. ...</td>\n",
       "      <td>1</td>\n",
       "      <td>0</td>\n",
       "      <td>14012</td>\n",
       "      <td>0</td>\n",
       "      <td>40</td>\n",
       "      <td>322</td>\n",
       "      <td>295</td>\n",
       "      <td>49</td>\n",
       "      <td>377</td>\n",
       "      <td>338</td>\n",
       "      <td>764</td>\n",
       "    </tr>\n",
       "    <tr>\n",
       "      <th>2</th>\n",
       "      <td>5cb092594ca7413a9f7f57126de525ed</td>\n",
       "      <td>claude-v1</td>\n",
       "      <td>oasst-pythia-12b</td>\n",
       "      <td>What are some issues with the science of Back ...</td>\n",
       "      <td>There are several issues with the science depi...</td>\n",
       "      <td>Back to the Future is a 1985 American science ...</td>\n",
       "      <td>1</td>\n",
       "      <td>0</td>\n",
       "      <td>4300</td>\n",
       "      <td>0</td>\n",
       "      <td>13</td>\n",
       "      <td>303</td>\n",
       "      <td>326</td>\n",
       "      <td>15</td>\n",
       "      <td>356</td>\n",
       "      <td>386</td>\n",
       "      <td>757</td>\n",
       "    </tr>\n",
       "    <tr>\n",
       "      <th>3</th>\n",
       "      <td>eaf930cd08f943729b70dbbfcafd40e6</td>\n",
       "      <td>chatglm-6b</td>\n",
       "      <td>oasst-pythia-12b</td>\n",
       "      <td>I am a public account manager of a bank. How c...</td>\n",
       "      <td>As a public account manager of a bank, it is y...</td>\n",
       "      <td>Sure, I'd be happy to help! To analyze the dat...</td>\n",
       "      <td>0</td>\n",
       "      <td>1</td>\n",
       "      <td>4442</td>\n",
       "      <td>1</td>\n",
       "      <td>28</td>\n",
       "      <td>273</td>\n",
       "      <td>297</td>\n",
       "      <td>31</td>\n",
       "      <td>353</td>\n",
       "      <td>365</td>\n",
       "      <td>749</td>\n",
       "    </tr>\n",
       "    <tr>\n",
       "      <th>4</th>\n",
       "      <td>20df2f0fbf504783a9fa3e31c9066165</td>\n",
       "      <td>wizardlm-13b</td>\n",
       "      <td>claude-instant-v1</td>\n",
       "      <td>explain the effects of diphenhydramine on the ...</td>\n",
       "      <td>Diphenhydramine is an antihistamine medication...</td>\n",
       "      <td>Diphenhydramine is an antihistamine medication...</td>\n",
       "      <td>0</td>\n",
       "      <td>1</td>\n",
       "      <td>19469</td>\n",
       "      <td>1</td>\n",
       "      <td>8</td>\n",
       "      <td>245</td>\n",
       "      <td>255</td>\n",
       "      <td>14</td>\n",
       "      <td>349</td>\n",
       "      <td>375</td>\n",
       "      <td>738</td>\n",
       "    </tr>\n",
       "  </tbody>\n",
       "</table>\n",
       "</div>"
      ],
      "text/plain": [
       "                        question_id        model_a            model_b  \\\n",
       "0  6b31320632de4e0bbf9b63d3cc78c58e      claude-v1   oasst-pythia-12b   \n",
       "1  129c71554ba942b3b3105c15932d4df7  gpt-3.5-turbo         chatglm-6b   \n",
       "2  5cb092594ca7413a9f7f57126de525ed      claude-v1   oasst-pythia-12b   \n",
       "3  eaf930cd08f943729b70dbbfcafd40e6     chatglm-6b   oasst-pythia-12b   \n",
       "4  20df2f0fbf504783a9fa3e31c9066165   wizardlm-13b  claude-instant-v1   \n",
       "\n",
       "                                              prompt  \\\n",
       "0  A table-tennis championship for $2^n$ players ...   \n",
       "1  write me a story about Fur, who is a lonely sc...   \n",
       "2  What are some issues with the science of Back ...   \n",
       "3  I am a public account manager of a bank. How c...   \n",
       "4  explain the effects of diphenhydramine on the ...   \n",
       "\n",
       "                                          response_a  \\\n",
       "0  * There are $2^n$ players total in the tournam...   \n",
       "1  Fur was a lonely school girl who had a hard ti...   \n",
       "2  There are several issues with the science depi...   \n",
       "3  As a public account manager of a bank, it is y...   \n",
       "4  Diphenhydramine is an antihistamine medication...   \n",
       "\n",
       "                                          response_b  winner_model_a  \\\n",
       "0  To calculate the probability that two players ...               1   \n",
       "1  Fur was a lonely school girl with no friends. ...               1   \n",
       "2  Back to the Future is a 1985 American science ...               1   \n",
       "3  Sure, I'd be happy to help! To analyze the dat...               0   \n",
       "4  Diphenhydramine is an antihistamine medication...               0   \n",
       "\n",
       "   winner_model_b     id  label  prompt_len  response_a_len  response_b_len  \\\n",
       "0               0  11885      0          46             195             192   \n",
       "1               0  14012      0          40             322             295   \n",
       "2               0   4300      0          13             303             326   \n",
       "3               1   4442      1          28             273             297   \n",
       "4               1  19469      1           8             245             255   \n",
       "\n",
       "   prompt_tokens  response_a_tokens  response_b_tokens  total_tokens  \n",
       "0             69                392                306           767  \n",
       "1             49                377                338           764  \n",
       "2             15                356                386           757  \n",
       "3             31                353                365           749  \n",
       "4             14                349                375           738  "
      ]
     },
     "execution_count": 12,
     "metadata": {},
     "output_type": "execute_result"
    }
   ],
   "source": [
    "print(\"\\nTraining set shape:\", train_df.shape)\n",
    "print(\"Validation set shape:\", val_df.shape)\n",
    "val_df.head()"
   ]
  },
  {
   "cell_type": "markdown",
   "metadata": {
    "id": "5sSHvq9mkdur"
   },
   "source": [
    "<div class=\"alert alert-success\" style=\"color: #333; background-color: #e8fffb; border-color: #bcfff2; border-width: 1px; border-radius: 3px; padding: 10px;\">\n",
    "\n",
    "<b>Q1.2</b>\n",
    "\n",
    "<a id=\"q12\">**Creating a Tokenized Dataset for Model Training** </a>\n",
    "\n",
    "Next, you'll create a tokenized dataset using [HuggingFace Datasets](https://huggingface.co/docs/datasets/index) library. To be specific - [from_pandas()](https://huggingface.co/docs/datasets/v3.4.1/en/package_reference/main_classes#datasets.Dataset.from_pandas).\n",
    "\n",
    "However we cannot train model with raw text, we have to tokenize our text and it must return `input_ids`, `attention_mask` and corresponding `label` for every sample.\n",
    "\n",
    "Here we provide you with skeleton, you should fill this appropriately.\n",
    "\n",
    "```python\n",
    "\n",
    "def tokenize(example, tokenizer):\n",
    "    # 1. Format the input text with prompt and both responses. You have the freedom to prepend text with for eg: \"Prompt:\" and/or \"Response A:\" etc.\n",
    "\n",
    "    # Combine the prompt and responses into a single text string\n",
    "    \n",
    "    # 2. Tokenize the text using the tokenizer\n",
    "    # Make sure to set appropriate parameters for padding, truncation, etc. Set max_length to 1024\n",
    "    \n",
    "    # 3. Extract the input_ids and attention_mask\n",
    "    \n",
    "    # 4. Get the label from the example\n",
    "    \n",
    "    return {\n",
    "            \"input_ids\": input_ids,\n",
    "            \"attention_mask\": attention_mask,\n",
    "            \"labels\": labels\n",
    "        }\n",
    "\n",
    "def load_data(df, tokenizer):\n",
    "    # 1. Create a Dataset from the pandas DataFrame\n",
    "    raw_datasets = Dataset.from_pandas(...)\n",
    "    \n",
    "    # 2. Apply the tokenize function to each example in the dataset\n",
    "    # Make sure to:\n",
    "    # - Pass the tokenizer to the function\n",
    "    # - Remove original columns that are no longer needed\n",
    "    # - Handle any other necessary parameters\n",
    "    tokenized_datasets = raw_datasets.map(\n",
    "        tokenize,\n",
    "        ...\n",
    "    )\n",
    "\n",
    "    return tokenized_datasets\n",
    "```\n",
    "\n",
    "Expected output :\n",
    "\n",
    "```python\n",
    "print(tokenized_train)\n",
    "print(tokenized_val)\n",
    "```\n",
    "\n",
    "```python\n",
    "Dataset({\n",
    "    features: ['input_ids', 'attention_mask', 'labels'],\n",
    "    num_rows: 960\n",
    "})\n",
    "Dataset({\n",
    "    features: ['input_ids', 'attention_mask', 'labels'],\n",
    "    num_rows: 240\n",
    "})\n",
    "```\n",
    "</div>\n"
   ]
  },
  {
   "cell_type": "code",
   "execution_count": 13,
   "metadata": {},
   "outputs": [
    {
     "data": {
      "application/vnd.jupyter.widget-view+json": {
       "model_id": "7aa82e4cff994fb4bc127fdff5a436e9",
       "version_major": 2,
       "version_minor": 0
      },
      "text/plain": [
       "Map:   0%|          | 0/960 [00:00<?, ? examples/s]"
      ]
     },
     "metadata": {},
     "output_type": "display_data"
    },
    {
     "data": {
      "application/vnd.jupyter.widget-view+json": {
       "model_id": "07df8b47445d48d4aa640b31e252e97a",
       "version_major": 2,
       "version_minor": 0
      },
      "text/plain": [
       "Map:   0%|          | 0/240 [00:00<?, ? examples/s]"
      ]
     },
     "metadata": {},
     "output_type": "display_data"
    }
   ],
   "source": [
    "# your code here\n",
    "def tokenize(example, tokenizer):\n",
    "    text = (\n",
    "        \"Prompt: \" + str(example[\"prompt\"]) + \"\\n\\n\"\n",
    "        + \"Response A: \" + str(example[\"response_a\"]) + \"\\n\\n\"\n",
    "        + \"Response B: \" + str(example[\"response_b\"])\n",
    "    )\n",
    "\n",
    "    encoded = tokenizer(\n",
    "        text,\n",
    "        padding=\"max_length\",\n",
    "        truncation=True,\n",
    "        max_length=1024,\n",
    "        return_attention_mask=True\n",
    "    )\n",
    "\n",
    "    input_ids = encoded[\"input_ids\"]\n",
    "    attention_mask = encoded[\"attention_mask\"]\n",
    "    labels = example[\"label\"]\n",
    "\n",
    "    return {\n",
    "        \"input_ids\": input_ids,\n",
    "        \"attention_mask\": attention_mask,\n",
    "        \"labels\": labels\n",
    "    }\n",
    "\n",
    "def load_data(df, tokenizer):\n",
    "    raw_dataset = Dataset.from_pandas(df, preserve_index=False)\n",
    "    tokenized_dataset = raw_dataset.map(\n",
    "        lambda x: tokenize(x, tokenizer),\n",
    "        remove_columns=raw_dataset.column_names\n",
    "    )\n",
    "    return tokenized_dataset\n",
    "\n",
    "tokenized_train = load_data(train_df, tokenizer)\n",
    "tokenized_val = load_data(val_df, tokenizer)"
   ]
  },
  {
   "cell_type": "code",
   "execution_count": 14,
   "metadata": {},
   "outputs": [
    {
     "name": "stdout",
     "output_type": "stream",
     "text": [
      "Dataset({\n",
      "    features: ['input_ids', 'attention_mask', 'labels'],\n",
      "    num_rows: 960\n",
      "})\n",
      "Dataset({\n",
      "    features: ['input_ids', 'attention_mask', 'labels'],\n",
      "    num_rows: 240\n",
      "})\n"
     ]
    }
   ],
   "source": [
    "print(tokenized_train)\n",
    "print(tokenized_val)"
   ]
  },
  {
   "cell_type": "markdown",
   "metadata": {
    "id": "L5Ux-4bFkdus"
   },
   "source": [
    "<div class=\"alert alert-success\" style=\"color: #333; background-color: #e8fffb; border-color: #bcfff2; border-width: 1px; border-radius: 3px; padding: 10px;\">\n",
    "\n",
    "<b>Q1.3 Setup LoraConfig and BitsAndBytesConfig </b>\n",
    "\n",
    "Fine-tuning large language models like Llama 3.2 can be computationally expensive and memory-intensive. To address this, we utilize parameter-efficient fine-tuning techniques such as LoRA (Low-Rank Adaptation), which allows us to update only a small subset of the model's parameters, significantly reducing memory usage and training time while maintaining performance. Additionally, using quantization through BitsAndBytesConfig enables us to load and train the model with reduced precision (e.g., 4-bit or 8-bit), further optimizing memory usage and speeding up computations, especially with limited resources (GPUs.) \n",
    "\n",
    "<a id=\"q13\"></a>\n",
    "\n",
    "**[Lora Config](https://huggingface.co/docs/peft/en/package_reference/lora#peft.LoraConfig)**\n",
    "\n",
    "We recommend following options -\n",
    "\n",
    "```python\n",
    "r=16,\n",
    "lora_alpha=32,\n",
    "lora_dropout=0.05,\n",
    "bias='none',\n",
    "inference_mode=False,\n",
    "task_type=TaskType.SEQ_CLS,\n",
    "target_modules=['q_proj', 'k_proj', 'v_proj',]\n",
    "```\n",
    "\n",
    "(a) Ask the following question to [Claude.ai](claude.ai) and [gemini.google.com](https://gemini.google.com/). Note: We are asking two AI models, in case one decides to hallucinate. Also recommended reference documentation - https://huggingface.co/docs/peft/main/en/conceptual_guides/lora\n",
    "\n",
    "Explain the significance of following parameters - `r`, `lora_alpha` and `target_modules`\n",
    "\n",
    "Write the answer in your own words - concisely - 3-5 sentences.\n",
    "\n",
    "\n",
    "(b) **Quantization** - Apply 4-bit quantization using BitsAndBytesConfig. Recommended settings -\n",
    "\n",
    "```python\n",
    "load_in_4bit=True,\n",
    "bnb_4bit_compute_dtype=torch.float16,\n",
    "bnb_4bit_quant_type=\"nf4\",\n",
    "```\n",
    "\n",
    "\n",
    "</div>\n"
   ]
  },
  {
   "cell_type": "code",
   "execution_count": 15,
   "metadata": {
    "id": "N6AyhgTwkdus"
   },
   "outputs": [],
   "source": [
    "# your code here\n",
    "# a)\n",
    "lora_config = LoraConfig(\n",
    "    r=16,\n",
    "    lora_alpha=32,\n",
    "    lora_dropout=0.05,\n",
    "    bias='none',\n",
    "    inference_mode=False,\n",
    "    task_type=TaskType.SEQ_CLS,\n",
    "    target_modules=['q_proj', 'k_proj', 'v_proj']\n",
    ")\n",
    "# b)\n",
    "bnb_config = BitsAndBytesConfig(\n",
    "    load_in_4bit=True,\n",
    "    bnb_4bit_compute_dtype=torch.float16,\n",
    "    bnb_4bit_quant_type=\"nf4\"\n",
    ")"
   ]
  },
  {
   "cell_type": "markdown",
   "metadata": {},
   "source": [
    "According to Claude and Gemini, `r` determines the rank of the low rank matrices that are added to the model (essentially, how many new trainable parameters are introduced where small `r` is less parameters, less memory usage). `lora_alpha` is a scaling factor which adjusts the magnitude of the low rank updates before they are added to the model, contributing to how strong the LoRA layers affect the training.Then `target_modules` is what detemines which parts of the model in the attention part will be modified with LoRA."
   ]
  },
  {
   "cell_type": "markdown",
   "metadata": {
    "id": "p64SZoB_kdus"
   },
   "source": [
    "<div class=\"alert alert-success\" style=\"color: #333; background-color: #e8fffb; border-color: #bcfff2; border-width: 1px; border-radius: 3px; padding: 10px;\">\n",
    "\n",
    "<a id=\"q14\"></a>\n",
    "**1.4 Custom Classification Head for LLaMA**\n",
    "\n",
    "In this question, you’ll implement a custom classification head for the pre-trained LLaMA model. Your task is to complete the implementation of the classifier by subclassing LlamaPreTrainedModel.\n",
    "\n",
    "Your custom model should:\n",
    "- Accept inputs (input_ids, attention_mask, labels, etc) and pass them through the pre-trained LLaMA model [LlamaModel](https://huggingface.co/docs/transformers/v4.49.0/en/model_doc/llama#transformers.LlamaModel).\n",
    "- Extract embeddings from the last token of the sequence (based on attention mask).\n",
    "- Classify embeddings into two labels using a linear layer `nn.Linear`.\n",
    "- Output predictions using the Hugging Face standard SequenceClassifierOutput.\n",
    "\n",
    "- Your class will resemble [LlamaForSequenceClassification](https://github.com/huggingface/transformers/blob/a22a4378d97d06b7a1d9abad6e0086d30fdea199/src/transformers/models/llama/modeling_llama.py#L893)\n",
    "\n",
    "- We provide you with the loss function below.\n",
    "\n",
    "\n",
    "Your implementation should match the following structure:\n",
    "\n",
    "```python\n",
    "\n",
    "class CS1090B_LlamaForClassification(LlamaPreTrainedModel):\n",
    "    def __init__(self, config):\n",
    "        super().__init__(config)\n",
    "\n",
    "        # YOUR CODE HERE\n",
    "        pass\n",
    "    \n",
    "    def forward(\n",
    "        self,\n",
    "        input_ids=None,\n",
    "        attention_mask=None,\n",
    "        position_ids=None,\n",
    "        inputs_embeds=None,\n",
    "        labels=None,\n",
    "        output_attentions=None,\n",
    "        output_hidden_states=None,\n",
    "        return_dict=None,\n",
    "    )\n",
    "\n",
    "        # YOUR CODE HERE\n",
    "\n",
    "\n",
    "        # Calculate loss\n",
    "        loss = None\n",
    "        if labels is not None:\n",
    "            loss_fct = nn.CrossEntropyLoss()\n",
    "            loss = loss_fct(logits.view(-1, self.num_labels), labels.view(-1))\n",
    "\n",
    "        return SequenceClassifierOutput(\n",
    "            loss=loss,\n",
    "            logits=pooled_logits,\n",
    "            hidden_states=outputs.hidden_states if output_hidden_states else None,\n",
    "            attentions=outputs.attentions if output_attentions else None,\n",
    "        )\n",
    "\n",
    "```\n",
    "\n",
    "</div>"
   ]
  },
  {
   "cell_type": "code",
   "execution_count": 16,
   "metadata": {
    "id": "sTLNX01ukdus"
   },
   "outputs": [],
   "source": [
    "# your code here\n",
    "class CS1090B_LlamaForClassification(LlamaPreTrainedModel):\n",
    "    def __init__(self, config):\n",
    "        super().__init__(config)\n",
    "        self.num_labels = config.num_labels\n",
    "        self.model = LlamaModel(config)\n",
    "        self.classifier = nn.Linear(config.hidden_size, config.num_labels)\n",
    "\n",
    "        self.post_init()\n",
    "\n",
    "    def forward(\n",
    "        self,\n",
    "        input_ids=None,\n",
    "        attention_mask=None,\n",
    "        position_ids=None,\n",
    "        inputs_embeds=None,\n",
    "        labels=None,\n",
    "        output_attentions=None,\n",
    "        output_hidden_states=None,\n",
    "        return_dict=None,\n",
    "    ):\n",
    "        return_dict = return_dict if return_dict is not None else self.config.use_return_dict\n",
    "\n",
    "        # Accept inputs and pass them through pre-trained LLaMA\n",
    "        outputs = self.model(\n",
    "            input_ids=input_ids,\n",
    "            attention_mask=attention_mask,\n",
    "            position_ids=position_ids,\n",
    "            inputs_embeds=inputs_embeds,\n",
    "            output_attentions=output_attentions,\n",
    "            output_hidden_states=output_hidden_states,\n",
    "            return_dict=return_dict\n",
    "        )\n",
    "\n",
    "        hidden_states = outputs[0]\n",
    "\n",
    "        # Extract embeddings from the last token of the sequence based on attention mask\n",
    "        last_token_indices = attention_mask.sum(dim=1) - 1\n",
    "        pooled_output = hidden_states[torch.arange(hidden_states.size(0)), last_token_indices]\n",
    "\n",
    "        # Classify embeddings into 2 labels using a linear layer nn.Linear\n",
    "        logits = self.classifier(pooled_output)\n",
    "\n",
    "        # Output predictions using sequenceclassifieroutput\n",
    "        loss = None\n",
    "        if labels is not None:\n",
    "            loss_fct = nn.CrossEntropyLoss()\n",
    "            loss = loss_fct(logits.view(-1, self.num_labels), labels.view(-1))\n",
    "\n",
    "        return SequenceClassifierOutput(\n",
    "            loss=loss,\n",
    "            logits=logits,\n",
    "            hidden_states=outputs.hidden_states if output_hidden_states else None,\n",
    "            attentions=outputs.attentions if output_attentions else None,\n",
    "        )"
   ]
  },
  {
   "cell_type": "code",
   "execution_count": 17,
   "metadata": {},
   "outputs": [],
   "source": [
    "## Test your model\n",
    "if 0:\n",
    "    model = CS1090B_LlamaForClassification.from_pretrained(\n",
    "            model_path,\n",
    "            quantization_config=quantization_config,\n",
    "        )\n",
    "\n",
    "    text = \"Hello CS1090B!!\"\n",
    "    inputs = tokenizer(\n",
    "        text,\n",
    "        return_tensors=\"pt\",\n",
    "        padding=\"max_length\",\n",
    "        max_length=16,\n",
    "        truncation=True\n",
    "    )\n",
    "\n",
    "    outputs = model(\n",
    "            input_ids=inputs[\"input_ids\"].to(device),\n",
    "            attention_mask=inputs[\"attention_mask\"].to(device)\n",
    "        )\n",
    "    print(outputs.logits)\n",
    "\n",
    "    del model, outputs, inputs, text\n",
    "    gc.collect()\n",
    "    torch.cuda.empty_cache()"
   ]
  },
  {
   "cell_type": "markdown",
   "metadata": {
    "id": "m_gs4M2Nkdus"
   },
   "source": [
    "<div class=\"alert alert-success\" style=\"color: #333; background-color: #e8fffb; border-color: #bcfff2; border-width: 1px; border-radius: 3px; padding: 10px;\">\n",
    "\n",
    "<a id=\"q15\">**Q1.5 Metric and Training** </a>\n",
    "\n",
    "\n",
    "<b>Q1.5.1 - Implementing Evaluation Metrics</b>\n",
    "\n",
    "<a id=\"q151\"></a>\n",
    "\n",
    "Next, we are going to customize [`compute_metrics()`](https://huggingface.co/docs/transformers/main/en/main_classes/trainer#transformers.Trainer.compute_metrics)` which will be utilized when we train our model.\n",
    "\n",
    "Implement a `compute_metrics` function that takes evaluation predictions and calculates performance metrics. This function should:\n",
    "- Take evaluation predictions as input (containing predictions and labels)\n",
    "- Apply softmax to the raw prediction logits\n",
    "- Calculate accuracy by comparing the predicted labels to the true labels\n",
    "- Calculate log loss (cross-entropy) between the predicted probabilities and true labels\n",
    "- Return a dictionary containing both metrics\n",
    "\n",
    "\n",
    "```python\n",
    "def compute_metrics(eval_pred):\n",
    "    # Your code here\n",
    "\n",
    "    return {\n",
    "            \"accuracy\": accuracy,\n",
    "            \"log_loss\": loss\n",
    "        }\n",
    "```\n",
    "\n",
    "\n",
    "</div>"
   ]
  },
  {
   "cell_type": "code",
   "execution_count": 18,
   "metadata": {
    "id": "gbSbytr0kdus"
   },
   "outputs": [],
   "source": [
    "# your code here\n",
    "def compute_metrics(eval_pred):\n",
    "    logits, labels = eval_pred\n",
    "    probs = softmax(logits, axis=1)\n",
    "    preds = np.argmax(probs, axis=1)\n",
    "    accuracy = accuracy_score(labels, preds)\n",
    "    loss = log_loss(labels, probs)\n",
    "\n",
    "    return {\n",
    "        \"accuracy\": accuracy,\n",
    "        \"log_loss\": loss\n",
    "    }"
   ]
  },
  {
   "cell_type": "code",
   "execution_count": 19,
   "metadata": {},
   "outputs": [
    {
     "name": "stdout",
     "output_type": "stream",
     "text": [
      "{'accuracy': 0.6, 'log_loss': 0.555842872870483}\n"
     ]
    }
   ],
   "source": [
    "## Test your compute_metrics function\n",
    "\n",
    "# Simulate predictions (logits) and true labels\n",
    "num_samples = 5\n",
    "num_classes = 2\n",
    "np.random.seed(42)\n",
    "logits = np.random.randn(num_samples, num_classes)\n",
    "labels = np.random.randint(0, num_classes, size=num_samples)\n",
    "\n",
    "# Create a mock object to simulate eval_pred\n",
    "EvalPred = namedtuple(\"EvalPred\", [\"predictions\", \"label_ids\"])\n",
    "eval_pred = EvalPred(predictions=logits, label_ids=labels)\n",
    "\n",
    "print(compute_metrics(eval_pred))\n",
    "del num_samples, num_classes, logits, labels, eval_pred"
   ]
  },
  {
   "cell_type": "markdown",
   "metadata": {
    "id": "3-8QF-Cukdus"
   },
   "source": [
    "<div class=\"alert alert-success\" style=\"color: #333; background-color: #e8fffb; border-color: #bcfff2; border-width: 1px; border-radius: 3px; padding: 10px;\">\n",
    "\n",
    "<b>Q1.5.2 - Model Training </b>\n",
    "\n",
    "<a id=\"q152\"></a>\n",
    "\n",
    "\n",
    "Implement a complete training pipeline for the LLaMA classification model using the HuggingFace Trainer API. Your implementation should:\n",
    "\n",
    " - Load and prepare the tokenized datasets created earlier i.e. call `load_data()`\n",
    " - Initialize the CS1090B_LlamaForClassification model with the appropriate quantization configuration\n",
    " - Prepare the model for k-bit training [Link](https://huggingface.co/docs/peft/v0.15.0/en/package_reference/peft_model#peft.prepare_model_for_kbit_training). Recommended setting `use_gradient_checkpointing=False`\n",
    " - Apply the LoRA adapters using the configuration from Q1.3 [Link](https://huggingface.co/docs/peft/v0.15.0/en/package_reference/peft_model#peft.get_peft_model)\n",
    " - Print number of trainable parameters - `model.print_trainable_parameters()`\n",
    " - Configure training arguments with appropriate hyperparameters (learning rate, batch size, etc.) [Link](https://huggingface.co/docs/transformers/main/en/main_classes/trainer#transformers.TrainingArguments)\n",
    "\n",
    "```python\n",
    " Recommended parameters -\n",
    "\n",
    " training_args = TrainingArguments(\n",
    "        output_dir=\"./results\",\n",
    "        num_train_epochs=1,\n",
    "        per_device_train_batch_size=1,\n",
    "        per_device_eval_batch_size=4,\n",
    "        warmup_steps=50,\n",
    "        weight_decay=0.01,\n",
    "        logging_dir=\"./logs\",\n",
    "        logging_steps=10,\n",
    "        evaluation_strategy=\"epoch\",\n",
    "        save_strategy=\"epoch\",\n",
    "        load_best_model_at_end=True,\n",
    "        push_to_hub=False,\n",
    "        learning_rate=1e-4,\n",
    "        report_to=\"none\",\n",
    "    )\n",
    "\n",
    "```\n",
    "\n",
    " - Create a data collator for padding [Link](https://huggingface.co/docs/transformers/main/en/main_classes/data_collator#transformers.DataCollatorWithPadding)\n",
    "\n",
    " - Initialize the Trainer with the model, training arguments, tokenizer, datasets, data collator and evaluation metrics.\n",
    " - Execute the training process\n",
    " - Save the trained model\n",
    " - Evaluate the model on the validation set and report the results. Validation accuracy should be above 0.6.\n",
    "\n",
    " Note: Pay careful attention to batch sizes and gradient checkpointing settings, as these can significantly impact training time and memory usage. Approx. expected training time on JuputerHub ~35mins.\n",
    "\n",
    "</div>"
   ]
  },
  {
   "cell_type": "code",
   "execution_count": 20,
   "metadata": {
    "scrolled": true
   },
   "outputs": [
    {
     "data": {
      "application/vnd.jupyter.widget-view+json": {
       "model_id": "63b590239cf946659114e7bc713df218",
       "version_major": 2,
       "version_minor": 0
      },
      "text/plain": [
       "Map:   0%|          | 0/960 [00:00<?, ? examples/s]"
      ]
     },
     "metadata": {},
     "output_type": "display_data"
    },
    {
     "data": {
      "application/vnd.jupyter.widget-view+json": {
       "model_id": "3b5119f5fbb24574909a4450f85e1bdb",
       "version_major": 2,
       "version_minor": 0
      },
      "text/plain": [
       "Map:   0%|          | 0/240 [00:00<?, ? examples/s]"
      ]
     },
     "metadata": {},
     "output_type": "display_data"
    },
    {
     "data": {
      "application/vnd.jupyter.widget-view+json": {
       "model_id": "785b8b03e9014689afe03cc7d5805142",
       "version_major": 2,
       "version_minor": 0
      },
      "text/plain": [
       "Loading checkpoint shards:   0%|          | 0/2 [00:00<?, ?it/s]"
      ]
     },
     "metadata": {},
     "output_type": "display_data"
    },
    {
     "name": "stderr",
     "output_type": "stream",
     "text": [
      "Some weights of CS1090B_LlamaForClassification were not initialized from the model checkpoint at meta-llama/Llama-3.2-3B-Instruct and are newly initialized: ['classifier.bias', 'classifier.weight']\n",
      "You should probably TRAIN this model on a down-stream task to be able to use it for predictions and inference.\n"
     ]
    },
    {
     "name": "stdout",
     "output_type": "stream",
     "text": [
      "trainable params: 6,428,674 || all params: 3,219,184,644 || trainable%: 0.1997\n"
     ]
    },
    {
     "name": "stderr",
     "output_type": "stream",
     "text": [
      "/tmp/ipykernel_19843/2535603319.py:39: FutureWarning: `tokenizer` is deprecated and will be removed in version 5.0.0 for `Trainer.__init__`. Use `processing_class` instead.\n",
      "  trainer = Trainer(\n",
      "No label_names provided for model class `PeftModelForSequenceClassification`. Since `PeftModel` hides base models input arguments, if label_names is not given, label_names can't be set automatically within `Trainer`. Note that empty label_names list will be used instead.\n"
     ]
    },
    {
     "data": {
      "text/html": [
       "\n",
       "    <div>\n",
       "      \n",
       "      <progress value='960' max='960' style='width:300px; height:20px; vertical-align: middle;'></progress>\n",
       "      [960/960 48:17, Epoch 1/1]\n",
       "    </div>\n",
       "    <table border=\"1\" class=\"dataframe\">\n",
       "  <thead>\n",
       " <tr style=\"text-align: left;\">\n",
       "      <th>Epoch</th>\n",
       "      <th>Training Loss</th>\n",
       "      <th>Validation Loss</th>\n",
       "      <th>Accuracy</th>\n",
       "      <th>Log Loss</th>\n",
       "      <th>Runtime</th>\n",
       "      <th>Samples Per Second</th>\n",
       "      <th>Steps Per Second</th>\n",
       "    </tr>\n",
       "  </thead>\n",
       "  <tbody>\n",
       "    <tr>\n",
       "      <td>1</td>\n",
       "      <td>1.779600</td>\n",
       "      <td>1.573027</td>\n",
       "      <td>0.670833</td>\n",
       "      <td>1.573027</td>\n",
       "      <td>322.847300</td>\n",
       "      <td>0.743000</td>\n",
       "      <td>0.186000</td>\n",
       "    </tr>\n",
       "  </tbody>\n",
       "</table><p>"
      ],
      "text/plain": [
       "<IPython.core.display.HTML object>"
      ]
     },
     "metadata": {},
     "output_type": "display_data"
    },
    {
     "data": {
      "text/html": [],
      "text/plain": [
       "<IPython.core.display.HTML object>"
      ]
     },
     "metadata": {},
     "output_type": "display_data"
    },
    {
     "name": "stdout",
     "output_type": "stream",
     "text": [
      "Evaluation: {'eval_loss': 1.57302725315094, 'eval_accuracy': 0.6708333333333333, 'eval_log_loss': 1.5730273764854772, 'eval_runtime': 306.2115, 'eval_samples_per_second': 0.784, 'eval_steps_per_second': 0.196, 'epoch': 1.0}\n"
     ]
    }
   ],
   "source": [
    "# your code here\n",
    "tokenized_train = load_data(train_df, tokenizer)\n",
    "tokenized_val = load_data(val_df, tokenizer)\n",
    "\n",
    "bnb_config = BitsAndBytesConfig(\n",
    "    load_in_4bit=True,\n",
    "    bnb_4bit_compute_dtype=torch.float16,\n",
    "    bnb_4bit_quant_type=\"nf4\"\n",
    ")\n",
    "\n",
    "model = CS1090B_LlamaForClassification.from_pretrained(\n",
    "    model_path,\n",
    "    quantization_config=bnb_config,\n",
    ")\n",
    "\n",
    "model = prepare_model_for_kbit_training(model, use_gradient_checkpointing=False)\n",
    "model = get_peft_model(model, lora_config)\n",
    "model.print_trainable_parameters()\n",
    "\n",
    "training_args = TrainingArguments(\n",
    "    output_dir=\"./results\",\n",
    "    num_train_epochs=1,\n",
    "    per_device_train_batch_size=1,\n",
    "    per_device_eval_batch_size=4,\n",
    "    warmup_steps=50,\n",
    "    weight_decay=0.01,\n",
    "    logging_dir=\"./logs\",\n",
    "    logging_steps=10,\n",
    "    eval_strategy=\"epoch\",\n",
    "    save_strategy=\"epoch\",\n",
    "    load_best_model_at_end=True,\n",
    "    push_to_hub=False,\n",
    "    learning_rate=1e-4,\n",
    "    report_to=\"none\",\n",
    ")\n",
    "\n",
    "data_collator = DataCollatorWithPadding(tokenizer=tokenizer)\n",
    "\n",
    "trainer = Trainer(\n",
    "    model=model,\n",
    "    args=training_args,\n",
    "    train_dataset=tokenized_train,\n",
    "    eval_dataset=tokenized_val,\n",
    "    tokenizer=tokenizer,\n",
    "    data_collator=data_collator,\n",
    "    compute_metrics=compute_metrics,\n",
    ")\n",
    "\n",
    "trainer.train()\n",
    "trainer.save_model(\"./evaluation/final_model\")\n",
    "evaluation = trainer.evaluate()\n",
    "print(\"Evaluation:\", evaluation)"
   ]
  },
  {
   "cell_type": "markdown",
   "metadata": {},
   "source": [
    "<div class=\"alert alert-success\" style=\"color: #333; background-color: #e8fffb; border-color: #bcfff2; border-width: 1px; border-radius: 3px; padding: 10px;\">\n",
    "\n",
    "<b>Q1.6 - Predict and Display Confusion Matrix </b>\n",
    "\n",
    "<a id=\"q16\"></a>\n",
    "\n",
    "Run the cell below to display confusion matrix on validation set\n",
    "</div>"
   ]
  },
  {
   "cell_type": "code",
   "execution_count": 21,
   "metadata": {},
   "outputs": [
    {
     "name": "stdout",
     "output_type": "stream",
     "text": [
      "(240, 2)\n"
     ]
    },
    {
     "data": {
      "image/png": "[encoded data removed]",
      "text/plain": [
       "<Figure size 640x480 with 2 Axes>"
      ]
     },
     "metadata": {},
     "output_type": "display_data"
    }
   ],
   "source": [
    "# `tokenized_val` is a HuggingFace Dataset object\n",
    "output = trainer.predict(tokenized_val)\n",
    "logits = output.predictions  \n",
    "print(logits.shape)\n",
    "\n",
    "predicted_classes = np.argmax(logits, axis=1)\n",
    "\n",
    "true_labels = output.label_ids\n",
    "\n",
    "\n",
    "cm = confusion_matrix(true_labels, predicted_classes)\n",
    "disp = ConfusionMatrixDisplay(confusion_matrix=cm)\n",
    "disp.plot(cmap=\"Blues\")\n",
    "plt.title(\"Confusion Matrix on Validation Set\")\n",
    "plt.show()\n"
   ]
  },
  {
   "cell_type": "code",
   "execution_count": 22,
   "metadata": {},
   "outputs": [
    {
     "name": "stdout",
     "output_type": "stream",
     "text": [
      "It took 59.66 minutes for this notebook to run\n"
     ]
    }
   ],
   "source": [
    "time_end = time.time()\n",
    "print(f\"It took {(time_end - time_start)/60:.2f} minutes for this notebook to run\")"
   ]
  },
  {
   "cell_type": "markdown",
   "metadata": {
    "id": "h_SNthpPkdut"
   },
   "source": [
    "**This concludes Part 1 👏**\n",
    "\n",
    "**Please continue to Parts 2 & 3 inthe second notebook**"
   ]
  }
 ],
 "metadata": {
  "accelerator": "GPU",
  "colab": {
   "provenance": [],
   "toc_visible": true
  },
  "kernelspec": {
   "display_name": "Python 3 (ipykernel)",
   "language": "python",
   "name": "python3"
  },
  "language_info": {
   "codemirror_mode": {
    "name": "ipython",
    "version": 3
   },
   "file_extension": ".py",
   "mimetype": "text/x-python",
   "name": "python",
   "nbconvert_exporter": "python",
   "pygments_lexer": "ipython3",
   "version": "3.11.7"
  }
 },
 "nbformat": 4,
 "nbformat_minor": 4
}
