{
  "nbformat": 4,
  "nbformat_minor": 0,
  "metadata": {
    "colab": {
      "provenance": []
    },
    "kernelspec": {
      "name": "python3",
      "display_name": "Python 3"
    },
    "language_info": {
      "name": "python"
    },
    "accelerator": "GPU"
  },
  "cells": [
    {
      "cell_type": "markdown",
      "source": [
        "# **<font color=\"#A41034\">Language Model using Transformer</font>**\n",
        "\n",
        "<hr style=\"height:2pt\">"
      ],
      "metadata": {
        "id": "H5TZz1Q5om7G"
      }
    },
    {
      "cell_type": "markdown",
      "source": [
        "## **<font color=\"#A41034\">Setup Notebook</font>**"
      ],
      "metadata": {
        "id": "4Mk6kcP3o3IE"
      }
    },
    {
      "cell_type": "markdown",
      "source": [
        "**Copy & setup Colab with GPU**\n",
        "\n",
        "1) Select \"File\" menu and pick \"Save a copy in Drive\"  \n",
        "2) This notebooks is already setup to use GPU but if you want to change it. Go to \"Runtime\" menu and select \"Change runtime type\". Then in the popup in \"Hardware accelerator\" select \"GPU\" and then click \"Save\"   "
      ],
      "metadata": {
        "id": "Ey0_i_B9o64X"
      }
    },
    {
      "cell_type": "markdown",
      "source": [
        "**Imports**"
      ],
      "metadata": {
        "id": "3I6Iy_jvpAOY"
      }
    },
    {
      "cell_type": "code",
      "execution_count": null,
      "metadata": {
        "id": "6J2n55VDobo2"
      },
      "outputs": [],
      "source": [
        "# Imports\n",
        "import os\n",
        "import time\n",
        "import re\n",
        "import pickle\n",
        "import numpy as np\n",
        "import pandas as pd\n",
        "import matplotlib.pyplot as plt\n",
        "import matplotlib.cm as cm\n",
        "%matplotlib inline\n",
        "\n",
        "# Tensorflow\n",
        "import tensorflow as tf\n",
        "from tensorflow.python.keras import backend as K\n",
        "\n",
        "# sklearn\n",
        "from sklearn.decomposition import PCA"
      ]
    },
    {
      "cell_type": "markdown",
      "metadata": {
        "id": "0y0oWvvrVpuS"
      },
      "source": [
        "**Verify Setup**\n",
        "\n",
        "It is a good practice to verify what version of TensorFlow & Keras you are using. Also verify if GPU is enabled and what GPU you have. Run the following cells to check the version of TensorFlow\n",
        "\n",
        "References:\n",
        "- [Eager Execution](https://www.tensorflow.org/guide/eager)\n",
        "- [Data Performance](https://www.tensorflow.org/guide/data_performance)"
      ]
    },
    {
      "cell_type": "code",
      "metadata": {
        "id": "MBJBiJ5YVqDB",
        "colab": {
          "base_uri": "https://localhost:8080/"
        },
        "outputId": "b10315fe-d261-4e2d-f4c1-42febb0d3b11"
      },
      "source": [
        "# Enable/Disable Eager Execution\n",
        "# Reference: https://www.tensorflow.org/guide/eager\n",
        "# TensorFlow's eager execution is an imperative programming environment that evaluates operations immediately,\n",
        "# without building graphs\n",
        "\n",
        "#tf.compat.v1.disable_eager_execution()\n",
        "#tf.compat.v1.enable_eager_execution()\n",
        "\n",
        "print(\"tensorflow version\", tf.__version__)\n",
        "print(\"keras version\", tf.keras.__version__)\n",
        "print(\"Eager Execution Enabled:\", tf.executing_eagerly())\n",
        "\n",
        "# Get the number of replicas\n",
        "strategy = tf.distribute.MirroredStrategy()\n",
        "print(\"Number of replicas:\", strategy.num_replicas_in_sync)\n",
        "\n",
        "devices = tf.config.experimental.get_visible_devices()\n",
        "print(\"Devices:\", devices)\n",
        "print(tf.config.experimental.list_logical_devices('GPU'))\n",
        "\n",
        "print(\"GPU Available: \", tf.config.list_physical_devices('GPU'))\n",
        "print(\"All Physical Devices\", tf.config.list_physical_devices())\n",
        "\n",
        "# Better performance with the tf.data API\n",
        "# Reference: https://www.tensorflow.org/guide/data_performance\n",
        "AUTOTUNE = tf.data.experimental.AUTOTUNE"
      ],
      "execution_count": null,
      "outputs": [
        {
          "output_type": "stream",
          "name": "stdout",
          "text": [
            "tensorflow version 2.9.2\n",
            "keras version 2.9.0\n",
            "Eager Execution Enabled: True\n",
            "Number of replicas: 1\n",
            "Devices: [PhysicalDevice(name='/physical_device:CPU:0', device_type='CPU'), PhysicalDevice(name='/physical_device:GPU:0', device_type='GPU')]\n",
            "[LogicalDevice(name='/device:GPU:0', device_type='GPU')]\n",
            "GPU Available:  [PhysicalDevice(name='/physical_device:GPU:0', device_type='GPU')]\n",
            "All Physical Devices [PhysicalDevice(name='/physical_device:CPU:0', device_type='CPU'), PhysicalDevice(name='/physical_device:GPU:0', device_type='GPU')]\n"
          ]
        }
      ]
    },
    {
      "cell_type": "markdown",
      "metadata": {
        "id": "5bDdKtVkVwch"
      },
      "source": [
        "Run this cell to see what GPU you have. If you get a A100, V100, P100 or T4 GPU that's great. If it's K80, it will still work but it will be slow."
      ]
    },
    {
      "cell_type": "code",
      "metadata": {
        "id": "pZqynk1tVw2t",
        "colab": {
          "base_uri": "https://localhost:8080/"
        },
        "outputId": "09b2c9d8-c39c-45af-d4e5-5c08b188b756"
      },
      "source": [
        "!nvidia-smi"
      ],
      "execution_count": null,
      "outputs": [
        {
          "output_type": "stream",
          "name": "stdout",
          "text": [
            "Sat Dec  3 12:09:28 2022       \n",
            "+-----------------------------------------------------------------------------+\n",
            "| NVIDIA-SMI 460.32.03    Driver Version: 460.32.03    CUDA Version: 11.2     |\n",
            "|-------------------------------+----------------------+----------------------+\n",
            "| GPU  Name        Persistence-M| Bus-Id        Disp.A | Volatile Uncorr. ECC |\n",
            "| Fan  Temp  Perf  Pwr:Usage/Cap|         Memory-Usage | GPU-Util  Compute M. |\n",
            "|                               |                      |               MIG M. |\n",
            "|===============================+======================+======================|\n",
            "|   0  Tesla T4            Off  | 00000000:00:04.0 Off |                    0 |\n",
            "| N/A   72C    P0    30W /  70W |    314MiB / 15109MiB |      0%      Default |\n",
            "|                               |                      |                  N/A |\n",
            "+-------------------------------+----------------------+----------------------+\n",
            "                                                                               \n",
            "+-----------------------------------------------------------------------------+\n",
            "| Processes:                                                                  |\n",
            "|  GPU   GI   CI        PID   Type   Process name                  GPU Memory |\n",
            "|        ID   ID                                                   Usage      |\n",
            "|=============================================================================|\n",
            "+-----------------------------------------------------------------------------+\n"
          ]
        }
      ]
    },
    {
      "cell_type": "markdown",
      "metadata": {
        "id": "lw32ENnxGUKL"
      },
      "source": [
        "## **<font color=\"#A41034\">Language Modeling</font>**"
      ]
    },
    {
      "cell_type": "markdown",
      "metadata": {
        "id": "kqX23tjULArl"
      },
      "source": [
        "### **Overview**\n",
        "\n",
        "In this tutorial, we're going to be working with some text related to machine & deep learning. The data is a very small set of defintions pulled form wikipedia. The primary goal will be to understand Multi Head Attention Layers and Transformer architecture.\n",
        "\n",
        "**The Task:** Language modeling to learn how words appear in context to one another. The model is trained using an unsupervised/semi supervised approach. For this tutorial we do not mask words but in reality you would mask words and this approach would be called masked language modeling"
      ]
    },
    {
      "cell_type": "markdown",
      "metadata": {
        "id": "FfBllrkLLEbO"
      },
      "source": [
        "### **[Dataset](#scrollTo=dataset)**\n",
        "\n",
        "The dataset consists of text related to machine & deep learning. The data is a very small set of defintions pulled form wikipedia."
      ]
    },
    {
      "cell_type": "markdown",
      "metadata": {
        "id": "bfTQ8cvVM_cf"
      },
      "source": [
        "#### **Load Data**\n",
        "\n",
        "* Read-in the data"
      ]
    },
    {
      "cell_type": "code",
      "source": [
        "# Dowload the dataset\n",
        "file_path = \"https://storage.googleapis.com/cs109b/nlp/deep_learning_sentences.csv\"\n",
        "data = pd.read_csv(file_path, encoding='latin1')\n",
        "print(\"Shape:\",data.shape)\n",
        "data.head()"
      ],
      "metadata": {
        "id": "Wp2wffkyrvZt",
        "colab": {
          "base_uri": "https://localhost:8080/",
          "height": 244
        },
        "outputId": "17f7506d-3a87-4024-8744-1c90d9e40699"
      },
      "execution_count": null,
      "outputs": [
        {
          "output_type": "stream",
          "name": "stdout",
          "text": [
            "Shape: (182, 1)\n"
          ]
        },
        {
          "output_type": "execute_result",
          "data": {
            "text/plain": [
              "                                            sentence\n",
              "0  Deep learning also known as deep structured le...\n",
              "1  Learning can be supervised, semi-supervised or...\n",
              "2  Deep-learning architectures such as deep neura...\n",
              "3  Artificial neural networks (ANNs) were inspire...\n",
              "4  ANNs have various differences from biological ..."
            ],
            "text/html": [
              "\n",
              "  <div id=\"df-475747fe-93c8-4261-8033-78b7d3c0cfb1\">\n",
              "    <div class=\"colab-df-container\">\n",
              "      <div>\n",
              "<style scoped>\n",
              "    .dataframe tbody tr th:only-of-type {\n",
              "        vertical-align: middle;\n",
              "    }\n",
              "\n",
              "    .dataframe tbody tr th {\n",
              "        vertical-align: top;\n",
              "    }\n",
              "\n",
              "    .dataframe thead th {\n",
              "        text-align: right;\n",
              "    }\n",
              "</style>\n",
              "<table border=\"1\" class=\"dataframe\">\n",
              "  <thead>\n",
              "    <tr style=\"text-align: right;\">\n",
              "      <th></th>\n",
              "      <th>sentence</th>\n",
              "    </tr>\n",
              "  </thead>\n",
              "  <tbody>\n",
              "    <tr>\n",
              "      <th>0</th>\n",
              "      <td>Deep learning also known as deep structured le...</td>\n",
              "    </tr>\n",
              "    <tr>\n",
              "      <th>1</th>\n",
              "      <td>Learning can be supervised, semi-supervised or...</td>\n",
              "    </tr>\n",
              "    <tr>\n",
              "      <th>2</th>\n",
              "      <td>Deep-learning architectures such as deep neura...</td>\n",
              "    </tr>\n",
              "    <tr>\n",
              "      <th>3</th>\n",
              "      <td>Artificial neural networks (ANNs) were inspire...</td>\n",
              "    </tr>\n",
              "    <tr>\n",
              "      <th>4</th>\n",
              "      <td>ANNs have various differences from biological ...</td>\n",
              "    </tr>\n",
              "  </tbody>\n",
              "</table>\n",
              "</div>\n",
              "      <button class=\"colab-df-convert\" onclick=\"convertToInteractive('df-475747fe-93c8-4261-8033-78b7d3c0cfb1')\"\n",
              "              title=\"Convert this dataframe to an interactive table.\"\n",
              "              style=\"display:none;\">\n",
              "        \n",
              "  <svg xmlns=\"http://www.w3.org/2000/svg\" height=\"24px\"viewBox=\"0 0 24 24\"\n",
              "       width=\"24px\">\n",
              "    <path d=\"M0 0h24v24H0V0z\" fill=\"none\"/>\n",
              "    <path d=\"M18.56 5.44l.94 2.06.94-2.06 2.06-.94-2.06-.94-.94-2.06-.94 2.06-2.06.94zm-11 1L8.5 8.5l.94-2.06 2.06-.94-2.06-.94L8.5 2.5l-.94 2.06-2.06.94zm10 10l.94 2.06.94-2.06 2.06-.94-2.06-.94-.94-2.06-.94 2.06-2.06.94z\"/><path d=\"M17.41 7.96l-1.37-1.37c-.4-.4-.92-.59-1.43-.59-.52 0-1.04.2-1.43.59L10.3 9.45l-7.72 7.72c-.78.78-.78 2.05 0 2.83L4 21.41c.39.39.9.59 1.41.59.51 0 1.02-.2 1.41-.59l7.78-7.78 2.81-2.81c.8-.78.8-2.07 0-2.86zM5.41 20L4 18.59l7.72-7.72 1.47 1.35L5.41 20z\"/>\n",
              "  </svg>\n",
              "      </button>\n",
              "      \n",
              "  <style>\n",
              "    .colab-df-container {\n",
              "      display:flex;\n",
              "      flex-wrap:wrap;\n",
              "      gap: 12px;\n",
              "    }\n",
              "\n",
              "    .colab-df-convert {\n",
              "      background-color: #E8F0FE;\n",
              "      border: none;\n",
              "      border-radius: 50%;\n",
              "      cursor: pointer;\n",
              "      display: none;\n",
              "      fill: #1967D2;\n",
              "      height: 32px;\n",
              "      padding: 0 0 0 0;\n",
              "      width: 32px;\n",
              "    }\n",
              "\n",
              "    .colab-df-convert:hover {\n",
              "      background-color: #E2EBFA;\n",
              "      box-shadow: 0px 1px 2px rgba(60, 64, 67, 0.3), 0px 1px 3px 1px rgba(60, 64, 67, 0.15);\n",
              "      fill: #174EA6;\n",
              "    }\n",
              "\n",
              "    [theme=dark] .colab-df-convert {\n",
              "      background-color: #3B4455;\n",
              "      fill: #D2E3FC;\n",
              "    }\n",
              "\n",
              "    [theme=dark] .colab-df-convert:hover {\n",
              "      background-color: #434B5C;\n",
              "      box-shadow: 0px 1px 3px 1px rgba(0, 0, 0, 0.15);\n",
              "      filter: drop-shadow(0px 1px 2px rgba(0, 0, 0, 0.3));\n",
              "      fill: #FFFFFF;\n",
              "    }\n",
              "  </style>\n",
              "\n",
              "      <script>\n",
              "        const buttonEl =\n",
              "          document.querySelector('#df-475747fe-93c8-4261-8033-78b7d3c0cfb1 button.colab-df-convert');\n",
              "        buttonEl.style.display =\n",
              "          google.colab.kernel.accessAllowed ? 'block' : 'none';\n",
              "\n",
              "        async function convertToInteractive(key) {\n",
              "          const element = document.querySelector('#df-475747fe-93c8-4261-8033-78b7d3c0cfb1');\n",
              "          const dataTable =\n",
              "            await google.colab.kernel.invokeFunction('convertToInteractive',\n",
              "                                                     [key], {});\n",
              "          if (!dataTable) return;\n",
              "\n",
              "          const docLinkHtml = 'Like what you see? Visit the ' +\n",
              "            '<a target=\"_blank\" href=https://colab.research.google.com/notebooks/data_table.ipynb>data table notebook</a>'\n",
              "            + ' to learn more about interactive tables.';\n",
              "          element.innerHTML = '';\n",
              "          dataTable['output_type'] = 'display_data';\n",
              "          await google.colab.output.renderOutput(dataTable, element);\n",
              "          const docLink = document.createElement('div');\n",
              "          docLink.innerHTML = docLinkHtml;\n",
              "          element.appendChild(docLink);\n",
              "        }\n",
              "      </script>\n",
              "    </div>\n",
              "  </div>\n",
              "  "
            ]
          },
          "metadata": {},
          "execution_count": 4
        }
      ]
    },
    {
      "cell_type": "code",
      "source": [
        "# Get sentences\n",
        "sentences = data[\"sentence\"].values.tolist()\n",
        "\n",
        "# Add a DEMO sentence\n",
        "sentences.append(\"pavlos taught positional encoding to shivas\")\n",
        "print(\"sentences len:\", len(sentences))"
      ],
      "metadata": {
        "id": "_PMK5gxd-NLg",
        "colab": {
          "base_uri": "https://localhost:8080/"
        },
        "outputId": "0adb60cf-0dc8-485b-cd6d-ed029cc0c803"
      },
      "execution_count": null,
      "outputs": [
        {
          "output_type": "stream",
          "name": "stdout",
          "text": [
            "sentences len: 183\n"
          ]
        }
      ]
    },
    {
      "cell_type": "markdown",
      "metadata": {
        "id": "dv9tdJaNNLKc"
      },
      "source": [
        "### **Build Data Pipelines**"
      ]
    },
    {
      "cell_type": "markdown",
      "metadata": {
        "id": "9giF7zxONMMr"
      },
      "source": [
        "#### **Text Vectorization**"
      ]
    },
    {
      "cell_type": "code",
      "metadata": {
        "id": "glHAE7TKNQ9Q",
        "colab": {
          "base_uri": "https://localhost:8080/"
        },
        "outputId": "e0f4817e-a333-45aa-bfbe-d3ef2c641098"
      },
      "source": [
        "sequence_length = max([len(x.split()) for x in sentences])\n",
        "print(\"sequence_length\",sequence_length)\n",
        "\n",
        "def standardize_text(input_text):\n",
        "  # Convert to lowercase\n",
        "  output_text = tf.strings.lower(input_text)\n",
        "  return tf.strings.regex_replace(\n",
        "        output_text, \"[%s]\" % re.escape(\"!#$%&'()*+,-.:;=?@\\^_`{|}~\"), \"\"\n",
        "    )\n",
        "\n",
        "text_data = tf.data.Dataset.from_tensor_slices(sentences)\n",
        "\n",
        "# Initialize Text Vectorizer\n",
        "text_vectorizer = tf.keras.layers.TextVectorization(\n",
        "    standardize=standardize_text,\n",
        "    output_mode=\"int\",\n",
        "    output_sequence_length=sequence_length\n",
        ")\n",
        "\n",
        "# Generate Text Vector\n",
        "text_vectorizer.adapt(sentences)\n",
        "\n",
        "# Get Vocabulary\n",
        "vocabulary = text_vectorizer.get_vocabulary()\n",
        "vocabulary_size = len(vocabulary)\n",
        "\n",
        "# Generate word index\n",
        "word_index = dict(zip(vocabulary, range(vocabulary_size)))\n",
        "index_word = dict(zip(range(vocabulary_size), vocabulary))\n",
        "print(\"vocabulary:\",len(vocabulary),vocabulary)\n",
        "print(\"word_index:\",word_index)"
      ],
      "execution_count": null,
      "outputs": [
        {
          "output_type": "stream",
          "name": "stdout",
          "text": [
            "sequence_length 66\n",
            "vocabulary: 1130 ['', '[UNK]', 'the', 'of', 'a', 'to', 'and', 'is', 'in', 'learning', 'that', 'as', 'or', 'data', 'can', 'with', 'neural', 'networks', 'be', 'language', 'such', 'an', 'are', 'machine', 'image', 'from', 'for', 'network', 'this', 'model', 'on', 'layers', 'it', 'artificial', 'training', 'deep', 'by', 'also', 'recognition', 'layer', 'computer', 'used', 'natural', 'input', 'have', 'which', 'translation', 'not', 'neurons', 'where', 'process', 'human', 'between', 'words', 'vision', 'supervised', 'speech', 'processing', 'field', 'feature', 'systems', 'recurrent', 'output', 'nlg', 'more', 'its', 'intelligence', 'each', 'understanding', 'tasks', 'signal', 'representation', 'other', 'one', 'labeled', 'known', 'into', 'images', 'different', 'biological', 'algorithms', 'when', 'visual', 'unsupervised', 'they', 'than', 'segmentation', 'produce', 'models', 'lstm', 'information', 'but', 'use', 'through', 'system', 'set', 'sequences', 'semisupervised', 'rnns', 'only', 'multiple', 'methods', 'impulse', 'hidden', 'function', 'features', 'example', 'connected', 'called', 'based', 'algorithm', 'while', 'video', 'units', 'transformer', 'trained', 'time', 'text', 'similar', 'problem', 'probability', 'often', 'memory', 'many', 'include', 'has', 'examples', 'detection', 'connections', 'computers', 'classification', 'applications', 'allows', '3d', 'whereas', 'using', 'unlabeled', 'typically', 'transformers', 'then', 'them', 'supervision', 'study', 'statistical', 'specific', 'sequence', 'representations', 'phrases', 'perform', 'patterns', 'part', 'over', 'nlu', 'needs', 'naturallanguage', 'medical', 'may', 'make', 'long', 'like', 'inputs', 'graph', 'eg', 'documents', 'dnn', 'digital', 'composition', 'complex', 'cnns', 'class', 'applied', 'application', 'another', 'analysis', 'world', 'word', 'without', 'within', 'were', 'was', 'visible', 'usually', 'unlike', 'ul', 'threshold', 'there', 'theory', 'their', 'term', 'temporal', 'take', 'symbolic', 'structured', 'some', 'software', 'shortterm', 'series', 'same', 'referred', 'produces', 'processes', 'predictions', 'practical', 'pixels', 'order', 'object', 'nodes', 'nlp', 'neuron', 'needed', 'multilayer', 'most', 'modeling', 'mathematical', 'makes', 'machines', 'length', 'large', 'languages', 'label', 'inspired', 'infinite', 'if', 'humans', 'how', 'handwriting', 'given', 'generative', 'generate', 'general', 'gated', 'gate', 'forms', 'finite', 'feedforward', 'feedback', 'etc', 'entire', 'easier', 'dynamic', 'do', 'directed', 'decisions', 'dbn', 'convolutional', 'connection', 'concerned', 'compared', 'characteristics', 'certain', 'cell', 'brains', 'brain', 'both', 'been', 'at', 'anns', 'amount', 'all', 'ai', 'after', 'advantage', 'will', 'whole', 'well', 'weights', 'weight', 'viewed', 'various', 'variety', 'value', 'user', 'unsegmented', 'unseen', 'unrolled', 'unigram', 'under', 'unbounded', 'typical', 'two', 'turn', 'traditional', 'times', 'these', 'therefore', 'theoretical', 'tend', 'techniques', 'task', 'tagged', 'synapses', 'subfield', 'structure', 'storage', 'statistics', 'states', 'state', 'sound', 'solving', 'so', 'smaller', 'small', 'situations', 'single', 'since', 'shallow', 'sets', 'sequential', 'sentence', 'segments', 'seen', 'seeks', 'see', 'scientific', 'scene', 'rnn', 'results', 'result', 'restricted', 'respect', 'requires', 'require', 'reports', 'replaced', 'relatively', 'relative', 'related', 'regularization', 'region', 'recognize', 'receptive', 'real', 'pretrained', 'precisely', 'possible', 'performance', 'perceptrons', 'perceptron', 'pattern', 'particular', 'parallelization', 'pair', 'out', 'objects', 'numerical', 'number', 'nonlinear', 'next', 'n', 'much', 'mt', 'ml', 'means', 'mean', 'making', 'major', 'lstms', 'lowest', 'lower', 'linguistics', 'learns', 'learned', 'learn', 'leading', 'kernels', 'invariant', 'introduced', 'internal', 'interactive', 'instance', 'including', 'ideas', 'however', 'generation', 'generally', 'functions', 'fully', 'form', 'filters', 'filtering', 'fields', 'extraction', 'extract', 'expressed', 'exhibit', 'estimation', 'engineering', 'edges', 'during', 'domains', 'dog', 'dnns', 'discover', 'discipline', 'differences', 'dictionary', 'device', 'determining', 'define', 'deal', 'datasets', 'custom', 'cover', 'corpus', 'convolution', 'contours', 'context', 'content', 'consisting', 'connectivity', 'computed', 'computational', 'composed', 'components', 'complexity', 'common', 'classes', 'building', 'build', 'broad', 'belief', 'behavior', 'before', 'automatically', 'automate', 'autoencoders', 'audio', 'attempts', 'architectures', 'architecture', 'approach', 'applicable', 'any', 'ann', 'animal', 'analyzing', 'analyze', 'allow', 'acquisition', 'â\\x80\\x9crecurrent', 'yielded', 'writing', 'wreck', 'work', 'wikipedia', 'width', 'widely', 'wide', 'whether', 'whence', 'wellsuited', 'web', 'weather', 'weak', 'ways', 'way', 'wants', 'vs', 'views', 'videos', 'versions', 'vector', 'varying', 'variation', 'variables', 'variable', 'vanishing', 'values', 'vaguely', 'useful', 'usable', 'untagged', 'unsupervisedin', 'unknown', 'universality', 'universal', 'unit', 'unfeasible', 'undirected', 'understandability', 'understand', 'typology', 'types', 'type', 'trimming', 'tries', 'traversing', 'travel', 'transpilers', 'transmit', 'translators', 'translations', 'translate', 'transforms', 'transformations', 'transformation', 'transcribe', 'trainability', 'traffic', 'tracking', 'towards', 'thus', 'three', 'thought', 'those', 'things', 'theories', 'themselves', 'texture', 'textual', 'texttospeech', 'textbooks', 'terms', 'technology', 'technological', 'technique', 'taught', 'target', 'takes', 'tagging', 'symmetrical', 'surpassing', 'supervisory', 'summarization', 'sum', 'successfully', 'substitutions', 'substitution', 'subset', 'subnetworks', 'subnetwork', 'subdomains', 'strong', 'strictly', 'strength', 'stored', 'stimuli', 'step', 'static', 'starting', 'standardised', 'standard', 'stack', 'spectrum', 'specifically', 'special', 'sparsity', 'sparse', 'space', 'sounds', 'sometimes', 'something', 'solution', 'social', 'socalled', 'sl', 'skilled', 'size', 'simply', 'simplify', 'simpler', 'simple', 'similarly', 'significantly', 'signals', 'siann', 'showed', 'should', 'short', 'shivas', 'shift', 'sharedweight', 'share', 'servoing', 'serves', 'sent', 'sensor', 'sense', 'selforganization', 'selfconsistent', 'select', 'segment', 'score', 'scope', 'science', 'scenario', 'scanning', 'scanner', 'scan', 'scale', 'say', 'sample', 'sake', 'review', 'revealed', 'return', 'retrieval', 'retina', 'retaining', 'resulting', 'restoration', 'respond', 'resolve', 'resembles', 'research', 'replacing', 'replaces', 'render', 'remembers', 'relying', 'relationships', 'reinforcement', 'regulate', 'regularized', 'regions', 'refers', 'refer', 'reduced', 'reconstructions', 'reconstruction', 'reconstruct', 'recommender', 'receives', 'reasonable', 'realworld', 'readily', 'read', 'rbms', 'rbm', 'raw', 'rarely', 'rapidlygrowing', 'rapidly', 'randomly', 'quality', 'put', 'psychological', 'psycholinguists', 'provides', 'proved', 'protein', 'proposed', 'property', 'pronunciation', 'prone', 'programs', 'programming', 'programmed', 'program', 'profession', 'production', 'produced', 'processed', 'proceeds', 'procedure', 'problems[2]', 'problems', 'probabilities', 'probabilistically', 'probabilistic', 'prior', 'primitives', 'primarily', 'previous', 'preprocessing', 'prefer', 'predictive', 'predelections', 'potentially', 'potential', 'possibly', 'positional', 'pose', 'portion', 'polynomials', 'points', 'plastic', 'pixel', 'physics', 'physical', 'perspective', 'permitted', 'permits', 'performs', 'performing', 'perceives', 'pavlos', 'partofspeech', 'partitioning', 'particularly', 'partially', 'parsing', 'pairs', 'overlap', 'overfitting', 'organize', 'organizations', 'organization', 'organisms', 'optimized', 'optimize', 'optimization', 'optimal', 'optical', 'opposite', 'older', 'oil', 'observed', 'numerous', 'nuances', 'normalized', 'nonpolynomial', 'no', 'nns', 'nice', 'ngram', 'new', 'neuronal', 'networkâ\\x80\\x9d', 'need', 'name', 'multivariate', 'multidimensional', 'motivated', 'motion', 'modern', 'modeled', 'mobile', 'mining', 'minimized', 'mind', 'mimicry', 'mimic', 'mild', 'might', 'mechanical', 'measured', 'meaningful', 'meaning', 'maximize', 'matrix', 'mathematically', 'material', 'matched', 'markov', 'marching', 'maps', 'mapping', 'manual', 'manipulation', 'machineaided', 'm', 'loss', 'loosely', 'loops', 'location', 'locate', 'living', 'little', 'linguistic', 'lines', 'linear', 'limiting', 'likelihood', 'levels', 'level', 'less', 'legal', 'led', 'leads', 'layered', 'layerbylayer', 'latter', 'latent', 'last', 'larger', 'lags', 'labels', 'labelled', 'labeling', 'knowledge', 'isolation', 'involves', 'involve', 'investigates', 'invariance', 'intrusion', 'intervention', 'intervals', 'interpolation', 'intermediate', 'interfaces', 'interest', 'interdisciplinary', 'interactions', 'intensity', 'intelligent', 'integrated', 'instances', 'inspection', 'insights', 'insensitivity', 'inputoutput', 'informed', 'infers', 'inferred', 'infeasible', 'inexpensive', 'inductive', 'individual', 'indiscriminately', 'indexing', 'independent', 'independence', 'increasing', 'increases', 'incorporates', 'improving', 'improvement', 'improve', 'important', 'implementation', 'imaging', 'imagery', 'idss', 'idioms', 'idea', 'humanreadable', 'huge', 'hope', 'highlevel', 'highdimensional', 'hierarchical', 'heterogeneous', 'hence', 'help', 'handling', 'handle', 'handengineered', 'hand', 'guidance', 'great', 'graphical', 'gradient', 'gpt', 'government', 'good', 'goals', 'goal', 'go', 'gets', 'geometry', 'generated', 'generalize', 'generalization', 'gates', 'gap', 'game', 'gain', 'further', 'functioning', 'fullyconnectedness', 'frequently', 'formulaic', 'former', 'formal', 'forget', 'forced', 'follows', 'focusing', 'focuses', 'fnn', 'flow', 'fish', 'first', 'finetuned', 'financial', 'fewer', 'fast', 'family', 'falls', 'factorization', 'fact', 'facilitates', 'extreme', 'extracted', 'extra', 'expression', 'express', 'exponentially', 'exploratory', 'explicitly', 'explicit', 'expert', 'experiment', 'experience', 'exhibits', 'examination', 'evidence', 'every', 'events', 'event', 'even', 'estimating', 'especially', 'error', 'erroneous', 'equivalent', 'environment', 'english', 'energybased', 'end', 'encountered', 'encoding', 'encoder', 'enabled', 'enable', 'emulate', 'emotionality', 'embossed', 'email', 'elicit', 'either', 'efficiency', 'effective', 'edge', 'early', 'duration', 'due', 'drug', 'domain', 'does', 'divergence', 'distribution', 'distributed', 'distinguish', 'distinction', 'displayed', 'display', 'disentangling', 'disambiguate', 'direct', 'difficult', 'deviate', 'development', 'developed', 'develop', 'determine', 'detectors', 'desired', 'designed', 'design', 'descriptions', 'described', 'describe', 'derived', 'depends', 'densities', 'demonstrated', 'delivers', 'delays', 'deeplearning', 'decreases', 'decompilers', 'deals', 'dbns', 'cyclic', 'customization', 'curves', 'current', 'cubes', 'crosses', 'create', 'crawl', 'counterparts', 'cost', 'cortical', 'cortex', 'correctly', 'convnet', 'conversations', 'conversation', 'conventional', 'convenient', 'controlled', 'control', 'contrastive', 'contrast', 'contextual', 'contents', 'contained', 'construction', 'constructed', 'constitute', 'consist', 'considered', 'considerations', 'considerably', 'considerable', 'consciousness', 'connectionist', 'connectedness', 'conjunction', 'confused', 'conditions', 'concept', 'computing', 'computeraided', 'computationally', 'compositional', 'component', 'comparable', 'compact', 'communication', 'commonly', 'combines', 'color', 'colloquially', 'collectively', 'collection', 'cognitive', 'code', 'cnn', 'clustering', 'closest', 'closely', 'classifying', 'classifier', 'chosen', 'choose', 'choice', 'chatbot', 'characteristic', 'character', 'change', 'chance', 'challenging', 'challenges', 'categorize', 'categories', 'cases', 'car', 'captures', 'capable', 'cannot', 'cameras', 'calculate', 'business', 'broader', 'breeds', 'breed', 'braincomputer', 'bounded', 'boundaries', 'boltzmann', 'board', 'blurbs', 'biologically', 'bioinformatics', 'bidirectional', 'biases', 'bias', 'better', 'bert', 'being', 'behind', 'beginning', 'become', 'because', 'beach', 'basic', 'bag', 'automated', 'assumption', 'associated', 'associate', 'assigns', 'assigning', 'assemble', 'arbitrary', 'approximate', 'appropriate', 'apply', 'anomaly', 'anomalies', 'animals', 'and/or', 'analyzes', 'analytics', 'analogue', 'amounts', 'american', 'ambiguous', 'ambiguity', 'ambiguities', 'always', 'alternatively', 'alternative', 'along', 'alone', 'allowable', 'algorithmically', 'aid', 'agi', 'aggregated', 'aggregate', 'agents', 'agent', 'adjusts', 'adjective', 'adjacent', 'additional', 'acyclic', 'activation', 'actions', 'action', 'act', 'across', 'acronym', 'acquiring', 'acoustic', 'achieving', 'accurately', 'accuracy', 'above', 'about', 'abi', 'abbreviation', '2017', '1']\n",
            "word_index: {'': 0, '[UNK]': 1, 'the': 2, 'of': 3, 'a': 4, 'to': 5, 'and': 6, 'is': 7, 'in': 8, 'learning': 9, 'that': 10, 'as': 11, 'or': 12, 'data': 13, 'can': 14, 'with': 15, 'neural': 16, 'networks': 17, 'be': 18, 'language': 19, 'such': 20, 'an': 21, 'are': 22, 'machine': 23, 'image': 24, 'from': 25, 'for': 26, 'network': 27, 'this': 28, 'model': 29, 'on': 30, 'layers': 31, 'it': 32, 'artificial': 33, 'training': 34, 'deep': 35, 'by': 36, 'also': 37, 'recognition': 38, 'layer': 39, 'computer': 40, 'used': 41, 'natural': 42, 'input': 43, 'have': 44, 'which': 45, 'translation': 46, 'not': 47, 'neurons': 48, 'where': 49, 'process': 50, 'human': 51, 'between': 52, 'words': 53, 'vision': 54, 'supervised': 55, 'speech': 56, 'processing': 57, 'field': 58, 'feature': 59, 'systems': 60, 'recurrent': 61, 'output': 62, 'nlg': 63, 'more': 64, 'its': 65, 'intelligence': 66, 'each': 67, 'understanding': 68, 'tasks': 69, 'signal': 70, 'representation': 71, 'other': 72, 'one': 73, 'labeled': 74, 'known': 75, 'into': 76, 'images': 77, 'different': 78, 'biological': 79, 'algorithms': 80, 'when': 81, 'visual': 82, 'unsupervised': 83, 'they': 84, 'than': 85, 'segmentation': 86, 'produce': 87, 'models': 88, 'lstm': 89, 'information': 90, 'but': 91, 'use': 92, 'through': 93, 'system': 94, 'set': 95, 'sequences': 96, 'semisupervised': 97, 'rnns': 98, 'only': 99, 'multiple': 100, 'methods': 101, 'impulse': 102, 'hidden': 103, 'function': 104, 'features': 105, 'example': 106, 'connected': 107, 'called': 108, 'based': 109, 'algorithm': 110, 'while': 111, 'video': 112, 'units': 113, 'transformer': 114, 'trained': 115, 'time': 116, 'text': 117, 'similar': 118, 'problem': 119, 'probability': 120, 'often': 121, 'memory': 122, 'many': 123, 'include': 124, 'has': 125, 'examples': 126, 'detection': 127, 'connections': 128, 'computers': 129, 'classification': 130, 'applications': 131, 'allows': 132, '3d': 133, 'whereas': 134, 'using': 135, 'unlabeled': 136, 'typically': 137, 'transformers': 138, 'then': 139, 'them': 140, 'supervision': 141, 'study': 142, 'statistical': 143, 'specific': 144, 'sequence': 145, 'representations': 146, 'phrases': 147, 'perform': 148, 'patterns': 149, 'part': 150, 'over': 151, 'nlu': 152, 'needs': 153, 'naturallanguage': 154, 'medical': 155, 'may': 156, 'make': 157, 'long': 158, 'like': 159, 'inputs': 160, 'graph': 161, 'eg': 162, 'documents': 163, 'dnn': 164, 'digital': 165, 'composition': 166, 'complex': 167, 'cnns': 168, 'class': 169, 'applied': 170, 'application': 171, 'another': 172, 'analysis': 173, 'world': 174, 'word': 175, 'without': 176, 'within': 177, 'were': 178, 'was': 179, 'visible': 180, 'usually': 181, 'unlike': 182, 'ul': 183, 'threshold': 184, 'there': 185, 'theory': 186, 'their': 187, 'term': 188, 'temporal': 189, 'take': 190, 'symbolic': 191, 'structured': 192, 'some': 193, 'software': 194, 'shortterm': 195, 'series': 196, 'same': 197, 'referred': 198, 'produces': 199, 'processes': 200, 'predictions': 201, 'practical': 202, 'pixels': 203, 'order': 204, 'object': 205, 'nodes': 206, 'nlp': 207, 'neuron': 208, 'needed': 209, 'multilayer': 210, 'most': 211, 'modeling': 212, 'mathematical': 213, 'makes': 214, 'machines': 215, 'length': 216, 'large': 217, 'languages': 218, 'label': 219, 'inspired': 220, 'infinite': 221, 'if': 222, 'humans': 223, 'how': 224, 'handwriting': 225, 'given': 226, 'generative': 227, 'generate': 228, 'general': 229, 'gated': 230, 'gate': 231, 'forms': 232, 'finite': 233, 'feedforward': 234, 'feedback': 235, 'etc': 236, 'entire': 237, 'easier': 238, 'dynamic': 239, 'do': 240, 'directed': 241, 'decisions': 242, 'dbn': 243, 'convolutional': 244, 'connection': 245, 'concerned': 246, 'compared': 247, 'characteristics': 248, 'certain': 249, 'cell': 250, 'brains': 251, 'brain': 252, 'both': 253, 'been': 254, 'at': 255, 'anns': 256, 'amount': 257, 'all': 258, 'ai': 259, 'after': 260, 'advantage': 261, 'will': 262, 'whole': 263, 'well': 264, 'weights': 265, 'weight': 266, 'viewed': 267, 'various': 268, 'variety': 269, 'value': 270, 'user': 271, 'unsegmented': 272, 'unseen': 273, 'unrolled': 274, 'unigram': 275, 'under': 276, 'unbounded': 277, 'typical': 278, 'two': 279, 'turn': 280, 'traditional': 281, 'times': 282, 'these': 283, 'therefore': 284, 'theoretical': 285, 'tend': 286, 'techniques': 287, 'task': 288, 'tagged': 289, 'synapses': 290, 'subfield': 291, 'structure': 292, 'storage': 293, 'statistics': 294, 'states': 295, 'state': 296, 'sound': 297, 'solving': 298, 'so': 299, 'smaller': 300, 'small': 301, 'situations': 302, 'single': 303, 'since': 304, 'shallow': 305, 'sets': 306, 'sequential': 307, 'sentence': 308, 'segments': 309, 'seen': 310, 'seeks': 311, 'see': 312, 'scientific': 313, 'scene': 314, 'rnn': 315, 'results': 316, 'result': 317, 'restricted': 318, 'respect': 319, 'requires': 320, 'require': 321, 'reports': 322, 'replaced': 323, 'relatively': 324, 'relative': 325, 'related': 326, 'regularization': 327, 'region': 328, 'recognize': 329, 'receptive': 330, 'real': 331, 'pretrained': 332, 'precisely': 333, 'possible': 334, 'performance': 335, 'perceptrons': 336, 'perceptron': 337, 'pattern': 338, 'particular': 339, 'parallelization': 340, 'pair': 341, 'out': 342, 'objects': 343, 'numerical': 344, 'number': 345, 'nonlinear': 346, 'next': 347, 'n': 348, 'much': 349, 'mt': 350, 'ml': 351, 'means': 352, 'mean': 353, 'making': 354, 'major': 355, 'lstms': 356, 'lowest': 357, 'lower': 358, 'linguistics': 359, 'learns': 360, 'learned': 361, 'learn': 362, 'leading': 363, 'kernels': 364, 'invariant': 365, 'introduced': 366, 'internal': 367, 'interactive': 368, 'instance': 369, 'including': 370, 'ideas': 371, 'however': 372, 'generation': 373, 'generally': 374, 'functions': 375, 'fully': 376, 'form': 377, 'filters': 378, 'filtering': 379, 'fields': 380, 'extraction': 381, 'extract': 382, 'expressed': 383, 'exhibit': 384, 'estimation': 385, 'engineering': 386, 'edges': 387, 'during': 388, 'domains': 389, 'dog': 390, 'dnns': 391, 'discover': 392, 'discipline': 393, 'differences': 394, 'dictionary': 395, 'device': 396, 'determining': 397, 'define': 398, 'deal': 399, 'datasets': 400, 'custom': 401, 'cover': 402, 'corpus': 403, 'convolution': 404, 'contours': 405, 'context': 406, 'content': 407, 'consisting': 408, 'connectivity': 409, 'computed': 410, 'computational': 411, 'composed': 412, 'components': 413, 'complexity': 414, 'common': 415, 'classes': 416, 'building': 417, 'build': 418, 'broad': 419, 'belief': 420, 'behavior': 421, 'before': 422, 'automatically': 423, 'automate': 424, 'autoencoders': 425, 'audio': 426, 'attempts': 427, 'architectures': 428, 'architecture': 429, 'approach': 430, 'applicable': 431, 'any': 432, 'ann': 433, 'animal': 434, 'analyzing': 435, 'analyze': 436, 'allow': 437, 'acquisition': 438, 'â\\x80\\x9crecurrent': 439, 'yielded': 440, 'writing': 441, 'wreck': 442, 'work': 443, 'wikipedia': 444, 'width': 445, 'widely': 446, 'wide': 447, 'whether': 448, 'whence': 449, 'wellsuited': 450, 'web': 451, 'weather': 452, 'weak': 453, 'ways': 454, 'way': 455, 'wants': 456, 'vs': 457, 'views': 458, 'videos': 459, 'versions': 460, 'vector': 461, 'varying': 462, 'variation': 463, 'variables': 464, 'variable': 465, 'vanishing': 466, 'values': 467, 'vaguely': 468, 'useful': 469, 'usable': 470, 'untagged': 471, 'unsupervisedin': 472, 'unknown': 473, 'universality': 474, 'universal': 475, 'unit': 476, 'unfeasible': 477, 'undirected': 478, 'understandability': 479, 'understand': 480, 'typology': 481, 'types': 482, 'type': 483, 'trimming': 484, 'tries': 485, 'traversing': 486, 'travel': 487, 'transpilers': 488, 'transmit': 489, 'translators': 490, 'translations': 491, 'translate': 492, 'transforms': 493, 'transformations': 494, 'transformation': 495, 'transcribe': 496, 'trainability': 497, 'traffic': 498, 'tracking': 499, 'towards': 500, 'thus': 501, 'three': 502, 'thought': 503, 'those': 504, 'things': 505, 'theories': 506, 'themselves': 507, 'texture': 508, 'textual': 509, 'texttospeech': 510, 'textbooks': 511, 'terms': 512, 'technology': 513, 'technological': 514, 'technique': 515, 'taught': 516, 'target': 517, 'takes': 518, 'tagging': 519, 'symmetrical': 520, 'surpassing': 521, 'supervisory': 522, 'summarization': 523, 'sum': 524, 'successfully': 525, 'substitutions': 526, 'substitution': 527, 'subset': 528, 'subnetworks': 529, 'subnetwork': 530, 'subdomains': 531, 'strong': 532, 'strictly': 533, 'strength': 534, 'stored': 535, 'stimuli': 536, 'step': 537, 'static': 538, 'starting': 539, 'standardised': 540, 'standard': 541, 'stack': 542, 'spectrum': 543, 'specifically': 544, 'special': 545, 'sparsity': 546, 'sparse': 547, 'space': 548, 'sounds': 549, 'sometimes': 550, 'something': 551, 'solution': 552, 'social': 553, 'socalled': 554, 'sl': 555, 'skilled': 556, 'size': 557, 'simply': 558, 'simplify': 559, 'simpler': 560, 'simple': 561, 'similarly': 562, 'significantly': 563, 'signals': 564, 'siann': 565, 'showed': 566, 'should': 567, 'short': 568, 'shivas': 569, 'shift': 570, 'sharedweight': 571, 'share': 572, 'servoing': 573, 'serves': 574, 'sent': 575, 'sensor': 576, 'sense': 577, 'selforganization': 578, 'selfconsistent': 579, 'select': 580, 'segment': 581, 'score': 582, 'scope': 583, 'science': 584, 'scenario': 585, 'scanning': 586, 'scanner': 587, 'scan': 588, 'scale': 589, 'say': 590, 'sample': 591, 'sake': 592, 'review': 593, 'revealed': 594, 'return': 595, 'retrieval': 596, 'retina': 597, 'retaining': 598, 'resulting': 599, 'restoration': 600, 'respond': 601, 'resolve': 602, 'resembles': 603, 'research': 604, 'replacing': 605, 'replaces': 606, 'render': 607, 'remembers': 608, 'relying': 609, 'relationships': 610, 'reinforcement': 611, 'regulate': 612, 'regularized': 613, 'regions': 614, 'refers': 615, 'refer': 616, 'reduced': 617, 'reconstructions': 618, 'reconstruction': 619, 'reconstruct': 620, 'recommender': 621, 'receives': 622, 'reasonable': 623, 'realworld': 624, 'readily': 625, 'read': 626, 'rbms': 627, 'rbm': 628, 'raw': 629, 'rarely': 630, 'rapidlygrowing': 631, 'rapidly': 632, 'randomly': 633, 'quality': 634, 'put': 635, 'psychological': 636, 'psycholinguists': 637, 'provides': 638, 'proved': 639, 'protein': 640, 'proposed': 641, 'property': 642, 'pronunciation': 643, 'prone': 644, 'programs': 645, 'programming': 646, 'programmed': 647, 'program': 648, 'profession': 649, 'production': 650, 'produced': 651, 'processed': 652, 'proceeds': 653, 'procedure': 654, 'problems[2]': 655, 'problems': 656, 'probabilities': 657, 'probabilistically': 658, 'probabilistic': 659, 'prior': 660, 'primitives': 661, 'primarily': 662, 'previous': 663, 'preprocessing': 664, 'prefer': 665, 'predictive': 666, 'predelections': 667, 'potentially': 668, 'potential': 669, 'possibly': 670, 'positional': 671, 'pose': 672, 'portion': 673, 'polynomials': 674, 'points': 675, 'plastic': 676, 'pixel': 677, 'physics': 678, 'physical': 679, 'perspective': 680, 'permitted': 681, 'permits': 682, 'performs': 683, 'performing': 684, 'perceives': 685, 'pavlos': 686, 'partofspeech': 687, 'partitioning': 688, 'particularly': 689, 'partially': 690, 'parsing': 691, 'pairs': 692, 'overlap': 693, 'overfitting': 694, 'organize': 695, 'organizations': 696, 'organization': 697, 'organisms': 698, 'optimized': 699, 'optimize': 700, 'optimization': 701, 'optimal': 702, 'optical': 703, 'opposite': 704, 'older': 705, 'oil': 706, 'observed': 707, 'numerous': 708, 'nuances': 709, 'normalized': 710, 'nonpolynomial': 711, 'no': 712, 'nns': 713, 'nice': 714, 'ngram': 715, 'new': 716, 'neuronal': 717, 'networkâ\\x80\\x9d': 718, 'need': 719, 'name': 720, 'multivariate': 721, 'multidimensional': 722, 'motivated': 723, 'motion': 724, 'modern': 725, 'modeled': 726, 'mobile': 727, 'mining': 728, 'minimized': 729, 'mind': 730, 'mimicry': 731, 'mimic': 732, 'mild': 733, 'might': 734, 'mechanical': 735, 'measured': 736, 'meaningful': 737, 'meaning': 738, 'maximize': 739, 'matrix': 740, 'mathematically': 741, 'material': 742, 'matched': 743, 'markov': 744, 'marching': 745, 'maps': 746, 'mapping': 747, 'manual': 748, 'manipulation': 749, 'machineaided': 750, 'm': 751, 'loss': 752, 'loosely': 753, 'loops': 754, 'location': 755, 'locate': 756, 'living': 757, 'little': 758, 'linguistic': 759, 'lines': 760, 'linear': 761, 'limiting': 762, 'likelihood': 763, 'levels': 764, 'level': 765, 'less': 766, 'legal': 767, 'led': 768, 'leads': 769, 'layered': 770, 'layerbylayer': 771, 'latter': 772, 'latent': 773, 'last': 774, 'larger': 775, 'lags': 776, 'labels': 777, 'labelled': 778, 'labeling': 779, 'knowledge': 780, 'isolation': 781, 'involves': 782, 'involve': 783, 'investigates': 784, 'invariance': 785, 'intrusion': 786, 'intervention': 787, 'intervals': 788, 'interpolation': 789, 'intermediate': 790, 'interfaces': 791, 'interest': 792, 'interdisciplinary': 793, 'interactions': 794, 'intensity': 795, 'intelligent': 796, 'integrated': 797, 'instances': 798, 'inspection': 799, 'insights': 800, 'insensitivity': 801, 'inputoutput': 802, 'informed': 803, 'infers': 804, 'inferred': 805, 'infeasible': 806, 'inexpensive': 807, 'inductive': 808, 'individual': 809, 'indiscriminately': 810, 'indexing': 811, 'independent': 812, 'independence': 813, 'increasing': 814, 'increases': 815, 'incorporates': 816, 'improving': 817, 'improvement': 818, 'improve': 819, 'important': 820, 'implementation': 821, 'imaging': 822, 'imagery': 823, 'idss': 824, 'idioms': 825, 'idea': 826, 'humanreadable': 827, 'huge': 828, 'hope': 829, 'highlevel': 830, 'highdimensional': 831, 'hierarchical': 832, 'heterogeneous': 833, 'hence': 834, 'help': 835, 'handling': 836, 'handle': 837, 'handengineered': 838, 'hand': 839, 'guidance': 840, 'great': 841, 'graphical': 842, 'gradient': 843, 'gpt': 844, 'government': 845, 'good': 846, 'goals': 847, 'goal': 848, 'go': 849, 'gets': 850, 'geometry': 851, 'generated': 852, 'generalize': 853, 'generalization': 854, 'gates': 855, 'gap': 856, 'game': 857, 'gain': 858, 'further': 859, 'functioning': 860, 'fullyconnectedness': 861, 'frequently': 862, 'formulaic': 863, 'former': 864, 'formal': 865, 'forget': 866, 'forced': 867, 'follows': 868, 'focusing': 869, 'focuses': 870, 'fnn': 871, 'flow': 872, 'fish': 873, 'first': 874, 'finetuned': 875, 'financial': 876, 'fewer': 877, 'fast': 878, 'family': 879, 'falls': 880, 'factorization': 881, 'fact': 882, 'facilitates': 883, 'extreme': 884, 'extracted': 885, 'extra': 886, 'expression': 887, 'express': 888, 'exponentially': 889, 'exploratory': 890, 'explicitly': 891, 'explicit': 892, 'expert': 893, 'experiment': 894, 'experience': 895, 'exhibits': 896, 'examination': 897, 'evidence': 898, 'every': 899, 'events': 900, 'event': 901, 'even': 902, 'estimating': 903, 'especially': 904, 'error': 905, 'erroneous': 906, 'equivalent': 907, 'environment': 908, 'english': 909, 'energybased': 910, 'end': 911, 'encountered': 912, 'encoding': 913, 'encoder': 914, 'enabled': 915, 'enable': 916, 'emulate': 917, 'emotionality': 918, 'embossed': 919, 'email': 920, 'elicit': 921, 'either': 922, 'efficiency': 923, 'effective': 924, 'edge': 925, 'early': 926, 'duration': 927, 'due': 928, 'drug': 929, 'domain': 930, 'does': 931, 'divergence': 932, 'distribution': 933, 'distributed': 934, 'distinguish': 935, 'distinction': 936, 'displayed': 937, 'display': 938, 'disentangling': 939, 'disambiguate': 940, 'direct': 941, 'difficult': 942, 'deviate': 943, 'development': 944, 'developed': 945, 'develop': 946, 'determine': 947, 'detectors': 948, 'desired': 949, 'designed': 950, 'design': 951, 'descriptions': 952, 'described': 953, 'describe': 954, 'derived': 955, 'depends': 956, 'densities': 957, 'demonstrated': 958, 'delivers': 959, 'delays': 960, 'deeplearning': 961, 'decreases': 962, 'decompilers': 963, 'deals': 964, 'dbns': 965, 'cyclic': 966, 'customization': 967, 'curves': 968, 'current': 969, 'cubes': 970, 'crosses': 971, 'create': 972, 'crawl': 973, 'counterparts': 974, 'cost': 975, 'cortical': 976, 'cortex': 977, 'correctly': 978, 'convnet': 979, 'conversations': 980, 'conversation': 981, 'conventional': 982, 'convenient': 983, 'controlled': 984, 'control': 985, 'contrastive': 986, 'contrast': 987, 'contextual': 988, 'contents': 989, 'contained': 990, 'construction': 991, 'constructed': 992, 'constitute': 993, 'consist': 994, 'considered': 995, 'considerations': 996, 'considerably': 997, 'considerable': 998, 'consciousness': 999, 'connectionist': 1000, 'connectedness': 1001, 'conjunction': 1002, 'confused': 1003, 'conditions': 1004, 'concept': 1005, 'computing': 1006, 'computeraided': 1007, 'computationally': 1008, 'compositional': 1009, 'component': 1010, 'comparable': 1011, 'compact': 1012, 'communication': 1013, 'commonly': 1014, 'combines': 1015, 'color': 1016, 'colloquially': 1017, 'collectively': 1018, 'collection': 1019, 'cognitive': 1020, 'code': 1021, 'cnn': 1022, 'clustering': 1023, 'closest': 1024, 'closely': 1025, 'classifying': 1026, 'classifier': 1027, 'chosen': 1028, 'choose': 1029, 'choice': 1030, 'chatbot': 1031, 'characteristic': 1032, 'character': 1033, 'change': 1034, 'chance': 1035, 'challenging': 1036, 'challenges': 1037, 'categorize': 1038, 'categories': 1039, 'cases': 1040, 'car': 1041, 'captures': 1042, 'capable': 1043, 'cannot': 1044, 'cameras': 1045, 'calculate': 1046, 'business': 1047, 'broader': 1048, 'breeds': 1049, 'breed': 1050, 'braincomputer': 1051, 'bounded': 1052, 'boundaries': 1053, 'boltzmann': 1054, 'board': 1055, 'blurbs': 1056, 'biologically': 1057, 'bioinformatics': 1058, 'bidirectional': 1059, 'biases': 1060, 'bias': 1061, 'better': 1062, 'bert': 1063, 'being': 1064, 'behind': 1065, 'beginning': 1066, 'become': 1067, 'because': 1068, 'beach': 1069, 'basic': 1070, 'bag': 1071, 'automated': 1072, 'assumption': 1073, 'associated': 1074, 'associate': 1075, 'assigns': 1076, 'assigning': 1077, 'assemble': 1078, 'arbitrary': 1079, 'approximate': 1080, 'appropriate': 1081, 'apply': 1082, 'anomaly': 1083, 'anomalies': 1084, 'animals': 1085, 'and/or': 1086, 'analyzes': 1087, 'analytics': 1088, 'analogue': 1089, 'amounts': 1090, 'american': 1091, 'ambiguous': 1092, 'ambiguity': 1093, 'ambiguities': 1094, 'always': 1095, 'alternatively': 1096, 'alternative': 1097, 'along': 1098, 'alone': 1099, 'allowable': 1100, 'algorithmically': 1101, 'aid': 1102, 'agi': 1103, 'aggregated': 1104, 'aggregate': 1105, 'agents': 1106, 'agent': 1107, 'adjusts': 1108, 'adjective': 1109, 'adjacent': 1110, 'additional': 1111, 'acyclic': 1112, 'activation': 1113, 'actions': 1114, 'action': 1115, 'act': 1116, 'across': 1117, 'acronym': 1118, 'acquiring': 1119, 'acoustic': 1120, 'achieving': 1121, 'accurately': 1122, 'accuracy': 1123, 'above': 1124, 'about': 1125, 'abi': 1126, 'abbreviation': 1127, '2017': 1128, '1': 1129}\n"
          ]
        }
      ]
    },
    {
      "cell_type": "code",
      "metadata": {
        "id": "TNNjXuOgNUxo",
        "colab": {
          "base_uri": "https://localhost:8080/"
        },
        "outputId": "f99b2113-33a4-40d2-e2d5-01e3908c5efc"
      },
      "source": [
        "# Convert input text to tokens\n",
        "all_data_tokens = text_vectorizer(sentences)\n",
        "print(\"Input text:\\n\")\n",
        "print(sentences[0])\n",
        "print(sentences[1])\n",
        "print(sentences[3])\n",
        "print(\"all_data_tokens shape:\",all_data_tokens.shape)\n",
        "print(\"Tokenized text:\", all_data_tokens[:5,:20])"
      ],
      "execution_count": null,
      "outputs": [
        {
          "output_type": "stream",
          "name": "stdout",
          "text": [
            "Input text:\n",
            "\n",
            "Deep learning also known as deep structured learning is part of a broader family of machine learning methods based on artificial neural networks with representation learning.\n",
            "Learning can be supervised, semi-supervised or unsupervised.\n",
            "Artificial neural networks (ANNs) were inspired by information processing and distributed communication nodes in biological systems.\n",
            "all_data_tokens shape: (183, 66)\n",
            "Tokenized text: tf.Tensor(\n",
            "[[  35    9   37   75   11   35  192    9    7  150    3    4 1048  879\n",
            "     3   23    9  101  109   30]\n",
            " [   9   14   18   55   97   12   83    0    0    0    0    0    0    0\n",
            "     0    0    0    0    0    0]\n",
            " [ 961  428   20   11   35   16   17   35  420   17   61   16   17    6\n",
            "   244   16   17   44  254  170]\n",
            " [  33   16   17  256  178  220   36   90   57    6  934 1013  206    8\n",
            "    79   60    0    0    0    0]\n",
            " [ 256   44  268  394   25   79  251    0    0    0    0    0    0    0\n",
            "     0    0    0    0    0    0]], shape=(5, 20), dtype=int64)\n"
          ]
        }
      ]
    },
    {
      "cell_type": "markdown",
      "source": [
        "#### **Create TF Datasets**\n",
        "\n",
        "For simplicity we will create our dataset as sequence to sequence where the input sequence is equal to the output sequence. In reallity you would mask words. For this tutorial this approach should work"
      ],
      "metadata": {
        "id": "H26Qh3Lv_SBM"
      }
    },
    {
      "cell_type": "code",
      "source": [
        "BATCH_SIZE = 64\n",
        "TRAIN_SHUFFLE_BUFFER_SIZE = all_data_tokens.shape[0]\n",
        "\n",
        "# Create TF Dataset\n",
        "train_data = tf.data.Dataset.from_tensor_slices((all_data_tokens, all_data_tokens))\n",
        "\n",
        "#############\n",
        "# Train data\n",
        "#############\n",
        "train_data = train_data.shuffle(buffer_size=TRAIN_SHUFFLE_BUFFER_SIZE)\n",
        "train_data = train_data.batch(BATCH_SIZE)\n",
        "train_data = train_data.prefetch(buffer_size=AUTOTUNE)\n",
        "train_data = train_data.cache()\n",
        "\n",
        "print(\"train_data\",train_data)"
      ],
      "metadata": {
        "id": "QlbVdNVy_S3f",
        "colab": {
          "base_uri": "https://localhost:8080/"
        },
        "outputId": "f9764fe9-442f-4aba-fed2-8b5486ca000c"
      },
      "execution_count": null,
      "outputs": [
        {
          "output_type": "stream",
          "name": "stdout",
          "text": [
            "train_data <CacheDataset element_spec=(TensorSpec(shape=(None, 66), dtype=tf.int64, name=None), TensorSpec(shape=(None, 66), dtype=tf.int64, name=None))>\n"
          ]
        }
      ]
    },
    {
      "cell_type": "markdown",
      "source": [
        "## **Build Language Model**"
      ],
      "metadata": {
        "id": "xt9aQjjAAI9J"
      }
    },
    {
      "cell_type": "markdown",
      "source": [
        "We need to build a model that can take in a sentence as input and output the context embedding of the sentence as shown:\n",
        "<br/>\n",
        "**Sentence -> Tokens -> Embeddings -> MultiHead Attention -> Context Embedding**"
      ],
      "metadata": {
        "id": "A1j0CcmnAVRu"
      }
    },
    {
      "cell_type": "markdown",
      "source": [
        "### **Encoder Layer**\n",
        "\n",
        "First we will build an encoder layer based on the following architecture\n",
        "\n",
        "<img src=\"https://storage.googleapis.com/public_colab_images/nlp/transformer_layer.png\" width=\"800px\"/>"
      ],
      "metadata": {
        "id": "H7oRNiNBAfmc"
      }
    },
    {
      "cell_type": "code",
      "source": [
        "class EncoderLayer(tf.keras.layers.Layer):\n",
        "    def __init__(self, embed_dim, dense_dim, num_heads):\n",
        "        super().__init__()\n",
        "        # Layer parameters\n",
        "        self.embed_dim = embed_dim\n",
        "        self.dense_dim = dense_dim\n",
        "        self.num_heads = num_heads\n",
        "\n",
        "        # MultiHeadAttention Layer - Self Attention\n",
        "        self.attention = tf.keras.layers.MultiHeadAttention(num_heads=num_heads, key_dim=embed_dim)\n",
        "        # Normalization Layer\n",
        "        self.attention_norm = tf.keras.layers.LayerNormalization(epsilon=1e-6)\n",
        "\n",
        "        # Dense projection\n",
        "        self.dense_proj = tf.keras.Sequential(\n",
        "            [tf.keras.layers.Dense(units=dense_dim, activation=\"relu\"),\n",
        "             tf.keras.layers.Dense(units=embed_dim)]\n",
        "        )\n",
        "        # Normalization Layer\n",
        "        self.dense_projection_norm = tf.keras.layers.LayerNormalization(epsilon=1e-6)\n",
        "\n",
        "    def call(self, inputs):\n",
        "\n",
        "        # Compute Self Attention\n",
        "        self_attention = self.attention(query=inputs, value=inputs, key=inputs)\n",
        "        # Apply Normalization + Residual connection\n",
        "        self_attention = self.attention_norm(inputs + self_attention)\n",
        "\n",
        "        # Apply projection\n",
        "        layer_output = self.dense_proj(self_attention)\n",
        "        # Apply Normalization + Residual connection\n",
        "        layer_output = self.dense_projection_norm(self_attention + layer_output)\n",
        "\n",
        "        return layer_output"
      ],
      "metadata": {
        "id": "4dAWhI60AiL8"
      },
      "execution_count": null,
      "outputs": []
    },
    {
      "cell_type": "markdown",
      "source": [
        "Define some the training parameters"
      ],
      "metadata": {
        "id": "OeeCLyysoaKT"
      }
    },
    {
      "cell_type": "code",
      "source": [
        "############################\n",
        "# Training Params\n",
        "############################\n",
        "epochs = 25\n",
        "learning_rate = 0.001\n",
        "embedding_dim = 256\n",
        "num_layers = 2\n",
        "num_heads = 8\n",
        "ff_dim = 256"
      ],
      "metadata": {
        "id": "Kxdgjz8oAqrF"
      },
      "execution_count": null,
      "outputs": []
    },
    {
      "cell_type": "markdown",
      "source": [
        "### **Build/Train Model**"
      ],
      "metadata": {
        "id": "JcphFWONA60h"
      }
    },
    {
      "cell_type": "markdown",
      "source": [
        "We now will build the language model using \"n\" Encoder layers. First we will build a model for training where the output will be a dense layer with number of units = vocabulary size and softmax activation. This will help train the lanaguage model predict the tokens. We will then create a inference model where given an input token sequence the output will be the last encoder layer output (the context embedding)\n",
        "\n",
        "\n",
        "<img src=\"https://storage.googleapis.com/public_colab_images/nlp/transformer_simple_lm.png\" width=\"800px\"/>"
      ],
      "metadata": {
        "id": "M1lfF5m3omBD"
      }
    },
    {
      "cell_type": "code",
      "source": [
        "# Free up memory\n",
        "K.clear_session()\n",
        "\n",
        "# Model input\n",
        "model_input = tf.keras.Input(shape=(sequence_length), dtype=tf.int64)\n",
        "\n",
        "embeddings = tf.keras.layers.Embedding(input_dim=vocabulary_size, output_dim=embedding_dim)(model_input)\n",
        "\n",
        "# Repeat the output to \"n\" number of layers\n",
        "encoder_output = embeddings\n",
        "for i in range(num_layers):\n",
        "    encoder_output = EncoderLayer(embed_dim=embedding_dim, dense_dim=ff_dim, num_heads=num_heads)(encoder_output)\n",
        "\n",
        "# Output Layer\n",
        "output = tf.keras.layers.Dense(units=vocabulary_size, activation=\"softmax\")(encoder_output)\n",
        "\n",
        "# Create Model\n",
        "model_1 = tf.keras.Model(inputs=[model_input], outputs=[output], name=\"unmasked_naiveattention_model\")\n",
        "\n",
        "# Print the model architecture\n",
        "print(model_1.summary())\n",
        "\n",
        "# Optimizer\n",
        "optimizer = tf.keras.optimizers.Adam(learning_rate=learning_rate)\n",
        "# Loss\n",
        "loss = tf.keras.losses.sparse_categorical_crossentropy\n",
        "\n",
        "# Compile\n",
        "model_1.compile(optimizer=optimizer, loss=loss)\n",
        "\n",
        "# Train model\n",
        "start_time = time.time()\n",
        "training_results = model_1.fit(\n",
        "        train_data,\n",
        "        epochs=epochs,\n",
        "        verbose=1)\n",
        "execution_time = (time.time() - start_time)/60.0\n",
        "print(\"Training execution time (mins)\",execution_time)"
      ],
      "metadata": {
        "id": "9qpPuqJIA9ub",
        "colab": {
          "base_uri": "https://localhost:8080/"
        },
        "outputId": "e3f204f0-52b6-4a1e-a4fc-40d748dad981"
      },
      "execution_count": null,
      "outputs": [
        {
          "output_type": "stream",
          "name": "stdout",
          "text": [
            "Model: \"unmasked_naiveattention_model\"\n",
            "_________________________________________________________________\n",
            " Layer (type)                Output Shape              Param #   \n",
            "=================================================================\n",
            " input_1 (InputLayer)        [(None, 66)]              0         \n",
            "                                                                 \n",
            " embedding (Embedding)       (None, 66, 256)           289280    \n",
            "                                                                 \n",
            " encoder_layer (EncoderLayer  (None, 66, 256)          2236160   \n",
            " )                                                               \n",
            "                                                                 \n",
            " encoder_layer_1 (EncoderLay  (None, 66, 256)          2236160   \n",
            " er)                                                             \n",
            "                                                                 \n",
            " dense_4 (Dense)             (None, 66, 1130)          290410    \n",
            "                                                                 \n",
            "=================================================================\n",
            "Total params: 5,052,010\n",
            "Trainable params: 5,052,010\n",
            "Non-trainable params: 0\n",
            "_________________________________________________________________\n",
            "None\n",
            "Epoch 1/25\n",
            "3/3 [==============================] - 4s 77ms/step - loss: 4.2825\n",
            "Epoch 2/25\n",
            "3/3 [==============================] - 0s 66ms/step - loss: 2.2317\n",
            "Epoch 3/25\n",
            "3/3 [==============================] - 0s 64ms/step - loss: 1.8422\n",
            "Epoch 4/25\n",
            "3/3 [==============================] - 0s 67ms/step - loss: 1.5744\n",
            "Epoch 5/25\n",
            "3/3 [==============================] - 0s 66ms/step - loss: 1.2051\n",
            "Epoch 6/25\n",
            "3/3 [==============================] - 0s 65ms/step - loss: 0.9001\n",
            "Epoch 7/25\n",
            "3/3 [==============================] - 0s 68ms/step - loss: 0.6927\n",
            "Epoch 8/25\n",
            "3/3 [==============================] - 0s 66ms/step - loss: 0.5319\n",
            "Epoch 9/25\n",
            "3/3 [==============================] - 0s 65ms/step - loss: 0.4047\n",
            "Epoch 10/25\n",
            "3/3 [==============================] - 0s 67ms/step - loss: 0.3057\n",
            "Epoch 11/25\n",
            "3/3 [==============================] - 0s 66ms/step - loss: 0.2307\n",
            "Epoch 12/25\n",
            "3/3 [==============================] - 0s 67ms/step - loss: 0.1731\n",
            "Epoch 13/25\n",
            "3/3 [==============================] - 0s 67ms/step - loss: 0.1302\n",
            "Epoch 14/25\n",
            "3/3 [==============================] - 0s 66ms/step - loss: 0.0979\n",
            "Epoch 15/25\n",
            "3/3 [==============================] - 0s 66ms/step - loss: 0.0741\n",
            "Epoch 16/25\n",
            "3/3 [==============================] - 0s 68ms/step - loss: 0.0567\n",
            "Epoch 17/25\n",
            "3/3 [==============================] - 0s 66ms/step - loss: 0.0441\n",
            "Epoch 18/25\n",
            "3/3 [==============================] - 0s 67ms/step - loss: 0.0350\n",
            "Epoch 19/25\n",
            "3/3 [==============================] - 0s 66ms/step - loss: 0.0286\n",
            "Epoch 20/25\n",
            "3/3 [==============================] - 0s 66ms/step - loss: 0.0238\n",
            "Epoch 21/25\n",
            "3/3 [==============================] - 0s 66ms/step - loss: 0.0203\n",
            "Epoch 22/25\n",
            "3/3 [==============================] - 0s 66ms/step - loss: 0.0176\n",
            "Epoch 23/25\n",
            "3/3 [==============================] - 0s 68ms/step - loss: 0.0156\n",
            "Epoch 24/25\n",
            "3/3 [==============================] - 0s 66ms/step - loss: 0.0140\n",
            "Epoch 25/25\n",
            "3/3 [==============================] - 0s 67ms/step - loss: 0.0128\n",
            "Training execution time (mins) 0.1736565669377645\n"
          ]
        }
      ]
    },
    {
      "cell_type": "markdown",
      "source": [
        "### **Evaluation Model**"
      ],
      "metadata": {
        "id": "kSLTI5WUCQqt"
      }
    },
    {
      "cell_type": "code",
      "source": [
        "# Build a model to output the encoder contexts\n",
        "model_context_1 = tf.keras.Model(inputs=[model_input], outputs=[encoder_output])\n",
        "\n",
        "print(model_context_1.summary())"
      ],
      "metadata": {
        "id": "FxIfuSysCU-p",
        "colab": {
          "base_uri": "https://localhost:8080/"
        },
        "outputId": "6ce38475-4224-481f-f901-7ff04c1f5e64"
      },
      "execution_count": null,
      "outputs": [
        {
          "output_type": "stream",
          "name": "stdout",
          "text": [
            "Model: \"model\"\n",
            "_________________________________________________________________\n",
            " Layer (type)                Output Shape              Param #   \n",
            "=================================================================\n",
            " input_1 (InputLayer)        [(None, 66)]              0         \n",
            "                                                                 \n",
            " embedding (Embedding)       (None, 66, 256)           289280    \n",
            "                                                                 \n",
            " encoder_layer (EncoderLayer  (None, 66, 256)          2236160   \n",
            " )                                                               \n",
            "                                                                 \n",
            " encoder_layer_1 (EncoderLay  (None, 66, 256)          2236160   \n",
            " er)                                                             \n",
            "                                                                 \n",
            "=================================================================\n",
            "Total params: 4,761,600\n",
            "Trainable params: 4,761,600\n",
            "Non-trainable params: 0\n",
            "_________________________________________________________________\n",
            "None\n"
          ]
        }
      ]
    },
    {
      "cell_type": "code",
      "source": [
        "sample1 = \"pavlos taught positional encoding to shivas\"\n",
        "sample_tokens1 = text_vectorizer([sample1])\n",
        "sample_tokens1 = sample_tokens1.numpy()\n",
        "print(sample_tokens1)\n",
        "\n",
        "sample2 = \"shivas taught positional encoding to pavlos\"\n",
        "sample_tokens2 = text_vectorizer([sample2])\n",
        "sample_tokens2 = sample_tokens2.numpy()\n",
        "print(sample_tokens2)"
      ],
      "metadata": {
        "id": "vuzigufiCkXK",
        "colab": {
          "base_uri": "https://localhost:8080/"
        },
        "outputId": "51c2a251-2895-45d7-94b4-a2dbc2fb5c1c"
      },
      "execution_count": null,
      "outputs": [
        {
          "output_type": "stream",
          "name": "stdout",
          "text": [
            "[[686 516 671 913   5 569   0   0   0   0   0   0   0   0   0   0   0   0\n",
            "    0   0   0   0   0   0   0   0   0   0   0   0   0   0   0   0   0   0\n",
            "    0   0   0   0   0   0   0   0   0   0   0   0   0   0   0   0   0   0\n",
            "    0   0   0   0   0   0   0   0   0   0   0   0]]\n",
            "[[569 516 671 913   5 686   0   0   0   0   0   0   0   0   0   0   0   0\n",
            "    0   0   0   0   0   0   0   0   0   0   0   0   0   0   0   0   0   0\n",
            "    0   0   0   0   0   0   0   0   0   0   0   0   0   0   0   0   0   0\n",
            "    0   0   0   0   0   0   0   0   0   0   0   0]]\n"
          ]
        }
      ]
    },
    {
      "cell_type": "code",
      "source": [
        "# Make a prediction on model to get context output\n",
        "encoder_output1 = model_context_1.predict(sample_tokens1)\n",
        "print(\"encoder_output shape:\",encoder_output1.shape)\n",
        "\n",
        "# Make a prediction on model to get context output\n",
        "encoder_output2 = model_context_1.predict(sample_tokens2)\n",
        "print(\"encoder_output shape:\",encoder_output2.shape)"
      ],
      "metadata": {
        "id": "iCC1UxhQC1Pk",
        "colab": {
          "base_uri": "https://localhost:8080/"
        },
        "outputId": "7fae1e31-7b14-4743-d49f-48ea44560541"
      },
      "execution_count": null,
      "outputs": [
        {
          "output_type": "stream",
          "name": "stdout",
          "text": [
            "1/1 [==============================] - 0s 245ms/step\n",
            "encoder_output shape: (1, 66, 256)\n",
            "1/1 [==============================] - 0s 17ms/step\n",
            "encoder_output shape: (1, 66, 256)\n"
          ]
        }
      ]
    },
    {
      "cell_type": "markdown",
      "source": [
        "### **Analyze Context Embeddings**"
      ],
      "metadata": {
        "id": "DuBZGGOhDMdZ"
      }
    },
    {
      "cell_type": "code",
      "source": [
        "print(sample1)\n",
        "print(sample2)\n",
        "# Get the valid word ignoring padding\n",
        "num_valid_words = 6\n",
        "contextual_embedding_1 = encoder_output1[0,:num_valid_words,:]\n",
        "contextual_embedding_2 = encoder_output2[0,:num_valid_words,:]\n",
        "print(\"contextual_embedding_1\",contextual_embedding_1.shape)\n",
        "print(\"contextual_embedding_2\",contextual_embedding_2.shape)\n",
        "\n",
        "# Reduce dimension using PCA\n",
        "pca = PCA(n_components=2, random_state=2233)\n",
        "component1 = pca.fit_transform(contextual_embedding_1.tolist())\n",
        "pca = PCA(n_components=2, random_state=2233)\n",
        "component2 = pca.fit_transform(contextual_embedding_2.tolist())\n",
        "print(\"component1\",component1.shape)\n",
        "print(\"component2\",component2.shape)"
      ],
      "metadata": {
        "id": "-meVTsN2DWmi",
        "colab": {
          "base_uri": "https://localhost:8080/"
        },
        "outputId": "0e1cb283-4780-4c84-f214-ebc5e8abf490"
      },
      "execution_count": null,
      "outputs": [
        {
          "output_type": "stream",
          "name": "stdout",
          "text": [
            "pavlos taught positional encoding to shivas\n",
            "shivas taught positional encoding to pavlos\n",
            "contextual_embedding_1 (6, 256)\n",
            "contextual_embedding_2 (6, 256)\n",
            "component1 (6, 2)\n",
            "component2 (6, 2)\n"
          ]
        }
      ]
    },
    {
      "cell_type": "code",
      "source": [
        "def plot_component(axs, component, sample_text, title):\n",
        "  #axs.plot(component[:,0], component[:,1], marker='ob', markerfacecolor='lightblue')\n",
        "  axs.scatter(component[:,0], component[:,1], marker = 'o', )\n",
        "  for i, txt in enumerate(sample_text.split(\" \")):\n",
        "    axs.annotate(txt, (component[i,0], component[i,1]),  size=12,   color='green')\n",
        "  axs.set_title(title )"
      ],
      "metadata": {
        "id": "sDzP0VD5tnMS"
      },
      "execution_count": null,
      "outputs": []
    },
    {
      "cell_type": "code",
      "source": [
        "# Visualize the contextualizied embeddings\n",
        "\n",
        "# Plot\n",
        "fig = plt.figure(figsize=(20,7))\n",
        "\n",
        "axs = fig.add_subplot(1,2,1)\n",
        "plot_component(axs, component1, sample1, sample1)\n",
        "\n",
        "axs = fig.add_subplot(1,2,2)\n",
        "plot_component(axs, component2, sample2, sample2)\n",
        "\n",
        "plt.show()"
      ],
      "metadata": {
        "id": "1H4BgfXzD4Sr",
        "colab": {
          "base_uri": "https://localhost:8080/",
          "height": 413
        },
        "outputId": "11c2620d-a33e-4ef0-98de-6a7110226bc1"
      },
      "execution_count": null,
      "outputs": [
        {
          "output_type": "display_data",
          "data": {
            "text/plain": [
              "<Figure size 1440x504 with 2 Axes>"
            ],
            "image/png": "[encoded data removed]"
          },
          "metadata": {
            "needs_background": "light"
          }
        }
      ]
    },
    {
      "cell_type": "markdown",
      "source": [
        "Lets jumble the words and see how the contextual embeddings look"
      ],
      "metadata": {
        "id": "ZLUfsfrWEOQS"
      }
    },
    {
      "cell_type": "code",
      "source": [
        "sample3 = \"taught to positional shivas pavlos encoding\"\n",
        "sample_tokens3 = text_vectorizer([sample3])\n",
        "sample_tokens3 = sample_tokens3.numpy()\n",
        "print(sample_tokens3)\n",
        "\n",
        "sample4 = \"positional pavlos encoding shivas taught to\"\n",
        "sample_tokens4 = text_vectorizer([sample4])\n",
        "sample_tokens4 = sample_tokens4.numpy()\n",
        "print(sample_tokens4)"
      ],
      "metadata": {
        "id": "9JCLRKGGEUZK",
        "colab": {
          "base_uri": "https://localhost:8080/"
        },
        "outputId": "059af6a7-60b9-4364-bb5f-62e2c056005d"
      },
      "execution_count": null,
      "outputs": [
        {
          "output_type": "stream",
          "name": "stdout",
          "text": [
            "[[516   5 671 569 686 913   0   0   0   0   0   0   0   0   0   0   0   0\n",
            "    0   0   0   0   0   0   0   0   0   0   0   0   0   0   0   0   0   0\n",
            "    0   0   0   0   0   0   0   0   0   0   0   0   0   0   0   0   0   0\n",
            "    0   0   0   0   0   0   0   0   0   0   0   0]]\n",
            "[[671 686 913 569 516   5   0   0   0   0   0   0   0   0   0   0   0   0\n",
            "    0   0   0   0   0   0   0   0   0   0   0   0   0   0   0   0   0   0\n",
            "    0   0   0   0   0   0   0   0   0   0   0   0   0   0   0   0   0   0\n",
            "    0   0   0   0   0   0   0   0   0   0   0   0]]\n"
          ]
        }
      ]
    },
    {
      "cell_type": "code",
      "source": [
        "# Make a prediction on model to get context output\n",
        "encoder_output3 = model_context_1.predict(sample_tokens3)\n",
        "print(\"encoder_output shape:\",encoder_output3.shape)\n",
        "\n",
        "# Make a prediction on model to get context output\n",
        "encoder_output4 = model_context_1.predict(sample_tokens4)\n",
        "print(\"encoder_output shape:\",encoder_output4.shape)"
      ],
      "metadata": {
        "id": "P2byR1HQFcDU",
        "colab": {
          "base_uri": "https://localhost:8080/"
        },
        "outputId": "5102a09e-12ce-449c-8145-7999f091c78a"
      },
      "execution_count": null,
      "outputs": [
        {
          "output_type": "stream",
          "name": "stdout",
          "text": [
            "1/1 [==============================] - 0s 39ms/step\n",
            "encoder_output shape: (1, 66, 256)\n",
            "1/1 [==============================] - 0s 16ms/step\n",
            "encoder_output shape: (1, 66, 256)\n"
          ]
        }
      ]
    },
    {
      "cell_type": "code",
      "source": [
        "print(sample3)\n",
        "print(sample4)\n",
        "# Get the valid word ignoring padding\n",
        "num_valid_words = 6\n",
        "contextual_embedding_3 = encoder_output3[0,:num_valid_words,:]\n",
        "contextual_embedding_4 = encoder_output4[0,:num_valid_words,:]\n",
        "print(\"contextual_embedding_3\",contextual_embedding_3.shape)\n",
        "print(\"contextual_embedding_4\",contextual_embedding_4.shape)\n",
        "\n",
        "# Reduce dimension using PCA\n",
        "pca = PCA(n_components=2, random_state=2233)\n",
        "component3 = pca.fit_transform(contextual_embedding_3.tolist())\n",
        "pca = PCA(n_components=2, random_state=2233)\n",
        "component4 = pca.fit_transform(contextual_embedding_4.tolist())\n",
        "print(\"component3\",component3.shape)\n",
        "print(\"component4\",component4.shape)"
      ],
      "metadata": {
        "id": "i4mwi0nkFtTa",
        "colab": {
          "base_uri": "https://localhost:8080/"
        },
        "outputId": "d642e4c0-0449-486c-e518-7dd58706db08"
      },
      "execution_count": null,
      "outputs": [
        {
          "output_type": "stream",
          "name": "stdout",
          "text": [
            "taught to positional shivas pavlos encoding\n",
            "positional pavlos encoding shivas taught to\n",
            "contextual_embedding_3 (6, 256)\n",
            "contextual_embedding_4 (6, 256)\n",
            "component3 (6, 2)\n",
            "component4 (6, 2)\n"
          ]
        }
      ]
    },
    {
      "cell_type": "code",
      "source": [
        "# Visualize all the contextualizied embeddings\n",
        "\n",
        "# Plot\n",
        "fig = plt.figure(figsize=(20,10))\n",
        "\n",
        "axs = fig.add_subplot(2,2,1)\n",
        "plot_component(axs, component1, sample1, sample1)\n",
        "\n",
        "axs = fig.add_subplot(2,2,2)\n",
        "plot_component(axs, component2, sample2, sample2)\n",
        "\n",
        "axs = fig.add_subplot(2,2,3)\n",
        "plot_component(axs, component3, sample3, sample3)\n",
        "\n",
        "axs = fig.add_subplot(2,2,4)\n",
        "plot_component(axs, component4, sample4, sample4)\n",
        "\n",
        "plt.show()"
      ],
      "metadata": {
        "id": "iwqggtfvGBW3",
        "colab": {
          "base_uri": "https://localhost:8080/",
          "height": 557
        },
        "outputId": "48593c34-f97e-49af-e950-68ca7d95fa91"
      },
      "execution_count": null,
      "outputs": [
        {
          "output_type": "display_data",
          "data": {
            "text/plain": [
              "<Figure size 1440x720 with 4 Axes>"
            ],
            "image/png": "[encoded data removed]"
          },
          "metadata": {
            "needs_background": "light"
          }
        }
      ]
    },
    {
      "cell_type": "markdown",
      "source": [
        "Do you see a problem with these contextual embeddings? How can we resolve this?\n",
        "\n",
        "<img src=\"https://storage.googleapis.com/public_colab_images/nlp/multi-head-atten-issues.png\" />\n",
        "\n",
        "**Let us go back to lecture and solve this problem**\n",
        "\n",
        "<br/>\n",
        "<br/>\n",
        "<br/>\n",
        "<br/>\n",
        "<br/><br/><br/><br/><br/><br/><br/><br/>\n",
        "<br/><br/><br/><br/><br/><br/><br/><br/>\n",
        "<br/><br/><br/><br/><br/><br/><br/><br/>\n",
        "<br/><br/><br/><br/><br/><br/><br/><br/>\n",
        "<br/><br/><br/><br/><br/><br/><br/><br/>"
      ],
      "metadata": {
        "id": "Et-p_i-FHDGZ"
      }
    },
    {
      "cell_type": "markdown",
      "source": [
        "---"
      ],
      "metadata": {
        "id": "JlgIzddnHM2S"
      }
    },
    {
      "cell_type": "markdown",
      "source": [
        "## **[Positional Encoding](#scrollTo=position_encoding)**"
      ],
      "metadata": {
        "id": "49fbJytVsSUr"
      }
    },
    {
      "cell_type": "markdown",
      "source": [
        "Now lets define a positional encoding function that generate unique values for every sequence position\n",
        "\n",
        "\n",
        "**Sentence -> Tokens -> Embeddings + Positional Encoding -> MultiHead Attention -> Context Embedding**\n",
        "\n",
        "The function will follow the following technical details:\n",
        "\n",
        "<img src=\"https://storage.googleapis.com/public_colab_images/nlp/positional-encoding-math.png\" width=\"600\"/>"
      ],
      "metadata": {
        "id": "gl-Uz8BctQ5H"
      }
    },
    {
      "cell_type": "code",
      "source": [
        "def generate_positional_encoding(max_length, model_size):\n",
        "    pos_enc = np.array(\n",
        "        [\n",
        "            [pos / np.power(10000, 2 * (j // 2) / model_size) for j in range(model_size)]\n",
        "            if pos != 0\n",
        "            else np.zeros(model_size)\n",
        "            for pos in range(max_length)\n",
        "        ]\n",
        "    )\n",
        "    pos_enc[1:, 0::2] = np.sin(pos_enc[1:, 0::2])  # dim 2i\n",
        "    pos_enc[1:, 1::2] = np.cos(pos_enc[1:, 1::2])  # dim 2i+1\n",
        "    return pos_enc"
      ],
      "metadata": {
        "id": "nkIorzUgsVEz"
      },
      "execution_count": null,
      "outputs": []
    },
    {
      "cell_type": "markdown",
      "source": [
        "Test our `generate_positional_encoding(...)` function to see some sample outputs"
      ],
      "metadata": {
        "id": "8Unp9dMPxpKL"
      }
    },
    {
      "cell_type": "code",
      "source": [
        "# Generate postional encodings for sequence length of 60 and embedding dimension of 256\n",
        "positional_encodings = generate_positional_encoding(60, 256)\n",
        "print(positional_encodings.shape)\n",
        "\n",
        "print(\"Position 0:\",positional_encodings[0][:20])\n",
        "print(\"Position 1:\",positional_encodings[1][:20])\n",
        "print(\"Position 2:\",positional_encodings[2][:20])"
      ],
      "metadata": {
        "id": "RiUMwqN7thwv",
        "colab": {
          "base_uri": "https://localhost:8080/"
        },
        "outputId": "6472903c-06ad-434b-ddd6-3aa0b9f334da"
      },
      "execution_count": null,
      "outputs": [
        {
          "output_type": "stream",
          "name": "stdout",
          "text": [
            "(60, 256)\n",
            "Position 0: [0. 0. 0. 0. 0. 0. 0. 0. 0. 0. 0. 0. 0. 0. 0. 0. 0. 0. 0. 0.]\n",
            "Position 1: [0.84147098 0.54030231 0.8019618  0.59737533 0.76172041 0.64790587\n",
            " 0.72141412 0.69250391 0.68156135 0.73176098 0.64255691 0.76623796\n",
            " 0.60469402 0.79645787 0.56818322 0.82290208 0.53316844 0.84600911\n",
            " 0.49974046 0.8661752 ]\n",
            "Position 2: [ 0.90929743 -0.41614684  0.95814438 -0.28628544  0.98704625 -0.16043596\n",
            "  0.9991642  -0.04087666  0.99748     0.07094825  0.984703    0.17424123\n",
            "  0.96322662  0.26869029  0.9351183   0.35433567  0.90213071  0.43146283\n",
            "  0.86572559  0.50051894]\n"
          ]
        }
      ]
    },
    {
      "cell_type": "code",
      "source": [
        "# Compute the dot product of postion 1 with every other postions\n",
        "dot_results = []\n",
        "for idx in range(positional_encodings.shape[0]):\n",
        "  dot_results.append(np.dot(positional_encodings[1], positional_encodings[idx]))\n",
        "\n",
        "\n",
        "# Plot the dot product results\n",
        "fig = plt.figure(figsize=(20,5))\n",
        "axs = fig.add_subplot(1,3,1)\n",
        "axs.plot(np.arange(0, positional_encodings.shape[0]), dot_results)\n",
        "axs.set_xlabel('Positions')\n",
        "axs.set_ylabel('Dot product of positions')\n",
        "plt.show()"
      ],
      "metadata": {
        "id": "gPpoDlpBtm6L",
        "colab": {
          "base_uri": "https://localhost:8080/",
          "height": 354
        },
        "outputId": "d18afd94-3355-4c7c-e1ad-5aa91d277ca8"
      },
      "execution_count": null,
      "outputs": [
        {
          "output_type": "display_data",
          "data": {
            "text/plain": [
              "<Figure size 1440x360 with 1 Axes>"
            ],
            "image/png": "[encoded data removed]"
          },
          "metadata": {
            "needs_background": "light"
          }
        }
      ]
    },
    {
      "cell_type": "markdown",
      "source": [
        "### **Build/Train Model**"
      ],
      "metadata": {
        "id": "X9_OC6yoHkhm"
      }
    },
    {
      "cell_type": "markdown",
      "source": [
        "We now will modify the language model we built using \"n\" Encoder layers. We will add positional encoding to the token embeddings at our input. First we will build a model for training where the output will be a dense layer with number of units = vocabulary size and softmax activation. This will help train the lanaguage model predict the tokens. We will then create a inference model where given an input token sequence the output will be the last encoder layer output (the context embedding)\n",
        "\n",
        "\n",
        "<img src=\"https://storage.googleapis.com/public_colab_images/nlp/transformer_simple_lm_with_pe.png\" width=\"800px\"/>"
      ],
      "metadata": {
        "id": "k9h17GKyzIqj"
      }
    },
    {
      "cell_type": "code",
      "source": [
        "# Free up memory\n",
        "K.clear_session()\n",
        "\n",
        "# Model input\n",
        "model_input = tf.keras.Input(shape=(sequence_length), dtype=tf.int64)\n",
        "\n",
        "embeddings = tf.keras.layers.Embedding(input_dim=vocabulary_size, output_dim=embedding_dim)(model_input)\n",
        "\n",
        "###############################################\n",
        "# Add Postional encoding to the token embedding\n",
        "embeddings = embeddings + generate_positional_encoding(sequence_length,embedding_dim)\n",
        "###############################################\n",
        "\n",
        "# Repeat the output to \"n\" number of layers\n",
        "encoder_output = embeddings\n",
        "for i in range(num_layers):\n",
        "    encoder_output = EncoderLayer(embed_dim=embedding_dim, dense_dim=ff_dim, num_heads=num_heads)(encoder_output)\n",
        "\n",
        "# Output Layer\n",
        "output = tf.keras.layers.Dense(units=vocabulary_size, activation=\"softmax\")(encoder_output)\n",
        "\n",
        "# Create Model\n",
        "model_2 = tf.keras.Model(inputs=[model_input], outputs=[output], name=\"masked_bert_model\")\n",
        "\n",
        "# Print the model architecture\n",
        "print(model_2.summary())\n",
        "\n",
        "# Optimizer\n",
        "optimizer = tf.keras.optimizers.Adam(learning_rate=learning_rate)\n",
        "# Loss\n",
        "loss = tf.keras.losses.sparse_categorical_crossentropy\n",
        "\n",
        "# Compile\n",
        "model_2.compile(optimizer=optimizer, loss=loss)\n",
        "\n",
        "# Train model\n",
        "start_time = time.time()\n",
        "training_results = model_2.fit(\n",
        "        train_data,\n",
        "        epochs=epochs,\n",
        "        verbose=1)\n",
        "execution_time = (time.time() - start_time)/60.0\n",
        "print(\"Training execution time (mins)\",execution_time)"
      ],
      "metadata": {
        "id": "VjvNE5eXHYBz",
        "colab": {
          "base_uri": "https://localhost:8080/"
        },
        "outputId": "44e67a1e-083e-4ea9-810c-1b4a753fb780"
      },
      "execution_count": null,
      "outputs": [
        {
          "output_type": "stream",
          "name": "stdout",
          "text": [
            "Model: \"masked_bert_model\"\n",
            "_________________________________________________________________\n",
            " Layer (type)                Output Shape              Param #   \n",
            "=================================================================\n",
            " input_2 (InputLayer)        [(None, 66)]              0         \n",
            "                                                                 \n",
            " embedding (Embedding)       (None, 66, 256)           289280    \n",
            "                                                                 \n",
            " tf.__operators__.add (TFOpL  (None, 66, 256)          0         \n",
            " ambda)                                                          \n",
            "                                                                 \n",
            " encoder_layer (EncoderLayer  (None, 66, 256)          2236160   \n",
            " )                                                               \n",
            "                                                                 \n",
            " encoder_layer_1 (EncoderLay  (None, 66, 256)          2236160   \n",
            " er)                                                             \n",
            "                                                                 \n",
            " dense_4 (Dense)             (None, 66, 1130)          290410    \n",
            "                                                                 \n",
            "=================================================================\n",
            "Total params: 5,052,010\n",
            "Trainable params: 5,052,010\n",
            "Non-trainable params: 0\n",
            "_________________________________________________________________\n",
            "None\n",
            "Epoch 1/25\n",
            "3/3 [==============================] - 2s 80ms/step - loss: 4.5266\n",
            "Epoch 2/25\n",
            "3/3 [==============================] - 0s 65ms/step - loss: 2.6481\n",
            "Epoch 3/25\n",
            "3/3 [==============================] - 0s 63ms/step - loss: 2.5301\n",
            "Epoch 4/25\n",
            "3/3 [==============================] - 0s 63ms/step - loss: 2.4740\n",
            "Epoch 5/25\n",
            "3/3 [==============================] - 0s 66ms/step - loss: 2.4311\n",
            "Epoch 6/25\n",
            "3/3 [==============================] - 0s 65ms/step - loss: 4.0517\n",
            "Epoch 7/25\n",
            "3/3 [==============================] - 0s 68ms/step - loss: 2.4398\n",
            "Epoch 8/25\n",
            "3/3 [==============================] - 0s 64ms/step - loss: 2.4543\n",
            "Epoch 9/25\n",
            "3/3 [==============================] - 0s 67ms/step - loss: 2.3963\n",
            "Epoch 10/25\n",
            "3/3 [==============================] - 0s 63ms/step - loss: 2.3144\n",
            "Epoch 11/25\n",
            "3/3 [==============================] - 0s 67ms/step - loss: 2.2140\n",
            "Epoch 12/25\n",
            "3/3 [==============================] - 0s 67ms/step - loss: 2.1235\n",
            "Epoch 13/25\n",
            "3/3 [==============================] - 0s 66ms/step - loss: 2.1068\n",
            "Epoch 14/25\n",
            "3/3 [==============================] - 0s 67ms/step - loss: 2.0755\n",
            "Epoch 15/25\n",
            "3/3 [==============================] - 0s 64ms/step - loss: 2.0586\n",
            "Epoch 16/25\n",
            "3/3 [==============================] - 0s 65ms/step - loss: 2.0191\n",
            "Epoch 17/25\n",
            "3/3 [==============================] - 0s 64ms/step - loss: 1.9873\n",
            "Epoch 18/25\n",
            "3/3 [==============================] - 0s 67ms/step - loss: 1.9532\n",
            "Epoch 19/25\n",
            "3/3 [==============================] - 0s 64ms/step - loss: 1.9124\n",
            "Epoch 20/25\n",
            "3/3 [==============================] - 0s 67ms/step - loss: 1.8767\n",
            "Epoch 21/25\n",
            "3/3 [==============================] - 0s 66ms/step - loss: 1.8368\n",
            "Epoch 22/25\n",
            "3/3 [==============================] - 0s 65ms/step - loss: 1.7915\n",
            "Epoch 23/25\n",
            "3/3 [==============================] - 0s 66ms/step - loss: 1.7443\n",
            "Epoch 24/25\n",
            "3/3 [==============================] - 0s 67ms/step - loss: 1.6962\n",
            "Epoch 25/25\n",
            "3/3 [==============================] - 0s 66ms/step - loss: 1.6453\n",
            "Training execution time (mins) 0.12897199392318726\n"
          ]
        }
      ]
    },
    {
      "cell_type": "markdown",
      "source": [
        "### **Evaluation Model**"
      ],
      "metadata": {
        "id": "kg6uuV8fIkMG"
      }
    },
    {
      "cell_type": "code",
      "source": [
        "# Build a model to output the encoder contexts\n",
        "model_context_2 = tf.keras.Model(inputs=[model_input], outputs=[encoder_output])\n",
        "\n",
        "print(model_context_2.summary())"
      ],
      "metadata": {
        "id": "Qp5nXvbCIkMH",
        "colab": {
          "base_uri": "https://localhost:8080/"
        },
        "outputId": "d953ab04-d585-4e97-ad38-20f6cccc4061"
      },
      "execution_count": null,
      "outputs": [
        {
          "output_type": "stream",
          "name": "stdout",
          "text": [
            "Model: \"model\"\n",
            "_________________________________________________________________\n",
            " Layer (type)                Output Shape              Param #   \n",
            "=================================================================\n",
            " input_2 (InputLayer)        [(None, 66)]              0         \n",
            "                                                                 \n",
            " embedding (Embedding)       (None, 66, 256)           289280    \n",
            "                                                                 \n",
            " tf.__operators__.add (TFOpL  (None, 66, 256)          0         \n",
            " ambda)                                                          \n",
            "                                                                 \n",
            " encoder_layer (EncoderLayer  (None, 66, 256)          2236160   \n",
            " )                                                               \n",
            "                                                                 \n",
            " encoder_layer_1 (EncoderLay  (None, 66, 256)          2236160   \n",
            " er)                                                             \n",
            "                                                                 \n",
            "=================================================================\n",
            "Total params: 4,761,600\n",
            "Trainable params: 4,761,600\n",
            "Non-trainable params: 0\n",
            "_________________________________________________________________\n",
            "None\n"
          ]
        }
      ]
    },
    {
      "cell_type": "code",
      "source": [
        "# Make a prediction on model to get context output\n",
        "encoder_output5 = model_context_2.predict(sample_tokens1)\n",
        "print(\"encoder_output shape:\",encoder_output5.shape)\n",
        "\n",
        "# Make a prediction on model to get context output\n",
        "encoder_output6 = model_context_2.predict(sample_tokens2)\n",
        "print(\"encoder_output shape:\",encoder_output6.shape)"
      ],
      "metadata": {
        "id": "CcQd57mEI-Ev",
        "colab": {
          "base_uri": "https://localhost:8080/"
        },
        "outputId": "ec671652-f5cc-4d43-e8ac-70ccef99b088"
      },
      "execution_count": null,
      "outputs": [
        {
          "output_type": "stream",
          "name": "stdout",
          "text": [
            "1/1 [==============================] - 0s 233ms/step\n",
            "encoder_output shape: (1, 66, 256)\n",
            "1/1 [==============================] - 0s 17ms/step\n",
            "encoder_output shape: (1, 66, 256)\n"
          ]
        }
      ]
    },
    {
      "cell_type": "markdown",
      "source": [
        "### **Analyze Context Embeddings**"
      ],
      "metadata": {
        "id": "b1IIwTflI2iH"
      }
    },
    {
      "cell_type": "code",
      "source": [
        "print(sample1)\n",
        "print(sample2)\n",
        "# Get the valid word ignoring padding\n",
        "num_valid_words = 6\n",
        "contextual_embedding_5 = encoder_output5[0,:num_valid_words,:]\n",
        "contextual_embedding_6 = encoder_output6[0,:num_valid_words,:]\n",
        "print(\"contextual_embedding_5\",contextual_embedding_5.shape)\n",
        "print(\"contextual_embedding_6\",contextual_embedding_6.shape)\n",
        "\n",
        "# Reduce dimension using PCA\n",
        "pca = PCA(n_components=2, random_state=2233)\n",
        "component5 = pca.fit_transform(contextual_embedding_5.tolist())\n",
        "pca = PCA(n_components=2, random_state=2233)\n",
        "component6 = pca.fit_transform(contextual_embedding_6.tolist())\n",
        "print(\"component5\",component5.shape)\n",
        "print(\"component6\",component6.shape)"
      ],
      "metadata": {
        "id": "yWEld0TpI2iH",
        "colab": {
          "base_uri": "https://localhost:8080/"
        },
        "outputId": "77efa987-547e-4fe7-e3af-d679d5be2d84"
      },
      "execution_count": null,
      "outputs": [
        {
          "output_type": "stream",
          "name": "stdout",
          "text": [
            "pavlos taught positional encoding to shivas\n",
            "shivas taught positional encoding to pavlos\n",
            "contextual_embedding_5 (6, 256)\n",
            "contextual_embedding_6 (6, 256)\n",
            "component5 (6, 2)\n",
            "component6 (6, 2)\n"
          ]
        }
      ]
    },
    {
      "cell_type": "code",
      "source": [
        "# Visualize all the contextualizied embeddings\n",
        "\n",
        "# Plot\n",
        "fig = plt.figure(figsize=(20,10))\n",
        "\n",
        "axs = fig.add_subplot(2,2,1)\n",
        "plot_component(axs, component1,sample1, sample1+\" (No Positional Encoding)\")\n",
        "\n",
        "axs = fig.add_subplot(2,2,2)\n",
        "plot_component(axs, component2,sample2, sample2+\" (No Positional Encoding)\")\n",
        "\n",
        "axs = fig.add_subplot(2,2,3)\n",
        "plot_component(axs, component5,sample1, sample1+\" (with Positional Encoding)\")\n",
        "\n",
        "axs = fig.add_subplot(2,2,4)\n",
        "plot_component(axs, component6,sample2, sample2+\" (with Positional Encoding)\")\n",
        "\n",
        "plt.show()"
      ],
      "metadata": {
        "id": "fu52Hre1I2iH",
        "colab": {
          "base_uri": "https://localhost:8080/",
          "height": 557
        },
        "outputId": "75ec45aa-0159-46f5-915c-2f169a3ca1c9"
      },
      "execution_count": null,
      "outputs": [
        {
          "output_type": "display_data",
          "data": {
            "text/plain": [
              "<Figure size 1440x720 with 4 Axes>"
            ],
            "image/png": "[encoded data removed]"
          },
          "metadata": {
            "needs_background": "light"
          }
        }
      ]
    },
    {
      "cell_type": "code",
      "source": [],
      "metadata": {
        "id": "xQpPlOKhnZWw"
      },
      "execution_count": null,
      "outputs": []
    }
  ]
}