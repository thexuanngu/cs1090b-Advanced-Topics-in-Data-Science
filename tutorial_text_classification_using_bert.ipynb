{
  "nbformat": 4,
  "nbformat_minor": 0,
  "metadata": {
    "colab": {
      "provenance": [],
      "toc_visible": true
    },
    "kernelspec": {
      "name": "python3",
      "display_name": "Python 3"
    },
    "language_info": {
      "name": "python"
    },
    "accelerator": "GPU",
    "widgets": {
      "application/vnd.jupyter.widget-state+json": {
        "fe6c444d83a74b449d7a4bf2eb2648d2": {
          "model_module": "@jupyter-widgets/controls",
          "model_name": "HBoxModel",
          "model_module_version": "1.5.0",
          "state": {
            "_dom_classes": [],
            "_model_module": "@jupyter-widgets/controls",
            "_model_module_version": "1.5.0",
            "_model_name": "HBoxModel",
            "_view_count": null,
            "_view_module": "@jupyter-widgets/controls",
            "_view_module_version": "1.5.0",
            "_view_name": "HBoxView",
            "box_style": "",
            "children": [
              "IPY_MODEL_292a6c4b02884827907dee6aeb1095ad",
              "IPY_MODEL_091d15c80c3f48608bf2a8e3ebc0f8c9",
              "IPY_MODEL_e329771c7be94ea8b85ebab67d881878"
            ],
            "layout": "IPY_MODEL_53aa3642f4df4c81a5d3263e86276e76"
          }
        },
        "292a6c4b02884827907dee6aeb1095ad": {
          "model_module": "@jupyter-widgets/controls",
          "model_name": "HTMLModel",
          "model_module_version": "1.5.0",
          "state": {
            "_dom_classes": [],
            "_model_module": "@jupyter-widgets/controls",
            "_model_module_version": "1.5.0",
            "_model_name": "HTMLModel",
            "_view_count": null,
            "_view_module": "@jupyter-widgets/controls",
            "_view_module_version": "1.5.0",
            "_view_name": "HTMLView",
            "description": "",
            "description_tooltip": null,
            "layout": "IPY_MODEL_f7d6c711b21447eeb30698484e068a84",
            "placeholder": "​",
            "style": "IPY_MODEL_87a5418349f2426b92a36b85fd68219f",
            "value": "Downloading: 100%"
          }
        },
        "091d15c80c3f48608bf2a8e3ebc0f8c9": {
          "model_module": "@jupyter-widgets/controls",
          "model_name": "FloatProgressModel",
          "model_module_version": "1.5.0",
          "state": {
            "_dom_classes": [],
            "_model_module": "@jupyter-widgets/controls",
            "_model_module_version": "1.5.0",
            "_model_name": "FloatProgressModel",
            "_view_count": null,
            "_view_module": "@jupyter-widgets/controls",
            "_view_module_version": "1.5.0",
            "_view_name": "ProgressView",
            "bar_style": "success",
            "description": "",
            "description_tooltip": null,
            "layout": "IPY_MODEL_4f0a0c580a8d4221b611e4cfa96a7b1f",
            "max": 231508,
            "min": 0,
            "orientation": "horizontal",
            "style": "IPY_MODEL_735c6632df704f058886192323c67b63",
            "value": 231508
          }
        },
        "e329771c7be94ea8b85ebab67d881878": {
          "model_module": "@jupyter-widgets/controls",
          "model_name": "HTMLModel",
          "model_module_version": "1.5.0",
          "state": {
            "_dom_classes": [],
            "_model_module": "@jupyter-widgets/controls",
            "_model_module_version": "1.5.0",
            "_model_name": "HTMLModel",
            "_view_count": null,
            "_view_module": "@jupyter-widgets/controls",
            "_view_module_version": "1.5.0",
            "_view_name": "HTMLView",
            "description": "",
            "description_tooltip": null,
            "layout": "IPY_MODEL_de37b847b04b47c3bd9da22cecbf0b72",
            "placeholder": "​",
            "style": "IPY_MODEL_5325b5f561b04fa5bf3274e893c492ae",
            "value": " 226k/226k [00:00&lt;00:00, 301kB/s]"
          }
        },
        "53aa3642f4df4c81a5d3263e86276e76": {
          "model_module": "@jupyter-widgets/base",
          "model_name": "LayoutModel",
          "model_module_version": "1.2.0",
          "state": {
            "_model_module": "@jupyter-widgets/base",
            "_model_module_version": "1.2.0",
            "_model_name": "LayoutModel",
            "_view_count": null,
            "_view_module": "@jupyter-widgets/base",
            "_view_module_version": "1.2.0",
            "_view_name": "LayoutView",
            "align_content": null,
            "align_items": null,
            "align_self": null,
            "border": null,
            "bottom": null,
            "display": null,
            "flex": null,
            "flex_flow": null,
            "grid_area": null,
            "grid_auto_columns": null,
            "grid_auto_flow": null,
            "grid_auto_rows": null,
            "grid_column": null,
            "grid_gap": null,
            "grid_row": null,
            "grid_template_areas": null,
            "grid_template_columns": null,
            "grid_template_rows": null,
            "height": null,
            "justify_content": null,
            "justify_items": null,
            "left": null,
            "margin": null,
            "max_height": null,
            "max_width": null,
            "min_height": null,
            "min_width": null,
            "object_fit": null,
            "object_position": null,
            "order": null,
            "overflow": null,
            "overflow_x": null,
            "overflow_y": null,
            "padding": null,
            "right": null,
            "top": null,
            "visibility": null,
            "width": null
          }
        },
        "f7d6c711b21447eeb30698484e068a84": {
          "model_module": "@jupyter-widgets/base",
          "model_name": "LayoutModel",
          "model_module_version": "1.2.0",
          "state": {
            "_model_module": "@jupyter-widgets/base",
            "_model_module_version": "1.2.0",
            "_model_name": "LayoutModel",
            "_view_count": null,
            "_view_module": "@jupyter-widgets/base",
            "_view_module_version": "1.2.0",
            "_view_name": "LayoutView",
            "align_content": null,
            "align_items": null,
            "align_self": null,
            "border": null,
            "bottom": null,
            "display": null,
            "flex": null,
            "flex_flow": null,
            "grid_area": null,
            "grid_auto_columns": null,
            "grid_auto_flow": null,
            "grid_auto_rows": null,
            "grid_column": null,
            "grid_gap": null,
            "grid_row": null,
            "grid_template_areas": null,
            "grid_template_columns": null,
            "grid_template_rows": null,
            "height": null,
            "justify_content": null,
            "justify_items": null,
            "left": null,
            "margin": null,
            "max_height": null,
            "max_width": null,
            "min_height": null,
            "min_width": null,
            "object_fit": null,
            "object_position": null,
            "order": null,
            "overflow": null,
            "overflow_x": null,
            "overflow_y": null,
            "padding": null,
            "right": null,
            "top": null,
            "visibility": null,
            "width": null
          }
        },
        "87a5418349f2426b92a36b85fd68219f": {
          "model_module": "@jupyter-widgets/controls",
          "model_name": "DescriptionStyleModel",
          "model_module_version": "1.5.0",
          "state": {
            "_model_module": "@jupyter-widgets/controls",
            "_model_module_version": "1.5.0",
            "_model_name": "DescriptionStyleModel",
            "_view_count": null,
            "_view_module": "@jupyter-widgets/base",
            "_view_module_version": "1.2.0",
            "_view_name": "StyleView",
            "description_width": ""
          }
        },
        "4f0a0c580a8d4221b611e4cfa96a7b1f": {
          "model_module": "@jupyter-widgets/base",
          "model_name": "LayoutModel",
          "model_module_version": "1.2.0",
          "state": {
            "_model_module": "@jupyter-widgets/base",
            "_model_module_version": "1.2.0",
            "_model_name": "LayoutModel",
            "_view_count": null,
            "_view_module": "@jupyter-widgets/base",
            "_view_module_version": "1.2.0",
            "_view_name": "LayoutView",
            "align_content": null,
            "align_items": null,
            "align_self": null,
            "border": null,
            "bottom": null,
            "display": null,
            "flex": null,
            "flex_flow": null,
            "grid_area": null,
            "grid_auto_columns": null,
            "grid_auto_flow": null,
            "grid_auto_rows": null,
            "grid_column": null,
            "grid_gap": null,
            "grid_row": null,
            "grid_template_areas": null,
            "grid_template_columns": null,
            "grid_template_rows": null,
            "height": null,
            "justify_content": null,
            "justify_items": null,
            "left": null,
            "margin": null,
            "max_height": null,
            "max_width": null,
            "min_height": null,
            "min_width": null,
            "object_fit": null,
            "object_position": null,
            "order": null,
            "overflow": null,
            "overflow_x": null,
            "overflow_y": null,
            "padding": null,
            "right": null,
            "top": null,
            "visibility": null,
            "width": null
          }
        },
        "735c6632df704f058886192323c67b63": {
          "model_module": "@jupyter-widgets/controls",
          "model_name": "ProgressStyleModel",
          "model_module_version": "1.5.0",
          "state": {
            "_model_module": "@jupyter-widgets/controls",
            "_model_module_version": "1.5.0",
            "_model_name": "ProgressStyleModel",
            "_view_count": null,
            "_view_module": "@jupyter-widgets/base",
            "_view_module_version": "1.2.0",
            "_view_name": "StyleView",
            "bar_color": null,
            "description_width": ""
          }
        },
        "de37b847b04b47c3bd9da22cecbf0b72": {
          "model_module": "@jupyter-widgets/base",
          "model_name": "LayoutModel",
          "model_module_version": "1.2.0",
          "state": {
            "_model_module": "@jupyter-widgets/base",
            "_model_module_version": "1.2.0",
            "_model_name": "LayoutModel",
            "_view_count": null,
            "_view_module": "@jupyter-widgets/base",
            "_view_module_version": "1.2.0",
            "_view_name": "LayoutView",
            "align_content": null,
            "align_items": null,
            "align_self": null,
            "border": null,
            "bottom": null,
            "display": null,
            "flex": null,
            "flex_flow": null,
            "grid_area": null,
            "grid_auto_columns": null,
            "grid_auto_flow": null,
            "grid_auto_rows": null,
            "grid_column": null,
            "grid_gap": null,
            "grid_row": null,
            "grid_template_areas": null,
            "grid_template_columns": null,
            "grid_template_rows": null,
            "height": null,
            "justify_content": null,
            "justify_items": null,
            "left": null,
            "margin": null,
            "max_height": null,
            "max_width": null,
            "min_height": null,
            "min_width": null,
            "object_fit": null,
            "object_position": null,
            "order": null,
            "overflow": null,
            "overflow_x": null,
            "overflow_y": null,
            "padding": null,
            "right": null,
            "top": null,
            "visibility": null,
            "width": null
          }
        },
        "5325b5f561b04fa5bf3274e893c492ae": {
          "model_module": "@jupyter-widgets/controls",
          "model_name": "DescriptionStyleModel",
          "model_module_version": "1.5.0",
          "state": {
            "_model_module": "@jupyter-widgets/controls",
            "_model_module_version": "1.5.0",
            "_model_name": "DescriptionStyleModel",
            "_view_count": null,
            "_view_module": "@jupyter-widgets/base",
            "_view_module_version": "1.2.0",
            "_view_name": "StyleView",
            "description_width": ""
          }
        },
        "eb1d9827aa2148ba9deca14a40df96b4": {
          "model_module": "@jupyter-widgets/controls",
          "model_name": "HBoxModel",
          "model_module_version": "1.5.0",
          "state": {
            "_dom_classes": [],
            "_model_module": "@jupyter-widgets/controls",
            "_model_module_version": "1.5.0",
            "_model_name": "HBoxModel",
            "_view_count": null,
            "_view_module": "@jupyter-widgets/controls",
            "_view_module_version": "1.5.0",
            "_view_name": "HBoxView",
            "box_style": "",
            "children": [
              "IPY_MODEL_72bfd46073cb49629412faa953ec1e7f",
              "IPY_MODEL_c3eb6176876346c7adbf896d0dd91ca2",
              "IPY_MODEL_089e7bdd89ac44b2b297b2205fe7782c"
            ],
            "layout": "IPY_MODEL_ae2d1cd5fe474cd09f53af67c5ba2aa1"
          }
        },
        "72bfd46073cb49629412faa953ec1e7f": {
          "model_module": "@jupyter-widgets/controls",
          "model_name": "HTMLModel",
          "model_module_version": "1.5.0",
          "state": {
            "_dom_classes": [],
            "_model_module": "@jupyter-widgets/controls",
            "_model_module_version": "1.5.0",
            "_model_name": "HTMLModel",
            "_view_count": null,
            "_view_module": "@jupyter-widgets/controls",
            "_view_module_version": "1.5.0",
            "_view_name": "HTMLView",
            "description": "",
            "description_tooltip": null,
            "layout": "IPY_MODEL_7967271cf2e1434098eee3891cf7053f",
            "placeholder": "​",
            "style": "IPY_MODEL_0fd19bb84a9c46c48d687f69240319d6",
            "value": "Downloading: 100%"
          }
        },
        "c3eb6176876346c7adbf896d0dd91ca2": {
          "model_module": "@jupyter-widgets/controls",
          "model_name": "FloatProgressModel",
          "model_module_version": "1.5.0",
          "state": {
            "_dom_classes": [],
            "_model_module": "@jupyter-widgets/controls",
            "_model_module_version": "1.5.0",
            "_model_name": "FloatProgressModel",
            "_view_count": null,
            "_view_module": "@jupyter-widgets/controls",
            "_view_module_version": "1.5.0",
            "_view_name": "ProgressView",
            "bar_style": "success",
            "description": "",
            "description_tooltip": null,
            "layout": "IPY_MODEL_b8eccf172f844b6aacb04daab619b2ec",
            "max": 28,
            "min": 0,
            "orientation": "horizontal",
            "style": "IPY_MODEL_ad3a16171c2d430b8ef4257754bb7cc6",
            "value": 28
          }
        },
        "089e7bdd89ac44b2b297b2205fe7782c": {
          "model_module": "@jupyter-widgets/controls",
          "model_name": "HTMLModel",
          "model_module_version": "1.5.0",
          "state": {
            "_dom_classes": [],
            "_model_module": "@jupyter-widgets/controls",
            "_model_module_version": "1.5.0",
            "_model_name": "HTMLModel",
            "_view_count": null,
            "_view_module": "@jupyter-widgets/controls",
            "_view_module_version": "1.5.0",
            "_view_name": "HTMLView",
            "description": "",
            "description_tooltip": null,
            "layout": "IPY_MODEL_491601a7c7f249cdaaff23ac5d276ae2",
            "placeholder": "​",
            "style": "IPY_MODEL_c03cde83a84f402294e78ae8466662fb",
            "value": " 28.0/28.0 [00:00&lt;00:00, 313B/s]"
          }
        },
        "ae2d1cd5fe474cd09f53af67c5ba2aa1": {
          "model_module": "@jupyter-widgets/base",
          "model_name": "LayoutModel",
          "model_module_version": "1.2.0",
          "state": {
            "_model_module": "@jupyter-widgets/base",
            "_model_module_version": "1.2.0",
            "_model_name": "LayoutModel",
            "_view_count": null,
            "_view_module": "@jupyter-widgets/base",
            "_view_module_version": "1.2.0",
            "_view_name": "LayoutView",
            "align_content": null,
            "align_items": null,
            "align_self": null,
            "border": null,
            "bottom": null,
            "display": null,
            "flex": null,
            "flex_flow": null,
            "grid_area": null,
            "grid_auto_columns": null,
            "grid_auto_flow": null,
            "grid_auto_rows": null,
            "grid_column": null,
            "grid_gap": null,
            "grid_row": null,
            "grid_template_areas": null,
            "grid_template_columns": null,
            "grid_template_rows": null,
            "height": null,
            "justify_content": null,
            "justify_items": null,
            "left": null,
            "margin": null,
            "max_height": null,
            "max_width": null,
            "min_height": null,
            "min_width": null,
            "object_fit": null,
            "object_position": null,
            "order": null,
            "overflow": null,
            "overflow_x": null,
            "overflow_y": null,
            "padding": null,
            "right": null,
            "top": null,
            "visibility": null,
            "width": null
          }
        },
        "7967271cf2e1434098eee3891cf7053f": {
          "model_module": "@jupyter-widgets/base",
          "model_name": "LayoutModel",
          "model_module_version": "1.2.0",
          "state": {
            "_model_module": "@jupyter-widgets/base",
            "_model_module_version": "1.2.0",
            "_model_name": "LayoutModel",
            "_view_count": null,
            "_view_module": "@jupyter-widgets/base",
            "_view_module_version": "1.2.0",
            "_view_name": "LayoutView",
            "align_content": null,
            "align_items": null,
            "align_self": null,
            "border": null,
            "bottom": null,
            "display": null,
            "flex": null,
            "flex_flow": null,
            "grid_area": null,
            "grid_auto_columns": null,
            "grid_auto_flow": null,
            "grid_auto_rows": null,
            "grid_column": null,
            "grid_gap": null,
            "grid_row": null,
            "grid_template_areas": null,
            "grid_template_columns": null,
            "grid_template_rows": null,
            "height": null,
            "justify_content": null,
            "justify_items": null,
            "left": null,
            "margin": null,
            "max_height": null,
            "max_width": null,
            "min_height": null,
            "min_width": null,
            "object_fit": null,
            "object_position": null,
            "order": null,
            "overflow": null,
            "overflow_x": null,
            "overflow_y": null,
            "padding": null,
            "right": null,
            "top": null,
            "visibility": null,
            "width": null
          }
        },
        "0fd19bb84a9c46c48d687f69240319d6": {
          "model_module": "@jupyter-widgets/controls",
          "model_name": "DescriptionStyleModel",
          "model_module_version": "1.5.0",
          "state": {
            "_model_module": "@jupyter-widgets/controls",
            "_model_module_version": "1.5.0",
            "_model_name": "DescriptionStyleModel",
            "_view_count": null,
            "_view_module": "@jupyter-widgets/base",
            "_view_module_version": "1.2.0",
            "_view_name": "StyleView",
            "description_width": ""
          }
        },
        "b8eccf172f844b6aacb04daab619b2ec": {
          "model_module": "@jupyter-widgets/base",
          "model_name": "LayoutModel",
          "model_module_version": "1.2.0",
          "state": {
            "_model_module": "@jupyter-widgets/base",
            "_model_module_version": "1.2.0",
            "_model_name": "LayoutModel",
            "_view_count": null,
            "_view_module": "@jupyter-widgets/base",
            "_view_module_version": "1.2.0",
            "_view_name": "LayoutView",
            "align_content": null,
            "align_items": null,
            "align_self": null,
            "border": null,
            "bottom": null,
            "display": null,
            "flex": null,
            "flex_flow": null,
            "grid_area": null,
            "grid_auto_columns": null,
            "grid_auto_flow": null,
            "grid_auto_rows": null,
            "grid_column": null,
            "grid_gap": null,
            "grid_row": null,
            "grid_template_areas": null,
            "grid_template_columns": null,
            "grid_template_rows": null,
            "height": null,
            "justify_content": null,
            "justify_items": null,
            "left": null,
            "margin": null,
            "max_height": null,
            "max_width": null,
            "min_height": null,
            "min_width": null,
            "object_fit": null,
            "object_position": null,
            "order": null,
            "overflow": null,
            "overflow_x": null,
            "overflow_y": null,
            "padding": null,
            "right": null,
            "top": null,
            "visibility": null,
            "width": null
          }
        },
        "ad3a16171c2d430b8ef4257754bb7cc6": {
          "model_module": "@jupyter-widgets/controls",
          "model_name": "ProgressStyleModel",
          "model_module_version": "1.5.0",
          "state": {
            "_model_module": "@jupyter-widgets/controls",
            "_model_module_version": "1.5.0",
            "_model_name": "ProgressStyleModel",
            "_view_count": null,
            "_view_module": "@jupyter-widgets/base",
            "_view_module_version": "1.2.0",
            "_view_name": "StyleView",
            "bar_color": null,
            "description_width": ""
          }
        },
        "491601a7c7f249cdaaff23ac5d276ae2": {
          "model_module": "@jupyter-widgets/base",
          "model_name": "LayoutModel",
          "model_module_version": "1.2.0",
          "state": {
            "_model_module": "@jupyter-widgets/base",
            "_model_module_version": "1.2.0",
            "_model_name": "LayoutModel",
            "_view_count": null,
            "_view_module": "@jupyter-widgets/base",
            "_view_module_version": "1.2.0",
            "_view_name": "LayoutView",
            "align_content": null,
            "align_items": null,
            "align_self": null,
            "border": null,
            "bottom": null,
            "display": null,
            "flex": null,
            "flex_flow": null,
            "grid_area": null,
            "grid_auto_columns": null,
            "grid_auto_flow": null,
            "grid_auto_rows": null,
            "grid_column": null,
            "grid_gap": null,
            "grid_row": null,
            "grid_template_areas": null,
            "grid_template_columns": null,
            "grid_template_rows": null,
            "height": null,
            "justify_content": null,
            "justify_items": null,
            "left": null,
            "margin": null,
            "max_height": null,
            "max_width": null,
            "min_height": null,
            "min_width": null,
            "object_fit": null,
            "object_position": null,
            "order": null,
            "overflow": null,
            "overflow_x": null,
            "overflow_y": null,
            "padding": null,
            "right": null,
            "top": null,
            "visibility": null,
            "width": null
          }
        },
        "c03cde83a84f402294e78ae8466662fb": {
          "model_module": "@jupyter-widgets/controls",
          "model_name": "DescriptionStyleModel",
          "model_module_version": "1.5.0",
          "state": {
            "_model_module": "@jupyter-widgets/controls",
            "_model_module_version": "1.5.0",
            "_model_name": "DescriptionStyleModel",
            "_view_count": null,
            "_view_module": "@jupyter-widgets/base",
            "_view_module_version": "1.2.0",
            "_view_name": "StyleView",
            "description_width": ""
          }
        },
        "1be97350f5634e94a6b76587d6252a20": {
          "model_module": "@jupyter-widgets/controls",
          "model_name": "HBoxModel",
          "model_module_version": "1.5.0",
          "state": {
            "_dom_classes": [],
            "_model_module": "@jupyter-widgets/controls",
            "_model_module_version": "1.5.0",
            "_model_name": "HBoxModel",
            "_view_count": null,
            "_view_module": "@jupyter-widgets/controls",
            "_view_module_version": "1.5.0",
            "_view_name": "HBoxView",
            "box_style": "",
            "children": [
              "IPY_MODEL_2a2878a84ed54775bfa8d27ef0a435b5",
              "IPY_MODEL_5bf51ac9a7774ef196abaf1b4f358426",
              "IPY_MODEL_3777ba4c0e1f437393330318bc6a1b6f"
            ],
            "layout": "IPY_MODEL_bdc46ee97b7d45ea85bab70f106a7ce6"
          }
        },
        "2a2878a84ed54775bfa8d27ef0a435b5": {
          "model_module": "@jupyter-widgets/controls",
          "model_name": "HTMLModel",
          "model_module_version": "1.5.0",
          "state": {
            "_dom_classes": [],
            "_model_module": "@jupyter-widgets/controls",
            "_model_module_version": "1.5.0",
            "_model_name": "HTMLModel",
            "_view_count": null,
            "_view_module": "@jupyter-widgets/controls",
            "_view_module_version": "1.5.0",
            "_view_name": "HTMLView",
            "description": "",
            "description_tooltip": null,
            "layout": "IPY_MODEL_2248a15d5feb498885fd2ae225eeef08",
            "placeholder": "​",
            "style": "IPY_MODEL_b371248140654dc8adb0e87135d54556",
            "value": "Downloading: 100%"
          }
        },
        "5bf51ac9a7774ef196abaf1b4f358426": {
          "model_module": "@jupyter-widgets/controls",
          "model_name": "FloatProgressModel",
          "model_module_version": "1.5.0",
          "state": {
            "_dom_classes": [],
            "_model_module": "@jupyter-widgets/controls",
            "_model_module_version": "1.5.0",
            "_model_name": "FloatProgressModel",
            "_view_count": null,
            "_view_module": "@jupyter-widgets/controls",
            "_view_module_version": "1.5.0",
            "_view_name": "ProgressView",
            "bar_style": "success",
            "description": "",
            "description_tooltip": null,
            "layout": "IPY_MODEL_86d934b9338345e297899c0b16f50adc",
            "max": 570,
            "min": 0,
            "orientation": "horizontal",
            "style": "IPY_MODEL_ad6857d3813048d9bd8a7f4812cdde1d",
            "value": 570
          }
        },
        "3777ba4c0e1f437393330318bc6a1b6f": {
          "model_module": "@jupyter-widgets/controls",
          "model_name": "HTMLModel",
          "model_module_version": "1.5.0",
          "state": {
            "_dom_classes": [],
            "_model_module": "@jupyter-widgets/controls",
            "_model_module_version": "1.5.0",
            "_model_name": "HTMLModel",
            "_view_count": null,
            "_view_module": "@jupyter-widgets/controls",
            "_view_module_version": "1.5.0",
            "_view_name": "HTMLView",
            "description": "",
            "description_tooltip": null,
            "layout": "IPY_MODEL_65bf82afaba746afbea7af55a01955a0",
            "placeholder": "​",
            "style": "IPY_MODEL_119ea686917140988a1f5e99612a569f",
            "value": " 570/570 [00:00&lt;00:00, 5.55kB/s]"
          }
        },
        "bdc46ee97b7d45ea85bab70f106a7ce6": {
          "model_module": "@jupyter-widgets/base",
          "model_name": "LayoutModel",
          "model_module_version": "1.2.0",
          "state": {
            "_model_module": "@jupyter-widgets/base",
            "_model_module_version": "1.2.0",
            "_model_name": "LayoutModel",
            "_view_count": null,
            "_view_module": "@jupyter-widgets/base",
            "_view_module_version": "1.2.0",
            "_view_name": "LayoutView",
            "align_content": null,
            "align_items": null,
            "align_self": null,
            "border": null,
            "bottom": null,
            "display": null,
            "flex": null,
            "flex_flow": null,
            "grid_area": null,
            "grid_auto_columns": null,
            "grid_auto_flow": null,
            "grid_auto_rows": null,
            "grid_column": null,
            "grid_gap": null,
            "grid_row": null,
            "grid_template_areas": null,
            "grid_template_columns": null,
            "grid_template_rows": null,
            "height": null,
            "justify_content": null,
            "justify_items": null,
            "left": null,
            "margin": null,
            "max_height": null,
            "max_width": null,
            "min_height": null,
            "min_width": null,
            "object_fit": null,
            "object_position": null,
            "order": null,
            "overflow": null,
            "overflow_x": null,
            "overflow_y": null,
            "padding": null,
            "right": null,
            "top": null,
            "visibility": null,
            "width": null
          }
        },
        "2248a15d5feb498885fd2ae225eeef08": {
          "model_module": "@jupyter-widgets/base",
          "model_name": "LayoutModel",
          "model_module_version": "1.2.0",
          "state": {
            "_model_module": "@jupyter-widgets/base",
            "_model_module_version": "1.2.0",
            "_model_name": "LayoutModel",
            "_view_count": null,
            "_view_module": "@jupyter-widgets/base",
            "_view_module_version": "1.2.0",
            "_view_name": "LayoutView",
            "align_content": null,
            "align_items": null,
            "align_self": null,
            "border": null,
            "bottom": null,
            "display": null,
            "flex": null,
            "flex_flow": null,
            "grid_area": null,
            "grid_auto_columns": null,
            "grid_auto_flow": null,
            "grid_auto_rows": null,
            "grid_column": null,
            "grid_gap": null,
            "grid_row": null,
            "grid_template_areas": null,
            "grid_template_columns": null,
            "grid_template_rows": null,
            "height": null,
            "justify_content": null,
            "justify_items": null,
            "left": null,
            "margin": null,
            "max_height": null,
            "max_width": null,
            "min_height": null,
            "min_width": null,
            "object_fit": null,
            "object_position": null,
            "order": null,
            "overflow": null,
            "overflow_x": null,
            "overflow_y": null,
            "padding": null,
            "right": null,
            "top": null,
            "visibility": null,
            "width": null
          }
        },
        "b371248140654dc8adb0e87135d54556": {
          "model_module": "@jupyter-widgets/controls",
          "model_name": "DescriptionStyleModel",
          "model_module_version": "1.5.0",
          "state": {
            "_model_module": "@jupyter-widgets/controls",
            "_model_module_version": "1.5.0",
            "_model_name": "DescriptionStyleModel",
            "_view_count": null,
            "_view_module": "@jupyter-widgets/base",
            "_view_module_version": "1.2.0",
            "_view_name": "StyleView",
            "description_width": ""
          }
        },
        "86d934b9338345e297899c0b16f50adc": {
          "model_module": "@jupyter-widgets/base",
          "model_name": "LayoutModel",
          "model_module_version": "1.2.0",
          "state": {
            "_model_module": "@jupyter-widgets/base",
            "_model_module_version": "1.2.0",
            "_model_name": "LayoutModel",
            "_view_count": null,
            "_view_module": "@jupyter-widgets/base",
            "_view_module_version": "1.2.0",
            "_view_name": "LayoutView",
            "align_content": null,
            "align_items": null,
            "align_self": null,
            "border": null,
            "bottom": null,
            "display": null,
            "flex": null,
            "flex_flow": null,
            "grid_area": null,
            "grid_auto_columns": null,
            "grid_auto_flow": null,
            "grid_auto_rows": null,
            "grid_column": null,
            "grid_gap": null,
            "grid_row": null,
            "grid_template_areas": null,
            "grid_template_columns": null,
            "grid_template_rows": null,
            "height": null,
            "justify_content": null,
            "justify_items": null,
            "left": null,
            "margin": null,
            "max_height": null,
            "max_width": null,
            "min_height": null,
            "min_width": null,
            "object_fit": null,
            "object_position": null,
            "order": null,
            "overflow": null,
            "overflow_x": null,
            "overflow_y": null,
            "padding": null,
            "right": null,
            "top": null,
            "visibility": null,
            "width": null
          }
        },
        "ad6857d3813048d9bd8a7f4812cdde1d": {
          "model_module": "@jupyter-widgets/controls",
          "model_name": "ProgressStyleModel",
          "model_module_version": "1.5.0",
          "state": {
            "_model_module": "@jupyter-widgets/controls",
            "_model_module_version": "1.5.0",
            "_model_name": "ProgressStyleModel",
            "_view_count": null,
            "_view_module": "@jupyter-widgets/base",
            "_view_module_version": "1.2.0",
            "_view_name": "StyleView",
            "bar_color": null,
            "description_width": ""
          }
        },
        "65bf82afaba746afbea7af55a01955a0": {
          "model_module": "@jupyter-widgets/base",
          "model_name": "LayoutModel",
          "model_module_version": "1.2.0",
          "state": {
            "_model_module": "@jupyter-widgets/base",
            "_model_module_version": "1.2.0",
            "_model_name": "LayoutModel",
            "_view_count": null,
            "_view_module": "@jupyter-widgets/base",
            "_view_module_version": "1.2.0",
            "_view_name": "LayoutView",
            "align_content": null,
            "align_items": null,
            "align_self": null,
            "border": null,
            "bottom": null,
            "display": null,
            "flex": null,
            "flex_flow": null,
            "grid_area": null,
            "grid_auto_columns": null,
            "grid_auto_flow": null,
            "grid_auto_rows": null,
            "grid_column": null,
            "grid_gap": null,
            "grid_row": null,
            "grid_template_areas": null,
            "grid_template_columns": null,
            "grid_template_rows": null,
            "height": null,
            "justify_content": null,
            "justify_items": null,
            "left": null,
            "margin": null,
            "max_height": null,
            "max_width": null,
            "min_height": null,
            "min_width": null,
            "object_fit": null,
            "object_position": null,
            "order": null,
            "overflow": null,
            "overflow_x": null,
            "overflow_y": null,
            "padding": null,
            "right": null,
            "top": null,
            "visibility": null,
            "width": null
          }
        },
        "119ea686917140988a1f5e99612a569f": {
          "model_module": "@jupyter-widgets/controls",
          "model_name": "DescriptionStyleModel",
          "model_module_version": "1.5.0",
          "state": {
            "_model_module": "@jupyter-widgets/controls",
            "_model_module_version": "1.5.0",
            "_model_name": "DescriptionStyleModel",
            "_view_count": null,
            "_view_module": "@jupyter-widgets/base",
            "_view_module_version": "1.2.0",
            "_view_name": "StyleView",
            "description_width": ""
          }
        },
        "97d0c4c2d111489aa3c40da26bf0b659": {
          "model_module": "@jupyter-widgets/controls",
          "model_name": "HBoxModel",
          "model_module_version": "1.5.0",
          "state": {
            "_dom_classes": [],
            "_model_module": "@jupyter-widgets/controls",
            "_model_module_version": "1.5.0",
            "_model_name": "HBoxModel",
            "_view_count": null,
            "_view_module": "@jupyter-widgets/controls",
            "_view_module_version": "1.5.0",
            "_view_name": "HBoxView",
            "box_style": "",
            "children": [
              "IPY_MODEL_66be292d694c4e9ca6b703650bd769e7",
              "IPY_MODEL_b01d6792464b47db81735afb03d1b04b",
              "IPY_MODEL_26a2a9935ad948ef9f0957ea32675079"
            ],
            "layout": "IPY_MODEL_c5d4aa07e54e48ffbfec4a38fa519446"
          }
        },
        "66be292d694c4e9ca6b703650bd769e7": {
          "model_module": "@jupyter-widgets/controls",
          "model_name": "HTMLModel",
          "model_module_version": "1.5.0",
          "state": {
            "_dom_classes": [],
            "_model_module": "@jupyter-widgets/controls",
            "_model_module_version": "1.5.0",
            "_model_name": "HTMLModel",
            "_view_count": null,
            "_view_module": "@jupyter-widgets/controls",
            "_view_module_version": "1.5.0",
            "_view_name": "HTMLView",
            "description": "",
            "description_tooltip": null,
            "layout": "IPY_MODEL_1aa3bff8bf0f400b885ac8d0aa7ae444",
            "placeholder": "​",
            "style": "IPY_MODEL_ca0bfbdbba1f43cdb70e2c4e28bdac78",
            "value": "Downloading: 100%"
          }
        },
        "b01d6792464b47db81735afb03d1b04b": {
          "model_module": "@jupyter-widgets/controls",
          "model_name": "FloatProgressModel",
          "model_module_version": "1.5.0",
          "state": {
            "_dom_classes": [],
            "_model_module": "@jupyter-widgets/controls",
            "_model_module_version": "1.5.0",
            "_model_name": "FloatProgressModel",
            "_view_count": null,
            "_view_module": "@jupyter-widgets/controls",
            "_view_module_version": "1.5.0",
            "_view_name": "ProgressView",
            "bar_style": "success",
            "description": "",
            "description_tooltip": null,
            "layout": "IPY_MODEL_42d7caf338704fc49680404841a02f41",
            "max": 536063208,
            "min": 0,
            "orientation": "horizontal",
            "style": "IPY_MODEL_1056ca05c7eb4b3e93b4fd9df7499ced",
            "value": 536063208
          }
        },
        "26a2a9935ad948ef9f0957ea32675079": {
          "model_module": "@jupyter-widgets/controls",
          "model_name": "HTMLModel",
          "model_module_version": "1.5.0",
          "state": {
            "_dom_classes": [],
            "_model_module": "@jupyter-widgets/controls",
            "_model_module_version": "1.5.0",
            "_model_name": "HTMLModel",
            "_view_count": null,
            "_view_module": "@jupyter-widgets/controls",
            "_view_module_version": "1.5.0",
            "_view_name": "HTMLView",
            "description": "",
            "description_tooltip": null,
            "layout": "IPY_MODEL_f85ee3a8e62e4a6bac34dab3a3972a0a",
            "placeholder": "​",
            "style": "IPY_MODEL_16c4c4d001084b0da75d3ffa56c3a469",
            "value": " 511M/511M [00:12&lt;00:00, 39.1MB/s]"
          }
        },
        "c5d4aa07e54e48ffbfec4a38fa519446": {
          "model_module": "@jupyter-widgets/base",
          "model_name": "LayoutModel",
          "model_module_version": "1.2.0",
          "state": {
            "_model_module": "@jupyter-widgets/base",
            "_model_module_version": "1.2.0",
            "_model_name": "LayoutModel",
            "_view_count": null,
            "_view_module": "@jupyter-widgets/base",
            "_view_module_version": "1.2.0",
            "_view_name": "LayoutView",
            "align_content": null,
            "align_items": null,
            "align_self": null,
            "border": null,
            "bottom": null,
            "display": null,
            "flex": null,
            "flex_flow": null,
            "grid_area": null,
            "grid_auto_columns": null,
            "grid_auto_flow": null,
            "grid_auto_rows": null,
            "grid_column": null,
            "grid_gap": null,
            "grid_row": null,
            "grid_template_areas": null,
            "grid_template_columns": null,
            "grid_template_rows": null,
            "height": null,
            "justify_content": null,
            "justify_items": null,
            "left": null,
            "margin": null,
            "max_height": null,
            "max_width": null,
            "min_height": null,
            "min_width": null,
            "object_fit": null,
            "object_position": null,
            "order": null,
            "overflow": null,
            "overflow_x": null,
            "overflow_y": null,
            "padding": null,
            "right": null,
            "top": null,
            "visibility": null,
            "width": null
          }
        },
        "1aa3bff8bf0f400b885ac8d0aa7ae444": {
          "model_module": "@jupyter-widgets/base",
          "model_name": "LayoutModel",
          "model_module_version": "1.2.0",
          "state": {
            "_model_module": "@jupyter-widgets/base",
            "_model_module_version": "1.2.0",
            "_model_name": "LayoutModel",
            "_view_count": null,
            "_view_module": "@jupyter-widgets/base",
            "_view_module_version": "1.2.0",
            "_view_name": "LayoutView",
            "align_content": null,
            "align_items": null,
            "align_self": null,
            "border": null,
            "bottom": null,
            "display": null,
            "flex": null,
            "flex_flow": null,
            "grid_area": null,
            "grid_auto_columns": null,
            "grid_auto_flow": null,
            "grid_auto_rows": null,
            "grid_column": null,
            "grid_gap": null,
            "grid_row": null,
            "grid_template_areas": null,
            "grid_template_columns": null,
            "grid_template_rows": null,
            "height": null,
            "justify_content": null,
            "justify_items": null,
            "left": null,
            "margin": null,
            "max_height": null,
            "max_width": null,
            "min_height": null,
            "min_width": null,
            "object_fit": null,
            "object_position": null,
            "order": null,
            "overflow": null,
            "overflow_x": null,
            "overflow_y": null,
            "padding": null,
            "right": null,
            "top": null,
            "visibility": null,
            "width": null
          }
        },
        "ca0bfbdbba1f43cdb70e2c4e28bdac78": {
          "model_module": "@jupyter-widgets/controls",
          "model_name": "DescriptionStyleModel",
          "model_module_version": "1.5.0",
          "state": {
            "_model_module": "@jupyter-widgets/controls",
            "_model_module_version": "1.5.0",
            "_model_name": "DescriptionStyleModel",
            "_view_count": null,
            "_view_module": "@jupyter-widgets/base",
            "_view_module_version": "1.2.0",
            "_view_name": "StyleView",
            "description_width": ""
          }
        },
        "42d7caf338704fc49680404841a02f41": {
          "model_module": "@jupyter-widgets/base",
          "model_name": "LayoutModel",
          "model_module_version": "1.2.0",
          "state": {
            "_model_module": "@jupyter-widgets/base",
            "_model_module_version": "1.2.0",
            "_model_name": "LayoutModel",
            "_view_count": null,
            "_view_module": "@jupyter-widgets/base",
            "_view_module_version": "1.2.0",
            "_view_name": "LayoutView",
            "align_content": null,
            "align_items": null,
            "align_self": null,
            "border": null,
            "bottom": null,
            "display": null,
            "flex": null,
            "flex_flow": null,
            "grid_area": null,
            "grid_auto_columns": null,
            "grid_auto_flow": null,
            "grid_auto_rows": null,
            "grid_column": null,
            "grid_gap": null,
            "grid_row": null,
            "grid_template_areas": null,
            "grid_template_columns": null,
            "grid_template_rows": null,
            "height": null,
            "justify_content": null,
            "justify_items": null,
            "left": null,
            "margin": null,
            "max_height": null,
            "max_width": null,
            "min_height": null,
            "min_width": null,
            "object_fit": null,
            "object_position": null,
            "order": null,
            "overflow": null,
            "overflow_x": null,
            "overflow_y": null,
            "padding": null,
            "right": null,
            "top": null,
            "visibility": null,
            "width": null
          }
        },
        "1056ca05c7eb4b3e93b4fd9df7499ced": {
          "model_module": "@jupyter-widgets/controls",
          "model_name": "ProgressStyleModel",
          "model_module_version": "1.5.0",
          "state": {
            "_model_module": "@jupyter-widgets/controls",
            "_model_module_version": "1.5.0",
            "_model_name": "ProgressStyleModel",
            "_view_count": null,
            "_view_module": "@jupyter-widgets/base",
            "_view_module_version": "1.2.0",
            "_view_name": "StyleView",
            "bar_color": null,
            "description_width": ""
          }
        },
        "f85ee3a8e62e4a6bac34dab3a3972a0a": {
          "model_module": "@jupyter-widgets/base",
          "model_name": "LayoutModel",
          "model_module_version": "1.2.0",
          "state": {
            "_model_module": "@jupyter-widgets/base",
            "_model_module_version": "1.2.0",
            "_model_name": "LayoutModel",
            "_view_count": null,
            "_view_module": "@jupyter-widgets/base",
            "_view_module_version": "1.2.0",
            "_view_name": "LayoutView",
            "align_content": null,
            "align_items": null,
            "align_self": null,
            "border": null,
            "bottom": null,
            "display": null,
            "flex": null,
            "flex_flow": null,
            "grid_area": null,
            "grid_auto_columns": null,
            "grid_auto_flow": null,
            "grid_auto_rows": null,
            "grid_column": null,
            "grid_gap": null,
            "grid_row": null,
            "grid_template_areas": null,
            "grid_template_columns": null,
            "grid_template_rows": null,
            "height": null,
            "justify_content": null,
            "justify_items": null,
            "left": null,
            "margin": null,
            "max_height": null,
            "max_width": null,
            "min_height": null,
            "min_width": null,
            "object_fit": null,
            "object_position": null,
            "order": null,
            "overflow": null,
            "overflow_x": null,
            "overflow_y": null,
            "padding": null,
            "right": null,
            "top": null,
            "visibility": null,
            "width": null
          }
        },
        "16c4c4d001084b0da75d3ffa56c3a469": {
          "model_module": "@jupyter-widgets/controls",
          "model_name": "DescriptionStyleModel",
          "model_module_version": "1.5.0",
          "state": {
            "_model_module": "@jupyter-widgets/controls",
            "_model_module_version": "1.5.0",
            "_model_name": "DescriptionStyleModel",
            "_view_count": null,
            "_view_module": "@jupyter-widgets/base",
            "_view_module_version": "1.2.0",
            "_view_name": "StyleView",
            "description_width": ""
          }
        }
      }
    }
  },
  "cells": [
    {
      "cell_type": "markdown",
      "metadata": {
        "id": "ytmUgL8n6Dqb"
      },
      "source": [
        "# **<font color=\"#A41034\">Text Classification using BERT</font>**\n",
        "\n",
        "<hr style=\"height:2pt\">"
      ]
    },
    {
      "cell_type": "markdown",
      "metadata": {
        "id": "Cd6Ds--BVEB-"
      },
      "source": [
        "## **<font color=\"#A41034\">Setup Notebook</font>**"
      ]
    },
    {
      "cell_type": "markdown",
      "metadata": {
        "id": "mSbE7iZyVEQP"
      },
      "source": [
        "**Copy & setup Colab with GPU**\n",
        "\n",
        "1) Select \"File\" menu and pick \"Save a copy in Drive\"  \n",
        "2) This notebooks is already setup to use GPU but if you want to change it. Go to \"Runtime\" menu and select \"Change runtime type\". Then in the popup in \"Hardware accelerator\" select \"GPU\" and then click \"Save\"   \n",
        "3) If you want high RAM there is an option for that"
      ]
    },
    {
      "cell_type": "markdown",
      "metadata": {
        "id": "ACbN62IyVQD4"
      },
      "source": [
        "**Installs**\n",
        "\n",
        "We will install Huggingface’s transformers library. This library let us import a wide range of transformer-based pre-trained modelssuch as GPT2 & BERT. Wer will use this for downloading the BERT model"
      ]
    },
    {
      "cell_type": "code",
      "metadata": {
        "id": "go9Xw58SVR2K",
        "colab": {
          "base_uri": "https://localhost:8080/"
        },
        "outputId": "c0a10df1-b8fa-4809-d08a-3433c71d7260"
      },
      "source": [
        "!pip install transformers"
      ],
      "execution_count": null,
      "outputs": [
        {
          "output_type": "stream",
          "name": "stdout",
          "text": [
            "Collecting transformers\n",
            "  Downloading transformers-4.18.0-py3-none-any.whl (4.0 MB)\n",
            "\u001b[K     |████████████████████████████████| 4.0 MB 4.4 MB/s \n",
            "\u001b[?25hRequirement already satisfied: packaging>=20.0 in /usr/local/lib/python3.7/dist-packages (from transformers) (21.3)\n",
            "Collecting sacremoses\n",
            "  Downloading sacremoses-0.0.49-py3-none-any.whl (895 kB)\n",
            "\u001b[K     |████████████████████████████████| 895 kB 52.9 MB/s \n",
            "\u001b[?25hRequirement already satisfied: importlib-metadata in /usr/local/lib/python3.7/dist-packages (from transformers) (4.11.3)\n",
            "Requirement already satisfied: filelock in /usr/local/lib/python3.7/dist-packages (from transformers) (3.6.0)\n",
            "Collecting tokenizers!=0.11.3,<0.13,>=0.11.1\n",
            "  Downloading tokenizers-0.12.1-cp37-cp37m-manylinux_2_12_x86_64.manylinux2010_x86_64.whl (6.6 MB)\n",
            "\u001b[K     |████████████████████████████████| 6.6 MB 37.2 MB/s \n",
            "\u001b[?25hRequirement already satisfied: requests in /usr/local/lib/python3.7/dist-packages (from transformers) (2.23.0)\n",
            "Requirement already satisfied: numpy>=1.17 in /usr/local/lib/python3.7/dist-packages (from transformers) (1.21.5)\n",
            "Collecting pyyaml>=5.1\n",
            "  Downloading PyYAML-6.0-cp37-cp37m-manylinux_2_5_x86_64.manylinux1_x86_64.manylinux_2_12_x86_64.manylinux2010_x86_64.whl (596 kB)\n",
            "\u001b[K     |████████████████████████████████| 596 kB 48.7 MB/s \n",
            "\u001b[?25hRequirement already satisfied: tqdm>=4.27 in /usr/local/lib/python3.7/dist-packages (from transformers) (4.64.0)\n",
            "Collecting huggingface-hub<1.0,>=0.1.0\n",
            "  Downloading huggingface_hub-0.5.1-py3-none-any.whl (77 kB)\n",
            "\u001b[K     |████████████████████████████████| 77 kB 5.4 MB/s \n",
            "\u001b[?25hRequirement already satisfied: regex!=2019.12.17 in /usr/local/lib/python3.7/dist-packages (from transformers) (2019.12.20)\n",
            "Requirement already satisfied: typing-extensions>=3.7.4.3 in /usr/local/lib/python3.7/dist-packages (from huggingface-hub<1.0,>=0.1.0->transformers) (4.1.1)\n",
            "Requirement already satisfied: pyparsing!=3.0.5,>=2.0.2 in /usr/local/lib/python3.7/dist-packages (from packaging>=20.0->transformers) (3.0.8)\n",
            "Requirement already satisfied: zipp>=0.5 in /usr/local/lib/python3.7/dist-packages (from importlib-metadata->transformers) (3.8.0)\n",
            "Requirement already satisfied: idna<3,>=2.5 in /usr/local/lib/python3.7/dist-packages (from requests->transformers) (2.10)\n",
            "Requirement already satisfied: certifi>=2017.4.17 in /usr/local/lib/python3.7/dist-packages (from requests->transformers) (2021.10.8)\n",
            "Requirement already satisfied: chardet<4,>=3.0.2 in /usr/local/lib/python3.7/dist-packages (from requests->transformers) (3.0.4)\n",
            "Requirement already satisfied: urllib3!=1.25.0,!=1.25.1,<1.26,>=1.21.1 in /usr/local/lib/python3.7/dist-packages (from requests->transformers) (1.24.3)\n",
            "Requirement already satisfied: click in /usr/local/lib/python3.7/dist-packages (from sacremoses->transformers) (7.1.2)\n",
            "Requirement already satisfied: six in /usr/local/lib/python3.7/dist-packages (from sacremoses->transformers) (1.15.0)\n",
            "Requirement already satisfied: joblib in /usr/local/lib/python3.7/dist-packages (from sacremoses->transformers) (1.1.0)\n",
            "Installing collected packages: pyyaml, tokenizers, sacremoses, huggingface-hub, transformers\n",
            "  Attempting uninstall: pyyaml\n",
            "    Found existing installation: PyYAML 3.13\n",
            "    Uninstalling PyYAML-3.13:\n",
            "      Successfully uninstalled PyYAML-3.13\n",
            "Successfully installed huggingface-hub-0.5.1 pyyaml-6.0 sacremoses-0.0.49 tokenizers-0.12.1 transformers-4.18.0\n"
          ]
        }
      ]
    },
    {
      "cell_type": "markdown",
      "metadata": {
        "id": "rzpUFWpxVSBi"
      },
      "source": [
        "**Imports**"
      ]
    },
    {
      "cell_type": "code",
      "metadata": {
        "id": "7yz3FQQRVSaS"
      },
      "source": [
        "import os\n",
        "import requests\n",
        "import zipfile\n",
        "import tarfile\n",
        "import shutil\n",
        "import math\n",
        "import json\n",
        "import time\n",
        "import sys\n",
        "import string\n",
        "import re\n",
        "import numpy as np\n",
        "import pandas as pd\n",
        "from glob import glob\n",
        "import collections\n",
        "import seaborn as sns\n",
        "import matplotlib.pyplot as plt\n",
        "import matplotlib.cm as cm\n",
        "%matplotlib inline\n",
        "\n",
        "# Tensorflow\n",
        "import tensorflow as tf\n",
        "from tensorflow.python.keras import backend as K\n",
        "\n",
        "# sklearn\n",
        "from sklearn.model_selection import train_test_split\n",
        "\n",
        "# Transformers\n",
        "from transformers import BertTokenizer, TFBertForSequenceClassification, BertConfig"
      ],
      "execution_count": null,
      "outputs": []
    },
    {
      "cell_type": "markdown",
      "metadata": {
        "id": "0y0oWvvrVpuS"
      },
      "source": [
        "**Verify Setup**\n",
        "\n",
        "It is a good practice to verify what version of TensorFlow & Keras you are using. Also verify if GPU is enabled and what GPU you have. Run the following cells to check the version of TensorFlow\n",
        "\n",
        "References:\n",
        "- [Eager Execution](https://www.tensorflow.org/guide/eager)\n",
        "- [Data Performance](https://www.tensorflow.org/guide/data_performance)"
      ]
    },
    {
      "cell_type": "code",
      "metadata": {
        "id": "MBJBiJ5YVqDB",
        "colab": {
          "base_uri": "https://localhost:8080/"
        },
        "outputId": "eb5d1858-8a8a-46eb-872f-0987c788137e"
      },
      "source": [
        "# Enable/Disable Eager Execution\n",
        "# Reference: https://www.tensorflow.org/guide/eager\n",
        "# TensorFlow's eager execution is an imperative programming environment that evaluates operations immediately,\n",
        "# without building graphs\n",
        "\n",
        "#tf.compat.v1.disable_eager_execution()\n",
        "#tf.compat.v1.enable_eager_execution()\n",
        "\n",
        "print(\"tensorflow version\", tf.__version__)\n",
        "print(\"keras version\", tf.keras.__version__)\n",
        "print(\"Eager Execution Enabled:\", tf.executing_eagerly())\n",
        "\n",
        "# Get the number of replicas\n",
        "strategy = tf.distribute.MirroredStrategy()\n",
        "print(\"Number of replicas:\", strategy.num_replicas_in_sync)\n",
        "\n",
        "devices = tf.config.experimental.get_visible_devices()\n",
        "print(\"Devices:\", devices)\n",
        "print(tf.config.experimental.list_logical_devices('GPU'))\n",
        "\n",
        "print(\"GPU Available: \", tf.config.list_physical_devices('GPU'))\n",
        "print(\"All Physical Devices\", tf.config.list_physical_devices())\n",
        "\n",
        "# Better performance with the tf.data API\n",
        "# Reference: https://www.tensorflow.org/guide/data_performance\n",
        "AUTOTUNE = tf.data.experimental.AUTOTUNE"
      ],
      "execution_count": null,
      "outputs": [
        {
          "output_type": "stream",
          "name": "stdout",
          "text": [
            "tensorflow version 2.8.0\n",
            "keras version 2.8.0\n",
            "Eager Execution Enabled: True\n",
            "INFO:tensorflow:Using MirroredStrategy with devices ('/job:localhost/replica:0/task:0/device:GPU:0',)\n",
            "Number of replicas: 1\n",
            "Devices: [PhysicalDevice(name='/physical_device:CPU:0', device_type='CPU'), PhysicalDevice(name='/physical_device:GPU:0', device_type='GPU')]\n",
            "[LogicalDevice(name='/device:GPU:0', device_type='GPU')]\n",
            "GPU Available:  [PhysicalDevice(name='/physical_device:GPU:0', device_type='GPU')]\n",
            "All Physical Devices [PhysicalDevice(name='/physical_device:CPU:0', device_type='CPU'), PhysicalDevice(name='/physical_device:GPU:0', device_type='GPU')]\n"
          ]
        }
      ]
    },
    {
      "cell_type": "markdown",
      "metadata": {
        "id": "5bDdKtVkVwch"
      },
      "source": [
        "Run this cell to see what GPU you have. If you get a A100, V100, P100 or T4 GPU that's great. If it's K80, it will still work but it will be slow."
      ]
    },
    {
      "cell_type": "code",
      "metadata": {
        "id": "pZqynk1tVw2t",
        "colab": {
          "base_uri": "https://localhost:8080/"
        },
        "outputId": "ccb5c6f6-9b92-402e-b063-4cbdbce96ee7"
      },
      "source": [
        "!nvidia-smi"
      ],
      "execution_count": null,
      "outputs": [
        {
          "output_type": "stream",
          "name": "stdout",
          "text": [
            "Wed Apr 13 17:42:38 2022       \n",
            "+-----------------------------------------------------------------------------+\n",
            "| NVIDIA-SMI 460.32.03    Driver Version: 460.32.03    CUDA Version: 11.2     |\n",
            "|-------------------------------+----------------------+----------------------+\n",
            "| GPU  Name        Persistence-M| Bus-Id        Disp.A | Volatile Uncorr. ECC |\n",
            "| Fan  Temp  Perf  Pwr:Usage/Cap|         Memory-Usage | GPU-Util  Compute M. |\n",
            "|                               |                      |               MIG M. |\n",
            "|===============================+======================+======================|\n",
            "|   0  Tesla V100-SXM2...  Off  | 00000000:00:04.0 Off |                    0 |\n",
            "| N/A   39C    P0    37W / 300W |    473MiB / 16160MiB |      1%      Default |\n",
            "|                               |                      |                  N/A |\n",
            "+-------------------------------+----------------------+----------------------+\n",
            "                                                                               \n",
            "+-----------------------------------------------------------------------------+\n",
            "| Processes:                                                                  |\n",
            "|  GPU   GI   CI        PID   Type   Process name                  GPU Memory |\n",
            "|        ID   ID                                                   Usage      |\n",
            "|=============================================================================|\n",
            "+-----------------------------------------------------------------------------+\n"
          ]
        }
      ]
    },
    {
      "cell_type": "markdown",
      "metadata": {
        "id": "lw32ENnxGUKL"
      },
      "source": [
        "## **<font color=\"#A41034\">Text Classification</font>**"
      ]
    },
    {
      "cell_type": "markdown",
      "metadata": {
        "id": "kqX23tjULArl"
      },
      "source": [
        "### **Overview**\n",
        "\n",
        "In this tutorial, we're going to be working with news articles from CNN. We will explore the dataset, prepare the data for modeling, and pretrained BERT.\n",
        "\n",
        "**The Task:** Classify news articles into three categories, namely politics, health, and entertainment."
      ]
    },
    {
      "cell_type": "markdown",
      "metadata": {
        "id": "FfBllrkLLEbO"
      },
      "source": [
        "### **Dataset**\n",
        "\n",
        "The dataset consists of news articles pulled from CNN in the politics, health, and entertainment categories. There are about 300 articles in each category."
      ]
    },
    {
      "cell_type": "markdown",
      "metadata": {
        "id": "5rMrEtY9LMY0"
      },
      "source": [
        "#### **Download**\n",
        "\n",
        "Download the datasets to colab."
      ]
    },
    {
      "cell_type": "code",
      "metadata": {
        "id": "2kWoaaJLLMwg",
        "colab": {
          "base_uri": "https://localhost:8080/"
        },
        "outputId": "3d7eeb38-222a-46d8-b128-9fe658663204"
      },
      "source": [
        "start_time = time.time()\n",
        "# Dowload the news dataset\n",
        "file_path = tf.keras.utils.get_file(\n",
        "    fname=\"news300.zip\",\n",
        "    origin=\"https://github.com/dlops-io/datasets/releases/download/v1.0/news300.zip\",\n",
        "    extract=True)\n",
        "data_dir = file_path.replace(\"news300.zip\",\"news300\")\n",
        "print(\"data_dir:\",data_dir)\n",
        "execution_time = (time.time() - start_time)/60.0\n",
        "print(\"Download execution time (mins)\",execution_time)"
      ],
      "execution_count": null,
      "outputs": [
        {
          "output_type": "stream",
          "name": "stdout",
          "text": [
            "Downloading data from https://github.com/dlops-io/datasets/releases/download/v1.0/news300.zip\n",
            "2113536/2109041 [==============================] - 0s 0us/step\n",
            "2121728/2109041 [==============================] - 0s 0us/step\n",
            "data_dir: /root/.keras/datasets/news300\n",
            "Download execution time (mins) 0.018874963124593098\n"
          ]
        }
      ]
    },
    {
      "cell_type": "markdown",
      "metadata": {
        "id": "Rslcjmd2Lh7o"
      },
      "source": [
        "#### **Load Data**\n",
        "\n",
        "* Read-in data as lists.\n",
        "* Each element in data_x is the content of a sample, namely an news article.\n",
        "* Each element in data_y is the label of that article."
      ]
    },
    {
      "cell_type": "code",
      "metadata": {
        "id": "s2AmGLNSLkcz",
        "colab": {
          "base_uri": "https://localhost:8080/"
        },
        "outputId": "0adf8554-6554-425e-acc8-9d1918b75cb0"
      },
      "source": [
        "label_names = os.listdir(data_dir)\n",
        "\n",
        "# Number of unique labels\n",
        "num_classes = len(label_names)\n",
        "# Create label index for easy lookup\n",
        "label2index = dict((name, index) for index, name in enumerate(label_names))\n",
        "index2label = dict((index, name) for index, name in enumerate(label_names))\n",
        "\n",
        "print(\"Number of classes:\", num_classes)\n",
        "print(\"Labels:\", label_names)\n",
        "\n",
        "# Generate a list of labels and path to text\n",
        "data_x = []\n",
        "data_y = []\n",
        "\n",
        "for label in label_names:\n",
        "  text_files = os.listdir(os.path.join(data_dir,label))\n",
        "  data_x.extend([os.path.join(data_dir,label,f) for f in text_files])\n",
        "  data_y.extend([label for f in text_files])\n",
        "\n",
        "# Load the text content\n",
        "for idx, path in enumerate(data_x):\n",
        "  # Load text\n",
        "  with open(path) as file:\n",
        "    data_x[idx] = file.read()\n",
        "\n",
        "# Preview\n",
        "print(\"data_x count:\",len(data_x))\n",
        "print(\"data_y count:\",len(data_y))\n",
        "print(\"Label counts:\",np.unique(data_y, return_counts=True))"
      ],
      "execution_count": null,
      "outputs": [
        {
          "output_type": "stream",
          "name": "stdout",
          "text": [
            "Number of classes: 3\n",
            "Labels: ['health', 'entertainment', 'politics']\n",
            "data_x count: 920\n",
            "data_y count: 920\n",
            "Label counts: (array(['entertainment', 'health', 'politics'], dtype='<U13'), array([310, 310, 300]))\n"
          ]
        }
      ]
    },
    {
      "cell_type": "markdown",
      "metadata": {
        "id": "mNFmLU6JLnzT"
      },
      "source": [
        "#### **View Text**\n",
        "\n",
        "Let's take a look at the data."
      ]
    },
    {
      "cell_type": "code",
      "metadata": {
        "id": "fD59pNxCP-sr",
        "colab": {
          "base_uri": "https://localhost:8080/",
          "height": 142
        },
        "outputId": "29096710-3def-438a-b359-0a4f9e23ed42"
      },
      "source": [
        "data_x[0]"
      ],
      "execution_count": null,
      "outputs": [
        {
          "output_type": "execute_result",
          "data": {
            "text/plain": [
              "'Mom loses hearing in one ear after mild Covid-19 infection  (CNN)One day in July, while Meredith Harrell was walking from her backyard into the house, her right ear suddenly started to ring. She realized that, other than the ringing, she couldn\\'t hear anything out of that ear. \"It was like someone flipped a switch,\" she said.   Harrell\\'s hearing loss was a mystery until about a week later, when she took a Covid-19 test. It was positive.   Even though she never felt sick, an otologist -- a doctor who specializes in hearing -- explained to Harrell that the virus was likely the culprit.   Viruses such as measles, mumps and meningitis are known to sometimes cause sudden hearing loss, and there\\'s growing evidence that the novel coronavirus should be added to the list.   \"We\\'re hearing more and more that people have hearing loss as part of their Covid infection,\" said Dr. Matthew Stewart, associate professor of otolaryngology at Johns Hopkins Medicine.   There are no statistics on how common it is for people who\\'ve had Covid-19 to experience hearing loss, but a few small studies point to a possible link.  A team in Manchester, England, asked Covid-19 patients eight weeks after they\\'d been discharged from the hospital whether they\\'d experienced any hearing changes or ringing in their ears. Of the 138 patients in the study, published in the International Journal of Audiology, 13% said yes. Doctors can\\'t say for sure that the virus attacks the inner ear. Doing a biopsy of the inner ear can be dangerous, as it risks damaging the tissue.  Stewart and his colleagues performed procedures on the bodies of three people who had died after a Covid-19 infection to see if they could find the virus in the inner ears.   In two of the three cadavers, they found the novel coronavirus in the middle ear and mastoid bone in the skull, which is located just behind the ear. The study was published in JAMA Otolaryngology -- Head and Neck Surgery.   Stewart said while other viruses have been known to cause sudden hearing loss, \"personally I\\'m suspicious that [the novel coronavirus] has the potential to be worse.\"   He said the reason is that the coronavirus is known to cause blood clots in other areas of the body, and he thinks that could be happening in the \"extremely small blood vessels\" in the inner ear.   Kevin Munro, an audiological scientist who co-authored the study in Manchester, said he thinks that theory makes sense.   \"The capillaries in the inner ear are the smallest in the human body, so it wouldn\\'t take much to block them,\" he said.   Munro and his team at the University of Manchester are planning larger studies on Covid-19 and hearing loss.   Until then, they\\'re not sure why it seems like some Covid-19 patients develop hearing loss while others don\\'t.   Munro and Stewart said the treatment is high doses of oral steroids.   They seem to have helped Liam, a 23-year-old student, who lost 70-80% of the hearing in his left ear after a Covid-19 infection.   Liam contracted Covid-19 in June, and had a fever, headache and was exhausted for weeks. After he started feeling better, he suddenly lost his hearing and had tinnitus, or ringing in the air.   After a round of steroids, he said he can now hear everything except high tones. The ringing has persisted, and he said his doctors tell him it might never go away.   \"It\\'s really dreadful,\" said Liam, who asked that his last name not be used to protect his privacy.   Steroids did not work for Harrell. She said her doctors tell her she\\'s unlikely to get her hearing back in her right ear, and will be fitted soon with a hearing aid. The tinnitus in that ear might not stop, either.   Harrell thinks back to how she contracted Covid-19. It was late June, and a friend came over for a visit. She said they spent most of the time outside.   That friend called a few days later to say he\\'d been exposed to someone with Covid-19. Harrell, 42, said her husband and children also tested positive for the virus. Her husband had tightness in his chest for a few days, and her children, ages 9 and 10, had no symptoms. \"I wasn\\'t sick, but I still had consequences,\" she said. \"I hope people get the message that this is no joke.\"  '"
            ],
            "application/vnd.google.colaboratory.intrinsic+json": {
              "type": "string"
            }
          },
          "metadata": {},
          "execution_count": 7
        }
      ]
    },
    {
      "cell_type": "code",
      "metadata": {
        "id": "NFlDZRcxDr86",
        "colab": {
          "base_uri": "https://localhost:8080/",
          "height": 35
        },
        "outputId": "8c201f0b-4f17-4d53-d812-06a6ac0394bf"
      },
      "source": [
        "data_y[0]"
      ],
      "execution_count": null,
      "outputs": [
        {
          "output_type": "execute_result",
          "data": {
            "text/plain": [
              "'health'"
            ],
            "application/vnd.google.colaboratory.intrinsic+json": {
              "type": "string"
            }
          },
          "metadata": {},
          "execution_count": 8
        }
      ]
    },
    {
      "cell_type": "code",
      "metadata": {
        "id": "Q_xFL7u8LqiT",
        "colab": {
          "base_uri": "https://localhost:8080/"
        },
        "outputId": "deb7f0b6-b3ec-45f9-95ac-b0e631615528"
      },
      "source": [
        "# Generate a random sample of index\n",
        "data_samples = np.random.randint(0,high=len(data_x)-1, size=10)\n",
        "for i,data_idx in enumerate(data_samples):\n",
        "  print(\"Label:\",data_y[data_idx],\", Text:\",data_x[data_idx])"
      ],
      "execution_count": null,
      "outputs": [
        {
          "output_type": "stream",
          "name": "stdout",
          "text": [
            "Label: health , Text: Pfizer and BioNTech begin large-scale trial of coronavirus vaccine in the United States  (CNN)Drug giant Pfizer and its partner BioNTech have begun an advanced trial of one of their experimental coronavirus vaccines in volunteers in the United States. The first four participants were dosed Monday at the University of Rochester Medical Center, a spokesman there said. The combined Phase 2/3 trial, which looks for safety, efficacy and optimal dosing of a vaccine or drug, will include up to 30,000 participants. It was the second advanced trial of a coronavirus vaccine to get under way in the United States Monday. Earlier Monday, Moderna started a Phase 3 trial in the United States of its experimental vaccine. Pfizer's vaccine is different, but also uses an experimental approach that employs genetic material to stimulate an immune response against a key part of the coronavirus. Earlier this month, Pfizer and BioNTech released preliminary data showing that one of their vaccines, known only by its experimental name BNT162b1, appeared safe and elicited antibody and T-cell immune responses in a Phase 1/2 trial.  But the company has moved ahead with a slightly different candidate. This one will move forward in the combined Phase 2/3 trial, at about 120 sites worldwide, including 39 US states and Argentina, Brazil and Germany. Pfizer's coronavirus vaccines all use pieces of genetic material to prompt the vaccine recipient to make antibodies against specific parts of the coronavirus. Pfizer and BioNTech's first vaccine targeted a piece of the spike protein, a structure the virus uses to infect human cells. The second vaccine, being moved into advanced trials, targets the entire spike structure. \"This decision reflects our primary goal to bring a well-tolerated, highly effective vaccine to the market as quickly as possible, while we will continue to evaluate our other vaccine candidates as part of a differentiated COVID-19 vaccine portfolio,\" BioNTech founder Dr. Ugur Sahin said in a statement. Moncef Slaoui, chief adviser to the US government's Covid-19 vaccine effort, Operation Warp Speed, said building on earlier, tested vaccine platforms allows speedier development of vaccines while still being safe. \"We're selecting very carefully and thoughtfully vaccine technologies that are very likely to work, and work for us, because we know them somewhat,\" Slaoui said Tuesday at the privately sponsored Disease Prevention and Control Summit. Both versions of Pfizer's vaccine elicit antibody responses as well as immune cells called T-cells, the company said. If a vaccine activates both arms of the immune system the hope is it will be more effective and provide more durable protection. A Phase 1 study typically involves a small number of people and focuses on whether a vaccine is safe and elicits some kind of immune response. In Phase 2, the clinical study is expanded and the vaccine is given to people who have characteristics -- such as age and physical health -- similar to those for whom the new vaccine is intended, according to the US Centers for Disease Control and Prevention. In Phase 3, the vaccine is given to thousands of people and tested for efficacy and again for safety. If the vaccine works, Pfizer and BioNTech say they're on track to seek regulatory review as early as October, and if it wins emergency authorization from the US Food and Drug Administration, they could supply up to 100 million doses by the end of 2020, and about 1.3 billion by the end of 2021. Last week the US Department of Health and Human Services and Department of Defense announced a $1.95 billion agreement with Pfizer to produce 100 million doses of a Covid-19 vaccine. The deal also allows the US government to acquire an additional 500 million doses. Pfizer and BioNTech's vaccine is one of 25 in clinical trials around the world, according to the World Health Organization. According to Johns Hopkins University's tally of cases in the United States, more than 4.2 million cases of coronavirus have been confirmed in the United States and more than 148,000 people have died.  \n",
            "Label: politics , Text: Trump's task force invisible as cases surge again  (CNN)The often-at-odds collection of health experts and political figures who comprise President Donald Trump's coronavirus task force now appear less influential than ever as Covid-19 cases begin to spike again three weeks before Election Day. While still technically in place, people close to the White House task force and others inside the administration describe a panel that has, for all practical purposes, been swept aside by politics and competing interests. Instead of advising Trump on a response, members of the task force now find themselves entirely at odds with a President whose own bout with the disease has only emboldened him further to ignore their recommendations. With Vice President Mike Pence -- the task force's leader -- on the road every day campaigning, the weekly governors' call he usually heads was led Tuesday by Health and Human Services Secretary Alex Azar. Governors were provided an update on the status of the pandemic, vaccine development and concerns about small home gatherings, with input from the task force's health experts, including Drs. Anthony Fauci and Deborah Birx, US Centers for Disease Control and Prevention Director Dr. Robert Redfield and Adm. Brett Giroir. The panel also continues to release weekly reports with tailored recommendations to each state, a practice it began in June.  But those reports, which often paint a picture at odds with Trump's more optimistic statements, aren't made public. And task force officials haven't conducted a briefing from the White House in weeks as Trump looks to convey a cheery view of the crisis, despite the new increases. \"We're rounding that final turn,\" Trump said Wednesday during a remote address to the Economic Clubs of New York, Washington, Chicago, Sheboygan and Pittsburgh. He went on to claim the media has \"undermined our public health efforts and put innocent lives in danger.\" \"We must allow lower risk Americans to resume normal activity,\" Trump said, slamming \"unscientific lockdowns pushed by left wing politicians.\" It was hardly the message being offered by leaders in other nations that are experiencing a similar resurgence in cases. French President Emmanuel Macron announced new curfews in Paris and other cities on Wednesday. And though British Prime Minister Boris Johnson has ignored some of the advice from his medical experts, he still laid out a three-tiered system this week for new local lockdowns should cases continue rising. Trump has offered no similar plan for what Americans should do if cases begin rising, which they have started to do in 36 states. Instead of modeling recommendations already in place by his own government, Trump has embarked upon a schedule of nightly campaign rallies with no social distancing and only loose requirements on masks. More often than not, Trump's behavior flies in direct opposition to the stance adopted by the task force. For example, in this week's state report for Idaho, the task force warned against \"Covid-19 stigma\" as it relates to closing schools in the event of a new outbreak. Yet Trump has forcefully and repeatedly advocated for reopening schools and keeping them open.  Trump himself long ago came to view the task force as a cumbersome collection of officials whom he believes exist mainly to contradict his rosy projections about the pandemic and advise against the reopening he was loudly advocating for in public. He sought to dissolve it in May only to reverse himself, saying he didn't realize how popular it was. Some of Trump's top advisers, including chief of staff Mark Meadows, have also largely written off the task force as having little influence on how Trump approaches the crisis. The group's power seemed to peak in the spring, when Fauci and Birx convinced Trump to extend lockdown recommendations amid the first wave of cases, hospitalizations and deaths. Now, whatever sway the body once had appears entirely nonexistent. Since August, Trump has relied almost exclusively on the counsel of Dr. Scott Atlas, a radiologist who has advocated against wearing masks and has been spotted even amid a viral outbreak at the White House with his nose and mouth uncovered. During a call with reporters on Monday that included none of the task force's medical experts, White House senior administration officials discussed a controversial declaration written by some scientists that advocates for ending lockdowns, building immunity and pushing for those who are not vulnerable to Covid-19 to resume normal life. The Great Barrington Declaration aligns \"very strongly with what the President has said for months -- that is strongly protect the high-risk elderly and vulnerable and open schools and restore society to function,\" a senior administration official said during the call. Yet many experts, including some on the task force itself, warn that the idea to allow the novel coronavirus to circulate freely -- also known as a \"herd immunity\" approach -- is dangerous. Trump hasn't met with Fauci, the nation's top infectious disease expert, in more than a month, though on Wednesday the agency where he works, the National Institutes of Health, said Fauci had examined some of Trump's medical data and deemed him non-infectious ahead of a town hall. Instead of collectively providing the nation advice as cases begin to rise, Trump and Fauci have appeared at odds after Trump's campaign used a clip of Fauci in a television commercial. Fauci demanded it be taken down and issued a veiled warning on CNN that further use of his image for political ends would backfire. Privately, Trump was irritated to learn Fauci had deemed his Rose Garden announcement of a new Supreme Court nominee a \"super spreader\" event and has bristled when Fauci and others on the task force caution against major gatherings like his political rallies. Birx, who hasn't been seen at a White House press briefing since late July, has physically left the White House to hit the road herself, traveling to nearly 40 states in recent weeks to meet with state, local, and university officials. She frequently participates in news conferences with local outlets, with the White House viewing her as an asset through the earned media in the strategic places she's been deployed.  But she, too, has been frustrated by Atlas's influence with the President, according to people close to the matter. And like Fauci, she has not escaped Trump's wrath; he called her \"pathetic\" in August after she described an earlier surge as \"extraordinarily widespread.\" According to Olivia Troye, a former top adviser to Pence who left the White House and has now become an outspoken critic of Trump, the President would routinely ignore warnings offered by his health advisers during task force meetings. She described a systematic silencing of the task force experts as the pandemic worsened and White House officials decided against listening to the administration's top health advisers, including Fauci. \"It's bizarre,\" Troye said. \"Trump would listen, then disregard him completely.\" At meetings, members of Pence's staff would challenge Fauci in front of the task force. At other times, Troye said, White House officials simply brushed off Fauci's warnings.  \"It was horrifying,\" Troye said. \"It's the amateurs versus the experts. Except the amateurs have all the power.\" Also caught in that crossfire have been Dr. Stephen Hahn, the Food and Drug Administration commissioner, and Redfield, the embattled CDC chief who was heard complaining about Atlas during a telephone call on an airplane earlier this month.  Hahn last week found himself at odds with Trump after the President trashed new FDA standards for emergency approval of a coronavirus vaccine. The President suggested the moves were political and meant to delay a vaccine until after November 3. Meanwhile, Redfield has been encouraged to speak out against the Trump administration's handling of the pandemic as his agency suffers major reputational damage, including in a letter last week from arguably the most respected director in CDC history, Dr. William Foege. The scathing critique of Redfield by Foege was unprecedented. After considering responding to the letter, CDC spokesman Paul Fulton Jr. told CNN the agency and Redfield had \"nothing more to add at this time.\"  \n",
            "Label: entertainment , Text: Ellen DeGeneres sets talk show return date   (CNN)Ellen DeGeneres is going to \"talk about it. \" The \"it,\" of course, presumably refers to allegations that the show was a toxic work environment for several staffers, who spoke to Buzzfeed for a report published this summer.  In addition to prompting an apology from DeGeneres, the report led to changes at the show, including the exit of three top producers -- Ed Glavin, Kevin Leman and Jonathan Norman.  \"I can't wait to get back to work and back to our studio. And, yes, we're gonna talk about it,\" DeGeneres said in a statement announcing the show's September 21 return date. Tiffany Haddish is set to help DeGeneres kick off the new season, which will be filmed in-studio on the Warner Bros. lot in Los Angeles but not in front of an audience, the studio said in a release. (Warner Bros, like CNN, is owned by WarnerMedia.)  Other premiere week guests will include Kerry Washington, Alec Baldwin and Chrissy Teigen.   \n",
            "Label: politics , Text: John Roberts faces a new round of legacy-defining turmoil  (CNN)Chief Justice John Roberts faces a new period of Supreme Court turmoil that could define him and his legacy like nothing he confronted in the past 15 years, when he sided with liberals on Obamacare, clashed with President Donald Trump, and presided over an historic impeachment trial.   The new Supreme Court session that begins on Monday will determine, among a raft of contentious cases, the future of the Affordable Care Act and insurance coverage for more than 20 million people. More urgently, election-related cases are hurtling toward the court and the chances the justices would become ensnarled in a presidential dispute after November 3 appear high. Some version of the 2000 Bush v. Gore case could play out in a ballot controversy between Republican Trump and Democratic former vice president Joe Biden. At the same time, Senate Republicans want to move swiftly to confirm Supreme Court nominee Amy Coney Barrett, now a federal appeals court judge based in Indiana. The replacement of liberal Justice Ruth Bader Ginsburg, who died on September 18, with hard-core conservative Barrett is likely to destabilize the fragile control Roberts had exercised as the justice at the ideological middle of the bench.  The 65-year-old Roberts would soon be negotiating with a solid majority of five justices on his right. The new court makeup would increase the chances of lopsided decisions that belie Roberts' assertion of an impartial judiciary. With little relief from the coronavirus, which has now infected President Trump, the public will witness how a sudden 6-3, conservative-liberal split affects the constitutionality of Obamacare, scheduled for oral arguments one week after the election. Also pending are emergency filings related to abortion rights and how undocumented immigrants will be counted in the 2020 census. All told, the next few months could redefine the Roberts court in the American eye and shape public expectations of the justices in the years to come. \"If the Supreme Court gets involved in the election,\" said Yale law professor Cristina Rodriguez, \"that could have long term repercussions for the court, and I think Roberts will be very aware of that.\" Rodriguez recalled the late Justice John Paul Stevens' admonition, in dissent, during the dispute between George W. Bush and Al Gore that, \"Although we may never know with complete certainty the identity of the winner of this year's Presidential election, the identity of the loser is perfectly clear. It is the Nation's confidence in the judge as an impartial guardian of the rule of law.\" Added Rodriguez, comparing 2000 and today: \"This election is much higher stakes.\"  Less room to maneuver in the middle In the last term, Roberts, a 2005 appointee of President Bush, exerted unprecedented control. He steered the majority in disputes over abortion rights, immigration and subpoenas for Trump's financial documents. Roberts, at the time a crucial fifth vote for the right-wing, also deterred his colleagues from taking up new appeals that could lead to expansion of Second Amendment individual gun rights.  But the expected addition of sixth conservative Barrett means five solid conservatives to Roberts' right, for a likelier majority, for example, to curtail firearm regulations. Barrett would join fellow conservative Justices Clarence Thomas, Samuel Alito, Neil Gorsuch and Brett Kavanaugh. Remaining liberals are Justices Stephen Breyer, Sonia Sotomayor and Elena Kagan. Roberts will have less maneuvering room at the center, to be sure, but he will still be able to assign the opinions when he is in the majority on a case. He can keep the opinion for himself or give it to another justice, perhaps as a point of leverage with colleagues relishing the opportunity to write opinions for the court in important cases.  He cast the key fifth vote in 2012 to uphold the Obamacare law that provided insurance coverage for millions more Americans, expanded Medicaid and guaranteed free mammograms, cholesterol checks and birth control. The law also prevents insurers from denying coverage to people based on pre-existing conditions such as cancer and diabetes.  The current case, brought by Texas and other Republican-led states and backed by the Trump administration, attempts to invalidate the entire law. They assert that the act's individual insurance mandate, tied to a tax that Congress zeroed-out in 2017, is now unconstitutional and that the entire law must fall with it.    Roberts has faced ongoing fury from Trump and some Republicans for his earlier health care votes, in 2012 and a separate 2015 dispute. He infuriated the same crowd last term when he cast the decisive vote, with the four liberals (including Ginsburg) to preserve an Obama-era program that protects young immigrants who came to the US without proper papers. A year earlier, he voted with the same four liberals to block a citizenship question on the 2020 census. In a new census fight, the Trump administration has appealed to the high court to let it exclude undocumented immigrants from being counted for the re-allocation of congressional seats in the 50 states next year.  Roberts, to be clear, is no liberal. He has been a generally reliable conservative, most notably on issues of voting rights, racial remedies and campaign finance. But more than anyone in the conservative bloc, he has worked to minimize partisan divisions. Trump, who has long condemned Roberts for his 2012 Obamacare vote, has continued to rail against his rulings. After the decision rejecting Trump's attempt to rescind the Deferred Action for Childhood Arrivals, often called the \"Dreamers\" program, Trump said on Twitter June 18: \"Do you get the impression that the Supreme Court doesn't like me?\" The leaders of the executive and judicial branches tangled most visibly in November 2018. After Trump derided a federal district court judge who ruled against the administration as \"an Obama judge,\" Roberts put out a statement that said: \"We do not have Obama judges or Trump judges, Bush judges or Clinton judges. What we have is an extraordinary group of dedicated judges doing their level best to do equal right to those appearing before them.\" Trump fired back, \"Sorry Chief Justice John Roberts, but you do indeed have 'Obama judges,' and they have a much different point of view than the people who are charged with the safety of our country.\" Bush v. Gore redux? The ultimate Trump-related challenge could come with litigation related to the presidential election, perhaps over how to tally certain absentee ballots or state leeway for meeting federal deadlines to turn over final electoral college counts to Congress.   Speaking of the presidential contest last month, Trump said, \"I think this will end up at the Supreme Court. And I think it's very important that we have nine justices.\" He has signaled he believes the addition of Barrett, who would be his third high court appointee, would help his side -- if it came to that. Roberts, as an attorney in private practice in 2000, assisted former Texas Gov. Bush's legal team in the election controversy against then Vice President Gore. The Supreme Court's 5-4 decision on December 12 ended Florida recounts and ensured Bush won the White House. Roberts would be aware of how much the 36-day ordeal divided the country, and that today's political atmosphere is more fraught. If such an election battle were to reach the justices, it would be even more likely to undermine the integrity of the high court. \"If the court ends up playing a decisive role, it's virtually inevitable that the losing side will view the court as a partisan player,\" said New York University law professor Richard Pildes, a CNN election law analyst. \"This is a very delicate moment for the court and Chief Justice Roberts.\"  \n",
            "Label: entertainment , Text: Roger Stone denies using racial slur on radio show  New York  (CNN Business)Roger Stone, the political operative who avoided 40 months in prison after US President Donald Trump commuted his sentence earlier this month, denied on Sunday using the word Negro on air toward a Black radio host.  The exchange took place on Saturday during Stone's appearance on \"The Mo'Kelly Show,\" a Los Angeles-based radio broadcast. Host Morris O'Kelly questioned Stone on his conviction for lying to Congress and tampering with evidence by threatening a witness involved with Trump's 2016 campaign. He then asserted that Stone's sentence was commuted because of his longtime friendship with Trump.  \"There are thousands of people treated unfairly daily, how your number just happened to come up in the lottery, I am guessing it was more than just luck, Roger, right?\" O'Kelly asked.  Stone's voice was faint over the phone following O'Kelly's question. A voice could be heard murmuring \"arguing with this Negro.\" O'Kelly then asked Stone to repeat the comment, but there was silence from Stone's end of the line.  \"I'm sorry you're arguing with whom? I thought we were having just a very spirited conversation,\" O'Kelly said. \"What happened? ...You said something about 'Negro.'\" After a brief silence, Stone said he had not, adding, \"You're out of your mind.\"  The word \"Negro\" was commonly used in the past to refer to Black Americans, according to Ferris State University — up until the 1960s. The term has since been considered as offensive toward Black Americans. In 2014, the US Army was slammed for its regulation allowing \"black or African-American\" personnel to be referred to as \"Negro.\" It removed the word from the policy and apologized. In a statement obtained by CNN Business, Stone denied using the term, stating he \"despises racism.\" He also said the \"word negro is far from a slur\" according to his \"many Black friends.\" \"Mr. O'Kelly needs a good peroxide cleaning of the wax in his ears because at no time did I call him a negro,\" Stone wrote. Stone said it was a studio engineer who used the word \"after he cut my sound feed off three times.\" He also said the claim was a \"smear designed to boost\" O'Kelly's ratings, and that he had \"retained a forensic sound technician and will publish a report shortly.\"  \n",
            "Label: entertainment , Text: The biggest movies that have been delayed, and when you can expect to see them now New York (CNN Business)2020 is a lost year for the movies.  Hollywood, like many industries, has been devastated by the coronavirus pandemic. Movie theaters were forced to shut down for months, and have struggled to find an audience since reopening. Productions have stalled, and blockbuster releases have been rescheduled. The year started with a surprising amount of promise, however. Sony's \"Bad Boys For Life\" and Paramount's \"Sonic the Hedgehog\" kicked off 2020 with unexpectedly strong box office returns. The schedule for the rest of the year included potential blockbusters like a new James Bond movie, a live action remake of \"Mulan\" and the return of the Ghostbusters.  But all of those films were either delayed, pushed to next year or skipped US theaters entirely because of the pandemic. This has left cineplexes with a bleak and uncertain future. (Track how box-office sales have been hit on our recovery dashboard.) With new films seemingly being shifted around every day, it's been hard to keep up. Here's where things stand now. Movies delayed to later this year \"No Time to Die\" The latest chapter in the James Bond series was the first major film to be delayed because of coronavirus. The film, which is now set to open on November 20, was originally slated for release on April 10. \"Soul\" Pixar's new animated film about a jazz player separated from his soul was pushed back from June 19 to November 20. \"Tenet\" Originally set to open in July, Christopher Nolan's twisty thriller was delayed multiple times before opening internationally first in August. It then opened with a rough start in the US on September 3. \"Wonder Woman 1984\" The sequel to the 2017 hit, expected to be one of the biggest films of the year, has bounced around the calendar moving from June to August to October to Christmas. Movies that moved to next year \"Black Widow\" \"Black Widow\" was  supposed to be one of the year's biggest blockbusters, reinforcing Marvel's perch as one of the most reliable brands at the box office. Coronavirus changed all of that. The film, which was originally meant to be released in May, was pushed to November before being delayed to May 7, 2021 — roughly a year after it was supposed to debut. \"Eternals\" The delay of \"Black Widow\" kicked off a bit of a domino effect for the other films in the Marvel Cinematic Universe. \"Eternals,\" which was supposed to hit theaters in November then February, is now premiering on November 5, 2021. \"Top Gun: Maverick\" The sequel to 1986's \"Top Gun\" was cleared for takeoff on June 24 before being delayed until December 23. Paramount delayed it again until July 2, 2021. \"F9\" The ninth installment of the \"Fast & Furious\" franchise didn't play the rescheduling game. As soon as coronavirus took hold, Universal immediately pushed the film's release from May 22 to April 2, 2021. \"Ghostbusters: Afterlife\" The return of the Ghostbusters was supposed to take place on July 10, but Sony (SNE) moved the film to March 5, 2021. \"A Quiet Place Part II\" \"A Quiet Place Part II\" came close to opening in the middle of the pandemic with a release date set for March 20. Paramount moved the film to September before moving it again to April 23, 2021. \"Venom: Let There Be Carnage\" The sequel to the 2018 blockbuster was supposed to be one of the biggest hits for Sony in 2020. Now the studio will have to settle for it being a hit next year when it opens on June 25, 2021. \"Halloween Kills\" Universal delayed the horror film starring masked killer Michael Myers a year to October 15, 2021. \"West Side Story\" Steven Spielberg's take on the musical street fight between the Jets and the Sharks was set to open around the holidays on December 18. Now, it's still set for a holiday release, but not until next year, on December 10, 2021. Movies that skipped theaters for digital \"Trolls World Tour\" \"Trolls World Tour\" may not be as big as the other films on this list, but its impact might be. Universal announced in March that the film would be skipping its April release date by going directly to digital. The move raised questions about the future of movies and streaming and even led to a tiff between AMC Theatres (AMC), which is the biggest movie chain in the world, and Universal. \"Mulan\" No movie better reflects the film industry's tumultuous 2020 than \"Mulan.\" Disney's live action remake of the 1998 animated classic was delayed multiple times before the studio decided to release the film on Disney+ for $30 or in markets where the streaming service isn't available. The film, which caused a sizable backlash online, opened to lackluster results in China and yet unknown results on Disney+.  \n",
            "Label: politics , Text: Amy Coney Barrett, a proven conservative with a compelling personal story  This story originally published on September 21, 2020. It has been updated to reflect President Donald Trump's announcement of Amy Coney Barrett for the Supreme Court nominee.  (CNN)Judge Amy Coney Barrett, a federal appellate judge and Notre Dame law professor, is a proven conservative with a compelling personal story who has long been atop President Donald Trump's Supreme Court short list.  Trump announced Saturday he is nominating Barrett to be the new high court justice during a ceremony at the White House Rose Garden. The Senate Judiciary Committee will begin confirmation hearings on Barrett's nomination on October 12. Barrett, the mother of seven children and a former law clerk to the late right-wing beacon Justice Antonin Scalia, Barrett, now 48, was a finalist for the Supreme Court spot that went to Brett Kavanaugh in 2018.  She met with Trump to discuss the nomination on Monday, sources close to the process told CNN. Advocates on the far right have backed her possible nomination because of her writings on faith and the law. Religious conservatives were especially energized for Barrett when, during the 2017 confirmation hearing for her current judgeship, Democratic Sen. Dianne Feinstein of California suggested to her that the \"dogma lives loudly within you.\" Barrett supporters believed the nominee was being disparaged for her Catholicism. For all the reasons that Trump sees Barrett as a potential successor to the late Justice Ruth Bader Ginsburg, Democratic senators and liberal advocates have long been poised to oppose her, warning particularly that she could roll back abortion rights and invalidate the Affordable Care Act. Some of Judge Amy Coney Barrett's most notable dissents  Critics beyond Feinstein, the senior Democrat on the Senate Judiciary Committee, have suggested Barrett's religious views would influence her rulings. Barrett testified that her faith would not shape her rulings at the Senate hearings for appointment by Trump to the 7th US Circuit Court of Appeals, which covers Indiana, Illinois and Wisconsin. 2nd Amendment, immigration and abortion Since joining the appellate bench, Barrett has been a cautious jurist, plainly aware that she remains under a national microscope for any Supreme Court confirmation battle. Still, she has demonstrated her conservative bona fides on Second Amendment gun rights, immigration and abortion.  Last year, she dissented alone when a 7th Circuit panel majority rejected a Second Amendment challenge from a man found guilty of felony mail fraud and prohibited from possessing a firearm under federal and Wisconsin law.  \"History is consistent with common sense: it demonstrates that legislatures have the power to prohibit dangerous people from possessing guns,\" she wrote in Kanter v. Barr, applying an originalist approach that looked to the 18th-century intentions. \"But that power extends only to people who are dangerous. Founding legislatures did not strip felons of the right to bear arms simply because of their status as felons.\" Barrett concluded, \"Holding that the ban is constitutional ... does not put the government through its paces, but instead treats the Second Amendment as a second-class right.\" More recently in June, she dissented as a 7th Circuit panel left intact a US district court decision temporarily blocking a Trump policy that disadvantaged green card applicants who apply for any public assistance. In dispute were federal immigration regulations regarding when an applicant would be deemed a \"public charge\" and ineligible for permanent status in the US.  In her dissent, Barrett wrote that the Trump administration's interpretation of the relevant \"public charge\" law was not \"unreasonable.\" The 7th Circuit majority in Cook County v. Wolf countered that her construction failed to take account of the immigrants who would \"bear the brunt of the\" new rule.   In 2018, when the full 7th Circuit declined to reconsider a dispute over an Indiana abortion regulation requiring that the post-abortion fetal remains be cremated or buried, Barrett dissented with fellow conservatives. They began by focusing on a more contentious provision that had been earlier invalidated and not subject to the appeal. The Supreme Court confirmation process, explained That provision made it unlawful for physicians to perform an abortion because of the race, sex or disability of the fetus. Barrett joined an opinion written by fellow conservatives referring to the law as a \"eugenics statute.\" Barrett and the others asserted, going beyond the legal dispute before them, that \"None of the Court's abortion decisions holds that states are powerless to prevent abortions designed to choose the sex, race, and other attributes of children.\" In an early 2017 law review essay, reviewing a book related to the Supreme Court ruling on the Affordable Care Act, Barrett criticized Chief Justice John Roberts' rationale that saved the law in 2012.  \"Chief Justice Roberts pushed the Affordable Care Act beyond its plausible meaning to save the statute. He construed the penalty imposed on those without health insurance as a tax, which permitted him to sustain the statute as a valid exercise of the taxing power.\" Should Barrett be confirmed before Election Day or shortly thereafter, one of her earliest cases would be on the latest Obamacare challenge. The court is scheduled to hear that case on November 10. Roe v. Wade and earlier meeting with Trump Born in New Orleans in 1972 and a 1997 Notre Dame law graduate, Barrett worked in private practice and then became a law professor, settling at Notre Dame in 2002. According to the questionnaire she filed with the Senate Judiciary Committee in 2017, she was named Notre Dame's law professor of the year in 2006 and 2016.  She has been a popular and provocative figure in the classroom, telling Feinstein in a written response to follow-up questions, \"My role as an academic was to stand outside of the system and to provoke students of the law to think hard about how the system works. Sometimes that involves critiques of the system. A judge, by contrast, operates within the system, and her duty is to apply the law as it exists.\" Barrett also responded to a written question regarding her previously expressed view that adherence to precedent might be \"unlawful\" if it conflicts with the Constitution's \"original meaning.\" A strong point of concern for Barrett's critics is whether she would help lead the way toward reversing the 1973 landmark Roe v. Wade ruling, which made abortion legal nationwide. In her questionnaire, Barrett rejected the suggestion that she had already shown her hand against the preservation of Supreme Court milestones. She said she was \"describing the academic debate that began in the 1980s about the relationship between originalism and stare decisis,\" that is, regard for court precedent. \"I took no side in that debate,\" Barrett wrote.   In 2012, she supported the Becket Fund for Religious Liberty's opposition to the Obama administration's fractious attempt to accommodate religious interests in the Affordable Care Act's contraceptive coverage mandate. When asked whether she would recuse herself from ongoing litigation over the ACA birth control mandate, she said she would look to federal law on recusals to decide whether she was required to sit out any case. She overall professed her ability to be impartial on disputes on which she had earlier spoken out. When Trump first interviewed Barrett for an earlier Supreme Court opening, some White House aides leaked word that there was a lack of chemistry. Irrespective of whether that was true, Indiana law professor Steve Sanders said their natural temperaments seem at odds. Sanders, who has studied Barrett's record, said on the substance of the law in her relatively short appeals court tenure, \"She hasn't demonstrated a lot of boldness. She hasn't carved out a special niche. I think she is being cautious because the spotlight has been on her from the beginning.\" He added of her equally reserved demeanor, \"I don't get the impression that she's the kind of person that you would just pour a glass of whiskey with at the end of the day and have a free-ranging discussion. She seems proper and conservative in her personal presentation.\" This story has been updated to include confirmation of Barrett's October 12 hearing before the Senate Judiciary Committee.  \n",
            "Label: entertainment , Text: 'The Comey Rule' shows off a sensational cast in a slightly uneven miniseries  (CNN)\"The Comey Rule\" employs a clunky framing device, turning Rod Rosenstein into the awkward narrator of the story. Brilliant casting from top to bottom, however, elevates this two-part Showtime adaptation of former FBI director James Comey's book, which adopts a sympathetic stance toward the no-win scenario the bureau faced with its twin investigations into presidential candidates Hillary Clinton and Donald Trump. The centerpiece, of course, resides in the dramatized glimpses of private conversations between Comey (Jeff Daniels, capturing Comey's \"boy scout\" demeanor, if not matching his stature) and Trump (Brendan Gleeson), who manages to incorporate the president's verbal tics and mannerisms and still create a portrayal that goes beyond parody. Those controversial exchanges, however, wait for night two, as the opening chapter deals with what Comey calls the \"500-year flood\" of the FBI having to investigate both Clinton and Trump, with an aide presciently telling him, \"You know you're screwed, right? I do not see a positive outcome here no matter what we find.\" Comey remains a polarizing figure -- having engendered hostility from the left and right -- which didn't prevent his book, \"A Higher Loyalty,\" from selling like hotcakes. The miniseries goes the extra mile to make clear that the bureau harbored few illusions about its options. \"I have looked at this from every angle,\" Comey concedes to associates. \"They're all terrible.\" Writer-director Billy Ray (\"Shattered Glass\") has offered a faithful account of Comey's book, with the main point of departure being the use of Rosenstein (Scoot McNairy) -- the then-Deputy Attorney General -- as the somewhat peculiar window into the narrative through his out-loud musings to an aide. It feels like an attempt to provide another voice to make the miniseries less Comey-centric, but proves too cute for its own good. \"Jim was always a showboat,\" Rosenstein says, before the story plunges into how Comey's belief in honesty and doing the right thing faced a rude awakening amid these unprecedented circumstances. Daniels is especially good in displaying Comey's quiet discomfort over Trump's attempts to woo him -- to secure his \"loyalty\" -- with small gestures, which Ray highlights with surreal slow-motion around those interactions. \"Just the two of us?\" Comey says with a grimace when he realizes he's dining alone with the president, frantically scribbling notes to memorialize the conversation once he leaves. \"The Comey Rule\" (which Showtime originally scheduled after the election, advancing the date at the urging of those involved in making it) certainly paints a damning portrait of Trump, but it's nothing that those who have read the book or reporting about its contents haven't heard. The miniseries is thus defined in part by how remarkably well the cast lines up with the real-life figures, and worth watching if only for that. The supporting players include Holly Hunter as Sally Yates (who could carry her own miniseries), Michael Kelly (\"House of Cards\") as Andrew McCabe, Jonathan Banks as James Clapper, and Steven Pasquale and Oona Chaplin as Peter Strzok and Lisa Page. It's hardly a surprise that Comey would fare well in this dramatization of history (it is, after all, his book), though the miniseries reinforces the sense that he was perhaps naive despite warnings from those around him and pleas from his wife (Jennifer Ehle), who uses a colorful term to describe his expression when Trump publicly called him over to shake hands. Like everything else about the Trump presidency, \"The Comey Rule\" seems unlikely to change any hearts or minds. There's nevertheless something useful about seeing the dry pages of nonfiction brought to life, in a production that's hardy flawless but whose stellar casting represents showboating in the best TV sense of the term. \"The Comey Rule\" will air Sept. 27-28 at 9 p.m. on Showtime.  \n",
            "Label: politics , Text: Ex-NSC official accuses White House of trying to block Bolton book to satisfy Trump Washington (CNN)A former National Security Council official is accusing White House and Justice Department officials of trying to stop former national security adviser John Bolton's book publication to satisfy President Donald Trump, alleging the White House mishandled classification issues around the book and forced her out for not condemning Bolton.  An attorney for Ellen Knight, who was the top national security official working with Bolton to review his book for sensitive information before publication, made the accusations about her experiences in the White House in a letter to Bolton's lawyer this week. It is the first time Knight has spoken up publicly and in detail about the standoff between the White House and its former national security adviser's disclosures about the President.   And it's yet another stinging portrayal by an official of how decisions in the White House Counsel's Office and national security leadership have often been dictated by politics.   As administration lawyers pressured Knight to side with them against Bolton in a legal fight this summer, Knight asked \"how it could be appropriate that a designedly apolitical process had been commandeered by political appointees for a seemingly political purpose,\" her attorneys wrote.  In the letter, Knight warns that the White House and Justice Department may be taking steps to smear her and her team, politicize and hurt the book's pre-review process, and prevent information about Bolton's review from coming to light. Bolton's book, \"The Room Where It Happened,\" came out in June. He never received the Trump administration's formal sign-off that his book was cleared for release. Knight also details how she was forced out of the National Security Council this summer. Bolton's legal team made public the 18-page letter from her attorney Wednesday morning in his effort to fight the administration's accusations that his book violated government secrecy protocol.   \"She asked them (White House and Justice Department lawyers) to explain why they were so insistent on pursuing litigation rather than resolving the potential national security issues through engagement with Ambassador Bolton and her team,\" Knight's attorney Kenneth Wainstein recounted in the letter. \"The attorneys had no answer for her challenges, aside from a rote recitation of the government's legal position. ... However, when Ms. Knight speculated that this litigation was happening 'because the most powerful man in the world said that it needed to happen,' several registered their agreement with that diagnosis of the situation.\"  The letter positions Knight as a voice akin to a whistleblower and is likely to have implications for the Trump administration's lawsuit against Bolton, which seeks to claw back his proceeds from the book, or in criminal proceedings that may arise.  More allegations of administration's political decision-making  The revelations also cast new doubt on the Trump administration's insistence it's wielded national security powers appropriately, as Knight becomes the latest in a growing cast of former and current Trump administration officials who've slammed the President and his top advisers for overly political decision-making that they say harms the United States on the world stage and abuses the rule of law.   In recent weeks, Homeland Security officials have alleged that departmental leadership tried to censor intelligence reports on Russian influence in the United States and that Trump used his office for exacting political revenge, such as by telling officials to cut wildfire relief funding to Democratic-leaning California.   Others, like retired Army official Alexander Vindman, testified against the President at his impeachment hearings for pressuring Ukraine for political help. Vindman recently said he believed Trump's government mirrored an authoritarian regime. And several longtime government officials have taken aim at Attorney General William Barr's decisions, describing Justice Department decision-making meant to spare Trump's allies from tough consequences and advance political wishes as the President seeks a second term in office.    Bolton is among the most prominent of the group of former or current Trump administration insiders alleging corruption.   Bolton revealed in his book and in several media appearances multiple instances where he says Trump asked foreign leaders for help with his reelection or embarrassed the United States by making mistakes or sympathizing with dictators.  Bolton in court  The administration has claimed in court that Bolton broke his contractual obligations to the government by publishing before getting the White House's final sign-off, therefore he should have to forfeit his proceeds. Justice Department lawyers and intelligence officials also have accused Bolton of revealing classified information about the US government that they say harms national security interests; Bolton is contesting this.  A hearing in that civil case is scheduled for Thursday at 10 a.m.   The judge previously refused to stop the release of Bolton's book, because the Justice Department's lawsuit came only days before it was released. Judge Royce Lamberth's decision is widely accepted as a First Amendment win.  But Bolton still could face consequences for the book publication.   Federal prosecutors have been investigating whether Bolton broke the law in what the administration says was his disclosures of classified material, and have subpoenaed his publisher and book agent, according to The New York Times and the Wall Street Journal.  Charles J. Cooper, a lawyer for Bolton, said Wednesday morning after releasing Knight's lawyer's letter that they are \"still assessing (the letter's) implications for the Justice Department's lawsuit. We did not solicit the letter in any way; it came as a complete surprise.\" CNN has reached out to the White House and National Security Council for comment.  Department of Justice spokesperson Kerri Kupec said in a statement Wednesday, \"Mr. Bolton chose to publish a manuscript that four senior National Security officials have stated, under penalty of perjury, contains classified information. ... The publication of a memoir by a former National Security Adviser, right after his departure, is an unprecedented action, and it is not surprising that National Security Council staff would pay close attention to ensure that the book does not contain the release of classified information.\" Before Wednesday, Lamberth hadn't heard Knight's version of the story. The judge previously said he believed Bolton's disclosures raised national security concerns, largely relying on four Trump administration national security and intelligence officials' sworn statements in court -- including from some who Knight says acted improperly -- and a review of the classified information they say is in the book. Knight pushed out of NSC  The letter from Knight's attorney also details her allegations of how she was forced out of the National Security Council.  Over five days in mid-June, Justice Department and White House officials tried to persuade Knight, a longtime career government official, to sign a sworn statement that would help the administration lawsuit against Bolton for publishing the book without proper White House sign-off, she says, according to her attorney's letter. She refused to sign it, and six days later was told her work with the NSC would end in August. Knight also described day by day her interactions with White House officials that she believed improperly deviated from her staff's recommendations before the book's release.  At one point, White House advisers blindsided her by telling her there was classified information in the Bolton book, after she had spent months reviewing it to prevent disclosures, according to her attorney's letter.  The White House officials implied her team had missed the details in its review, but Knight replied that that wasn't possible and told them their approach to retroactively classifying details in the book was flawed.  They also suggested to her that Bolton was acting in bad faith, she said. Knight disagreed with that, too.  Knight's team's work on Bolton's book was \"the most intensive prepublication review process in recent memory at the NSC,\" her lawyer wrote. \"Ms. Knight explained that Ambassador Bolton had seemingly conducted himself in good faith overall and that she had never seen any indication during their work together that he was trying to circumvent the process. He had been gruff and demanding and expressed frustration at times during the process, but Ms. Knight always felt his intention was to cooperate with and complete the review,\" according to Knight's lawyer's letter.  Overridden by untrained official  Knight specifically accuses then-deputy National Security Council legal adviser Michael Ellis of trying to keep passages in Bolton's book about the President's conversations with foreign leaders secret.   She called Ellis' approach to classifying passages in the book \"flawed.\"   The passages appear to have become some of the most damaging and controversial revelations about Trump from the book.   \"For example, (Ellis) flagged text involving conversations with foreign heads of state without making any attempt to do what Ms. Knight and her team had spent months doing -- carefully ensuring that any sensitive details were deleted or sufficiently obscured to permit the account of those conversations to be published without compromising national security. He also flagged passages that are clearly Ambassador Bolton's analysis and/or opinion about his personal recollections of events he witnessed, violating the basic tenet of prepublication review that a private author is entitled to his or her perspective of an event, even if that perspective is slanted or factually incorrect,\" her attorney's letter said.   Knight said that Ellis classified parts of Bolton's book -- a decision with legal consequences -- by looking at it as if it were a government record and not a private citizen's speech protected under the First Amendment.  Knight internally stood by her work and determined her team had worked on the Bolton manuscript to a point where it no longer contained classified details. But Ellis' decisions overrode Knight's within the administration, according to her lawyer's letter.  The day after she insisted to White House lawyer John Eisenberg that the book was clear, the National Security Council legal department told her to arrange training for Ellis on classifying information. The administration has stood by Ellis' classification decisions in court.  This story has been updated with additional developments and background.   \n",
            "Label: health , Text: Everything you need to know about a mysterious illness that could be linked to coronavirus in children  (CNN)A mysterious illness that's affecting children and could be linked to the coronavirus has left officials alarmed and searching for answers as infections increase. Doctors are referring to the condition that has hospitalized dozens of children as \"pediatric multisystem inflammatory syndrome,\" and health officials believe it could be linked to coronavirus. Three children have died because of it in New York, Gov. Andrew Cuomo said Saturday. New York is investigating if the cases contradict the belief that children are less at risk for coronavirus and what other hospitals should look out for, Cuomo said. Here is what you need to know: What are the symptoms? Pediatric multisystem inflammatory syndrome doesn't show the hallmarks of coronavirus in the children who have been diagnosed, Cuomo said. It presents symptoms similar to Kawasaki disease and toxic shock syndrome. Kawasaki disease causes inflammation in the walls of the arteries and can limit blood flow to the heart. It produces a high temperature lasting over five days, a rash, swollen neck glands, cracked lips, swelling of hands and feet, and redness in both eyes. Children under age 5 are most commonly affected; and while it can be deadly, it is treatable. Kawasaki is a leading cause of acquired heart disease in the United States, with complications that include coronary artery enlargement and aneurysms, according to the Centers for Disease Control and Prevention. Toxic shock syndrome, meanwhile, is caused by a toxin produced by some forms of staphylococcus bacteria and involves fever, shock and problems with several body organs, according to the US National Library of Medicine.  The difference in symptoms could be attributed to pediatric multisystem inflammatory syndrome being a second phase of the coronavirus illness, pediatrician Dr. Glenn Budnick said on CNN Newsroom Saturday.  \"Your immune system is overreacting to the virus, and because these are inflammatory diseases, this overreaction can cause a Kawasaki-like disease,\" Budnick said. How widespread are the infections? New York state's health department is studying the cases of 85 children, Cuomo said Sunday. Most of them tested positive for coronavirus or had positive antibody tests. Elsewhere, Seattle has reported a case in a healthy teenager who developed shock symptoms that sent him to the intensive care unit, according to CNN affiliate KIRO. A team at Stanford Children's Hospital in California has also reported a case. Similar cases have been reported internationally.  A small number of children in the United Kingdom have recently become ill with the rare syndrome that could be linked to coronavirus,  pediatric specialists said. Cases like those have been reported in Italy and Spain as well. Abdominal pain, gastrointestinal symptoms and cardiac inflammation are common in those cases, UK experts said. What are officials saying? While cases remain only in the dozens, Cuomo is urging vigilance. \"It's still very much a situation that is developing, but it is a serious situation,\" Cuomo said. New York's Department of Health is communicating with the CDC and federal officials over the cases, and the CDC has asked the state to develop national criteria so the healthcare professionals around the nation know what to look for, he said. To understand the situation better, the department of health is working with the New York Genome Center and Rockefeller University to conduct a genome and RNA sequencing study, Cuomo said.  The potential risk for children comes at a time of heightened anxiety as coronavirus has killed more than 79,000 people nationwide.  \"We were laboring under the impression that young people were not affected by Covid-19,\" Cuomo said. \"We're not so sure that that is the fact anymore.\" CNN Faith Karimi and Jason Hanna contributed to this report. \n"
          ]
        }
      ]
    },
    {
      "cell_type": "markdown",
      "metadata": {
        "id": "dTSURd6wL_3c"
      },
      "source": [
        "#### **Split Data**\n",
        "We split data into train and validation by randomly selecting 20% as the validation set."
      ]
    },
    {
      "cell_type": "code",
      "metadata": {
        "id": "qZeruausMAS8",
        "colab": {
          "base_uri": "https://localhost:8080/"
        },
        "outputId": "e490680f-9782-433e-865e-0753d53a91b4"
      },
      "source": [
        "validation_percent = 0.20\n",
        "\n",
        "# Split data into train / validate\n",
        "train_x, validate_x, train_y, validate_y = train_test_split(data_x, data_y, test_size=validation_percent)\n",
        "\n",
        "print(\"train_x count:\",len(train_x))\n",
        "print(\"validate_x count:\",len(validate_x))"
      ],
      "execution_count": null,
      "outputs": [
        {
          "output_type": "stream",
          "name": "stdout",
          "text": [
            "train_x count: 736\n",
            "validate_x count: 184\n"
          ]
        }
      ]
    },
    {
      "cell_type": "markdown",
      "metadata": {
        "id": "1edbXXNcXScD"
      },
      "source": [
        "### **Text Classificaton pretrained BERT**"
      ]
    },
    {
      "cell_type": "markdown",
      "metadata": {
        "id": "3qO4aBfJZB-9"
      },
      "source": [
        "#### **Build Data Pipelines**"
      ]
    },
    {
      "cell_type": "markdown",
      "metadata": {
        "id": "WFsmoyIicARn"
      },
      "source": [
        "**Text Tokenization** ([Reference](https://huggingface.co/transformers/model_doc/bert.html#berttokenizer))"
      ]
    },
    {
      "cell_type": "code",
      "metadata": {
        "id": "_vI1FNCCcFDW",
        "colab": {
          "base_uri": "https://localhost:8080/",
          "height": 113,
          "referenced_widgets": [
            "fe6c444d83a74b449d7a4bf2eb2648d2",
            "292a6c4b02884827907dee6aeb1095ad",
            "091d15c80c3f48608bf2a8e3ebc0f8c9",
            "e329771c7be94ea8b85ebab67d881878",
            "53aa3642f4df4c81a5d3263e86276e76",
            "f7d6c711b21447eeb30698484e068a84",
            "87a5418349f2426b92a36b85fd68219f",
            "4f0a0c580a8d4221b611e4cfa96a7b1f",
            "735c6632df704f058886192323c67b63",
            "de37b847b04b47c3bd9da22cecbf0b72",
            "5325b5f561b04fa5bf3274e893c492ae",
            "eb1d9827aa2148ba9deca14a40df96b4",
            "72bfd46073cb49629412faa953ec1e7f",
            "c3eb6176876346c7adbf896d0dd91ca2",
            "089e7bdd89ac44b2b297b2205fe7782c",
            "ae2d1cd5fe474cd09f53af67c5ba2aa1",
            "7967271cf2e1434098eee3891cf7053f",
            "0fd19bb84a9c46c48d687f69240319d6",
            "b8eccf172f844b6aacb04daab619b2ec",
            "ad3a16171c2d430b8ef4257754bb7cc6",
            "491601a7c7f249cdaaff23ac5d276ae2",
            "c03cde83a84f402294e78ae8466662fb",
            "1be97350f5634e94a6b76587d6252a20",
            "2a2878a84ed54775bfa8d27ef0a435b5",
            "5bf51ac9a7774ef196abaf1b4f358426",
            "3777ba4c0e1f437393330318bc6a1b6f",
            "bdc46ee97b7d45ea85bab70f106a7ce6",
            "2248a15d5feb498885fd2ae225eeef08",
            "b371248140654dc8adb0e87135d54556",
            "86d934b9338345e297899c0b16f50adc",
            "ad6857d3813048d9bd8a7f4812cdde1d",
            "65bf82afaba746afbea7af55a01955a0",
            "119ea686917140988a1f5e99612a569f"
          ]
        },
        "outputId": "201969b6-29c2-43af-c52b-82ca5c827cef"
      },
      "source": [
        "# Tokenizer\n",
        "tokenizer=BertTokenizer.from_pretrained('bert-base-uncased',do_lower_case=True)"
      ],
      "execution_count": null,
      "outputs": [
        {
          "output_type": "display_data",
          "data": {
            "text/plain": [
              "Downloading:   0%|          | 0.00/226k [00:00<?, ?B/s]"
            ],
            "application/vnd.jupyter.widget-view+json": {
              "version_major": 2,
              "version_minor": 0,
              "model_id": "fe6c444d83a74b449d7a4bf2eb2648d2"
            }
          },
          "metadata": {}
        },
        {
          "output_type": "display_data",
          "data": {
            "text/plain": [
              "Downloading:   0%|          | 0.00/28.0 [00:00<?, ?B/s]"
            ],
            "application/vnd.jupyter.widget-view+json": {
              "version_major": 2,
              "version_minor": 0,
              "model_id": "eb1d9827aa2148ba9deca14a40df96b4"
            }
          },
          "metadata": {}
        },
        {
          "output_type": "display_data",
          "data": {
            "text/plain": [
              "Downloading:   0%|          | 0.00/570 [00:00<?, ?B/s]"
            ],
            "application/vnd.jupyter.widget-view+json": {
              "version_major": 2,
              "version_minor": 0,
              "model_id": "1be97350f5634e94a6b76587d6252a20"
            }
          },
          "metadata": {}
        }
      ]
    },
    {
      "cell_type": "code",
      "metadata": {
        "id": "vOd0Y2-ncTZ1",
        "colab": {
          "base_uri": "https://localhost:8080/"
        },
        "outputId": "e35f2ca9-4908-41d6-e049-a3c005ffbeeb"
      },
      "source": [
        "# Tokenizer Example\n",
        "text = [\"What you need to know about using them safely amid the pandemic\",\n",
        "        \"A third of Medicare enrollees with coronavirus ended up in the hospital\"]\n",
        "outputs = tokenizer.batch_encode_plus(text,\n",
        "        return_tensors='tf',\n",
        "        add_special_tokens = True, # add [CLS], [SEP]\n",
        "        return_token_type_ids=True,\n",
        "        padding='max_length',\n",
        "        truncation='longest_first',\n",
        "        max_length=15\n",
        "      )\n",
        "print(\"Tokenizer Output:\",outputs)"
      ],
      "execution_count": null,
      "outputs": [
        {
          "output_type": "stream",
          "name": "stdout",
          "text": [
            "Tokenizer Output: {'input_ids': <tf.Tensor: shape=(2, 15), dtype=int32, numpy=\n",
            "array([[  101,  2054,  2017,  2342,  2000,  2113,  2055,  2478,  2068,\n",
            "         9689, 13463,  1996,  6090,  3207,   102],\n",
            "       [  101,  1037,  2353,  1997, 27615, 25612, 10285,  2007, 21887,\n",
            "        23350,  3092,  2039,  1999,  1996,   102]], dtype=int32)>, 'token_type_ids': <tf.Tensor: shape=(2, 15), dtype=int32, numpy=\n",
            "array([[0, 0, 0, 0, 0, 0, 0, 0, 0, 0, 0, 0, 0, 0, 0],\n",
            "       [0, 0, 0, 0, 0, 0, 0, 0, 0, 0, 0, 0, 0, 0, 0]], dtype=int32)>, 'attention_mask': <tf.Tensor: shape=(2, 15), dtype=int32, numpy=\n",
            "array([[1, 1, 1, 1, 1, 1, 1, 1, 1, 1, 1, 1, 1, 1, 1],\n",
            "       [1, 1, 1, 1, 1, 1, 1, 1, 1, 1, 1, 1, 1, 1, 1]], dtype=int32)>}\n"
          ]
        }
      ]
    },
    {
      "cell_type": "markdown",
      "metadata": {
        "id": "lr4BViO8cY7U"
      },
      "source": [
        "* Input ids: are the only required parameters to be passed to the model as input. They are token indices, numerical representations of tokens building the sequences that will be used as input by the model.\n",
        "* Attention mask: is an optional argument used when batching sequences together. This argument indicates to the model which tokens should be attended to, and which should not.\n",
        "* Token type ids: Some models’ purpose is to do sequence classification or question answering. These require two different sequences to be joined in a single “input_ids” entry, which usually is performed with the help of special tokens, such as the classifier ([CLS]) and separator ([SEP]) tokens. For example, the BERT model builds its two sequence input as such:\n",
        "\n",
        "* Here, we will tokenize news articles. To setup for BERT, we need to add special tokens,  namely [CLS] at the beginning and [SEP] at the end of each sentence. Also, we need to pad or truncate all sentences to a single constant length."
      ]
    },
    {
      "cell_type": "markdown",
      "metadata": {
        "id": "UF0ZX5TuceGd"
      },
      "source": [
        "##### **Create TF Datasets**"
      ]
    },
    {
      "cell_type": "code",
      "metadata": {
        "id": "nwQ1-Vd0cf4h",
        "colab": {
          "base_uri": "https://localhost:8080/"
        },
        "outputId": "390f42b9-9196-4a18-b166-19222a8d4d5c"
      },
      "source": [
        "BATCH_SIZE = 8\n",
        "TRAIN_SHUFFLE_BUFFER_SIZE = len(train_x)\n",
        "VALIDATION_SHUFFLE_BUFFER_SIZE = len(validate_x)\n",
        "\n",
        "# Feature constraints\n",
        "sequence_length = 256\n",
        "\n",
        "# Tokenize train x\n",
        "train_x_processed = tokenizer.batch_encode_plus(\n",
        "        train_x,\n",
        "        return_tensors='tf',\n",
        "        add_special_tokens = True, # add [CLS], [SEP]\n",
        "        return_token_type_ids=True,\n",
        "        padding='max_length',\n",
        "        max_length=sequence_length,\n",
        "        return_attention_mask = True,\n",
        "        truncation='longest_first'\n",
        "    )\n",
        "\n",
        "# Tokenize validate x\n",
        "validate_x_processed = tokenizer.batch_encode_plus(\n",
        "        validate_x,\n",
        "        return_tensors='tf',\n",
        "        add_special_tokens = True, # add [CLS], [SEP]\n",
        "        return_token_type_ids=True,\n",
        "        padding='max_length',\n",
        "        max_length=sequence_length,\n",
        "        return_attention_mask = True,\n",
        "        truncation='longest_first'\n",
        "    )\n",
        "\n",
        "print(train_x_processed.keys())\n",
        "\n",
        "# Convert all y labels to numbers\n",
        "train_processed_y = [label2index[label] for label in train_y]\n",
        "validate_processed_y = [label2index[label] for label in validate_y]\n",
        "\n",
        "# Converts to y to binary class matrix (One-hot-encoded)\n",
        "train_processed_y = tf.keras.utils.to_categorical(train_processed_y, num_classes=num_classes, dtype='int32')\n",
        "validate_processed_y = tf.keras.utils.to_categorical(validate_processed_y, num_classes=num_classes, dtype='int32')\n",
        "\n",
        "# Create TF Dataset\n",
        "train_data = tf.data.Dataset.from_tensor_slices(((train_x_processed[\"input_ids\"],\n",
        "                                                  train_x_processed[\"token_type_ids\"],\n",
        "                                                  train_x_processed[\"attention_mask\"]), train_processed_y))\n",
        "validation_data = tf.data.Dataset.from_tensor_slices(((validate_x_processed[\"input_ids\"],\n",
        "                                                  validate_x_processed[\"token_type_ids\"],\n",
        "                                                  validate_x_processed[\"attention_mask\"]), validate_processed_y))\n",
        "\n",
        "#############\n",
        "# Train data\n",
        "#############\n",
        "train_data = train_data.shuffle(buffer_size=TRAIN_SHUFFLE_BUFFER_SIZE)\n",
        "train_data = train_data.batch(BATCH_SIZE)\n",
        "train_data = train_data.prefetch(buffer_size=AUTOTUNE)\n",
        "\n",
        "##################\n",
        "# Validation data\n",
        "##################\n",
        "validation_data = validation_data.shuffle(buffer_size=VALIDATION_SHUFFLE_BUFFER_SIZE)\n",
        "validation_data = validation_data.batch(BATCH_SIZE)\n",
        "validation_data = validation_data.prefetch(buffer_size=AUTOTUNE)\n",
        "\n",
        "print(\"train_data\",train_data)\n",
        "print(\"validation_data\",validation_data)"
      ],
      "execution_count": null,
      "outputs": [
        {
          "output_type": "stream",
          "name": "stdout",
          "text": [
            "dict_keys(['input_ids', 'token_type_ids', 'attention_mask'])\n",
            "train_data <PrefetchDataset element_spec=((TensorSpec(shape=(None, 256), dtype=tf.int32, name=None), TensorSpec(shape=(None, 256), dtype=tf.int32, name=None), TensorSpec(shape=(None, 256), dtype=tf.int32, name=None)), TensorSpec(shape=(None, 3), dtype=tf.int32, name=None))>\n",
            "validation_data <PrefetchDataset element_spec=((TensorSpec(shape=(None, 256), dtype=tf.int32, name=None), TensorSpec(shape=(None, 256), dtype=tf.int32, name=None), TensorSpec(shape=(None, 256), dtype=tf.int32, name=None)), TensorSpec(shape=(None, 3), dtype=tf.int32, name=None))>\n"
          ]
        }
      ]
    },
    {
      "cell_type": "markdown",
      "metadata": {
        "id": "7rx3htwbdLg7"
      },
      "source": [
        "#### **Build the Model**"
      ]
    },
    {
      "cell_type": "code",
      "metadata": {
        "id": "NW-OaUo6dNEB"
      },
      "source": [
        "def build_pretrained_bert(num_classes):\n",
        "  # Set the model name as\n",
        "  model_name = 'bert_pretrained'\n",
        "  model = TFBertForSequenceClassification.from_pretrained('bert-base-uncased', num_labels=num_classes,name=model_name)\n",
        "  model.layers[0].trainable=True\n",
        "  return model"
      ],
      "execution_count": null,
      "outputs": []
    },
    {
      "cell_type": "markdown",
      "metadata": {
        "id": "G3BTz9Y8dR73"
      },
      "source": [
        "#### **Train**"
      ]
    },
    {
      "cell_type": "code",
      "metadata": {
        "id": "bWP1e4q4dScm",
        "colab": {
          "base_uri": "https://localhost:8080/",
          "height": 622,
          "referenced_widgets": [
            "97d0c4c2d111489aa3c40da26bf0b659",
            "66be292d694c4e9ca6b703650bd769e7",
            "b01d6792464b47db81735afb03d1b04b",
            "26a2a9935ad948ef9f0957ea32675079",
            "c5d4aa07e54e48ffbfec4a38fa519446",
            "1aa3bff8bf0f400b885ac8d0aa7ae444",
            "ca0bfbdbba1f43cdb70e2c4e28bdac78",
            "42d7caf338704fc49680404841a02f41",
            "1056ca05c7eb4b3e93b4fd9df7499ced",
            "f85ee3a8e62e4a6bac34dab3a3972a0a",
            "16c4c4d001084b0da75d3ffa56c3a469"
          ]
        },
        "outputId": "0e9e160d-c817-4be8-8e2a-a315c876aca4"
      },
      "source": [
        "############################\n",
        "# Training Params\n",
        "############################\n",
        "learning_rate = 2e-5\n",
        "epochs = 5\n",
        "\n",
        "# Free up memory\n",
        "K.clear_session()\n",
        "\n",
        "# Build the model\n",
        "model = build_pretrained_bert(num_classes)\n",
        "\n",
        "# Print the model architecture\n",
        "print(model.summary())\n",
        "\n",
        "# Optimizer\n",
        "optimizer = tf.keras.optimizers.Adam(learning_rate=learning_rate, epsilon=1e-08)\n",
        "# Loss\n",
        "loss = tf.keras.losses.CategoricalCrossentropy(from_logits=True)\n",
        "\n",
        "# Compile\n",
        "model.compile(loss=loss,\n",
        "                  optimizer=optimizer,\n",
        "                  metrics=['accuracy'])\n",
        "\n",
        "# Train model\n",
        "start_time = time.time()\n",
        "training_results = model.fit(\n",
        "        train_data,\n",
        "        validation_data=validation_data,\n",
        "        epochs=epochs,\n",
        "        verbose=1)\n",
        "execution_time = (time.time() - start_time)/60.0\n",
        "print(\"Training execution time (mins)\",execution_time)"
      ],
      "execution_count": null,
      "outputs": [
        {
          "output_type": "display_data",
          "data": {
            "text/plain": [
              "Downloading:   0%|          | 0.00/511M [00:00<?, ?B/s]"
            ],
            "application/vnd.jupyter.widget-view+json": {
              "version_major": 2,
              "version_minor": 0,
              "model_id": "97d0c4c2d111489aa3c40da26bf0b659"
            }
          },
          "metadata": {}
        },
        {
          "output_type": "stream",
          "name": "stderr",
          "text": [
            "All model checkpoint layers were used when initializing TFBertForSequenceClassification.\n",
            "\n",
            "Some layers of TFBertForSequenceClassification were not initialized from the model checkpoint at bert-base-uncased and are newly initialized: ['classifier']\n",
            "You should probably TRAIN this model on a down-stream task to be able to use it for predictions and inference.\n"
          ]
        },
        {
          "output_type": "stream",
          "name": "stdout",
          "text": [
            "Model: \"bert_pretrained\"\n",
            "_________________________________________________________________\n",
            " Layer (type)                Output Shape              Param #   \n",
            "=================================================================\n",
            " bert (TFBertMainLayer)      multiple                  109482240 \n",
            "                                                                 \n",
            " dropout_37 (Dropout)        multiple                  0         \n",
            "                                                                 \n",
            " classifier (Dense)          multiple                  2307      \n",
            "                                                                 \n",
            "=================================================================\n",
            "Total params: 109,484,547\n",
            "Trainable params: 109,484,547\n",
            "Non-trainable params: 0\n",
            "_________________________________________________________________\n",
            "None\n",
            "Epoch 1/5\n",
            "92/92 [==============================] - 39s 215ms/step - loss: 0.5728 - accuracy: 0.8071 - val_loss: 0.1773 - val_accuracy: 0.9620\n",
            "Epoch 2/5\n",
            "92/92 [==============================] - 17s 185ms/step - loss: 0.1578 - accuracy: 0.9565 - val_loss: 0.0834 - val_accuracy: 0.9783\n",
            "Epoch 3/5\n",
            "92/92 [==============================] - 17s 185ms/step - loss: 0.0613 - accuracy: 0.9878 - val_loss: 0.0510 - val_accuracy: 0.9946\n",
            "Epoch 4/5\n",
            "92/92 [==============================] - 17s 185ms/step - loss: 0.0461 - accuracy: 0.9864 - val_loss: 0.0359 - val_accuracy: 0.9891\n",
            "Epoch 5/5\n",
            "92/92 [==============================] - 17s 185ms/step - loss: 0.0212 - accuracy: 0.9973 - val_loss: 0.0542 - val_accuracy: 0.9891\n",
            "Training execution time (mins) 2.237221670150757\n"
          ]
        }
      ]
    },
    {
      "cell_type": "code",
      "source": [
        "# Plot training results\n",
        "fig = plt.figure(figsize=(20,5))\n",
        "axs = fig.add_subplot(1,3,1)\n",
        "axs.set_title('Loss')\n",
        "# Plot all metrics\n",
        "for metric in [\"loss\",\"val_loss\"]:\n",
        "    axs.plot(np.arange(0, epochs), training_results.history[metric], label=metric)\n",
        "axs.legend()\n",
        "\n",
        "axs = fig.add_subplot(1,3,2)\n",
        "axs.set_title('Accuracy')\n",
        "# Plot all metrics\n",
        "for metric in [\"accuracy\",\"val_accuracy\"]:\n",
        "    axs.plot(np.arange(0, epochs), training_results.history[metric], label=metric)\n",
        "axs.legend()\n",
        "\n",
        "plt.show()"
      ],
      "metadata": {
        "id": "ncoOlyH1Ba-x",
        "colab": {
          "base_uri": "https://localhost:8080/",
          "height": 336
        },
        "outputId": "1e14a21a-021c-436d-dff5-01f2638a59c9"
      },
      "execution_count": null,
      "outputs": [
        {
          "output_type": "display_data",
          "data": {
            "text/plain": [
              "<Figure size 1440x360 with 2 Axes>"
            ],
            "image/png": "[encoded data removed]"
          },
          "metadata": {
            "needs_background": "light"
          }
        }
      ]
    },
    {
      "cell_type": "markdown",
      "metadata": {
        "id": "DAz3NJcaV6z6"
      },
      "source": [
        "#### **Make Predictions**"
      ]
    },
    {
      "cell_type": "code",
      "metadata": {
        "id": "719-eyKITHGu",
        "colab": {
          "base_uri": "https://localhost:8080/"
        },
        "outputId": "e9a1f262-632c-47b2-c34a-c988d1af3c38"
      },
      "source": [
        "# Generate a random sample of index\n",
        "data_samples = np.random.randint(0,high=len(validate_x)-1, size=5)\n",
        "for i,data_idx in enumerate(data_samples):\n",
        "  print(\"Label:\",validate_y[data_idx],\", Text:\",validate_x[data_idx])\n",
        "\n",
        "  # Tokenize text\n",
        "  test_x_processed = tokenizer.batch_encode_plus(\n",
        "        [validate_x[data_idx]],\n",
        "        return_tensors='tf',\n",
        "        add_special_tokens = True, # add [CLS], [SEP]\n",
        "        return_token_type_ids=True,\n",
        "        padding='max_length',\n",
        "        max_length=sequence_length,\n",
        "        return_attention_mask = True,\n",
        "        truncation='longest_first'\n",
        "    )\n",
        "\n",
        "  test_data = tf.data.Dataset.from_tensor_slices(((test_x_processed[\"input_ids\"],\n",
        "                                                  test_x_processed[\"token_type_ids\"],\n",
        "                                                  test_x_processed[\"attention_mask\"])))\n",
        "  test_data = test_data.batch(1)\n",
        "\n",
        "  # Make predictions\n",
        "  predictions = model.predict(test_data)\n",
        "\n",
        "  print(\"Prediction:\",index2label[predictions.logits.argmax(axis=1)[0]])"
      ],
      "execution_count": null,
      "outputs": [
        {
          "output_type": "stream",
          "name": "stdout",
          "text": [
            "Label: health , Text: CDC updates school guidelines for Covid-19 pandemic  (CNN)The US Centers for Disease Control and Prevention updated its school guidance Friday. The update adds more details to existing guidelines that will better inform administrators' decisions about opening schools and limit risk, according to CDC Director Dr. Robert Redfield.  Redfield said the updated guidance is a result of discussions the CDC has been having with districts about how to best operate during a pandemic. The updated guidelines emphasize the importance of keeping schools open if possible. Children less at risk \"The many benefits of in-person schooling should be weighed against the risks posed by Covid-19,\" the guidelines said. The available evidence from countries that have reopened schools showed that Covid-19 \"poses low risks to school-aged children - at least in areas with low community transmission.\" It adds that in general, children are less likely to have severe symptoms than adults. The risk of teachers, school administrators and other staff will, however, \"mirror that of other adults in the community\" if they get sick, the guidelines said. Schools are still encouraged to make accommodations for staff and students at higher risk for severe illness that will limit their exposure risk. Schools are also still encouraged to divide students and teachers into distinct groups, if possible, that stay together throughout the entire school day for in-person learning. Alternative schedules or staggered scheduling may also be a good idea to limit interaction. The guidelines encourage schools to develop a protocol to monitor local Covid-19 data in the community to track levels of transmission and to make decisions about mitigation strategies and to determine if school closures may be necessary.  Keep open schools safe Good hand hygiene is stressed. Learning stations and activities should have fewer students per group and students should be placed 6 feet apart if possible, the CDC advises. The old guidelines encouraged the use of face coverings, but said that they might be \"challenging for students.\" While the updated guidelines mention the challenge for some students, particularly younger students or students with asthma, it emphasizes that cloth face coverings and masks are \"one of many important mitigation strategies.\"  The consistent use of masks is most important when students, teachers, and staff are indoors and when social distancing is difficult. People should be reminded not to touch the mask and to wash hands or use hand sanitizer frequently, the guidelines say. Clear face coverings may be preferable for teachers of young students, for example, when they teach students how to read. Clear face coverings may also be helpful for teachers working with English language learners and for students with disabilities.  Keeping it clean Schools are encouraged to increase the frequency of routine cleaning and disinfection.  They should also consider upgrades to ventilation system or other improvements to increase the delivery of clean air. When the weather allows, schools should open windows and increase outdoor air circulation in the school. Fans can help and schools should consider running the HVAC system at maximum outside airflow for two hours before and after the school is occupied. Schools, should,  however, exercise caution in highly polluted areas. A different kind of lunch Cafeterias should avoid offering self-serve food or drinks. Meals should be individually plated or pre-packaged. Food service items like trays and utensils should be disposable if possible. If feasible, schools are encouraged to have children eat outside or in their classrooms, instead of in a communal dining hall. Schools should provide touchless payment methods if possible, hand sanitizer near the checkout, and foot pedal and no-touch trash cans. Schools should continue to make sure students don't share food or utensils.  Student travel Schools should limit non-essential travel and should consider postponing or canceling student international travel programs. If staff or students use public transportation or ride sharing, they should consider transportation that minimizes close contact with others like biking or walking or riding in the car only with household members. When someone does get sick The CDC continues to encourage schools to work closely with local and public health leaders if there is an infected person on campus. Rather than shut everything down immediately for a long period of time, the guidelines said one option is an initial short-term class suspension and cancellation of events and after-school activities, so that public health leaders can get the time they need to determine how widespread the infections are. When schools are using a pod system, keeping certain students together, administrators may only need to close certain parts of the building where an infected person had been. If local health officials recommend against closing the building, school leaders should thoroughly clean that area.  The decision to suspend school altogether should be made on a case-by-case basis using the most up-to-date information about the pandemic, according to the guidelines, taking into account local case counts and the degree of ongoing transmission in the community.  Clear communications If a school does need to close, administrators should establish transparent criteria for when the school will suspend in-person learning to slow the spread and also have transparent criteria for when the school will re-open. Schools are encouraged to \"regularly\" and \"transparently\" communicate with staff, teachers, students and families, including about mental health support services available at the school. Sharing facts will \"counter the spread of misinformation and mitigate fear,\" the guidelines said.   Schools should use existing information systems for day-to-day reporting of details such as the number of cases, number of students who are absent, the number of visits to the health center. Mental health Schools should offer remote counseling and ensure the continuity of mental health services. Schools should also encourage students who feel overwhelmed and want to harm themselves or others to call 911 or the National Suicide Prevention Lifeline, 1-800-273-TALK. Schools should also consider posting signs in the school for the national distress hotline which is 1-800-985-5990. Inclusivity The CDC also added more inclusive language to its guidelines, emphasizing that critical communications need to be accessible to individuals with disabilities and limited English proficiency.  It added an entire section on how schools should accommodate children with disabilities or special health care needs, encouraging a customized or individualized approach for students who may need the help.  Schools should also ensure direct service providers that work with these students have been asked if they have Covid-19 symptoms and, if they work at other schools, if there are positive cases in those classrooms. \"We owe it to our nation's children to take personal responsibility to do everything we can to lower the level of Covid-19, so that we can all get back to school safely,\" Redfield said. \"Schools provide a safe environment for kids and grandkids to learn and grow academically, socially, emotionally, but schools are not islands in and of themselves. They are connected to the communities that surround them.\"   \n",
            "Prediction: health\n",
            "Label: health , Text: From the pandemic declaration to the fall surge, here's a timeline of Covid-19 in the US  (CNN)Experts say the fall Covid-19 surge is here. Infections and hospitalizations are rising across the country. And one leading health official says daily Covid-19 deaths could soon begin climbing, too.  The alarming trends come ahead of a season that will likely be especially challenging. Students across the country have returned to class and college students -- some of whom live in campuses that reported Covid-19 outbreaks -- will soon return to visit their families and could unknowingly bring the virus back with them. And Covid-19 will also be stacked up against the flu season and could create what doctors call a \"twin-demic.\"  What happens next is unclear. But here's how we got here: On April 10, about a month after Covid-19 was declared a pandemic by the World Health Organization, the US hit its first high point during the pandemic, peaking at an average of a little more than 31,800 daily cases, according to data from Johns Hopkins University. The country also eclipsed more than half a million Covid-19 infections. Cases were clustered mostly in New York, with other, smaller outbreaks in places such as Washington state, Louisiana and Illinois. Around that time, New York state had more infections than any other country in the world, with more than 160,000 cases. As of October 16, the state has reported more than 481,000 infections.  By June 9, the US had flattened the curve and was averaging about 20,340 new cases daily, Johns Hopkins data showed. States were opening back up after weekslong lockdowns that were put in place to help curb the spread of the virus. With the easing of measures, more Americans began to venture outside and images and videos emerged of parties and other gatherings with no social distancing and few masks in sight.  By July 22, the nation reached its highest peak of the pandemic, to date, averaging more than 67,000 cases daily. The US was seeing huge spikes in cases in the West and South.  The case surges came weeks after crowds celebrated the July 4 holiday. Across the country, local officials warned more young people were testing positive and helping drive the increase in infections.  Arizona, Florida, California, Texas and Georgia were adding thousands of cases per day. Experts called Florida the epicenter of the pandemic and by the end of the month, more than four dozen hospitals across the state were reporting full ICUs.  By September 12, the summer peak had slipped down to a little more than 34,300 average new cases daily, according to data from Johns Hopkins. That baseline was higher than what it was in the spring and experts warned Americans should work to lower it as the nation was heading into the colder fall and winter months.  Now hotspots were spiking in the rural Midwest, as children in many US communities were returning to school, sports were starting back up and political rallies kicked into high gear. Just 10 days later, the country surpassed 200,000 deaths.  Now, we're seeing another rise in cases. The US just surpassed eight million infections and more than 218,000 Americans have died.  The nation is averaging more than 53,000 new cases per day and at least 26 states reported more than 1,000 new infections in a day this week.  Unlike previous times, states that are reporting alarming trends are scattered across all regions of the US. The crush of new cases in the Midwest hasn't let up and now places like the Northeast, which has remained relatively stable since the spring, is seeing a rise in cases.   \n",
            "Prediction: health\n",
            "Label: health , Text: Dear anti-racist allies: Here's how to respond to microaggressions   (CNN)It's easy to sight the obvious racism such as using race-based slurs or threats. But there's a more subtle and insidious form of racist stereotyping that can be hard to pin down. These stereotypes often come in the form of microaggressions — brief and commonplace verbal, behavioral or environmental indignities, said Beverly Daniel Tatum, a psychologist and former Spelman College president, in a previous interview with CNN. Tatum is also author of the classic books \"Can We Talk About Race?\" and \"Why Are All the Black Kids Sitting Together in the Cafeteria?\" Microaggressions can be intentional or unintentional and sometimes even well-meaning. But they communicate hostile, derogatory or negative racial messages or assumptions to the receiver.  The ability to even notice these instances requires educating yourself about the experiences of black people in America and the significance behind such remarks.  Here's a list of common microaggressions, the messages they send and what to say when you hear friends, family or colleagues say them.  The art of the comeback  Addressing microaggressions is more an art than a science, and it requires a lot of creativity, said Derald Wing Sue, a psychology and education professor at Columbia University in New York City. He studies the psychology of racism and antiracism.  Microaggressions have two parts: One is the conscious communication of the initiator, which was likely intended to be a surface-level compliment. Then there's the unconscious metacommunication, which is the message the microaggression sends. Addressing the unconscious message requires what Sue described as \"microinterventions.\"  Microinterventions need to underline the message within the microaggression, he added. So for allies, microinterventions involve three strategies:  Make the invisible, visible. \"Oftentimes the perpetrator is unaware that they have engaged in demeaning or offensive comments, so you have to make that visible to them,\" Sue said.  Educate the perpetrator by \"[shifting from] the focus of what the person intended to the impact. \"Often when you turn to a person who engages with a microaggression and you point it out to them, they say, 'That wasn't my intention at all. Why are you so sensitive?'\"  You lose the argument when you focus on intention because you can't prove intent. Focusing on the impact as influenced by the significance, Sue explained, gets the perpetrator to understand what happened and how he might have caused pain.  Disarm the microaggression directly by steering the conversation away from a problematic remark or joke to communicate that it's offensive. You'd be modeling good behavior to other people present, and you can have a later conversation with the person about why his joke was inappropriate. 'You're so articulate' or 'You don't sound black.'  Why it's offensive: This remark seems like a compliment, but it's offensive to a lot of black people. They usually don't have to be that articulate for someone to say that to them, Tatum previously told CNN. When a white person says it, it usually implies they didn't expect to hear intelligence from a black person. The black person didn't fit the white person's offensive stereotype, so the white person complimented them for surprising them. What to say: \"I know you meant that as a compliment, but unfortunately that connects to a larger history of people being surprised that black people can speak so well,\" suggested Rev. Carolyn Helsel, an assistant professor of homiletics (the art of preaching or writing sermons) at Austin Presbyterian Theological Seminary and author of \"Preaching about Racism: A Guide for Faith Leaders\" and \"Anxious to Talk About It.\"  \"It's better to make your compliment something more specific about the content of someone's speech rather than commenting more generally on people being articulate,\" she added.  'Don't blame me. I never owned slaves.' Why it's offensive: This statement assumes that as the US Civil War concluded, so did racism, when really it has continued in new forms. There are books to read on modern slavery, racism and how white people still benefit from discrimination. What to say: \"I would say, 'People aren't asking you to accept blame,'\" Helsel suggested. \"'People are asking you to see how all of us are connected in society. And one person's disadvantage is, on the other side, one person's advantage unfairly earned. So [it's important to] understand how the system is disadvantaged and take responsibility for working for a more just society for all.'\" 'White privilege doesn't exist.'  Why it's offensive: Differences in racial privilege show up at a personal level, too. White privilege also means not having to stress over whether your hairstyle will cost you a job or even an interview. It's not having to worry whether your skin color was the reason for your mortgage application denial.  What to say: Ask them if they've ever had any of these experiences because of the color of their skin, Helsel suggested.  'All lives matter.'  Why it's offensive: All lives do matter, but in this context it's black lives that seem to matter less when they're not being treated with respect.  Those who respond to \"black lives matter\" by saying \"all lives matter\" may be interpreting \"only black lives matter,\" which isn't the case. The call to action means \"black lives matter, too.\" So when someone says \"all lives matter\" without acknowledging the movement's point, they're ignoring the racism exemplified in police interactions that ended badly.  What to say: Utilize metaphors that have been floating around social media, Helsel suggested: When a house is on fire, the fire truck doesn't come and hose water on all the houses on the street saying, \"All houses matter.\" They've come to help the fire that's burning.  Imagine at a funeral that someone is mourning the death of a loved one and you say, \"Yeah, but my grandmother died five years ago. All deaths matter.\" Both scenarios are insensitive to the pain of the people suffering in this moment.   'I'm not racist. I have a black friend.'  Why it's offensive: This statement equates racism with prejudice. Prejudice is an attitude based on stereotypes. Racism entails the policies and practices that uphold ideas of white people as superior and black people as inferior. You may not be racially prejudiced, but knowing black people doesn't keep you from engaging in discriminatory behavior or failing to challenge racist practices. What to say: \"Saying I can't be racist is denying the larger social context in which all of us are living. It's not about our individual intentions [or biases]. It's about our collective work,\" Helsel said. \"So even if we have the best of intentions, as long as we're supporting racist policies and ideas that undergird those policies, all of us can be racist.\"  'Can I touch your hair?' Why it's offensive: Curiosity is normal, but crossing personal boundaries is not. The question may seem innocuous, but it can make a black person feel as if she's an animal on display — since the perpetrator likely wouldn't ask that of a person of any other race.  What to say: Inform them that such a question is an invasion of personal space, Helsel said. How would she feel if someone asked that of her? It also taps into a history of black people being treated as curiosities and animals, without full rights to their own bodies. Tell them they can learn about such differences online. They can also compliment the person instead.  With any of these microaggressions, it can be useful to try to get to the root of the matter and have the perpetrator self-reflect by asking them why he felt the need to behave a certain way or ask a specific question.  'I'm colorblind.' or 'When I look at you, I don't see color.'  Why it's offensive: The intention is inclusive, but people of color are saying their color and identity matter and impact how they experience the world. But the statement is offensive because it could indicate that you aren't listening to or are dismissing what people of other races are telling you. Sometimes this remark comes from people who lived during a time when recognizing race meant segregation and discrimination, Helsel said.  What to say: \"We need to try different tactics because saying we're colorblind doesn't acknowledge the implicit bias that still goes on and the systemic laws and policies that have made life harder for African Americans and other people of color to feel like they're able to fully survive and thrive. To say, 'I'm colorblind' is to dismiss, ignore and make invisible the pain and suffering of people of color.\"  Clutching your purse, dodging while passing a black man or unnecessarily calling the police. Why it's offensive: These behaviors suggest that black men are menacing. They stem from fear that responds to a stereotype that classifies black men as threats. What to say: If you're present during this situation and tensions are high, de-escalate the situation by asking the perpetrator to take deep breaths and explain to you what makes them think the person is a threat to them. Doing so invites them to reconsider and reprogram their gut response before calling anyone.  If authorities do come, stick with the person perceived as a threat through that experience, speak on their behalf regarding what actually happened and act as a witness for what happens during questioning.  Calling a black woman or man 'sister' or 'brother,' respectively. Why it's offensive: If the perpetrator doesn't give everyone these nicknames, either statement claims kinship that probably isn't there, suggested Rev. Shannon Craigo-Snell, a professor of theology at the Louisville Presbyterian Theological Seminary in Kentucky and coauthor of \"No Innocent Bystanders: Becoming an Ally in the Struggle for Justice.\" \"It's claiming familiarity and intimacy,\" she added. \"And often when I see this happen, it's actually in a situation where the white person is trying to gloss over real hierarchy of status or conflict.\"  If the person hasn't really interacted with black people before, she may also be unconsciously overcompensating when trying to make a connection by assuming that's how black people talk.  What to say: Ask him why he said it and explain the significance. Then, suggest he maybe not call a black person \"sister\" or \"brother\" unless that person invited him to do so.  Why your response helps  If a receiver attempts to confront a microaggression, that can place them in jeopardy depending on the power dynamics within schools and workplaces, Sue said. They have to weigh how they'll respond and the consequences, which is energy-depleting for them, he added.  White allies can help because they may be in an equal status relationship to the perpetrator. Unfortunately, they might be able to help validate what the subject of the microaggression is saying.  Talking about microaggressions is important because words matter, Helsel said.  \"If our words are destructive, even unknowingly, we need to be able to change and to learn how to speak new words that can build people up and help people feel strong, included and embraced. ... Our words have huge consequences literally in the life and death of our fellow human beings.\"  If someone tells you that a remark you made was harmful, be open to criticism, thank them for bringing it up and apologize, Helsel added. Know the person isn't trying to shame you, but that correction is coming from a place of encouragement to grow. Receive it with gratitude. You can ask what part you got wrong and why, Craigo-Snell said.  In the United States, we sometimes see only innocent versus guilty, she added. But people are more complex; they're learners and it takes time.  \"Our colleagues of color are constantly being taxed by microaggressions and the stress that goes with that,\" Helsel said. \"So it's important that white people who are not operating under the same stressful conditions to be able to be bold and speak out, so that we can all be as productive and as fruitful in our work as we can be.\"  \n",
            "Prediction: health\n",
            "Label: politics , Text: Justice Ruth Bader Ginsburg laid to rest  (CNN)Justice Ruth Bader Ginsburg was laid to rest Tuesday morning in a private ceremony at Arlington National Cemetery. An Army escort carried her remains under \"dependent honors\" for the burial of dependents of military personnel, according to cemetery spokeswoman Barbara Lewandrowski. Ginsburg's late husband, Marty, was an Army officer. Ginsburg died on September 18 at 87 due to complications of metastatic pancreas cancer. The second woman to serve on the US Supreme Court, Ginsburg was a trailblazer for women's rights and had the reputation of a \"judge's judge\" for the clarity of her opinions that gave straightforward guidance to the lower courts. She served on the court for more than 27 years and was nominated by then-President Bill Clinton in 1993. For days, many have gathered at the court to mourn the late justice and a makeshift memorial, adorned with flowers and candles paying tribute to Ginsburg, has lined the sidewalk outside. President Donald Trump and first lady Melania Trump paid their respects to Ginsburg as she lie in repose at the Supreme Court last week. Lawmakers from both parties, entertainers, and athletes have also paid tributes to Ginsburg. On Friday, Ginsburg became the first woman and Jewish person in history to lie in state in the US Capitol. Ginsburg's death has reignited a debate over filling a Supreme Court vacancy during a President's last term of an election year, in which Republicans, including Senate Majority Leader Mitch McConnell, have united behind the President's push to move forward ahead of the November election. Judge Amy Coney Barrett, who Trump announced on Saturday was his nominee to the high court, met with Republican senators on Capitol Hill on Tuesday. This story has been updated with additional background information. CNN's Ariane de Vogue contributed to this report. \n",
            "Prediction: politics\n",
            "Label: politics , Text: Trump's diagnosis brings coronavirus back to the forefront of a caustic campaign  Troy, Michigan (CNN)President Donald Trump for months has stubbornly tried to change the subject, hoping to make his bid for reelection focused on anything but coronavirus. Those efforts -- always a long shot -- have now been dashed, as he spends the weekend hospitalized with the virus even as more voters are casting their ballots across the country with every passing day. \"I prayed for him. I hope he recovers. I hope his family recovers, but he has been denying the whole science behind coronavirus,\" said Denise Hardaway, who voted here in Michigan on Friday. \"I hope this changes his administration's thinking and he realizes and understands the importance of this pandemic that we are in.\" She stepped out of her car into the afternoon sunshine and deposited her sealed ballot in a drop box outside Troy City Hall, finally delivering her judgment on a caustic presidential campaign. She said she supported Democratic presidential nominee Joe Biden, in part, because of what she believes has been Trump's mishandling of coronavirus, for which he's now tested positive. \"He's been misleading his constituency, going around without a mask and telling people that you don't need a mask,\" Hardaway said. \"I pray this is an awakening and he begins to realize that this is serious and he's putting the lives of so many of us at risk.\" Here in Michigan, along with a majority of states across the nation, every day for the next month is Election Day. A steady stream of voters are delivering their ballots, even as the pandemic is at the forefront in the final stretch of the campaign. At a campaign stop on Friday in Grand Rapids, Biden also wished Trump well. His campaign pulled its attack ads against the President off television -- a gesture not reciprocated by the Trump campaign.  \"This is not a matter of politics,\" said Biden, who noted that he twice tested negative for Covid-19 on Friday. \"It's a bracing reminder to all of us that we have to take this virus seriously.\" The President's diagnosis not only upended his weekend plans, which had included holding campaign rallies in key swing states one month before election season ends, it also was front-and-center in people's minds as they cast their ballots. \"I hope it turns out right for him, but he's kind of been pressing the limits with a lot of things he's done recently,\" said Tom Orlowsky, who has supported many Republican presidents over the years, but on Friday cast his vote for Biden. Asked whether the Trump administration's handling of the coronavirus crisis influenced his decision, Orlowsky offered a quick reply: \"Sure, sure it did.\" \"This has been poorly handled and a lot of it could have been eliminated,\" Orlowsky said. \"I can't help but think that that's going to be a big thing in this election. It affected people's lives and it didn't have to be this way.\" Four years ago, Trump narrowly won Michigan, becoming the first Republican presidential candidate to carry the state since 1988. His strength here in the suburbs of Detroit will help determine if he is able to do so again. The state's 16 electoral votes are a critical piece of the puzzle for both candidates. Trump's victory in Michigan helped crumble the so-called blue wall of the Upper Midwest, also including Wisconsin and Pennsylvania, which paved his way to winning the White House. Biden's visit to Michigan on Friday underscored the competitiveness once again. After Philip Brown cast his ballot for Trump here, he said he did not blame the president for his conduct on coronavirus. He said he believed that any administration, regardless of political party, would have struggled to respond to the global pandemic. \"I think he was dealt a bad hand,\" said Brown, who added that he also voted on Friday for his Democratic member of Congress and state senator.  Yet he said he was not surprised Trump tested positive, after watching how he has handled himself in recent months.  \"This is a very contagious disease I figured at some point, even with all of the protections, he would have caught it,\" Brown said. \"It was kind of inevitable.\" While the President's Covid-19 diagnosis is the latest bombshell of the 2020 campaign, conversations with voters here suggest it may not change many minds.  Dave Elliston, after dropping off his ballot here on Friday in support of Biden, had little sympathy for Trump.  \"You should have worn a mask, dude. You didn't wear a mask and now you're going to pay the price,\" Elliston said, his words dripping with sarcasm, but quickly turning serious.  \"I don't want him to die right now,\" he said, \"but he should get a taste of his willingness to avoid what everyone tells him he should do and set a good example for this country.\"   Not all voters here were as harsh. A Michigan physician, who identified himself only as Steve, said he has been frustrated that the pandemic has been politicized by both sides. He said Trump was wrong to mock Biden for wearing a mask, adding: \"I've been wearing a mask for 45 years of my life. This is silly. It's an easy thing to do.\" But as he stopped for a moment while running errands in the Oakland County city of Birmingham, he said he was leaning toward supporting Trump, because of his economic policies. He said he feared Biden would raise taxes. \"Blaming him for all the deaths is ridiculous,\" he said. \"This is something we have never experienced before -- ever.\" He said the coronavirus crisis wasn't likely to influence his vote, but before walking away, he added that he wished Americans had \"better choices than these two guys.\"  \n",
            "Prediction: politics\n"
          ]
        }
      ]
    },
    {
      "cell_type": "code",
      "metadata": {
        "id": "HskCMCSLOYUj"
      },
      "source": [],
      "execution_count": null,
      "outputs": []
    }
  ]
}