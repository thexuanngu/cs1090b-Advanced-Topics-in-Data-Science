{
  "nbformat": 4,
  "nbformat_minor": 0,
  "metadata": {
    "colab": {
      "provenance": [],
      "gpuType": "T4"
    },
    "kernelspec": {
      "name": "python3",
      "display_name": "Python 3"
    },
    "language_info": {
      "name": "python"
    },
    "accelerator": "GPU",
    "widgets": {
      "application/vnd.jupyter.widget-state+json": {
        "256db42191074e088700bcd91ab6806e": {
          "model_module": "@jupyter-widgets/controls",
          "model_name": "HBoxModel",
          "model_module_version": "1.5.0",
          "state": {
            "_dom_classes": [],
            "_model_module": "@jupyter-widgets/controls",
            "_model_module_version": "1.5.0",
            "_model_name": "HBoxModel",
            "_view_count": null,
            "_view_module": "@jupyter-widgets/controls",
            "_view_module_version": "1.5.0",
            "_view_name": "HBoxView",
            "box_style": "",
            "children": [
              "IPY_MODEL_9bff89d6196d4b2fa03b9b7a4bc1fe11",
              "IPY_MODEL_8662c747c5c245f0be04920157220207",
              "IPY_MODEL_c350e8fd93d94ec98176d3478b3ee466"
            ],
            "layout": "IPY_MODEL_cacf2894023c40d096973f4cacb3c362"
          }
        },
        "9bff89d6196d4b2fa03b9b7a4bc1fe11": {
          "model_module": "@jupyter-widgets/controls",
          "model_name": "HTMLModel",
          "model_module_version": "1.5.0",
          "state": {
            "_dom_classes": [],
            "_model_module": "@jupyter-widgets/controls",
            "_model_module_version": "1.5.0",
            "_model_name": "HTMLModel",
            "_view_count": null,
            "_view_module": "@jupyter-widgets/controls",
            "_view_module_version": "1.5.0",
            "_view_name": "HTMLView",
            "description": "",
            "description_tooltip": null,
            "layout": "IPY_MODEL_34adce56001c41fabfb4d1716b429f06",
            "placeholder": "​",
            "style": "IPY_MODEL_89ff48a748ad4492b60ef261226cebed",
            "value": "model.safetensors: 100%"
          }
        },
        "8662c747c5c245f0be04920157220207": {
          "model_module": "@jupyter-widgets/controls",
          "model_name": "FloatProgressModel",
          "model_module_version": "1.5.0",
          "state": {
            "_dom_classes": [],
            "_model_module": "@jupyter-widgets/controls",
            "_model_module_version": "1.5.0",
            "_model_name": "FloatProgressModel",
            "_view_count": null,
            "_view_module": "@jupyter-widgets/controls",
            "_view_module_version": "1.5.0",
            "_view_name": "ProgressView",
            "bar_style": "success",
            "description": "",
            "description_tooltip": null,
            "layout": "IPY_MODEL_3e1260c562574a878e5b9b12d015b017",
            "max": 352824413,
            "min": 0,
            "orientation": "horizontal",
            "style": "IPY_MODEL_36e8e74970ba41efa4264e20577c4984",
            "value": 352824413
          }
        },
        "c350e8fd93d94ec98176d3478b3ee466": {
          "model_module": "@jupyter-widgets/controls",
          "model_name": "HTMLModel",
          "model_module_version": "1.5.0",
          "state": {
            "_dom_classes": [],
            "_model_module": "@jupyter-widgets/controls",
            "_model_module_version": "1.5.0",
            "_model_name": "HTMLModel",
            "_view_count": null,
            "_view_module": "@jupyter-widgets/controls",
            "_view_module_version": "1.5.0",
            "_view_name": "HTMLView",
            "description": "",
            "description_tooltip": null,
            "layout": "IPY_MODEL_fa2f0350c6444083bbdff7f54b6e3a92",
            "placeholder": "​",
            "style": "IPY_MODEL_da68a6387c9c4986b396fcc01cf42751",
            "value": " 353M/353M [00:01&lt;00:00, 310MB/s]"
          }
        },
        "cacf2894023c40d096973f4cacb3c362": {
          "model_module": "@jupyter-widgets/base",
          "model_name": "LayoutModel",
          "model_module_version": "1.2.0",
          "state": {
            "_model_module": "@jupyter-widgets/base",
            "_model_module_version": "1.2.0",
            "_model_name": "LayoutModel",
            "_view_count": null,
            "_view_module": "@jupyter-widgets/base",
            "_view_module_version": "1.2.0",
            "_view_name": "LayoutView",
            "align_content": null,
            "align_items": null,
            "align_self": null,
            "border": null,
            "bottom": null,
            "display": null,
            "flex": null,
            "flex_flow": null,
            "grid_area": null,
            "grid_auto_columns": null,
            "grid_auto_flow": null,
            "grid_auto_rows": null,
            "grid_column": null,
            "grid_gap": null,
            "grid_row": null,
            "grid_template_areas": null,
            "grid_template_columns": null,
            "grid_template_rows": null,
            "height": null,
            "justify_content": null,
            "justify_items": null,
            "left": null,
            "margin": null,
            "max_height": null,
            "max_width": null,
            "min_height": null,
            "min_width": null,
            "object_fit": null,
            "object_position": null,
            "order": null,
            "overflow": null,
            "overflow_x": null,
            "overflow_y": null,
            "padding": null,
            "right": null,
            "top": null,
            "visibility": null,
            "width": null
          }
        },
        "34adce56001c41fabfb4d1716b429f06": {
          "model_module": "@jupyter-widgets/base",
          "model_name": "LayoutModel",
          "model_module_version": "1.2.0",
          "state": {
            "_model_module": "@jupyter-widgets/base",
            "_model_module_version": "1.2.0",
            "_model_name": "LayoutModel",
            "_view_count": null,
            "_view_module": "@jupyter-widgets/base",
            "_view_module_version": "1.2.0",
            "_view_name": "LayoutView",
            "align_content": null,
            "align_items": null,
            "align_self": null,
            "border": null,
            "bottom": null,
            "display": null,
            "flex": null,
            "flex_flow": null,
            "grid_area": null,
            "grid_auto_columns": null,
            "grid_auto_flow": null,
            "grid_auto_rows": null,
            "grid_column": null,
            "grid_gap": null,
            "grid_row": null,
            "grid_template_areas": null,
            "grid_template_columns": null,
            "grid_template_rows": null,
            "height": null,
            "justify_content": null,
            "justify_items": null,
            "left": null,
            "margin": null,
            "max_height": null,
            "max_width": null,
            "min_height": null,
            "min_width": null,
            "object_fit": null,
            "object_position": null,
            "order": null,
            "overflow": null,
            "overflow_x": null,
            "overflow_y": null,
            "padding": null,
            "right": null,
            "top": null,
            "visibility": null,
            "width": null
          }
        },
        "89ff48a748ad4492b60ef261226cebed": {
          "model_module": "@jupyter-widgets/controls",
          "model_name": "DescriptionStyleModel",
          "model_module_version": "1.5.0",
          "state": {
            "_model_module": "@jupyter-widgets/controls",
            "_model_module_version": "1.5.0",
            "_model_name": "DescriptionStyleModel",
            "_view_count": null,
            "_view_module": "@jupyter-widgets/base",
            "_view_module_version": "1.2.0",
            "_view_name": "StyleView",
            "description_width": ""
          }
        },
        "3e1260c562574a878e5b9b12d015b017": {
          "model_module": "@jupyter-widgets/base",
          "model_name": "LayoutModel",
          "model_module_version": "1.2.0",
          "state": {
            "_model_module": "@jupyter-widgets/base",
            "_model_module_version": "1.2.0",
            "_model_name": "LayoutModel",
            "_view_count": null,
            "_view_module": "@jupyter-widgets/base",
            "_view_module_version": "1.2.0",
            "_view_name": "LayoutView",
            "align_content": null,
            "align_items": null,
            "align_self": null,
            "border": null,
            "bottom": null,
            "display": null,
            "flex": null,
            "flex_flow": null,
            "grid_area": null,
            "grid_auto_columns": null,
            "grid_auto_flow": null,
            "grid_auto_rows": null,
            "grid_column": null,
            "grid_gap": null,
            "grid_row": null,
            "grid_template_areas": null,
            "grid_template_columns": null,
            "grid_template_rows": null,
            "height": null,
            "justify_content": null,
            "justify_items": null,
            "left": null,
            "margin": null,
            "max_height": null,
            "max_width": null,
            "min_height": null,
            "min_width": null,
            "object_fit": null,
            "object_position": null,
            "order": null,
            "overflow": null,
            "overflow_x": null,
            "overflow_y": null,
            "padding": null,
            "right": null,
            "top": null,
            "visibility": null,
            "width": null
          }
        },
        "36e8e74970ba41efa4264e20577c4984": {
          "model_module": "@jupyter-widgets/controls",
          "model_name": "ProgressStyleModel",
          "model_module_version": "1.5.0",
          "state": {
            "_model_module": "@jupyter-widgets/controls",
            "_model_module_version": "1.5.0",
            "_model_name": "ProgressStyleModel",
            "_view_count": null,
            "_view_module": "@jupyter-widgets/base",
            "_view_module_version": "1.2.0",
            "_view_name": "StyleView",
            "bar_color": null,
            "description_width": ""
          }
        },
        "fa2f0350c6444083bbdff7f54b6e3a92": {
          "model_module": "@jupyter-widgets/base",
          "model_name": "LayoutModel",
          "model_module_version": "1.2.0",
          "state": {
            "_model_module": "@jupyter-widgets/base",
            "_model_module_version": "1.2.0",
            "_model_name": "LayoutModel",
            "_view_count": null,
            "_view_module": "@jupyter-widgets/base",
            "_view_module_version": "1.2.0",
            "_view_name": "LayoutView",
            "align_content": null,
            "align_items": null,
            "align_self": null,
            "border": null,
            "bottom": null,
            "display": null,
            "flex": null,
            "flex_flow": null,
            "grid_area": null,
            "grid_auto_columns": null,
            "grid_auto_flow": null,
            "grid_auto_rows": null,
            "grid_column": null,
            "grid_gap": null,
            "grid_row": null,
            "grid_template_areas": null,
            "grid_template_columns": null,
            "grid_template_rows": null,
            "height": null,
            "justify_content": null,
            "justify_items": null,
            "left": null,
            "margin": null,
            "max_height": null,
            "max_width": null,
            "min_height": null,
            "min_width": null,
            "object_fit": null,
            "object_position": null,
            "order": null,
            "overflow": null,
            "overflow_x": null,
            "overflow_y": null,
            "padding": null,
            "right": null,
            "top": null,
            "visibility": null,
            "width": null
          }
        },
        "da68a6387c9c4986b396fcc01cf42751": {
          "model_module": "@jupyter-widgets/controls",
          "model_name": "DescriptionStyleModel",
          "model_module_version": "1.5.0",
          "state": {
            "_model_module": "@jupyter-widgets/controls",
            "_model_module_version": "1.5.0",
            "_model_name": "DescriptionStyleModel",
            "_view_count": null,
            "_view_module": "@jupyter-widgets/base",
            "_view_module_version": "1.2.0",
            "_view_name": "StyleView",
            "description_width": ""
          }
        },
        "b174a8bbc0bb434b9afb38ae8f76722a": {
          "model_module": "@jupyter-widgets/controls",
          "model_name": "HBoxModel",
          "model_module_version": "1.5.0",
          "state": {
            "_dom_classes": [],
            "_model_module": "@jupyter-widgets/controls",
            "_model_module_version": "1.5.0",
            "_model_name": "HBoxModel",
            "_view_count": null,
            "_view_module": "@jupyter-widgets/controls",
            "_view_module_version": "1.5.0",
            "_view_name": "HBoxView",
            "box_style": "",
            "children": [
              "IPY_MODEL_fc5d72e2f6eb411fa9428b7b67387e80",
              "IPY_MODEL_2479fe19eada4482aacaf08cf9fae412",
              "IPY_MODEL_1cdc9cd7d23e41c0906381bae172aac8"
            ],
            "layout": "IPY_MODEL_2c00fc903a1441a482dcdaab3b2838d0"
          }
        },
        "fc5d72e2f6eb411fa9428b7b67387e80": {
          "model_module": "@jupyter-widgets/controls",
          "model_name": "HTMLModel",
          "model_module_version": "1.5.0",
          "state": {
            "_dom_classes": [],
            "_model_module": "@jupyter-widgets/controls",
            "_model_module_version": "1.5.0",
            "_model_name": "HTMLModel",
            "_view_count": null,
            "_view_module": "@jupyter-widgets/controls",
            "_view_module_version": "1.5.0",
            "_view_name": "HTMLView",
            "description": "",
            "description_tooltip": null,
            "layout": "IPY_MODEL_c0c23d8532ce4e53a89e2283ad442d82",
            "placeholder": "​",
            "style": "IPY_MODEL_c5f838014c304a72a8fef05679ec6d52",
            "value": "config.json: 100%"
          }
        },
        "2479fe19eada4482aacaf08cf9fae412": {
          "model_module": "@jupyter-widgets/controls",
          "model_name": "FloatProgressModel",
          "model_module_version": "1.5.0",
          "state": {
            "_dom_classes": [],
            "_model_module": "@jupyter-widgets/controls",
            "_model_module_version": "1.5.0",
            "_model_name": "FloatProgressModel",
            "_view_count": null,
            "_view_module": "@jupyter-widgets/controls",
            "_view_module_version": "1.5.0",
            "_view_name": "ProgressView",
            "bar_style": "success",
            "description": "",
            "description_tooltip": null,
            "layout": "IPY_MODEL_9562d0b1455c4fdc90292590b1487336",
            "max": 998,
            "min": 0,
            "orientation": "horizontal",
            "style": "IPY_MODEL_3fb4a92bc26849c390f72b3e0429083c",
            "value": 998
          }
        },
        "1cdc9cd7d23e41c0906381bae172aac8": {
          "model_module": "@jupyter-widgets/controls",
          "model_name": "HTMLModel",
          "model_module_version": "1.5.0",
          "state": {
            "_dom_classes": [],
            "_model_module": "@jupyter-widgets/controls",
            "_model_module_version": "1.5.0",
            "_model_name": "HTMLModel",
            "_view_count": null,
            "_view_module": "@jupyter-widgets/controls",
            "_view_module_version": "1.5.0",
            "_view_name": "HTMLView",
            "description": "",
            "description_tooltip": null,
            "layout": "IPY_MODEL_e0ef5a6f99d74420b5360ab16548f269",
            "placeholder": "​",
            "style": "IPY_MODEL_725376ff73574b9fb2ab125d8d175f7d",
            "value": " 998/998 [00:00&lt;00:00, 97.8kB/s]"
          }
        },
        "2c00fc903a1441a482dcdaab3b2838d0": {
          "model_module": "@jupyter-widgets/base",
          "model_name": "LayoutModel",
          "model_module_version": "1.2.0",
          "state": {
            "_model_module": "@jupyter-widgets/base",
            "_model_module_version": "1.2.0",
            "_model_name": "LayoutModel",
            "_view_count": null,
            "_view_module": "@jupyter-widgets/base",
            "_view_module_version": "1.2.0",
            "_view_name": "LayoutView",
            "align_content": null,
            "align_items": null,
            "align_self": null,
            "border": null,
            "bottom": null,
            "display": null,
            "flex": null,
            "flex_flow": null,
            "grid_area": null,
            "grid_auto_columns": null,
            "grid_auto_flow": null,
            "grid_auto_rows": null,
            "grid_column": null,
            "grid_gap": null,
            "grid_row": null,
            "grid_template_areas": null,
            "grid_template_columns": null,
            "grid_template_rows": null,
            "height": null,
            "justify_content": null,
            "justify_items": null,
            "left": null,
            "margin": null,
            "max_height": null,
            "max_width": null,
            "min_height": null,
            "min_width": null,
            "object_fit": null,
            "object_position": null,
            "order": null,
            "overflow": null,
            "overflow_x": null,
            "overflow_y": null,
            "padding": null,
            "right": null,
            "top": null,
            "visibility": null,
            "width": null
          }
        },
        "c0c23d8532ce4e53a89e2283ad442d82": {
          "model_module": "@jupyter-widgets/base",
          "model_name": "LayoutModel",
          "model_module_version": "1.2.0",
          "state": {
            "_model_module": "@jupyter-widgets/base",
            "_model_module_version": "1.2.0",
            "_model_name": "LayoutModel",
            "_view_count": null,
            "_view_module": "@jupyter-widgets/base",
            "_view_module_version": "1.2.0",
            "_view_name": "LayoutView",
            "align_content": null,
            "align_items": null,
            "align_self": null,
            "border": null,
            "bottom": null,
            "display": null,
            "flex": null,
            "flex_flow": null,
            "grid_area": null,
            "grid_auto_columns": null,
            "grid_auto_flow": null,
            "grid_auto_rows": null,
            "grid_column": null,
            "grid_gap": null,
            "grid_row": null,
            "grid_template_areas": null,
            "grid_template_columns": null,
            "grid_template_rows": null,
            "height": null,
            "justify_content": null,
            "justify_items": null,
            "left": null,
            "margin": null,
            "max_height": null,
            "max_width": null,
            "min_height": null,
            "min_width": null,
            "object_fit": null,
            "object_position": null,
            "order": null,
            "overflow": null,
            "overflow_x": null,
            "overflow_y": null,
            "padding": null,
            "right": null,
            "top": null,
            "visibility": null,
            "width": null
          }
        },
        "c5f838014c304a72a8fef05679ec6d52": {
          "model_module": "@jupyter-widgets/controls",
          "model_name": "DescriptionStyleModel",
          "model_module_version": "1.5.0",
          "state": {
            "_model_module": "@jupyter-widgets/controls",
            "_model_module_version": "1.5.0",
            "_model_name": "DescriptionStyleModel",
            "_view_count": null,
            "_view_module": "@jupyter-widgets/base",
            "_view_module_version": "1.2.0",
            "_view_name": "StyleView",
            "description_width": ""
          }
        },
        "9562d0b1455c4fdc90292590b1487336": {
          "model_module": "@jupyter-widgets/base",
          "model_name": "LayoutModel",
          "model_module_version": "1.2.0",
          "state": {
            "_model_module": "@jupyter-widgets/base",
            "_model_module_version": "1.2.0",
            "_model_name": "LayoutModel",
            "_view_count": null,
            "_view_module": "@jupyter-widgets/base",
            "_view_module_version": "1.2.0",
            "_view_name": "LayoutView",
            "align_content": null,
            "align_items": null,
            "align_self": null,
            "border": null,
            "bottom": null,
            "display": null,
            "flex": null,
            "flex_flow": null,
            "grid_area": null,
            "grid_auto_columns": null,
            "grid_auto_flow": null,
            "grid_auto_rows": null,
            "grid_column": null,
            "grid_gap": null,
            "grid_row": null,
            "grid_template_areas": null,
            "grid_template_columns": null,
            "grid_template_rows": null,
            "height": null,
            "justify_content": null,
            "justify_items": null,
            "left": null,
            "margin": null,
            "max_height": null,
            "max_width": null,
            "min_height": null,
            "min_width": null,
            "object_fit": null,
            "object_position": null,
            "order": null,
            "overflow": null,
            "overflow_x": null,
            "overflow_y": null,
            "padding": null,
            "right": null,
            "top": null,
            "visibility": null,
            "width": null
          }
        },
        "3fb4a92bc26849c390f72b3e0429083c": {
          "model_module": "@jupyter-widgets/controls",
          "model_name": "ProgressStyleModel",
          "model_module_version": "1.5.0",
          "state": {
            "_model_module": "@jupyter-widgets/controls",
            "_model_module_version": "1.5.0",
            "_model_name": "ProgressStyleModel",
            "_view_count": null,
            "_view_module": "@jupyter-widgets/base",
            "_view_module_version": "1.2.0",
            "_view_name": "StyleView",
            "bar_color": null,
            "description_width": ""
          }
        },
        "e0ef5a6f99d74420b5360ab16548f269": {
          "model_module": "@jupyter-widgets/base",
          "model_name": "LayoutModel",
          "model_module_version": "1.2.0",
          "state": {
            "_model_module": "@jupyter-widgets/base",
            "_model_module_version": "1.2.0",
            "_model_name": "LayoutModel",
            "_view_count": null,
            "_view_module": "@jupyter-widgets/base",
            "_view_module_version": "1.2.0",
            "_view_name": "LayoutView",
            "align_content": null,
            "align_items": null,
            "align_self": null,
            "border": null,
            "bottom": null,
            "display": null,
            "flex": null,
            "flex_flow": null,
            "grid_area": null,
            "grid_auto_columns": null,
            "grid_auto_flow": null,
            "grid_auto_rows": null,
            "grid_column": null,
            "grid_gap": null,
            "grid_row": null,
            "grid_template_areas": null,
            "grid_template_columns": null,
            "grid_template_rows": null,
            "height": null,
            "justify_content": null,
            "justify_items": null,
            "left": null,
            "margin": null,
            "max_height": null,
            "max_width": null,
            "min_height": null,
            "min_width": null,
            "object_fit": null,
            "object_position": null,
            "order": null,
            "overflow": null,
            "overflow_x": null,
            "overflow_y": null,
            "padding": null,
            "right": null,
            "top": null,
            "visibility": null,
            "width": null
          }
        },
        "725376ff73574b9fb2ab125d8d175f7d": {
          "model_module": "@jupyter-widgets/controls",
          "model_name": "DescriptionStyleModel",
          "model_module_version": "1.5.0",
          "state": {
            "_model_module": "@jupyter-widgets/controls",
            "_model_module_version": "1.5.0",
            "_model_name": "DescriptionStyleModel",
            "_view_count": null,
            "_view_module": "@jupyter-widgets/base",
            "_view_module_version": "1.2.0",
            "_view_name": "StyleView",
            "description_width": ""
          }
        },
        "deef137d2ca34ed390ffcde72b669fa0": {
          "model_module": "@jupyter-widgets/controls",
          "model_name": "HBoxModel",
          "model_module_version": "1.5.0",
          "state": {
            "_dom_classes": [],
            "_model_module": "@jupyter-widgets/controls",
            "_model_module_version": "1.5.0",
            "_model_name": "HBoxModel",
            "_view_count": null,
            "_view_module": "@jupyter-widgets/controls",
            "_view_module_version": "1.5.0",
            "_view_name": "HBoxView",
            "box_style": "",
            "children": [
              "IPY_MODEL_76764e8c12594d3c9a2b371e7acae375",
              "IPY_MODEL_871614e81f364317932fb8a817afb406",
              "IPY_MODEL_37e8007808054fedb862c9013ef4b2a9"
            ],
            "layout": "IPY_MODEL_8066918117e4489d9128723b83047474"
          }
        },
        "76764e8c12594d3c9a2b371e7acae375": {
          "model_module": "@jupyter-widgets/controls",
          "model_name": "HTMLModel",
          "model_module_version": "1.5.0",
          "state": {
            "_dom_classes": [],
            "_model_module": "@jupyter-widgets/controls",
            "_model_module_version": "1.5.0",
            "_model_name": "HTMLModel",
            "_view_count": null,
            "_view_module": "@jupyter-widgets/controls",
            "_view_module_version": "1.5.0",
            "_view_name": "HTMLView",
            "description": "",
            "description_tooltip": null,
            "layout": "IPY_MODEL_6acf5c7e0458492eb73d6837e1cda691",
            "placeholder": "​",
            "style": "IPY_MODEL_05c57bfb108b4513835417558671d5fb",
            "value": "model.safetensors: 100%"
          }
        },
        "871614e81f364317932fb8a817afb406": {
          "model_module": "@jupyter-widgets/controls",
          "model_name": "FloatProgressModel",
          "model_module_version": "1.5.0",
          "state": {
            "_dom_classes": [],
            "_model_module": "@jupyter-widgets/controls",
            "_model_module_version": "1.5.0",
            "_model_name": "FloatProgressModel",
            "_view_count": null,
            "_view_module": "@jupyter-widgets/controls",
            "_view_module_version": "1.5.0",
            "_view_name": "ProgressView",
            "bar_style": "success",
            "description": "",
            "description_tooltip": null,
            "layout": "IPY_MODEL_33a02a30336548c2a20244b2cf056bb2",
            "max": 1334400964,
            "min": 0,
            "orientation": "horizontal",
            "style": "IPY_MODEL_184561bd6c484fefae1c5b8b5810a8e4",
            "value": 1334400964
          }
        },
        "37e8007808054fedb862c9013ef4b2a9": {
          "model_module": "@jupyter-widgets/controls",
          "model_name": "HTMLModel",
          "model_module_version": "1.5.0",
          "state": {
            "_dom_classes": [],
            "_model_module": "@jupyter-widgets/controls",
            "_model_module_version": "1.5.0",
            "_model_name": "HTMLModel",
            "_view_count": null,
            "_view_module": "@jupyter-widgets/controls",
            "_view_module_version": "1.5.0",
            "_view_name": "HTMLView",
            "description": "",
            "description_tooltip": null,
            "layout": "IPY_MODEL_1824a259c694415d9d865415abe6b8b1",
            "placeholder": "​",
            "style": "IPY_MODEL_9967707719014d719d29b45f9da337d9",
            "value": " 1.33G/1.33G [00:05&lt;00:00, 218MB/s]"
          }
        },
        "8066918117e4489d9128723b83047474": {
          "model_module": "@jupyter-widgets/base",
          "model_name": "LayoutModel",
          "model_module_version": "1.2.0",
          "state": {
            "_model_module": "@jupyter-widgets/base",
            "_model_module_version": "1.2.0",
            "_model_name": "LayoutModel",
            "_view_count": null,
            "_view_module": "@jupyter-widgets/base",
            "_view_module_version": "1.2.0",
            "_view_name": "LayoutView",
            "align_content": null,
            "align_items": null,
            "align_self": null,
            "border": null,
            "bottom": null,
            "display": null,
            "flex": null,
            "flex_flow": null,
            "grid_area": null,
            "grid_auto_columns": null,
            "grid_auto_flow": null,
            "grid_auto_rows": null,
            "grid_column": null,
            "grid_gap": null,
            "grid_row": null,
            "grid_template_areas": null,
            "grid_template_columns": null,
            "grid_template_rows": null,
            "height": null,
            "justify_content": null,
            "justify_items": null,
            "left": null,
            "margin": null,
            "max_height": null,
            "max_width": null,
            "min_height": null,
            "min_width": null,
            "object_fit": null,
            "object_position": null,
            "order": null,
            "overflow": null,
            "overflow_x": null,
            "overflow_y": null,
            "padding": null,
            "right": null,
            "top": null,
            "visibility": null,
            "width": null
          }
        },
        "6acf5c7e0458492eb73d6837e1cda691": {
          "model_module": "@jupyter-widgets/base",
          "model_name": "LayoutModel",
          "model_module_version": "1.2.0",
          "state": {
            "_model_module": "@jupyter-widgets/base",
            "_model_module_version": "1.2.0",
            "_model_name": "LayoutModel",
            "_view_count": null,
            "_view_module": "@jupyter-widgets/base",
            "_view_module_version": "1.2.0",
            "_view_name": "LayoutView",
            "align_content": null,
            "align_items": null,
            "align_self": null,
            "border": null,
            "bottom": null,
            "display": null,
            "flex": null,
            "flex_flow": null,
            "grid_area": null,
            "grid_auto_columns": null,
            "grid_auto_flow": null,
            "grid_auto_rows": null,
            "grid_column": null,
            "grid_gap": null,
            "grid_row": null,
            "grid_template_areas": null,
            "grid_template_columns": null,
            "grid_template_rows": null,
            "height": null,
            "justify_content": null,
            "justify_items": null,
            "left": null,
            "margin": null,
            "max_height": null,
            "max_width": null,
            "min_height": null,
            "min_width": null,
            "object_fit": null,
            "object_position": null,
            "order": null,
            "overflow": null,
            "overflow_x": null,
            "overflow_y": null,
            "padding": null,
            "right": null,
            "top": null,
            "visibility": null,
            "width": null
          }
        },
        "05c57bfb108b4513835417558671d5fb": {
          "model_module": "@jupyter-widgets/controls",
          "model_name": "DescriptionStyleModel",
          "model_module_version": "1.5.0",
          "state": {
            "_model_module": "@jupyter-widgets/controls",
            "_model_module_version": "1.5.0",
            "_model_name": "DescriptionStyleModel",
            "_view_count": null,
            "_view_module": "@jupyter-widgets/base",
            "_view_module_version": "1.2.0",
            "_view_name": "StyleView",
            "description_width": ""
          }
        },
        "33a02a30336548c2a20244b2cf056bb2": {
          "model_module": "@jupyter-widgets/base",
          "model_name": "LayoutModel",
          "model_module_version": "1.2.0",
          "state": {
            "_model_module": "@jupyter-widgets/base",
            "_model_module_version": "1.2.0",
            "_model_name": "LayoutModel",
            "_view_count": null,
            "_view_module": "@jupyter-widgets/base",
            "_view_module_version": "1.2.0",
            "_view_name": "LayoutView",
            "align_content": null,
            "align_items": null,
            "align_self": null,
            "border": null,
            "bottom": null,
            "display": null,
            "flex": null,
            "flex_flow": null,
            "grid_area": null,
            "grid_auto_columns": null,
            "grid_auto_flow": null,
            "grid_auto_rows": null,
            "grid_column": null,
            "grid_gap": null,
            "grid_row": null,
            "grid_template_areas": null,
            "grid_template_columns": null,
            "grid_template_rows": null,
            "height": null,
            "justify_content": null,
            "justify_items": null,
            "left": null,
            "margin": null,
            "max_height": null,
            "max_width": null,
            "min_height": null,
            "min_width": null,
            "object_fit": null,
            "object_position": null,
            "order": null,
            "overflow": null,
            "overflow_x": null,
            "overflow_y": null,
            "padding": null,
            "right": null,
            "top": null,
            "visibility": null,
            "width": null
          }
        },
        "184561bd6c484fefae1c5b8b5810a8e4": {
          "model_module": "@jupyter-widgets/controls",
          "model_name": "ProgressStyleModel",
          "model_module_version": "1.5.0",
          "state": {
            "_model_module": "@jupyter-widgets/controls",
            "_model_module_version": "1.5.0",
            "_model_name": "ProgressStyleModel",
            "_view_count": null,
            "_view_module": "@jupyter-widgets/base",
            "_view_module_version": "1.2.0",
            "_view_name": "StyleView",
            "bar_color": null,
            "description_width": ""
          }
        },
        "1824a259c694415d9d865415abe6b8b1": {
          "model_module": "@jupyter-widgets/base",
          "model_name": "LayoutModel",
          "model_module_version": "1.2.0",
          "state": {
            "_model_module": "@jupyter-widgets/base",
            "_model_module_version": "1.2.0",
            "_model_name": "LayoutModel",
            "_view_count": null,
            "_view_module": "@jupyter-widgets/base",
            "_view_module_version": "1.2.0",
            "_view_name": "LayoutView",
            "align_content": null,
            "align_items": null,
            "align_self": null,
            "border": null,
            "bottom": null,
            "display": null,
            "flex": null,
            "flex_flow": null,
            "grid_area": null,
            "grid_auto_columns": null,
            "grid_auto_flow": null,
            "grid_auto_rows": null,
            "grid_column": null,
            "grid_gap": null,
            "grid_row": null,
            "grid_template_areas": null,
            "grid_template_columns": null,
            "grid_template_rows": null,
            "height": null,
            "justify_content": null,
            "justify_items": null,
            "left": null,
            "margin": null,
            "max_height": null,
            "max_width": null,
            "min_height": null,
            "min_width": null,
            "object_fit": null,
            "object_position": null,
            "order": null,
            "overflow": null,
            "overflow_x": null,
            "overflow_y": null,
            "padding": null,
            "right": null,
            "top": null,
            "visibility": null,
            "width": null
          }
        },
        "9967707719014d719d29b45f9da337d9": {
          "model_module": "@jupyter-widgets/controls",
          "model_name": "DescriptionStyleModel",
          "model_module_version": "1.5.0",
          "state": {
            "_model_module": "@jupyter-widgets/controls",
            "_model_module_version": "1.5.0",
            "_model_name": "DescriptionStyleModel",
            "_view_count": null,
            "_view_module": "@jupyter-widgets/base",
            "_view_module_version": "1.2.0",
            "_view_name": "StyleView",
            "description_width": ""
          }
        },
        "0c7571318823472292affe7b2550cf11": {
          "model_module": "@jupyter-widgets/controls",
          "model_name": "HBoxModel",
          "model_module_version": "1.5.0",
          "state": {
            "_dom_classes": [],
            "_model_module": "@jupyter-widgets/controls",
            "_model_module_version": "1.5.0",
            "_model_name": "HBoxModel",
            "_view_count": null,
            "_view_module": "@jupyter-widgets/controls",
            "_view_module_version": "1.5.0",
            "_view_name": "HBoxView",
            "box_style": "",
            "children": [
              "IPY_MODEL_f2b903db56164d4c8ce40dd133b4631e",
              "IPY_MODEL_364fb326fa8d47c4a375f9874c036770",
              "IPY_MODEL_89ca973215b74797ad7aed7a41b626fa"
            ],
            "layout": "IPY_MODEL_0bd6916038574698891b4f07a290f5bb"
          }
        },
        "f2b903db56164d4c8ce40dd133b4631e": {
          "model_module": "@jupyter-widgets/controls",
          "model_name": "HTMLModel",
          "model_module_version": "1.5.0",
          "state": {
            "_dom_classes": [],
            "_model_module": "@jupyter-widgets/controls",
            "_model_module_version": "1.5.0",
            "_model_name": "HTMLModel",
            "_view_count": null,
            "_view_module": "@jupyter-widgets/controls",
            "_view_module_version": "1.5.0",
            "_view_name": "HTMLView",
            "description": "",
            "description_tooltip": null,
            "layout": "IPY_MODEL_996b42f909154e63a15003f570e6126e",
            "placeholder": "​",
            "style": "IPY_MODEL_fdf084a16abd4b60942f4f6b70929ebf",
            "value": "tokenizer_config.json: 100%"
          }
        },
        "364fb326fa8d47c4a375f9874c036770": {
          "model_module": "@jupyter-widgets/controls",
          "model_name": "FloatProgressModel",
          "model_module_version": "1.5.0",
          "state": {
            "_dom_classes": [],
            "_model_module": "@jupyter-widgets/controls",
            "_model_module_version": "1.5.0",
            "_model_name": "FloatProgressModel",
            "_view_count": null,
            "_view_module": "@jupyter-widgets/controls",
            "_view_module_version": "1.5.0",
            "_view_name": "ProgressView",
            "bar_style": "success",
            "description": "",
            "description_tooltip": null,
            "layout": "IPY_MODEL_34c892e298de432b99ffb301cc506ff3",
            "max": 60,
            "min": 0,
            "orientation": "horizontal",
            "style": "IPY_MODEL_ab395a0d232f4cb88997e9acfda8d819",
            "value": 60
          }
        },
        "89ca973215b74797ad7aed7a41b626fa": {
          "model_module": "@jupyter-widgets/controls",
          "model_name": "HTMLModel",
          "model_module_version": "1.5.0",
          "state": {
            "_dom_classes": [],
            "_model_module": "@jupyter-widgets/controls",
            "_model_module_version": "1.5.0",
            "_model_name": "HTMLModel",
            "_view_count": null,
            "_view_module": "@jupyter-widgets/controls",
            "_view_module_version": "1.5.0",
            "_view_name": "HTMLView",
            "description": "",
            "description_tooltip": null,
            "layout": "IPY_MODEL_1cccbb556e01490b82892759e76aee67",
            "placeholder": "​",
            "style": "IPY_MODEL_bb48f2c8a53f4f9fbc96b66cd3a9a6cd",
            "value": " 60.0/60.0 [00:00&lt;00:00, 4.25kB/s]"
          }
        },
        "0bd6916038574698891b4f07a290f5bb": {
          "model_module": "@jupyter-widgets/base",
          "model_name": "LayoutModel",
          "model_module_version": "1.2.0",
          "state": {
            "_model_module": "@jupyter-widgets/base",
            "_model_module_version": "1.2.0",
            "_model_name": "LayoutModel",
            "_view_count": null,
            "_view_module": "@jupyter-widgets/base",
            "_view_module_version": "1.2.0",
            "_view_name": "LayoutView",
            "align_content": null,
            "align_items": null,
            "align_self": null,
            "border": null,
            "bottom": null,
            "display": null,
            "flex": null,
            "flex_flow": null,
            "grid_area": null,
            "grid_auto_columns": null,
            "grid_auto_flow": null,
            "grid_auto_rows": null,
            "grid_column": null,
            "grid_gap": null,
            "grid_row": null,
            "grid_template_areas": null,
            "grid_template_columns": null,
            "grid_template_rows": null,
            "height": null,
            "justify_content": null,
            "justify_items": null,
            "left": null,
            "margin": null,
            "max_height": null,
            "max_width": null,
            "min_height": null,
            "min_width": null,
            "object_fit": null,
            "object_position": null,
            "order": null,
            "overflow": null,
            "overflow_x": null,
            "overflow_y": null,
            "padding": null,
            "right": null,
            "top": null,
            "visibility": null,
            "width": null
          }
        },
        "996b42f909154e63a15003f570e6126e": {
          "model_module": "@jupyter-widgets/base",
          "model_name": "LayoutModel",
          "model_module_version": "1.2.0",
          "state": {
            "_model_module": "@jupyter-widgets/base",
            "_model_module_version": "1.2.0",
            "_model_name": "LayoutModel",
            "_view_count": null,
            "_view_module": "@jupyter-widgets/base",
            "_view_module_version": "1.2.0",
            "_view_name": "LayoutView",
            "align_content": null,
            "align_items": null,
            "align_self": null,
            "border": null,
            "bottom": null,
            "display": null,
            "flex": null,
            "flex_flow": null,
            "grid_area": null,
            "grid_auto_columns": null,
            "grid_auto_flow": null,
            "grid_auto_rows": null,
            "grid_column": null,
            "grid_gap": null,
            "grid_row": null,
            "grid_template_areas": null,
            "grid_template_columns": null,
            "grid_template_rows": null,
            "height": null,
            "justify_content": null,
            "justify_items": null,
            "left": null,
            "margin": null,
            "max_height": null,
            "max_width": null,
            "min_height": null,
            "min_width": null,
            "object_fit": null,
            "object_position": null,
            "order": null,
            "overflow": null,
            "overflow_x": null,
            "overflow_y": null,
            "padding": null,
            "right": null,
            "top": null,
            "visibility": null,
            "width": null
          }
        },
        "fdf084a16abd4b60942f4f6b70929ebf": {
          "model_module": "@jupyter-widgets/controls",
          "model_name": "DescriptionStyleModel",
          "model_module_version": "1.5.0",
          "state": {
            "_model_module": "@jupyter-widgets/controls",
            "_model_module_version": "1.5.0",
            "_model_name": "DescriptionStyleModel",
            "_view_count": null,
            "_view_module": "@jupyter-widgets/base",
            "_view_module_version": "1.2.0",
            "_view_name": "StyleView",
            "description_width": ""
          }
        },
        "34c892e298de432b99ffb301cc506ff3": {
          "model_module": "@jupyter-widgets/base",
          "model_name": "LayoutModel",
          "model_module_version": "1.2.0",
          "state": {
            "_model_module": "@jupyter-widgets/base",
            "_model_module_version": "1.2.0",
            "_model_name": "LayoutModel",
            "_view_count": null,
            "_view_module": "@jupyter-widgets/base",
            "_view_module_version": "1.2.0",
            "_view_name": "LayoutView",
            "align_content": null,
            "align_items": null,
            "align_self": null,
            "border": null,
            "bottom": null,
            "display": null,
            "flex": null,
            "flex_flow": null,
            "grid_area": null,
            "grid_auto_columns": null,
            "grid_auto_flow": null,
            "grid_auto_rows": null,
            "grid_column": null,
            "grid_gap": null,
            "grid_row": null,
            "grid_template_areas": null,
            "grid_template_columns": null,
            "grid_template_rows": null,
            "height": null,
            "justify_content": null,
            "justify_items": null,
            "left": null,
            "margin": null,
            "max_height": null,
            "max_width": null,
            "min_height": null,
            "min_width": null,
            "object_fit": null,
            "object_position": null,
            "order": null,
            "overflow": null,
            "overflow_x": null,
            "overflow_y": null,
            "padding": null,
            "right": null,
            "top": null,
            "visibility": null,
            "width": null
          }
        },
        "ab395a0d232f4cb88997e9acfda8d819": {
          "model_module": "@jupyter-widgets/controls",
          "model_name": "ProgressStyleModel",
          "model_module_version": "1.5.0",
          "state": {
            "_model_module": "@jupyter-widgets/controls",
            "_model_module_version": "1.5.0",
            "_model_name": "ProgressStyleModel",
            "_view_count": null,
            "_view_module": "@jupyter-widgets/base",
            "_view_module_version": "1.2.0",
            "_view_name": "StyleView",
            "bar_color": null,
            "description_width": ""
          }
        },
        "1cccbb556e01490b82892759e76aee67": {
          "model_module": "@jupyter-widgets/base",
          "model_name": "LayoutModel",
          "model_module_version": "1.2.0",
          "state": {
            "_model_module": "@jupyter-widgets/base",
            "_model_module_version": "1.2.0",
            "_model_name": "LayoutModel",
            "_view_count": null,
            "_view_module": "@jupyter-widgets/base",
            "_view_module_version": "1.2.0",
            "_view_name": "LayoutView",
            "align_content": null,
            "align_items": null,
            "align_self": null,
            "border": null,
            "bottom": null,
            "display": null,
            "flex": null,
            "flex_flow": null,
            "grid_area": null,
            "grid_auto_columns": null,
            "grid_auto_flow": null,
            "grid_auto_rows": null,
            "grid_column": null,
            "grid_gap": null,
            "grid_row": null,
            "grid_template_areas": null,
            "grid_template_columns": null,
            "grid_template_rows": null,
            "height": null,
            "justify_content": null,
            "justify_items": null,
            "left": null,
            "margin": null,
            "max_height": null,
            "max_width": null,
            "min_height": null,
            "min_width": null,
            "object_fit": null,
            "object_position": null,
            "order": null,
            "overflow": null,
            "overflow_x": null,
            "overflow_y": null,
            "padding": null,
            "right": null,
            "top": null,
            "visibility": null,
            "width": null
          }
        },
        "bb48f2c8a53f4f9fbc96b66cd3a9a6cd": {
          "model_module": "@jupyter-widgets/controls",
          "model_name": "DescriptionStyleModel",
          "model_module_version": "1.5.0",
          "state": {
            "_model_module": "@jupyter-widgets/controls",
            "_model_module_version": "1.5.0",
            "_model_name": "DescriptionStyleModel",
            "_view_count": null,
            "_view_module": "@jupyter-widgets/base",
            "_view_module_version": "1.2.0",
            "_view_name": "StyleView",
            "description_width": ""
          }
        },
        "dd61c4aababb440f8f474dd17f808cba": {
          "model_module": "@jupyter-widgets/controls",
          "model_name": "HBoxModel",
          "model_module_version": "1.5.0",
          "state": {
            "_dom_classes": [],
            "_model_module": "@jupyter-widgets/controls",
            "_model_module_version": "1.5.0",
            "_model_name": "HBoxModel",
            "_view_count": null,
            "_view_module": "@jupyter-widgets/controls",
            "_view_module_version": "1.5.0",
            "_view_name": "HBoxView",
            "box_style": "",
            "children": [
              "IPY_MODEL_df614718f43a4b229381cbab65d9f95f",
              "IPY_MODEL_021ffbfd6581461b82805053127f4c47",
              "IPY_MODEL_6cbcf0434a814a7eb0fc8a717251267c"
            ],
            "layout": "IPY_MODEL_9a58435ef3ae4f458c647a3f3a4f94c7"
          }
        },
        "df614718f43a4b229381cbab65d9f95f": {
          "model_module": "@jupyter-widgets/controls",
          "model_name": "HTMLModel",
          "model_module_version": "1.5.0",
          "state": {
            "_dom_classes": [],
            "_model_module": "@jupyter-widgets/controls",
            "_model_module_version": "1.5.0",
            "_model_name": "HTMLModel",
            "_view_count": null,
            "_view_module": "@jupyter-widgets/controls",
            "_view_module_version": "1.5.0",
            "_view_name": "HTMLView",
            "description": "",
            "description_tooltip": null,
            "layout": "IPY_MODEL_f610303dcc30485fb9071003c7190e8a",
            "placeholder": "​",
            "style": "IPY_MODEL_81fcc4f188474cf6a9659ba7d5e2d9e4",
            "value": "vocab.txt: 100%"
          }
        },
        "021ffbfd6581461b82805053127f4c47": {
          "model_module": "@jupyter-widgets/controls",
          "model_name": "FloatProgressModel",
          "model_module_version": "1.5.0",
          "state": {
            "_dom_classes": [],
            "_model_module": "@jupyter-widgets/controls",
            "_model_module_version": "1.5.0",
            "_model_name": "FloatProgressModel",
            "_view_count": null,
            "_view_module": "@jupyter-widgets/controls",
            "_view_module_version": "1.5.0",
            "_view_name": "ProgressView",
            "bar_style": "success",
            "description": "",
            "description_tooltip": null,
            "layout": "IPY_MODEL_73d1ab38a11a446698b643549941c6fc",
            "max": 213450,
            "min": 0,
            "orientation": "horizontal",
            "style": "IPY_MODEL_9ccb2f00d5d14cc9b216df1634649fee",
            "value": 213450
          }
        },
        "6cbcf0434a814a7eb0fc8a717251267c": {
          "model_module": "@jupyter-widgets/controls",
          "model_name": "HTMLModel",
          "model_module_version": "1.5.0",
          "state": {
            "_dom_classes": [],
            "_model_module": "@jupyter-widgets/controls",
            "_model_module_version": "1.5.0",
            "_model_name": "HTMLModel",
            "_view_count": null,
            "_view_module": "@jupyter-widgets/controls",
            "_view_module_version": "1.5.0",
            "_view_name": "HTMLView",
            "description": "",
            "description_tooltip": null,
            "layout": "IPY_MODEL_5f75be3250444d61bf4a37c160726746",
            "placeholder": "​",
            "style": "IPY_MODEL_6217a68e9301412fb32560f21f8112b4",
            "value": " 213k/213k [00:00&lt;00:00, 2.52MB/s]"
          }
        },
        "9a58435ef3ae4f458c647a3f3a4f94c7": {
          "model_module": "@jupyter-widgets/base",
          "model_name": "LayoutModel",
          "model_module_version": "1.2.0",
          "state": {
            "_model_module": "@jupyter-widgets/base",
            "_model_module_version": "1.2.0",
            "_model_name": "LayoutModel",
            "_view_count": null,
            "_view_module": "@jupyter-widgets/base",
            "_view_module_version": "1.2.0",
            "_view_name": "LayoutView",
            "align_content": null,
            "align_items": null,
            "align_self": null,
            "border": null,
            "bottom": null,
            "display": null,
            "flex": null,
            "flex_flow": null,
            "grid_area": null,
            "grid_auto_columns": null,
            "grid_auto_flow": null,
            "grid_auto_rows": null,
            "grid_column": null,
            "grid_gap": null,
            "grid_row": null,
            "grid_template_areas": null,
            "grid_template_columns": null,
            "grid_template_rows": null,
            "height": null,
            "justify_content": null,
            "justify_items": null,
            "left": null,
            "margin": null,
            "max_height": null,
            "max_width": null,
            "min_height": null,
            "min_width": null,
            "object_fit": null,
            "object_position": null,
            "order": null,
            "overflow": null,
            "overflow_x": null,
            "overflow_y": null,
            "padding": null,
            "right": null,
            "top": null,
            "visibility": null,
            "width": null
          }
        },
        "f610303dcc30485fb9071003c7190e8a": {
          "model_module": "@jupyter-widgets/base",
          "model_name": "LayoutModel",
          "model_module_version": "1.2.0",
          "state": {
            "_model_module": "@jupyter-widgets/base",
            "_model_module_version": "1.2.0",
            "_model_name": "LayoutModel",
            "_view_count": null,
            "_view_module": "@jupyter-widgets/base",
            "_view_module_version": "1.2.0",
            "_view_name": "LayoutView",
            "align_content": null,
            "align_items": null,
            "align_self": null,
            "border": null,
            "bottom": null,
            "display": null,
            "flex": null,
            "flex_flow": null,
            "grid_area": null,
            "grid_auto_columns": null,
            "grid_auto_flow": null,
            "grid_auto_rows": null,
            "grid_column": null,
            "grid_gap": null,
            "grid_row": null,
            "grid_template_areas": null,
            "grid_template_columns": null,
            "grid_template_rows": null,
            "height": null,
            "justify_content": null,
            "justify_items": null,
            "left": null,
            "margin": null,
            "max_height": null,
            "max_width": null,
            "min_height": null,
            "min_width": null,
            "object_fit": null,
            "object_position": null,
            "order": null,
            "overflow": null,
            "overflow_x": null,
            "overflow_y": null,
            "padding": null,
            "right": null,
            "top": null,
            "visibility": null,
            "width": null
          }
        },
        "81fcc4f188474cf6a9659ba7d5e2d9e4": {
          "model_module": "@jupyter-widgets/controls",
          "model_name": "DescriptionStyleModel",
          "model_module_version": "1.5.0",
          "state": {
            "_model_module": "@jupyter-widgets/controls",
            "_model_module_version": "1.5.0",
            "_model_name": "DescriptionStyleModel",
            "_view_count": null,
            "_view_module": "@jupyter-widgets/base",
            "_view_module_version": "1.2.0",
            "_view_name": "StyleView",
            "description_width": ""
          }
        },
        "73d1ab38a11a446698b643549941c6fc": {
          "model_module": "@jupyter-widgets/base",
          "model_name": "LayoutModel",
          "model_module_version": "1.2.0",
          "state": {
            "_model_module": "@jupyter-widgets/base",
            "_model_module_version": "1.2.0",
            "_model_name": "LayoutModel",
            "_view_count": null,
            "_view_module": "@jupyter-widgets/base",
            "_view_module_version": "1.2.0",
            "_view_name": "LayoutView",
            "align_content": null,
            "align_items": null,
            "align_self": null,
            "border": null,
            "bottom": null,
            "display": null,
            "flex": null,
            "flex_flow": null,
            "grid_area": null,
            "grid_auto_columns": null,
            "grid_auto_flow": null,
            "grid_auto_rows": null,
            "grid_column": null,
            "grid_gap": null,
            "grid_row": null,
            "grid_template_areas": null,
            "grid_template_columns": null,
            "grid_template_rows": null,
            "height": null,
            "justify_content": null,
            "justify_items": null,
            "left": null,
            "margin": null,
            "max_height": null,
            "max_width": null,
            "min_height": null,
            "min_width": null,
            "object_fit": null,
            "object_position": null,
            "order": null,
            "overflow": null,
            "overflow_x": null,
            "overflow_y": null,
            "padding": null,
            "right": null,
            "top": null,
            "visibility": null,
            "width": null
          }
        },
        "9ccb2f00d5d14cc9b216df1634649fee": {
          "model_module": "@jupyter-widgets/controls",
          "model_name": "ProgressStyleModel",
          "model_module_version": "1.5.0",
          "state": {
            "_model_module": "@jupyter-widgets/controls",
            "_model_module_version": "1.5.0",
            "_model_name": "ProgressStyleModel",
            "_view_count": null,
            "_view_module": "@jupyter-widgets/base",
            "_view_module_version": "1.2.0",
            "_view_name": "StyleView",
            "bar_color": null,
            "description_width": ""
          }
        },
        "5f75be3250444d61bf4a37c160726746": {
          "model_module": "@jupyter-widgets/base",
          "model_name": "LayoutModel",
          "model_module_version": "1.2.0",
          "state": {
            "_model_module": "@jupyter-widgets/base",
            "_model_module_version": "1.2.0",
            "_model_name": "LayoutModel",
            "_view_count": null,
            "_view_module": "@jupyter-widgets/base",
            "_view_module_version": "1.2.0",
            "_view_name": "LayoutView",
            "align_content": null,
            "align_items": null,
            "align_self": null,
            "border": null,
            "bottom": null,
            "display": null,
            "flex": null,
            "flex_flow": null,
            "grid_area": null,
            "grid_auto_columns": null,
            "grid_auto_flow": null,
            "grid_auto_rows": null,
            "grid_column": null,
            "grid_gap": null,
            "grid_row": null,
            "grid_template_areas": null,
            "grid_template_columns": null,
            "grid_template_rows": null,
            "height": null,
            "justify_content": null,
            "justify_items": null,
            "left": null,
            "margin": null,
            "max_height": null,
            "max_width": null,
            "min_height": null,
            "min_width": null,
            "object_fit": null,
            "object_position": null,
            "order": null,
            "overflow": null,
            "overflow_x": null,
            "overflow_y": null,
            "padding": null,
            "right": null,
            "top": null,
            "visibility": null,
            "width": null
          }
        },
        "6217a68e9301412fb32560f21f8112b4": {
          "model_module": "@jupyter-widgets/controls",
          "model_name": "DescriptionStyleModel",
          "model_module_version": "1.5.0",
          "state": {
            "_model_module": "@jupyter-widgets/controls",
            "_model_module_version": "1.5.0",
            "_model_name": "DescriptionStyleModel",
            "_view_count": null,
            "_view_module": "@jupyter-widgets/base",
            "_view_module_version": "1.2.0",
            "_view_name": "StyleView",
            "description_width": ""
          }
        }
      }
    }
  },
  "cells": [
    {
      "cell_type": "markdown",
      "source": [
        "# <img style=\"float: left; padding-right: 10px; width: 45px\" src=\"https://raw.githubusercontent.com/Harvard-IACS/2018-CS109A/master/content/styles/iacs.png\"> CS1090B Introduction to Data Science\n",
        "\n",
        "## Lab 10: Transformers in HuggingFace [Draft]\n",
        "\n",
        "**Harvard University**<br/>\n",
        "**Spring 2025**<br/>\n",
        "**Instructors**: Pavlos Protopapas, Natesh Pillai, and Chris Gumb<br/>\n",
        "**Authors**: Chris Gumb, Shivas Jayaram, and Guangya Wan\n",
        "\n",
        "<br/>\n",
        "---"
      ],
      "metadata": {
        "id": "RAnQ9EoZKHeQ"
      }
    },
    {
      "cell_type": "markdown",
      "source": [
        "## 📝 Make a Copy to Edit\n",
        "\n",
        "This notebook is **view-only**. To edit it, follow these steps:\n",
        "\n",
        "1. Click **File** > **Save a copy in Drive**.\n",
        "2. Your own editable copy will open in a new tab.\n",
        "\n",
        "Now you can modify and run the code freely!"
      ],
      "metadata": {
        "id": "Tpu8rBEWkY9j"
      }
    },
    {
      "cell_type": "markdown",
      "source": [
        "## Learning Objectives\n",
        "\n",
        "By the end of this Lab, you will understand:\n",
        "* **HuggingFace** Library and popular **BERT** architecture in **Transformer** library\n",
        "* Basic Functionality of the **Transformer** library\n",
        "* An example for a **Text Classification** task using **Pre-trained BERT** including fine-tuning with  **Keras** (**Super Relevant to HW6!!**)\n",
        "* **Extras**: How to use **GPT2** (Generative Pre-Training) for language generation tasks and how to fine-tune on a custom dataset"
      ],
      "metadata": {
        "id": "IVxj4k4_LDti"
      }
    },
    {
      "cell_type": "code",
      "source": [
        "# %%capture\n",
        "# !pip install --upgrade transformers\n",
        "# !pip install tf-keras\n",
        "import os\n",
        "os.environ['TF_USE_LEGACY_KERAS'] = '1'"
      ],
      "metadata": {
        "id": "ajO8V0TcLNLy"
      },
      "execution_count": null,
      "outputs": []
    },
    {
      "cell_type": "code",
      "source": [
        "# Import necessary libraries\n",
        "import os\n",
        "import time\n",
        "import datetime\n",
        "import requests\n",
        "import json\n",
        "import re\n",
        "import random\n",
        "from glob import glob\n",
        "import numpy as np\n",
        "import pandas as pd\n",
        "import matplotlib.pyplot as plt\n",
        "import matplotlib.cm as cm\n",
        "\n",
        "# Tensorflow\n",
        "import tensorflow as tf\n",
        "from tensorflow.python.keras import backend as K\n",
        "from tensorflow.python.keras.utils.layer_utils import count_params\n",
        "from tensorflow.keras.optimizers import Adam\n",
        "\n",
        "# sklearn\n",
        "from sklearn.model_selection import train_test_split\n",
        "\n",
        "# Transformers\n",
        "from transformers import BertTokenizer, TFBertForSequenceClassification, BertConfig\n",
        "from transformers import GPT2Tokenizer, TFGPT2LMHeadModel, GPT2Config\n",
        "\n",
        "from transformers import AutoTokenizer\n",
        "\n",
        "from tensorflow.keras.callbacks import LearningRateScheduler"
      ],
      "metadata": {
        "id": "I-kO1ynrKYvE"
      },
      "execution_count": null,
      "outputs": []
    },
    {
      "cell_type": "code",
      "source": [
        "time_start = time.time()"
      ],
      "metadata": {
        "id": "OQCvfRuP4k7i"
      },
      "execution_count": null,
      "outputs": []
    },
    {
      "cell_type": "code",
      "source": [
        "# Get the GPU device name.\n",
        "device_name = tf.test.gpu_device_name()\n",
        "\n",
        "# The device name should look like the following:\n",
        "if device_name == '/device:GPU:0':\n",
        "    print('Found GPU at: {}'.format(device_name))\n",
        "else:\n",
        "    raise SystemError('GPU device not found')"
      ],
      "metadata": {
        "colab": {
          "base_uri": "https://localhost:8080/"
        },
        "id": "JI89wl5_RUK3",
        "outputId": "5a55a328-75ad-4bd6-f6fd-7f3023a23f4f"
      },
      "execution_count": null,
      "outputs": [
        {
          "output_type": "stream",
          "name": "stdout",
          "text": [
            "Found GPU at: /device:GPU:0\n"
          ]
        }
      ]
    },
    {
      "cell_type": "markdown",
      "source": [
        "# Hugging Face and Transformer Overview\n",
        "\n",
        "\n",
        "Hugging Face is an AI research organization and company that focuses on natural language processing (NLP) and natural language understanding (NLU). They are best known for their open-source Transformers library, which is a widely-used, state-of-the-art library for building, training, and deploying transformer-based models. Hugging Face has contributed significantly to the NLP community by providing user-friendly APIs, pre-trained models, and extensive documentation, making it easier for researchers, developers, and practitioners to work with transformer models.\n",
        "\n",
        "The Transformers library, initially released in 2019, provides a comprehensive collection of transformer architectures, such as BERT, GPT, RoBERTa, T5, and many others. The library supports both PyTorch and TensorFlow deep learning frameworks, enabling users to seamlessly switch between them. It also offers a wide range of pre-trained models for various NLP tasks, including text classification, named entity recognition, question answering, and more.\n",
        "\n",
        "One of the key features of the Transformers library is its focus on usability and ease of integration. It offers simple APIs for tokenization, model training, fine-tuning, and inference, along with many useful utilities for handling datasets and evaluation metrics. The library is continually updated and maintained by Hugging Face, with active community contributions, which helps keep it at the forefront of NLP research and development.\n",
        "\n",
        "Refer to the docs for more information: https://huggingface.co/docs"
      ],
      "metadata": {
        "id": "TkRzTTYnsYuR"
      }
    },
    {
      "cell_type": "markdown",
      "source": [
        "---\n",
        "### 🔑 Getting Access to Gated Models (e.g., LLaMA 3) on Hugging Face\n",
        "\n",
        "To use powerful models like Meta's **LLaMA 3**, you need to:\n",
        "\n",
        "1. **Create a free Hugging Face account**  \n",
        "   👉 https://huggingface.co/join\n",
        "\n",
        "2. **Request access to gated models**  \n",
        "   Visit the model page (e.g., [LLaMA 3](https://huggingface.co/meta-llama/Llama-3.1-8B-Instruct)) and click **\"Request Access\"**.  \n",
        "\n",
        "3. **Generate a personal access token**  \n",
        "   - Go to https://huggingface.co/settings/tokens  \n",
        "   - Click **\"New token\"**, give it a name (e.g., `colab_token`), and select **\"Read\"** permissions.  \n",
        "   - Copy the token somewhere safe!\n",
        "---\n",
        "**💡NOTE FOR HW5**\n",
        "\n",
        "You’ll need an HF account, token, and access LLaMA 3 for the final homework assignment. Access can take a few days to be granted, **so please request it today**.\n",
        "\n",
        "---\n",
        "### 🔐 Logging In to Hugging Face from Your Notebook\n",
        "\n",
        "In Colab (or Jupyter), you can authenticate using your token like this:\n",
        "\n",
        "```python\n",
        "from huggingface_hub import notebook_login\n",
        "\n",
        "# This will prompt you to paste your token in a secure input field\n",
        "notebook_login()\n",
        "```\n",
        "---"
      ],
      "metadata": {
        "id": "-9QXJDyBnm5J"
      }
    },
    {
      "cell_type": "markdown",
      "source": [
        "# Pretrained Model: BERT vs DistilBERT vs DeBERTa"
      ],
      "metadata": {
        "id": "ZRkulQweyVpi"
      }
    },
    {
      "cell_type": "markdown",
      "source": [
        "**BERT (Bidirectional Encoder Representations from Transformers)**, **DistilBERT**, and **DeBERTa (Decoding-enhanced BERT with disentangled attention)** are all state-of-the-art transformer-based models for natural language processing tasks. Here's a brief introduction to each model and a comparison of their characteristics:\n",
        "\n",
        "1. **BERT (Bidirectional Encoder Representations from Transformers)**:\n",
        "Introduced by Google AI in 2018, BERT revolutionized NLP by employing bidirectional context in the self-attention mechanism of transformers. BERT is pre-trained on large text corpora using masked language modeling (MLM) and next sentence prediction (NSP) tasks, making it capable of understanding context and generating high-quality embeddings. BERT can be fine-tuned for various downstream tasks such as text classification, named entity recognition, and question answering.\n",
        "\n",
        "2. **DistilBERT**:\n",
        "DistilBERT, developed by Hugging Face, is a smaller, faster, and more efficient version of BERT. It is created using knowledge distillation, a technique that transfers knowledge from a larger teacher model (in this case, BERT) to a smaller student model (DistilBERT). DistilBERT retains about 95% of BERT's performance while having only 50% of its parameters, which makes it more suitable for deployment in resource-constrained environments or real-time applications.\n",
        "\n",
        "3. **DeBERTa (Decoding-enhanced BERT with disentangled attention)**:\n",
        "Introduced by Microsoft Research, DeBERTa is an improved variant of BERT that addresses certain limitations in the original BERT model. DeBERTa introduces disentangled attention, which separates the content and position information during the self-attention computation, leading to a more effective and expressive model. DeBERTa also incorporates relative position embeddings, which improve the model's ability to capture positional information. These enhancements enable DeBERTa to outperform BERT and other transformer models on various NLP benchmarks.\n",
        "\n",
        "**Comparison**:\n",
        "- BERT is the foundational model that introduced bidirectional context and self-attention mechanisms in transformers, setting a new standard for NLP models.\n",
        "- DistilBERT offers a more lightweight, efficient alternative to BERT, with reduced model size and computational requirements while maintaining most of the performance. It is well-suited for deployment in resource-constrained environments.\n",
        "- DeBERTa builds upon BERT by introducing disentangled attention and relative position embeddings, resulting in a more expressive and effective model. DeBERTa often outperforms BERT and other transformer models on NLP benchmarks.\n",
        "\n",
        "All three models are powerful and widely used in NLP tasks. Depending on your specific requirements, such as model size, inference speed, and accuracy, you can choose the appropriate model for your application.\n"
      ],
      "metadata": {
        "id": "CkKelGcF0gBA"
      }
    },
    {
      "cell_type": "markdown",
      "source": [
        "# 🤗 AutoModel\n",
        "With so many different Transformer architectures, it can be challenging to decide on a single model checkpoint for your use case. As a part of 🤗 Transformers' core philosophy to make the library easy, simple and flexible to use, an AutoModelClass automatically infer and load the correct architecture from a given checkpoint.\n",
        "\n",
        "The from_pretrained() method lets you quickly load a pretrained model for any architecture so you don't have to devote time and resources to train a model from scratch. Producing this type of checkpoint-agnostic code means if your code works for one checkpoint, it will work with another checkpoint - as long as it was trained for a similar task - even if the architecture is different.\n",
        "\n",
        "The AutoModel class and all of its relatives are actually simple wrappers over the wide variety of models available in the library. It’s a clever wrapper as it can automatically guess the appropriate model architecture for your checkpoint, and then instantiates a model with this architecture.\n",
        "\n",
        "Side notes: if you know the type of model you want to use, you can use the class that defines its architecture directly. Architecture refers to the skeleton of the model and checkpoints are the weights for a given architecture. For example, BERT is an architecture, while bert-base-uncased is a checkpoint. \"Model\" in this cotext is a general term that can mean either architecture or checkpoint.\n",
        "\n"
      ],
      "metadata": {
        "id": "CzidK79PH29l"
      }
    },
    {
      "cell_type": "code",
      "source": [
        "# Model-agnostic AutoModel approach\n",
        "from transformers import TFAutoModelForSequenceClassification\n",
        "\n",
        "model = TFAutoModelForSequenceClassification.from_pretrained(\"distilbert-base-uncased\")"
      ],
      "metadata": {
        "colab": {
          "base_uri": "https://localhost:8080/"
        },
        "id": "VHcHcW4rH2iD",
        "outputId": "638f0c03-559c-4188-ad84-edc682d12c0c"
      },
      "execution_count": null,
      "outputs": [
        {
          "output_type": "stream",
          "name": "stderr",
          "text": [
            "Some weights of the PyTorch model were not used when initializing the TF 2.0 model TFDistilBertForSequenceClassification: ['vocab_layer_norm.weight', 'vocab_projector.bias', 'vocab_transform.bias', 'vocab_layer_norm.bias', 'vocab_transform.weight']\n",
            "- This IS expected if you are initializing TFDistilBertForSequenceClassification from a PyTorch model trained on another task or with another architecture (e.g. initializing a TFBertForSequenceClassification model from a BertForPreTraining model).\n",
            "- This IS NOT expected if you are initializing TFDistilBertForSequenceClassification from a PyTorch model that you expect to be exactly identical (e.g. initializing a TFBertForSequenceClassification model from a BertForSequenceClassification model).\n",
            "Some weights or buffers of the TF 2.0 model TFDistilBertForSequenceClassification were not initialized from the PyTorch model and are newly initialized: ['pre_classifier.weight', 'pre_classifier.bias', 'classifier.weight', 'classifier.bias']\n",
            "You should probably TRAIN this model on a down-stream task to be able to use it for predictions and inference.\n"
          ]
        }
      ]
    },
    {
      "cell_type": "code",
      "source": [
        "model.config"
      ],
      "metadata": {
        "colab": {
          "base_uri": "https://localhost:8080/"
        },
        "id": "YSxwFwybdicl",
        "outputId": "60dcc0d8-a17b-4afd-9893-868da7c4c50f"
      },
      "execution_count": null,
      "outputs": [
        {
          "output_type": "execute_result",
          "data": {
            "text/plain": [
              "DistilBertConfig {\n",
              "  \"activation\": \"gelu\",\n",
              "  \"architectures\": [\n",
              "    \"DistilBertForMaskedLM\"\n",
              "  ],\n",
              "  \"attention_dropout\": 0.1,\n",
              "  \"dim\": 768,\n",
              "  \"dropout\": 0.1,\n",
              "  \"hidden_dim\": 3072,\n",
              "  \"initializer_range\": 0.02,\n",
              "  \"max_position_embeddings\": 512,\n",
              "  \"model_type\": \"distilbert\",\n",
              "  \"n_heads\": 12,\n",
              "  \"n_layers\": 6,\n",
              "  \"pad_token_id\": 0,\n",
              "  \"qa_dropout\": 0.1,\n",
              "  \"seq_classif_dropout\": 0.2,\n",
              "  \"sinusoidal_pos_embds\": false,\n",
              "  \"tie_weights_\": true,\n",
              "  \"transformers_version\": \"4.50.3\",\n",
              "  \"vocab_size\": 30522\n",
              "}"
            ]
          },
          "metadata": {},
          "execution_count": 16
        }
      ]
    },
    {
      "cell_type": "code",
      "source": [
        "# Alternative approach that uses the specific Model module\n",
        "from transformers import TFDistilBertForSequenceClassification\n",
        "\n",
        "model_2 = TFDistilBertForSequenceClassification.from_pretrained(\"distilbert-base-uncased\")"
      ],
      "metadata": {
        "colab": {
          "base_uri": "https://localhost:8080/"
        },
        "id": "F5EsjKVLqt86",
        "outputId": "7012d94f-265a-4a56-fadf-ead6a7b4dc6d"
      },
      "execution_count": null,
      "outputs": [
        {
          "output_type": "stream",
          "name": "stderr",
          "text": [
            "Some weights of the PyTorch model were not used when initializing the TF 2.0 model TFDistilBertForSequenceClassification: ['vocab_layer_norm.weight', 'vocab_projector.bias', 'vocab_transform.bias', 'vocab_layer_norm.bias', 'vocab_transform.weight']\n",
            "- This IS expected if you are initializing TFDistilBertForSequenceClassification from a PyTorch model trained on another task or with another architecture (e.g. initializing a TFBertForSequenceClassification model from a BertForPreTraining model).\n",
            "- This IS NOT expected if you are initializing TFDistilBertForSequenceClassification from a PyTorch model that you expect to be exactly identical (e.g. initializing a TFBertForSequenceClassification model from a BertForSequenceClassification model).\n",
            "Some weights or buffers of the TF 2.0 model TFDistilBertForSequenceClassification were not initialized from the PyTorch model and are newly initialized: ['pre_classifier.weight', 'pre_classifier.bias', 'classifier.weight', 'classifier.bias']\n",
            "You should probably TRAIN this model on a down-stream task to be able to use it for predictions and inference.\n"
          ]
        }
      ]
    },
    {
      "cell_type": "code",
      "source": [
        "# The two models are the same!\n",
        "model.get_config() == model_2.get_config()"
      ],
      "metadata": {
        "colab": {
          "base_uri": "https://localhost:8080/"
        },
        "id": "ABz9g1PGrC0w",
        "outputId": "416b2ab5-6668-4df3-f452-70723b24bafa"
      },
      "execution_count": null,
      "outputs": [
        {
          "output_type": "execute_result",
          "data": {
            "text/plain": [
              "True"
            ]
          },
          "metadata": {},
          "execution_count": 18
        }
      ]
    },
    {
      "cell_type": "markdown",
      "source": [
        "## AutoTokenizer"
      ],
      "metadata": {
        "id": "JanxK0o3EeJu"
      }
    },
    {
      "cell_type": "markdown",
      "source": [
        "Nearly every NLP task begins with a tokenizer. A tokenizer converts your input into a format that can be processed by the model.\n",
        "\n",
        "Loading and saving tokenizers is as simple as it is with models with the AutoTokenizer Class"
      ],
      "metadata": {
        "id": "wW0JT9ffE2Te"
      }
    },
    {
      "cell_type": "code",
      "source": [
        "# Load a tokenizer with AutoTokenizer.from_pretrained():\n",
        "tokenizer = AutoTokenizer.from_pretrained(\"distilbert-base-uncased\")"
      ],
      "metadata": {
        "id": "h91afpiAFFT4"
      },
      "execution_count": null,
      "outputs": []
    },
    {
      "cell_type": "code",
      "source": [
        "encoded_input = tokenizer(\"There are only 2 labs left! 😿\") # same as batch_encode_plus and encode_plus, will autotamatically detect which to use\n",
        "print(encoded_input)"
      ],
      "metadata": {
        "colab": {
          "base_uri": "https://localhost:8080/"
        },
        "id": "21MY_98jFScU",
        "outputId": "571d8a7d-8d9a-4fe6-f556-618e2800b784"
      },
      "execution_count": null,
      "outputs": [
        {
          "output_type": "stream",
          "name": "stdout",
          "text": [
            "{'input_ids': [101, 2045, 2024, 2069, 1016, 13625, 2187, 999, 100, 102], 'attention_mask': [1, 1, 1, 1, 1, 1, 1, 1, 1, 1]}\n"
          ]
        }
      ]
    },
    {
      "cell_type": "code",
      "source": [
        "# Note that the resulting tokenized input is NOT a dictionary\n",
        "# Refer https://huggingface.co/docs/transformers/internal/tokenization_utils#transformers.PreTrainedTokenizerBase.__call__.returns\n",
        "type(encoded_input)"
      ],
      "metadata": {
        "colab": {
          "base_uri": "https://localhost:8080/",
          "height": 221
        },
        "id": "wQs-TKYDMLFi",
        "outputId": "7ed0f516-4a13-432b-e0b2-60b3e805e21a"
      },
      "execution_count": null,
      "outputs": [
        {
          "output_type": "execute_result",
          "data": {
            "text/plain": [
              "transformers.tokenization_utils_base.BatchEncoding"
            ],
            "text/html": [
              "<div style=\"max-width:800px; border: 1px solid var(--colab-border-color);\"><style>\n",
              "      pre.function-repr-contents {\n",
              "        overflow-x: auto;\n",
              "        padding: 8px 12px;\n",
              "        max-height: 500px;\n",
              "      }\n",
              "\n",
              "      pre.function-repr-contents.function-repr-contents-collapsed {\n",
              "        cursor: pointer;\n",
              "        max-height: 100px;\n",
              "      }\n",
              "    </style>\n",
              "    <pre style=\"white-space: initial; background:\n",
              "         var(--colab-secondary-surface-color); padding: 8px 12px;\n",
              "         border-bottom: 1px solid var(--colab-border-color);\"><b>transformers.tokenization_utils_base.BatchEncoding</b><br/>def __init__(data: Optional[Dict[str, Any]]=None, encoding: Optional[Union[EncodingFast, Sequence[EncodingFast]]]=None, tensor_type: Union[None, str, TensorType]=None, prepend_batch_axis: bool=False, n_sequences: Optional[int]=None)</pre><pre class=\"function-repr-contents function-repr-contents-collapsed\" style=\"\"><a class=\"filepath\" style=\"display:none\" href=\"#\">/usr/local/lib/python3.11/dist-packages/transformers/tokenization_utils_base.py</a>Holds the output of the [`~tokenization_utils_base.PreTrainedTokenizerBase.__call__`],\n",
              "[`~tokenization_utils_base.PreTrainedTokenizerBase.encode_plus`] and\n",
              "[`~tokenization_utils_base.PreTrainedTokenizerBase.batch_encode_plus`] methods (tokens, attention_masks, etc).\n",
              "\n",
              "This class is derived from a python dictionary and can be used as a dictionary. In addition, this class exposes\n",
              "utility methods to map from word/character space to token space.\n",
              "\n",
              "Args:\n",
              "    data (`dict`, *optional*):\n",
              "        Dictionary of lists/arrays/tensors returned by the `__call__`/`encode_plus`/`batch_encode_plus` methods\n",
              "        (&#x27;input_ids&#x27;, &#x27;attention_mask&#x27;, etc.).\n",
              "    encoding (`tokenizers.Encoding` or `Sequence[tokenizers.Encoding]`, *optional*):\n",
              "        If the tokenizer is a fast tokenizer which outputs additional information like mapping from word/character\n",
              "        space to token space the `tokenizers.Encoding` instance or list of instance (for batches) hold this\n",
              "        information.\n",
              "    tensor_type (`Union[None, str, TensorType]`, *optional*):\n",
              "        You can give a tensor_type here to convert the lists of integers in PyTorch/TensorFlow/Numpy Tensors at\n",
              "        initialization.\n",
              "    prepend_batch_axis (`bool`, *optional*, defaults to `False`):\n",
              "        Whether or not to add a batch axis when converting to tensors (see `tensor_type` above). Note that this\n",
              "        parameter has an effect if the parameter `tensor_type` is set, *otherwise has no effect*.\n",
              "    n_sequences (`Optional[int]`, *optional*):\n",
              "        You can give a tensor_type here to convert the lists of integers in PyTorch/TensorFlow/Numpy Tensors at\n",
              "        initialization.</pre>\n",
              "      <script>\n",
              "      if (google.colab.kernel.accessAllowed && google.colab.files && google.colab.files.view) {\n",
              "        for (const element of document.querySelectorAll('.filepath')) {\n",
              "          element.style.display = 'block'\n",
              "          element.onclick = (event) => {\n",
              "            event.preventDefault();\n",
              "            event.stopPropagation();\n",
              "            google.colab.files.view(element.textContent, 193);\n",
              "          };\n",
              "        }\n",
              "      }\n",
              "      for (const element of document.querySelectorAll('.function-repr-contents')) {\n",
              "        element.onclick = (event) => {\n",
              "          event.preventDefault();\n",
              "          event.stopPropagation();\n",
              "          element.classList.toggle('function-repr-contents-collapsed');\n",
              "        };\n",
              "      }\n",
              "      </script>\n",
              "      </div>"
            ]
          },
          "metadata": {},
          "execution_count": 21
        }
      ]
    },
    {
      "cell_type": "markdown",
      "source": [
        "# Preprocessing"
      ],
      "metadata": {
        "id": "cqjl2vIjm1cj"
      }
    },
    {
      "cell_type": "markdown",
      "source": [
        "Before you can train a model on a dataset, it needs to be preprocessed into the model's expected input format. Whether your data is text, images, or audio, they need to be converted and assembled into batches of tensors. 🤗 Transformers provides a set of preprocessing classes to help prepare your data for the model.\n",
        "\n",
        "The main tool for preprocessing textual data is the tokenizer. As we saw above, the tokenizer splits text into tokens according to a set of rules. The tokens are converted into numbers and then tensors, which become the model inputs. Any additional inputs required by the model, such as masking, are also created by the tokenizer.\n",
        "\n",
        "Below, we will demonstrate how to use a Tokenizer to convert text into a sequence of tokens, create a numerical representation of the tokens, and assemble them into tensors.\n",
        "\n",
        "The tokenizer returns a dictionary-like obect with three important items:\n",
        "\n",
        "* [input_ids](https://huggingface.co/docs/transformers/main/en/glossary#input-ids) are the indices corresponding to each token in the sentence.\n",
        "* [attention_mask](https://huggingface.co/docs/transformers/main/en/glossary#attention-mask) indicates whether a token should be attended to or not.\n",
        "* [token_type_ids](https://huggingface.co/docs/transformers/main/en/glossary#token-type-ids) identifies which sequence a token belongs to when there is more than one sequence."
      ],
      "metadata": {
        "id": "bPzSX1PUFxe7"
      }
    },
    {
      "cell_type": "code",
      "source": [
        "# We can convered our previously encoded input text by decoding the encoding's `input_ids`:\n",
        "tokenizer.decode(encoded_input[\"input_ids\"])"
      ],
      "metadata": {
        "colab": {
          "base_uri": "https://localhost:8080/",
          "height": 35
        },
        "id": "kHho4KcuF7W6",
        "outputId": "7d84e6f0-fa99-45ea-a4e1-ed4000124f00"
      },
      "execution_count": null,
      "outputs": [
        {
          "output_type": "execute_result",
          "data": {
            "text/plain": [
              "'[CLS] there are only 2 labs left! [UNK] [SEP]'"
            ],
            "application/vnd.google.colaboratory.intrinsic+json": {
              "type": "string"
            }
          },
          "metadata": {},
          "execution_count": 22
        }
      ]
    },
    {
      "cell_type": "markdown",
      "source": [
        "As you can see, the tokenizer added two special tokens - `CLS` and `SEP` (classifier and separator) - to the sentence. Not all models need\n",
        "special tokens, but if they do, the tokenizer automatically adds them for you.\n",
        "\n",
        "It also makes use of an `UNK` token for tokens outside its vocabulary.\n",
        "\n",
        "If there are several sentences you want to preprocess, pass them as a list to the tokenizer:"
      ],
      "metadata": {
        "id": "ZwQJbc20JYYL"
      }
    },
    {
      "cell_type": "code",
      "source": [
        "batch_sentences = [\n",
        "    \"But what about second breakfast?\",\n",
        "    \"Don't think he knows about second breakfast, Pip.\",\n",
        "    \"What about elevensies?\",\n",
        "]\n",
        "encoded_inputs = tokenizer(batch_sentences)\n",
        "print(encoded_inputs)"
      ],
      "metadata": {
        "colab": {
          "base_uri": "https://localhost:8080/"
        },
        "id": "3VGfcLe7JZKZ",
        "outputId": "186559a8-de9a-4820-c16b-06e1ce30e622"
      },
      "execution_count": null,
      "outputs": [
        {
          "output_type": "stream",
          "name": "stdout",
          "text": [
            "{'input_ids': [[101, 2021, 2054, 2055, 2117, 6350, 1029, 102], [101, 2123, 1005, 1056, 2228, 2002, 4282, 2055, 2117, 6350, 1010, 28315, 1012, 102], [101, 2054, 2055, 5408, 14625, 1029, 102]], 'attention_mask': [[1, 1, 1, 1, 1, 1, 1, 1], [1, 1, 1, 1, 1, 1, 1, 1, 1, 1, 1, 1, 1, 1], [1, 1, 1, 1, 1, 1, 1]]}\n"
          ]
        }
      ]
    },
    {
      "cell_type": "markdown",
      "source": [
        "## Padding"
      ],
      "metadata": {
        "id": "n4_jCGrbJeZK"
      }
    },
    {
      "cell_type": "markdown",
      "source": [
        "Sentences aren't always the same length which can be an issue because tensors, the model inputs, need to have a uniform shape. Padding is a strategy for ensuring tensors are rectangular by adding a special *padding token* to shorter sentences.\n",
        "\n",
        "Set the `padding` parameter to `True` to pad the shorter sequences in the batch to match the longest sequence:"
      ],
      "metadata": {
        "id": "33D-G5X6tCb2"
      }
    },
    {
      "cell_type": "code",
      "source": [
        "encoded_input = tokenizer(batch_sentences, padding=True)\n",
        "print(encoded_input) # We now see trailing 0s"
      ],
      "metadata": {
        "colab": {
          "base_uri": "https://localhost:8080/"
        },
        "id": "JtlPOPcrJho5",
        "outputId": "3720f2d5-1577-4a0f-a861-34569e93c74c"
      },
      "execution_count": null,
      "outputs": [
        {
          "output_type": "stream",
          "name": "stdout",
          "text": [
            "{'input_ids': [[101, 2021, 2054, 2055, 2117, 6350, 1029, 102, 0, 0, 0, 0, 0, 0], [101, 2123, 1005, 1056, 2228, 2002, 4282, 2055, 2117, 6350, 1010, 28315, 1012, 102], [101, 2054, 2055, 5408, 14625, 1029, 102, 0, 0, 0, 0, 0, 0, 0]], 'attention_mask': [[1, 1, 1, 1, 1, 1, 1, 1, 0, 0, 0, 0, 0, 0], [1, 1, 1, 1, 1, 1, 1, 1, 1, 1, 1, 1, 1, 1], [1, 1, 1, 1, 1, 1, 1, 0, 0, 0, 0, 0, 0, 0]]}\n"
          ]
        }
      ]
    },
    {
      "cell_type": "markdown",
      "source": [
        "Notice also the difference in the attention masks when we use padding!"
      ],
      "metadata": {
        "id": "EcaOnzd6g6YW"
      }
    },
    {
      "cell_type": "markdown",
      "source": [
        "## Truncation"
      ],
      "metadata": {
        "id": "h3hkvPv4JjzK"
      }
    },
    {
      "cell_type": "markdown",
      "source": [
        "On the other end of the spectrum, sometimes a sequence may be too long for a model to handle. In this case, you'll need to truncate the sequence to a shorter length.\n",
        "\n",
        "Set the `truncation` parameter to `True` to truncate a sequence to the maximum length accepted by the model:"
      ],
      "metadata": {
        "id": "Xkre2JAGtE6i"
      }
    },
    {
      "cell_type": "code",
      "source": [
        "encoded_input = tokenizer(batch_sentences, padding=True, truncation=True, max_length=8)\n",
        "print(encoded_input)"
      ],
      "metadata": {
        "colab": {
          "base_uri": "https://localhost:8080/"
        },
        "id": "tQWXj4OeJmza",
        "outputId": "f5ef4d76-9ab5-4997-ddb3-b4bd14f38569"
      },
      "execution_count": null,
      "outputs": [
        {
          "output_type": "stream",
          "name": "stdout",
          "text": [
            "{'input_ids': [[101, 2021, 2054, 2055, 2117, 6350, 1029, 102], [101, 2123, 1005, 1056, 2228, 2002, 4282, 102], [101, 2054, 2055, 5408, 14625, 1029, 102, 0]], 'attention_mask': [[1, 1, 1, 1, 1, 1, 1, 1], [1, 1, 1, 1, 1, 1, 1, 1], [1, 1, 1, 1, 1, 1, 1, 0]]}\n"
          ]
        }
      ]
    },
    {
      "cell_type": "markdown",
      "source": [
        "Transformers have a limit context window size, so you will need to truncate input sequences to respect this limit. The tokenizer will warn you if you go over, but it will not automatically truncate the sequence."
      ],
      "metadata": {
        "id": "CVTVAMFtiOn3"
      }
    },
    {
      "cell_type": "code",
      "source": [
        "# Text consisting of N words\n",
        "N = 600\n",
        "long_text = \" \".join([\"blah\" for _ in range(N)])\n",
        "print(long_text)"
      ],
      "metadata": {
        "colab": {
          "base_uri": "https://localhost:8080/"
        },
        "id": "jZVaFa9dheQf",
        "outputId": "9fa7eb52-d2f5-455b-8369-e996d49903b7"
      },
      "execution_count": null,
      "outputs": [
        {
          "output_type": "stream",
          "name": "stdout",
          "text": [
            "blah blah blah blah blah blah blah blah blah blah blah blah blah blah blah blah blah blah blah blah blah blah blah blah blah blah blah blah blah blah blah blah blah blah blah blah blah blah blah blah blah blah blah blah blah blah blah blah blah blah blah blah blah blah blah blah blah blah blah blah blah blah blah blah blah blah blah blah blah blah blah blah blah blah blah blah blah blah blah blah blah blah blah blah blah blah blah blah blah blah blah blah blah blah blah blah blah blah blah blah blah blah blah blah blah blah blah blah blah blah blah blah blah blah blah blah blah blah blah blah blah blah blah blah blah blah blah blah blah blah blah blah blah blah blah blah blah blah blah blah blah blah blah blah blah blah blah blah blah blah blah blah blah blah blah blah blah blah blah blah blah blah blah blah blah blah blah blah blah blah blah blah blah blah blah blah blah blah blah blah blah blah blah blah blah blah blah blah blah blah blah blah blah blah blah blah blah blah blah blah blah blah blah blah blah blah blah blah blah blah blah blah blah blah blah blah blah blah blah blah blah blah blah blah blah blah blah blah blah blah blah blah blah blah blah blah blah blah blah blah blah blah blah blah blah blah blah blah blah blah blah blah blah blah blah blah blah blah blah blah blah blah blah blah blah blah blah blah blah blah blah blah blah blah blah blah blah blah blah blah blah blah blah blah blah blah blah blah blah blah blah blah blah blah blah blah blah blah blah blah blah blah blah blah blah blah blah blah blah blah blah blah blah blah blah blah blah blah blah blah blah blah blah blah blah blah blah blah blah blah blah blah blah blah blah blah blah blah blah blah blah blah blah blah blah blah blah blah blah blah blah blah blah blah blah blah blah blah blah blah blah blah blah blah blah blah blah blah blah blah blah blah blah blah blah blah blah blah blah blah blah blah blah blah blah blah blah blah blah blah blah blah blah blah blah blah blah blah blah blah blah blah blah blah blah blah blah blah blah blah blah blah blah blah blah blah blah blah blah blah blah blah blah blah blah blah blah blah blah blah blah blah blah blah blah blah blah blah blah blah blah blah blah blah blah blah blah blah blah blah blah blah blah blah blah blah blah blah blah blah blah blah blah blah blah blah blah blah blah blah blah blah blah blah blah blah blah blah blah blah blah blah blah blah blah blah blah blah blah blah blah blah blah blah blah blah blah blah blah blah blah blah blah blah blah blah blah blah blah blah blah blah blah blah blah blah blah blah blah blah blah blah blah blah blah blah blah blah blah blah blah blah blah blah blah blah blah blah blah blah blah blah blah blah blah blah blah blah blah blah blah blah blah blah blah blah blah blah blah blah blah blah blah blah blah blah blah blah blah blah blah blah blah blah blah blah blah blah blah blah blah blah blah blah blah blah blah blah blah blah blah blah blah blah blah blah blah blah blah blah\n"
          ]
        }
      ]
    },
    {
      "cell_type": "code",
      "source": [
        "# On the first run, you get a warning for going over the window size of\n",
        "# model associated with this tokenized (here 512)\n",
        "long_text_encoded = tokenizer(long_text)"
      ],
      "metadata": {
        "id": "3jwPaDMFhn5b",
        "colab": {
          "base_uri": "https://localhost:8080/"
        },
        "outputId": "918e76ae-6c8d-487b-aac1-4ef603d83c80"
      },
      "execution_count": null,
      "outputs": [
        {
          "output_type": "stream",
          "name": "stderr",
          "text": [
            "Token indices sequence length is longer than the specified maximum sequence length for this model (602 > 512). Running this sequence through the model will result in indexing errors\n"
          ]
        }
      ]
    },
    {
      "cell_type": "code",
      "source": [
        "# But the sequence is not truncated by default\n",
        "# Not that we use len() because the encoding's `input_ids` is actually a list!\n",
        "len(long_text_encoded['input_ids'])"
      ],
      "metadata": {
        "colab": {
          "base_uri": "https://localhost:8080/"
        },
        "id": "lcJA88Vii2Mu",
        "outputId": "b64186c0-732f-4dd2-8cbc-25ba8f2197a2"
      },
      "execution_count": null,
      "outputs": [
        {
          "output_type": "execute_result",
          "data": {
            "text/plain": [
              "602"
            ]
          },
          "metadata": {},
          "execution_count": 18
        }
      ]
    },
    {
      "cell_type": "markdown",
      "source": [
        "You can always simply set `truncation=True` and the tokenizer will trunkate to the associate model's window size."
      ],
      "metadata": {
        "id": "eZ0tXqIQkl4i"
      }
    },
    {
      "cell_type": "code",
      "source": [
        "# Truncates sequnces to the model's window size\n",
        "long_text_encoded_trunc = tokenizer(long_text, truncation=True)\n",
        "len(long_text_encoded_trunc['input_ids'])"
      ],
      "metadata": {
        "colab": {
          "base_uri": "https://localhost:8080/"
        },
        "id": "uPMgQPH0kk6C",
        "outputId": "321b351f-90f4-407d-e4a2-8b9ab2d9ae59"
      },
      "execution_count": null,
      "outputs": [
        {
          "output_type": "execute_result",
          "data": {
            "text/plain": [
              "512"
            ]
          },
          "metadata": {},
          "execution_count": 19
        }
      ]
    },
    {
      "cell_type": "markdown",
      "source": [
        "## Building the Tensors"
      ],
      "metadata": {
        "id": "-yROKRYaJtha"
      }
    },
    {
      "cell_type": "markdown",
      "source": [
        "Finally, you'll want the tokenizer to return the actual tensors that get fed to the model.\n",
        "\n",
        "Set the `return_tensors` parameter to either `pt` for PyTorch, or `tf` for TensorFlow (Keras):"
      ],
      "metadata": {
        "id": "lrjiWTkGJxxb"
      }
    },
    {
      "cell_type": "code",
      "source": [
        "batch_sentences = [\n",
        "    \"But what about second breakfast?\",\n",
        "    \"Don't think he knows about second breakfast, Pip.\",\n",
        "    \"What about elevensies?\",\n",
        "]\n",
        "encoded_input = tokenizer(batch_sentences, padding=True, truncation=True, return_tensors=\"tf\")\n",
        "print(encoded_input)"
      ],
      "metadata": {
        "colab": {
          "base_uri": "https://localhost:8080/"
        },
        "id": "XRxT-kqjJvTI",
        "outputId": "3ca9aa40-cb47-4d74-c1cb-ed8e74deb8e3"
      },
      "execution_count": null,
      "outputs": [
        {
          "output_type": "stream",
          "name": "stdout",
          "text": [
            "{'input_ids': <tf.Tensor: shape=(3, 14), dtype=int32, numpy=\n",
            "array([[  101,  2021,  2054,  2055,  2117,  6350,  1029,   102,     0,\n",
            "            0,     0,     0,     0,     0],\n",
            "       [  101,  2123,  1005,  1056,  2228,  2002,  4282,  2055,  2117,\n",
            "         6350,  1010, 28315,  1012,   102],\n",
            "       [  101,  2054,  2055,  5408, 14625,  1029,   102,     0,     0,\n",
            "            0,     0,     0,     0,     0]], dtype=int32)>, 'attention_mask': <tf.Tensor: shape=(3, 14), dtype=int32, numpy=\n",
            "array([[1, 1, 1, 1, 1, 1, 1, 1, 0, 0, 0, 0, 0, 0],\n",
            "       [1, 1, 1, 1, 1, 1, 1, 1, 1, 1, 1, 1, 1, 1],\n",
            "       [1, 1, 1, 1, 1, 1, 1, 0, 0, 0, 0, 0, 0, 0]], dtype=int32)>}\n"
          ]
        }
      ]
    },
    {
      "cell_type": "markdown",
      "source": [
        "# 🍿 Sentence Classification Example\n",
        "\n",
        "The revisit the (by now quite familiar) task of classifing IMDb movie reviews as either postive or negative.\n",
        "\n",
        "But this time, we'll use a pre-trained transformer as the foundation of our binary text classification task."
      ],
      "metadata": {
        "id": "Ez-dnJYUyKyV"
      }
    },
    {
      "cell_type": "markdown",
      "source": [
        "## Data Loading"
      ],
      "metadata": {
        "id": "KmTvFfESn8SD"
      }
    },
    {
      "cell_type": "code",
      "source": [
        "import tensorflow_datasets as tfds\n",
        "import numpy as np\n",
        "\n",
        "# Define a function to load and prepare the dataset\n",
        "def load_and_prepare_data(split, samples, batch_size):\n",
        "    # Load the dataset for the given split, and take a specified number of samples\n",
        "    ds = tfds.load('imdb_reviews', split=split, as_supervised=True).take(samples)\n",
        "\n",
        "    # Batch the dataset and prefetch to improve performance\n",
        "    ds = ds.batch(batch_size).prefetch(tf.data.experimental.AUTOTUNE)\n",
        "\n",
        "    x, y = [], []\n",
        "\n",
        "    # Iterate over the dataset in batches\n",
        "    for batch_reviews, batch_labels in tfds.as_numpy(ds):\n",
        "        # Decode the reviews and extend the lists\n",
        "        decoded_reviews = [review.decode() for review in batch_reviews]\n",
        "        x.extend(decoded_reviews)\n",
        "        y.extend(batch_labels)\n",
        "\n",
        "    # Convert the lists to NumPy arrays and return them\n",
        "    return np.array(x), np.array(y)\n",
        "\n",
        "train_shape = 1600\n",
        "test_shape = 400\n",
        "batch_size = 4\n",
        "\n",
        "# Load and prepare the train and test datasets\n",
        "train_x, train_y = load_and_prepare_data(tfds.Split.TRAIN, train_shape, batch_size)\n",
        "test_x, test_y = load_and_prepare_data(tfds.Split.TEST, test_shape, batch_size)\n",
        "\n",
        "# Display a few samples from the train dataset\n",
        "print(\"Train samples:\")\n",
        "for i in range(3):\n",
        "    print(f\"Review {i + 1}:\")\n",
        "    print(train_x[i][:50], train_y[i])\n",
        "    print()\n",
        "\n",
        "# Display a few samples from the test dataset\n",
        "print(\"Test samples:\")\n",
        "for i in range(3):\n",
        "    print(f\"Review {i + 1}:\")\n",
        "    print(test_x[i][:50], test_y[i])\n",
        "    print()\n"
      ],
      "metadata": {
        "id": "0lzXYakYO4Xu",
        "colab": {
          "base_uri": "https://localhost:8080/"
        },
        "outputId": "cfe66c66-4275-4933-d2fd-c32c674d7632"
      },
      "execution_count": null,
      "outputs": [
        {
          "output_type": "stream",
          "name": "stdout",
          "text": [
            "Train samples:\n",
            "Review 1:\n",
            "This was an absolutely terrible movie. Don't be lu 0\n",
            "\n",
            "Review 2:\n",
            "I have been known to fall asleep during films, but 0\n",
            "\n",
            "Review 3:\n",
            "Mann photographs the Alberta Rocky Mountains in a  0\n",
            "\n",
            "Test samples:\n",
            "Review 1:\n",
            "There are films that make careers. For George Rome 1\n",
            "\n",
            "Review 2:\n",
            "A blackly comic tale of a down-trodden priest, Naz 1\n",
            "\n",
            "Review 3:\n",
            "Scary Movie 1-4, Epic Movie, Date Movie, Meet the  0\n",
            "\n"
          ]
        }
      ]
    },
    {
      "cell_type": "markdown",
      "source": [
        "## Define Model and Tokenizer"
      ],
      "metadata": {
        "id": "z5N-BRBwrAWe"
      }
    },
    {
      "cell_type": "code",
      "source": [
        "from transformers import  TFAutoModelForSequenceClassification\n",
        "\n",
        "\n",
        "model = TFAutoModelForSequenceClassification.from_pretrained(\"distilbert-base-uncased\")\n",
        "tokenizer = AutoTokenizer.from_pretrained(\"distilbert-base-uncased\")"
      ],
      "metadata": {
        "colab": {
          "base_uri": "https://localhost:8080/"
        },
        "id": "NCe32I45rD_K",
        "outputId": "cd624830-e6de-4b35-dc46-217601001b6f"
      },
      "execution_count": null,
      "outputs": [
        {
          "output_type": "stream",
          "name": "stderr",
          "text": [
            "Some weights of the PyTorch model were not used when initializing the TF 2.0 model TFDistilBertForSequenceClassification: ['vocab_projector.bias', 'vocab_layer_norm.bias', 'vocab_transform.bias', 'vocab_transform.weight', 'vocab_layer_norm.weight']\n",
            "- This IS expected if you are initializing TFDistilBertForSequenceClassification from a PyTorch model trained on another task or with another architecture (e.g. initializing a TFBertForSequenceClassification model from a BertForPreTraining model).\n",
            "- This IS NOT expected if you are initializing TFDistilBertForSequenceClassification from a PyTorch model that you expect to be exactly identical (e.g. initializing a TFBertForSequenceClassification model from a BertForSequenceClassification model).\n",
            "Some weights or buffers of the TF 2.0 model TFDistilBertForSequenceClassification were not initialized from the PyTorch model and are newly initialized: ['pre_classifier.weight', 'pre_classifier.bias', 'classifier.weight', 'classifier.bias']\n",
            "You should probably TRAIN this model on a down-stream task to be able to use it for predictions and inference.\n"
          ]
        }
      ]
    },
    {
      "cell_type": "code",
      "source": [
        "# can be up to 512 for BERT, (the self attention mechanism used in the early transformers like BERT scales quadratically in the sequence length)\n",
        "max_length = 512"
      ],
      "metadata": {
        "id": "v33GCqFuUw-W"
      },
      "execution_count": null,
      "outputs": []
    },
    {
      "cell_type": "markdown",
      "source": [
        "Data Preprocessing"
      ],
      "metadata": {
        "id": "kjhhiZIysev6"
      }
    },
    {
      "cell_type": "code",
      "source": [
        "# Note the less-than-best practice of referencing variables outside the\n",
        "# function score\n",
        "def convert_example_to_feature(review):\n",
        "    \"\"\"\n",
        "    Tokenize the input text, truncate or pad to fit the maximum length,\n",
        "    and return the processed input as tensors.\n",
        "    \"\"\"\n",
        "    return tokenizer(\n",
        "        review,\n",
        "        add_special_tokens=True,  # Add [CLS] and [SEP] tokens, help the model process and interpret the input data correctly\n",
        "        max_length=max_length,  # Set the maximum input length\n",
        "        truncation=True,  # Truncate input texts longer than the max length\n",
        "        padding=True,  # Pad shorter input texts with [PAD] tokens\n",
        "        return_tensors='tf',  # Return the output as TensorFlow tensors\n",
        "    )   # Review here https://huggingface.co/docs/transformers/main_classes/tokenizer\n",
        "\n",
        "def encode_examples(x, y):\n",
        "    \"\"\"\n",
        "    Encode the input examples using the tokenizer, and return a TensorFlow dataset\n",
        "    containing the processed input data and corresponding labels.\n",
        "    \"\"\"\n",
        "    x_processed = convert_example_to_feature(list(x))\n",
        "    return tf.data.Dataset.from_tensor_slices(((x_processed[\"input_ids\"], x_processed[\"attention_mask\"]), y))"
      ],
      "metadata": {
        "id": "ex2cQOhUU09O"
      },
      "execution_count": null,
      "outputs": []
    },
    {
      "cell_type": "code",
      "source": [
        "# train dataset\n",
        "ds_train_encoded = encode_examples(train_x,train_y).shuffle(buffer_size=train_shape).batch(batch_size).prefetch(buffer_size=tf.data.experimental.AUTOTUNE)\n",
        "\n",
        "# test dataset\n",
        "ds_test_encoded = encode_examples(test_x,test_y).batch(batch_size).prefetch(buffer_size=tf.data.experimental.AUTOTUNE)"
      ],
      "metadata": {
        "id": "z5BpmBt3VF-c"
      },
      "execution_count": null,
      "outputs": []
    },
    {
      "cell_type": "markdown",
      "source": [
        "## Model Fitting"
      ],
      "metadata": {
        "id": "JHSvo0rbuh_H"
      }
    },
    {
      "cell_type": "code",
      "source": [
        "from tensorflow.keras.callbacks import LearningRateScheduler, EarlyStopping\n",
        "\n",
        "# Generally recommended learning rate for Adam 1e-5\n",
        "learning_rate = 1e-5\n",
        "\n",
        "# Number of epochs for training\n",
        "number_of_epochs = 10 # We usually do not need 10, but we have earlystopping!\n",
        "\n",
        "# Learning rate scheduling: warm-up and linear decay\n",
        "def scheduler(epoch, lr):\n",
        "    warmup_epochs = 1\n",
        "    decay_epochs = number_of_epochs - warmup_epochs\n",
        "    if epoch < warmup_epochs:\n",
        "        return lr * (epoch + 1) / warmup_epochs\n",
        "    else:\n",
        "        return lr * (1 - (epoch - warmup_epochs) / decay_epochs)\n",
        "\n",
        "# Advanced Built-in LR scheduler like PolynomialDecay or CosineDecay is also encouraged\n",
        "# See tutorial here for a list of LR scheduler https://www.tensorflow.org/api_docs/python/tf/keras/optimizers/schedules/\n",
        "\n",
        "# Model checkpoint callback\n",
        "checkpoint_filepath = 'Demo_DistilBERT_checkpoint.weights.h5'\n",
        "model_checkpoint_callback = tf.keras.callbacks.ModelCheckpoint(\n",
        "    filepath=checkpoint_filepath,\n",
        "    save_weights_only=True,\n",
        "    monitor='val_accuracy',\n",
        "    mode='max',\n",
        "    save_best_only=True) # Recommended to set this to False, if you are facing a hard task and want to optimize it\n",
        "\n",
        "# Early Stopping callback\n",
        "early_stopping_callback = EarlyStopping(\n",
        "    monitor='val_loss', # You can monitor validation loss or validation accuracy\n",
        "    patience=2, # Number of epochs with no improvement after which training will be stopped\n",
        "    restore_best_weights=True, # Restore the best weights found during training\n",
        "    verbose=1\n",
        ")\n",
        "\n",
        "# Learning rate scheduler callback\n",
        "lr_callback = LearningRateScheduler(scheduler, verbose=1)\n",
        "\n",
        "# choosing Adam optimizer\n",
        "optimizer = tf.keras.optimizers.Adam(learning_rate=learning_rate, epsilon=1e-08)\n",
        "\n",
        "# tf.keras.optimizers.experimental.AdamW(lr=learning_rate, weight_decay = 1e-3) is also commonly used\n",
        "# refer https://www.tensorflow.org/api_docs/python/tf/keras/optimizers/AdamW for more details\n",
        "\n",
        "# We do not have one-hot vectors, so we use sparse categorical cross entropy and accuracy\n",
        "# Note that the output from the model is logits, so we need from_logits=True\n",
        "loss = tf.keras.losses.SparseCategoricalCrossentropy(from_logits=True)\n",
        "metric = tf.keras.metrics.SparseCategoricalAccuracy('accuracy')\n",
        "\n",
        "# Compile the model\n",
        "model.compile(optimizer=optimizer, loss=loss, metrics=[metric])"
      ],
      "metadata": {
        "id": "j-RBW1fhV23V"
      },
      "execution_count": null,
      "outputs": []
    },
    {
      "cell_type": "code",
      "source": [
        "# Model fitting\n",
        "bert_history = model.fit(ds_train_encoded,\n",
        "                         epochs=number_of_epochs,\n",
        "                         validation_data=ds_test_encoded, # because we are lazy\n",
        "                         callbacks=[lr_callback, early_stopping_callback, model_checkpoint_callback])"
      ],
      "metadata": {
        "colab": {
          "base_uri": "https://localhost:8080/"
        },
        "id": "ZrocaUc8VGFT",
        "outputId": "96c84e92-1e23-4bbc-bf17-d761b36378ba"
      },
      "execution_count": null,
      "outputs": [
        {
          "output_type": "stream",
          "name": "stdout",
          "text": [
            "\n",
            "Epoch 1: LearningRateScheduler setting learning rate to 9.999999747378752e-06.\n",
            "Epoch 1/10\n",
            "400/400 [==============================] - ETA: 0s - loss: 0.4801 - accuracy: 0.7525"
          ]
        },
        {
          "output_type": "stream",
          "name": "stderr",
          "text": [
            "/usr/local/lib/python3.11/dist-packages/transformers/generation/tf_utils.py:465: UserWarning: `seed_generator` is deprecated and will be removed in a future version.\n",
            "  warnings.warn(\"`seed_generator` is deprecated and will be removed in a future version.\", UserWarning)\n"
          ]
        },
        {
          "output_type": "stream",
          "name": "stdout",
          "text": [
            "\b\b\b\b\b\b\b\b\b\b\b\b\b\b\b\b\b\b\b\b\b\b\b\b\b\b\b\b\b\b\b\b\b\b\b\b\b\b\b\b\b\b\b\b\b\b\b\b\b\b\b\b\b\b\b\b\b\b\b\b\b\b\b\b\b\b\b\b\b\b\b\b\b\b\b\b\b\b\b\b\b\b\b\b\r400/400 [==============================] - 137s 282ms/step - loss: 0.4801 - accuracy: 0.7525 - val_loss: 0.3015 - val_accuracy: 0.8750 - lr: 1.0000e-05\n",
            "\n",
            "Epoch 2: LearningRateScheduler setting learning rate to 9.999999747378752e-06.\n",
            "Epoch 2/10\n",
            "400/400 [==============================] - 114s 284ms/step - loss: 0.2145 - accuracy: 0.9200 - val_loss: 0.3080 - val_accuracy: 0.8825 - lr: 1.0000e-05\n",
            "\n",
            "Epoch 3: LearningRateScheduler setting learning rate to 8.888888664336668e-06.\n",
            "Epoch 3/10\n",
            "400/400 [==============================] - 116s 289ms/step - loss: 0.1127 - accuracy: 0.9606 - val_loss: 0.3269 - val_accuracy: 0.8875 - lr: 8.8889e-06\n",
            "Epoch 3: early stopping\n",
            "Restoring model weights from the end of the best epoch: 1.\n"
          ]
        }
      ]
    },
    {
      "cell_type": "code",
      "source": [
        "import matplotlib.pyplot as plt\n",
        "\n",
        "# Extract the history data\n",
        "history_dict = bert_history.history\n",
        "\n",
        "# Extract loss and accuracy values for both training and validation\n",
        "train_loss = history_dict['loss']\n",
        "train_accuracy = history_dict['accuracy']\n",
        "val_loss = history_dict['val_loss']\n",
        "val_accuracy = history_dict['val_accuracy']\n",
        "\n",
        "# Create a range of epoch numbers for the x-axis\n",
        "epochs = range(1, len(train_loss) + 1)\n",
        "\n",
        "# Plot training and validation loss\n",
        "plt.figure(figsize=(4, 4))\n",
        "plt.plot(epochs, train_loss, 'b', label='Training loss')\n",
        "plt.plot(epochs, val_loss, 'r', label='Validation loss')\n",
        "plt.title('Training and Validation Loss')\n",
        "plt.xlabel('Epochs') # Ouch... floats as x-ticks?\n",
        "plt.ylabel('Loss')\n",
        "plt.legend()\n",
        "plt.show()\n",
        "\n",
        "# Plot training and validation accuracy\n",
        "plt.figure(figsize=(4, 4))\n",
        "plt.plot(epochs, train_accuracy, 'b', label='Training accuracy')\n",
        "plt.plot(epochs, val_accuracy, 'r', label='Validation accuracy')\n",
        "plt.title('Training and Validation Accuracy')\n",
        "plt.xlabel('Epochs')\n",
        "plt.ylabel('Accuracy')\n",
        "plt.legend()\n",
        "plt.show()\n"
      ],
      "metadata": {
        "colab": {
          "base_uri": "https://localhost:8080/",
          "height": 803
        },
        "id": "NvewWjxbyxEe",
        "outputId": "c7b65cce-7c5f-4ad5-cc01-1dd8e6af4386"
      },
      "execution_count": null,
      "outputs": [
        {
          "output_type": "display_data",
          "data": {
            "text/plain": [
              "<Figure size 400x400 with 1 Axes>"
            ],
            "image/png": "[encoded data removed]"
          },
          "metadata": {}
        },
        {
          "output_type": "display_data",
          "data": {
            "text/plain": [
              "<Figure size 400x400 with 1 Axes>"
            ],
            "image/png": "[encoded data removed]"
          },
          "metadata": {}
        }
      ]
    },
    {
      "cell_type": "markdown",
      "source": [
        "## Model loading and Evaluation"
      ],
      "metadata": {
        "id": "XLLUpvXG7G3v"
      }
    },
    {
      "cell_type": "code",
      "source": [
        "# In case you want to load your trained_model\n",
        "\n",
        "# Model initialization\n",
        "loaded_model = TFAutoModelForSequenceClassification.from_pretrained(\"distilbert-base-uncased\")\n",
        "\n",
        "# Load the weights from the checkpoint\n",
        "checkpoint_filepath = 'Demo_DistilBERT_checkpoint.weights.h5'\n",
        "loaded_model.load_weights(checkpoint_filepath)\n",
        "\n",
        "# Compile the model with the same optimizer, loss, and metric used during training\n",
        "# (This is because we'd only saved the model weights)\n",
        "optimizer = tf.keras.optimizers.Adam(learning_rate=learning_rate, epsilon=1e-08)\n",
        "loss = tf.keras.losses.SparseCategoricalCrossentropy(from_logits=True)\n",
        "metric = tf.keras.metrics.SparseCategoricalAccuracy('accuracy')\n",
        "loaded_model.compile(optimizer=optimizer, loss=loss, metrics=[metric])\n",
        "\n",
        "# Evaluate the model on the test dataset\n",
        "eval_results = loaded_model.evaluate(ds_test_encoded)\n",
        "\n",
        "print(f\"Test Loss: {eval_results[0]}, Test Accuracy: {eval_results[1]}\")\n",
        "\n",
        "# You can also continue training from here\n",
        "# number_of_epochs = ...\n",
        "# bert_history = loaded_model.fit(ds_train_encoded, epochs=number_of_epochs, validation_data=ds_test_encoded, callbacks=[lr_callback, early_stopping_callback, model_checkpoint_callback])"
      ],
      "metadata": {
        "colab": {
          "base_uri": "https://localhost:8080/"
        },
        "id": "b3v0MCKr6QeP",
        "outputId": "f83dca5f-e90e-48e1-d530-a362131418cf"
      },
      "execution_count": null,
      "outputs": [
        {
          "output_type": "stream",
          "name": "stderr",
          "text": [
            "Some weights of the PyTorch model were not used when initializing the TF 2.0 model TFDistilBertForSequenceClassification: ['vocab_projector.bias', 'vocab_layer_norm.bias', 'vocab_transform.bias', 'vocab_transform.weight', 'vocab_layer_norm.weight']\n",
            "- This IS expected if you are initializing TFDistilBertForSequenceClassification from a PyTorch model trained on another task or with another architecture (e.g. initializing a TFBertForSequenceClassification model from a BertForPreTraining model).\n",
            "- This IS NOT expected if you are initializing TFDistilBertForSequenceClassification from a PyTorch model that you expect to be exactly identical (e.g. initializing a TFBertForSequenceClassification model from a BertForSequenceClassification model).\n",
            "Some weights or buffers of the TF 2.0 model TFDistilBertForSequenceClassification were not initialized from the PyTorch model and are newly initialized: ['pre_classifier.weight', 'pre_classifier.bias', 'classifier.weight', 'classifier.bias']\n",
            "You should probably TRAIN this model on a down-stream task to be able to use it for predictions and inference.\n"
          ]
        },
        {
          "output_type": "stream",
          "name": "stdout",
          "text": [
            "100/100 [==============================] - 10s 85ms/step - loss: 0.3269 - accuracy: 0.8875\n",
            "Test Loss: 0.3269083499908447, Test Accuracy: 0.887499988079071\n"
          ]
        }
      ]
    },
    {
      "cell_type": "markdown",
      "source": [
        "## Summary\n",
        "\n",
        "1. **Loading and preprocessing the dataset**: The code begins by importing necessary libraries and loading the IMDB movie reviews dataset from TensorFlow Datasets. It preprocesses the dataset by taking a specified number of samples for training and testing, batching, and prefetching for better performance. The data is then decoded and converted into NumPy arrays.\n",
        "\n",
        "2. **Importing DistilBERT model and tokenizer**: The DistilBERT model is imported using Hugging Face's Transformers library, along with the tokenizer. A custom function `convert_example_to_feature` is defined to tokenize and preprocess the input text using the tokenizer, including adding special tokens, padding, and truncating.\n",
        "\n",
        "3. **Creating TensorFlow datasets**: Another custom function `encode_examples` is defined to create a TensorFlow dataset from the tokenized and preprocessed input text and labels.\n",
        "\n",
        "4. **Encoding and batching the datasets**: The training and test datasets are encoded using the `encode_examples` function and batched, with the training dataset also being shuffled.\n",
        "\n",
        "5. **Compiling the model**: The model is compiled with the Adam optimizer, learning rate 1e-5, and a sparse categorical cross-entropy loss function. A learning rate scheduler with warm-up and linear decay is defined, along with an early stopping and model checkpoint callback.\n",
        "\n",
        "6. **Fine-tuning and evaluation**: The model is fine-tuned on the training data, and its performance is evaluated on the test data. The best model weights are saved in a checkpoint file. Some plots are also generated\n",
        "\n",
        "7. **Loading the trained model**: The code also demonstrates how to load a pretrained DistilBERT model and the saved checkpoint file, compile the model with the same optimizer, loss function, and metric, and evaluate the model on the test dataset. This loaded model can be used for further fine-tuning or predictions.\n",
        "\n"
      ],
      "metadata": {
        "id": "uGPymUDnwZ_X"
      }
    },
    {
      "cell_type": "markdown",
      "source": [
        "## Tips for fine-tuning\n",
        "\n",
        "Below is what used:\n",
        "1. **Learning rate scheduling**: A custom learning rate scheduler with a warm-up phase and linear decay was used. This helps the model gradually adapt to the task-specific data and slowly decrease the learning rate as training progresses.\n",
        "\n",
        "2. **Early stopping**: Early stopping with a patience of 2 epochs was implemented to prevent overfitting by stopping the training process if there is no improvement in the validation loss for a specified number of epochs.\n",
        "\n",
        "3. **Model checkpointing**: The best model weights were saved during training based on validation accuracy, enabling the loading of the best-performing model later for further fine-tuning or prediction.\n",
        "\n",
        "\n",
        "Additional techniques that can be helpful in fine-tuning BERT models:\n",
        "\n",
        "1. **Gradient clipping**: Gradient clipping can help prevent exploding gradients during training, which can lead to unstable learning dynamics. This can be added to the optimizer as follows:\n",
        "\n",
        "```\n",
        "optimizer = tf.keras.optimizers.Adam(learning_rate=learning_rate, epsilon=1e-08, clipnorm=1.0)\n",
        "```\n",
        "\n",
        "\n",
        "2. **Weight decay**: Using the AdamW optimizer, which includes weight decay regularization, can help improve the model's generalization by applies a direct modification to the weights by shrinking them towards zero, independent of the adaptive learning rates:\n",
        "\n",
        "```\n",
        "from tensorflow.keras.optimizers.experimental import AdamW\n",
        "optimizer = AdamW(learning_rate=learning_rate, weight_decay=1e-3)\n",
        "```\n",
        "\n",
        "\n",
        "3. **Reduce learning rate on plateau**: Instead of using a custom learning rate scheduler, the `ReduceLROnPlateau` callback can be used to automatically reduce the learning rate when the validation loss plateaus:\n",
        "\n",
        "```\n",
        "from tensorflow.keras.callbacks import ReduceLROnPlateau\n",
        "reduce_lr_on_plateau = ReduceLROnPlateau(monitor='val_loss', factor=0.1, patience=2, verbose=1)\n",
        "```\n",
        "This callback can then be added to your list of callbacks during model.fit()\n",
        "\n"
      ],
      "metadata": {
        "id": "_z1nF5dx0aHw"
      }
    },
    {
      "cell_type": "markdown",
      "source": [
        "## Trainer\n",
        "\n",
        "Hugging Face's Trainer (https://huggingface.co/docs/transformers/v4.17.0/en/main_classes/trainer) is a high-level, easy-to-use training and evaluation wrapper designed specifically for fine-tuning and training transformer models. It provides a straightforward way to train, fine-tune, and evaluate models on various tasks, while handling most of the underlying complexities, such as data loading, evaluation metrics, and distributed training.\n",
        "\n",
        "Below is an example:\n",
        "\n",
        "```\n",
        "# Define the metric (accuracy)\n",
        "def compute_metrics(eval_pred):\n",
        "    logits, labels = eval_pred\n",
        "    predictions = np.argmax(logits, axis=-1)\n",
        "    return {\"accuracy\": accuracy_score(labels, predictions)}\n",
        "training_args = TrainingArguments(\n",
        "    output_dir=\"./results\",\n",
        "    num_train_epochs=5,\n",
        "    per_device_train_batch_size=batch_size,\n",
        "    per_device_eval_batch_size=batch_size,\n",
        "    evaluation_strategy=\"epoch\",\n",
        "    logging_dir=\"./logs\",\n",
        "    learning_rate=3e-5,\n",
        "    weight_decay=1e-3,\n",
        "    warmup_steps=1,\n",
        "    save_strategy=\"epoch\",\n",
        "    load_best_model_at_end=True,\n",
        "    metric_for_best_model=\"accuracy\",\n",
        ")\n",
        "\n",
        "trainer = Trainer(\n",
        "    model=model,\n",
        "    args=training_args,\n",
        "    train_dataset=train_dataset,\n",
        "    eval_dataset=test_dataset,\n",
        "    compute_metrics=compute_metrics,\n",
        ")\n",
        "\n",
        "# Train and evaluate the model\n",
        "trainer.train()\n",
        "trainer.evaluate()\n",
        "```\n",
        "\n",
        "For serious deep learning models with distributed and mixed-precision training, please consider Hugging Face's accelerate https://huggingface.co/docs/accelerate/index"
      ],
      "metadata": {
        "id": "45v4pzI11SPj"
      }
    },
    {
      "cell_type": "markdown",
      "source": [
        "# GPT-2\n",
        "# Fine-Tuning an LLM on the Language Model Task Itself\n",
        "\n",
        "Above we saw how to use transfer learning to adapt an encoder model like DistilBERT to a new task such as sentence classification.\n",
        "\n",
        "Below we will see an example of how to fine-tune a decoder-based model like GPT-2. We'll be using model's original language model training task, but now using a new dataset.\n",
        "\n",
        "We'd like to use the DistilGPT-2 model from HuggingFace to generate some text about COVID-19. There is just one problem: this model was pre-trained on text that predates the pandemic and so the model doesn't 'know' anything about COVID.\n",
        "\n",
        "To remedy this, we will fine tune the model on a dataset of COVID related news articles."
      ],
      "metadata": {
        "id": "e6_no5kRyJ1l"
      }
    },
    {
      "cell_type": "code",
      "source": [
        "start_time = time.time()\n",
        "# Download\n",
        "dataset_path = tf.keras.utils.get_file(\n",
        "    origin=\"https://storage.googleapis.com/cs109b/datasets/covid.zip\",\n",
        "    extract=True)\n",
        "dataset_path = dataset_path.replace(\".zip\",\"\")\n",
        "print(\"dataset_path:\",dataset_path)\n",
        "execution_time = (time.time() - start_time)/60.0\n",
        "print(\"Download execution time (mins)\",execution_time)"
      ],
      "metadata": {
        "colab": {
          "base_uri": "https://localhost:8080/"
        },
        "id": "yoGB5ePcea5v",
        "outputId": "93fdb43e-a7b1-4567-8a19-98f928fcfa5f"
      },
      "execution_count": null,
      "outputs": [
        {
          "output_type": "stream",
          "name": "stdout",
          "text": [
            "dataset_path: /root/.keras/datasets/covid\n",
            "Download execution time (mins) 0.007118423779805501\n"
          ]
        }
      ]
    },
    {
      "cell_type": "code",
      "source": [
        "# Load all the paths to text files\n",
        "training_data = []\n",
        "text_files = os.listdir(dataset_path)\n",
        "training_data.extend([os.path.join(dataset_path,f) for f in text_files])\n",
        "\n",
        "# Subset your training data for demo, full datset can take a long time to train\n",
        "subset_data = True\n",
        "if subset_data:\n",
        "  training_data = training_data[:300]\n",
        "\n",
        "# Load the text content\n",
        "for idx, path in enumerate(training_data):\n",
        "  # Load text\n",
        "  with open(path) as file:\n",
        "    training_data[idx] = file.read()\n",
        "\n",
        "print(\"training_data count:\",len(training_data))"
      ],
      "metadata": {
        "colab": {
          "base_uri": "https://localhost:8080/"
        },
        "id": "ZBtr3-G_ekD8",
        "outputId": "f7bce14b-4d97-4500-ded4-b904524d8bec"
      },
      "execution_count": null,
      "outputs": [
        {
          "output_type": "stream",
          "name": "stdout",
          "text": [
            "training_data count: 300\n"
          ]
        }
      ]
    },
    {
      "cell_type": "code",
      "source": [
        "# Generate a random sample of index\n",
        "data_samples = np.random.randint(0,high=len(training_data)-1, size=10)\n",
        "for i,data_idx in enumerate(data_samples):\n",
        "  print(\"Text:\",training_data[data_idx])"
      ],
      "metadata": {
        "colab": {
          "base_uri": "https://localhost:8080/"
        },
        "id": "UIa8sbM3ekGf",
        "outputId": "205539d1-e9a9-4d7a-8810-5a5464380748"
      },
      "execution_count": null,
      "outputs": [
        {
          "output_type": "stream",
          "name": "stdout",
          "text": [
            "Text: Regeneron asks FDA for emergency authorization of its Covid-19 antibody therapy given to Trump last week  (CNN)Regeneron says it has applied to the US Food and Drug Administration for emergency use authorization for its experimental monoclonal antibody therapy, the same antibody cocktail given to President Donald Trump Friday after he was diagnosed with the virus. The biotechnology company confirmed it had submitted the application for the authorization in a statement on its website Wednesday night. \"Under our agreement with the U.S. government for the initial doses of REGN-COV2, if an EUA is granted the government has committed to making these doses available to the American people at no cost and would be responsible for their distribution,\" the statement said. \"At this time, there are doses available for approximately 50,000 patients, and we expect to have doses available for 300,000 patients in total within the next few months. Regeneron's experimental antibody treatment is still in large-scale clinical trials, but has been available for compassionate use, something the FDA has to approve on an individual basis, like it did for the President. The antibody therapy is a combination of two monoclonal antibodies that is designed specifically to block infectivity of SARS-CoV-2, the virus that causes Covid-19, according to the company's statement. A cocktail antibody therapy uses two or more lab-engineered antibodies. Regeneron's cocktail includes a monoclonal antibody that targets the spike protein the virus uses to drill into healthy cells, and another antibody that targets a different part of the novel coronavirus. With two, the hope is to trap and shut down viral replication. \"When you weigh the potential benefit versus the risks, the downsides are very low here because we have not seen any safety concerns,\" Regeneron CEO Dr. Leonard Schleifer told CNN in an interview after Trump received an 8 gram dose of the treatment.  Early data from the company's antibody trials released recently showed it worked fairly safely with few side effects. \"This class of drugs is an extremely safe class,\" Schleifer said. Dr. Richard Besser, a former acting director of the US Centers for Disease Control and Prevention who now heads the Robert Wood Johnson Foundation, said it makes sense that a treatment that gives a patient antibodies would help the immune system, but he said peer review will find any holes or pitfalls. \"I would withhold judgment on this until we see the data,\" Besser said. \"You know these early results that keep coming out from companies in press releases strike me as being ... much more about the stock price than they are about science.\" But Dr. Thomas Frieden, also a former CDC director, disagreed with Besser. Although Regeneron's antibody therapy is unproven, it is \"a promising treatment,\" Frieden told CNN. \"There's a report that only fewer than 300 patients have received it,\" he said. \"It seems to be most effective early in the disease, especially before patients make antibodies of their own.\" \"We don't know if it'll be helpful, but it's something that is not unreasonable to try,\" Frieden said. Regeneron isn't the only company working on antibody therapies for the coronavirus. There are at least 70 different antibody treatments for Covid-19 under investigation. CNN's Jen Christensen and Amanda Sealy contributed to this story. \n",
            "Text: Questions remain on J&J Covid-19 vaccine rollout as authorization decision approaches  (CNN)Johnson & Johnson says that it has 4 million doses of its Covid-19 vaccine ready to ship \"immediately\" once it receives emergency use authorization, which could happen this week. But as the decision nears, it's unclear when or where those doses will be delivered. During a briefing on Wednesday, White House Covid coordinator Jeff Zients said the J&J vaccine's distribution would be similar to the current allocations process across jurisdictions, pharmacies and community health centers. When asked earlier in the week, the White House did not disclose its plans, although an administration official said they have worked closely with the company to formulate a distribution outline.    \"If authorized, we are ready to roll out this vaccine without delay,\" Zients said Wednesday. But federal officials have also expressed disappointment that fewer doses than expected will be ready. Zients said about 2 million doses will go to states after the vaccine is authorized, and the remaining amount will be allocated to pharmacies and community health centers.  States and professional associations say they would like some direction about the coming doses but they haven't received detailed information yet. One health industry source told CNN the lack of information has made it difficult for providers to prepare for the vaccine -- unsure if they should be building doses into their electronic medical records or educating their clinicians on how to administer the vaccine.   Still, some cities and states are making big plans for how they will administer the single-dose vaccine -- many focusing on their most vulnerable communities -- and they acknowledge they don't know how many doses to expect. \"I think Johnson & Johnson is going to be the difference maker because it's single dose, easier refrigeration standards. I think this is what will supercharge our effort,\" New York City Mayor Bill de Blasio said during a news briefing on Tuesday.  \"In terms of getting very precisely what we expect for New York City, I'm still waiting to hear that report,\" he added. \"But I'm very hopeful about this new development.\"  When the vaccine could be available Despite the excitement and anticipation, the Johnson & Johnson Covid-19 vaccine has several steps to go before it's available. The FDA's Vaccines and Related Biological Products Advisory Committee meets on Friday to review data on the vaccine and decide whether to recommend it for emergency use authorization in adults 18 and older.  Once the vaccine is authorized, the US Centers for Disease Control and Prevention Advisory Committee on Immunization Practices, or ACIP, makes recommendations to the CDC on how the vaccine should be used, such as among what age groups and on what type of schedule. An emergency meeting of ACIP is scheduled for February 28 and March 1.  Typically, the CDC director accepts the committee's recommendation. Shortly after that, the vaccine can be distributed, and can start going into arms. What everyone wants to know is where the federal government will send those doses, and who they'll be steered toward. \"We're hoping that ACIP will provide some guidance on the most effective use of the J&J one dose vaccine,\" Claire Hannan, executive director of the Association of Immunization Managers, wrote in an email to CNN on Tuesday. \"States are looking for guidance for use of the vaccine in populations which might really benefit from the one dose series complete, such as transient populations,\" Hannan said. \"We aren't hearing much on this.\" Biden administration waiting to disclose its plan Asked Monday about their plan to distribute the J&J vaccine, White House officials said they were waiting for FDA authorization.   \"So I think we're going to wait on that until after the FDA does its work and then after the ACIP does its work, all consistent with our philosophy of letting the science go first,\" Andy Slavitt, senior adviser of the White House coronavirus response, said during a briefing on Monday. \"Once we understand what the scientific community has to say, we will then be in a position to answer, I think, the very relevant questions that we need scientists' advice on.  And again, this is the President's directive to let science lead, and then we will rapidly follow that up with a strategy, both distribution and targeting and otherwise, that reflects that.\" The chief medical adviser to the White House, Dr. Anthony Fauci, said that it is possible the FDA may find details in the trial data that may give federal leaders a better sense of how the vaccine should be distributed. \"In the data there may be hints about just how this would be used most appropriately and most effectively. When we find that out, then the policy of the distribution would become much more scientifically based,\" said Fauci, director of the National Institute of Allergy and Infectious Diseases. While J&J has been manufacturing the vaccine as it was tested, there are still a limited number of doses.  A White House official confirmed this week, \"If an EUA is issued, we anticipate jurisdictions will get an allocation of around 2 million doses of J&J supply next week.\"  On Tuesday, Johnson & Johnson's Dr. Richard Nettles specified the company has 4 million doses ready to ship immediately, and it plans to \"deliver enough single-doses by the end of March to enable the vaccination of more than 20 million Americans,\" according to remarks delivered before a House Committee on Energy & Commerce subcommittee. The US government has ordered 100 million doses to be delivered by June, and the company says it can meet that commitment.  \"What we're seeing is that instead of being front loaded with a number of doses that are coming out, it very likely will be back loaded,\" Fauci said on CNN on Tuesday.  \"It's just a matter of what happened with their production capability and how they are now going to be revving up, and then soon after that, they're going to have a lot of doses,\" he said. \"But, it's not going to be front loaded.\"  'An orange with two apples' The J&J vaccine rollout was never going to be the same as the Moderna and Pfizer vaccines launch. It's different from the earlier mRNA vaccines and coming at a different time in the pandemic.  \"The Moderna and Pfizer were so similar,\" said Daniel Polsky, the Bloomberg Distinguished Professor of Health Policy and Economics at Johns Hopkins University. \"Now we have kind of an orange with two apples. So how do you manage anything? Can you give people choices? What do you send where and why and what are the implications of people getting those?\"  The earlier vaccines were the first; everything was new, and doses were more limited than they are now. They tested new distribution networks and required complex cold storage. Vaccines were directed toward the most vulnerable, going directly to hospitals and long-term care facilities.  Now there are more places to send vaccines and more people who are eligible to get them. The single-dose Johnson & Johnson vaccine developed by Janssen, the company's vaccine arm, should be easier to distribute. Polsky thinks Johnson & Johnson is doing its job. It created a vaccine and communicated what it does. Now, federal and local governments will need to \"connect the dots\" and determine where the vaccine fits best - and that could be bumpy for this vaccine and others, Polsky said. \"The J&J and whatever else follows, everything you add, adds to the complexity of distribution and delivery and communication and all that is, this exponential function of what you are managing,\" Polsky said. \"A state or agency, whoever has the authority to decide what goes where, how they make those decisions, I think that's going to be really complex. \"And come on, it doesn't even have an approval yet.\" Health officials already making plans Around the country, state public health departments were eager to be able to use the vaccine -- but thin on specifics of when they expect to receive doses and how many. The Texas Department of State Health Services said Monday it had not been given any information about the J&J allocation timeline or any other details about the vaccine. Arkansas' department of public health said Tuesday it is still in the planning stages right now, but won't have details to share until it knows more about the characteristics of the vaccine and it is authorized by the FDA.    Maryland Gov. Larry Hogan said Tuesday that White House officials suggested an EUA could happen as early as Friday and shipments of an initial 2 million doses could begin soon after. \"They didn't commit to next week but they said it could happen as early as next week,\" Hogan said, noting that Maryland typically receives about 2% of the nationwide vaccine supply. Some cities, such as New York, have plans in place for the Johnson & Johnson's Covid-19 vaccine rollout, but they still do not know how many vaccine doses they will be allocated. As soon as New York City receives doses of the vaccine, the city plans to start an initiative in which medical personnel will vaccinate homebound older adults in their apartments. The initiative is part of a larger effort to expand vaccinations for seniors. \"The big piece we want to get to is the, literally, in-home vaccination of folks who cannot leave their home. That really requires a Johnson & Johnson vaccine,\" de Blasio, the city's mayor, said during a news briefing on Tuesday. As a single-dose vaccine stored at refrigerator temperatures, the Johnson & Johnson vaccine may be easier to transport for such in-home vaccination efforts. De Blasio said that the Johnson & Johnson vaccine will make a difference in New York City, should it receive an emergency use authorization -- but there are still some questions left to answer, specifically around supply. \"Clearly supply continues to be the single most important issue and that supply is dictated by the federal government and then, of course, by the manufacturers themselves,\" Dr. Jay Varma, senior adviser for public health at the mayor's office, said during Tuesday's briefing.   \"The J&J vaccine is just being considered this week in front of the FDA, so we're looking forward to seeing the data -- both the data that's analyzed completely by J & J because all we have up until now was the press release, and second, the independent analysis that's done by the FDA,\" Varma said. \"The next big challenge becomes the one that we've been talking about all the time, which is supply, and of course we're kind of at the whims of what the federal government is able to allocate to New York City specifically, as well as of course what the manufacturers can actually produce themselves.\" In Colorado, the state hopes to make the Johnson & Johnson vaccine available at mass vaccination sites, said Brig. Gen. Scott Sherman, director of the state's unified coordination center vaccine task force. \"With the Janssen vaccine being a one-dose vaccine, it's good for those types of mass vaccination sites. We don't have to schedule people for a second clinic to come back and get a second dose,\" Sherman said. \"The beauty of putting this in our larger mass vaccination sites is that people will have the choice.\"   Sherman added that the ACIP report on how the vaccine will be recommended for use will help inform the state's planning. They'll also need to know the initial number of doses that will be allocated for the state and how soon those doses may arrive. That remains unclear. \"I don't have a whole lot of information on it. So it'll be interesting what the allocation is. It'll be interesting to know what the storage requirements are,\" Sherman said. \"And then what the quantities look like moving forward.\" CNN's Nadia Kounang, Amanda Sealy, Kaitlan Collins, Kristen Holmes, Maggie Fox and Nicholas Neville contributed to this report. \n",
            "Text: Our pandemic back-to-school supply list  (CNN)Pencils, pens, highlighters, paper, folders: Normally around this time of year, parents and kids would be stocking up on school supplies and scrambling to get ready to return to the classroom. This year, however, is anything but normal. In this year of the pandemic, schools and school districts in much of the country are kicking off the year with virtual education, a continuation of (and hopefully improvement upon) some of the remote learning capabilities rolled out in the immediate aftermath of shelter-in-place orders this spring.  Elsewhere, in states such as Texas and Florida, schools are reopening with new rules and regulations — protocols that embrace social distancing yet seriously transform day-to-day experiences for students. To be clear, stark socioeconomic differences across the country mean that different families have vastly different needs for supplies — some kids need nothing more than headphones to listen to virtual classes on Zoom, while others require basic Wi-Fi, pens and a quiet space in a crowded apartment to work. Still, the needs are real. We interviewed parents, teachers and administrators for insights about which supplies would be most helpful to the greatest number of kids given the current reality of pandemic-era education in America. Here are some of their suggestions. The basics  While Covid-19 has changed the way we socialize, recreate and dine out of the house, it hasn't changed the most basic list of stuff kids need to do school right. This means parents should stock up on staples such as pens, pencils, crayons, markers, paper, erasers and scissors — both for kids who will be learning from home and for those who will be learning from school.  Ashley Fry, a sixth grade math teacher at West Jackson Middle School in Hoschton, Georgia, recommended that kids who will attend any in-real-life instruction should keep these items in a washable pouch. She knows that sharing likely won't be allowed. \"Middle schoolers are known for forgetting supplies, which is normally fine because they just borrow from each other or from their teacher,\" she said. \"Now, however, it will be potentially dangerous to do so with the current pandemic going on.\" The new basics  Two other must-haves for school in 2020: hand sanitizer and face coverings.  While these items are more important for students attending school outside the home, they're important for virtual learners, too, since these kids will spend parts of their days out and about. Students should buy or make 10 to 15 masks they are comfortable wearing, Fry recommended, so they can have two or three face coverings available every day. That's because masks can get sweaty or dirty, and kids need to have a backup mask, just in case. \"Having (multiple) masks will make it so parents don't have to wash masks each evening,\" Fry said. Mask insurance  Having masks is one thing; making sure they don't fall off is another. This is particularly an issue for little kids — the US Centers for Disease Control and Prevention advises that children 2 and older wear masks in settings where it's difficult to practice social distancing. Lanyards or other cords to keep masks around a child's neck are good solutions to this problem, said Elizabeth Goldman, a fourth grade teacher at Jackson Avenue School in Mineola, New York. \"(A lanyard) keeps the mask close enough and affords easy access in case of any sudden social distance deviation, which is guaranteed with children,\" Goldman wrote via text message. \"It also prevents the mask from falling on the floor and getting dirty, in addition to keeping the mask within (the child's) personal space.\" Parents can even leverage the opportunity to spark creativity, Goldman added. \"I would imagine the mask lanyard could also be a means for easing kids' anxieties about wearing masks; they could be decorative and personalized, which basically makes any item fun,\" she said. Confirming connectivity  With a significant amount of learning happening online, it's important for students to be able to access the internet from home. This makes connectivity — reliable Wi-Fi or hard-wired Ethernet — a necessity. The problem? Not all students in America have access to the internet outside of school. One in five parents said it was likely that their child or children would have to use public Wi-Fi to complete classwork because they didn't have reliable connectivity at home, according to an April 2020 survey by Pew Research Center in Washington, D.C. The findings were even more salient for lower-income parents, who reported that 40% of their kids would have to use public Wi-Fi, said Monica Anderson, Pew's associate director of research. \"Unfortunately, even in 2020, internet is not a given for everyone,\" said Anderson, who noted that more than 4,900 respondents participated in the survey. To solve this dilemma, many schools and school districts are doling out Wi-Fi hotspots to families in need or setting up makeshift access points at various positions in the community. Other institutions are leveraging technologies that would enable students to complete schoolwork on smartphones over the cellular network. One device per child  Still other schools and school districts are focusing on the devices themselves, equipping students with mobile devices that also are critically important to putting students in the best position to succeed. Many schools and school districts have programs through which they provide a device to every student for free. Some, however, do not. Lori Lyn is a second grade teacher at Hicks Elementary School in Houston, where every child gets a laptop. She noted that families of students who don't receive free devices from their schools should try everything possible to obtain one for each child to use as his or her own. Devices such as Kindles, smartphones and many tablets simply don't have the computing power necessary for virtual education, Lyn added. \"We don't want them to be sharing with parents or amongst each other,\" Lyn explained. \"As difficult as it might be for some families to manage, if you're a family with four kids, it's crucial that each kid has their own device.\" Tune in by tuning out  Another item that many teachers consider to be a must-have for the coming school year: headphones. Particularly for students who must endure at least another semester of virtual learning, these tools will enable kids to log on to class sessions, tune out distractions and focus on the lessons at hand. Mark Kirlough, who teaches engineering at Lower Richland High School in Hopkins, South Carolina, said the headphones don't have to be expensive, so long as they work with the requisite devices and get loud enough to tune out other sounds. \"If you have siblings or if your parents are home working, distractions can be a real problem,\" he said. \"No matter what the situation is in a student's house, (headphones) are one way to help them focus.\" A place to work  Families with enough space and resources also may want to consider getting each child a desk. For Las Vegas resident Stacy Hamilton, a single mother in Las Vegas, this was priority No. 1 for the summer. In the spring, when the city's schools shut down, she set up a work area for her 12-year-old daughter and 10-year-old son at the kitchen table. Hamilton, who was working from home, used the same spot as her office. In July, Hamilton purchased a stand-alone desk for her son. She said she plans to put it and a desk for her daughter in a separate room that will effectively become their classroom until they can return to their respective schools. \"I wanted to get something that was functional for the current moment but could then get moved to his room so he can use it for years to come,\" she said. List the day  Parents said another strategy for putting at-home learners in a position to succeed is by listing the daily schedule and objectives on a whiteboard or flip-chart paper that is easily visible from wherever students plan to complete their work. Jill Murphy, a resident of Sonoma County, California, said she deployed this strategy in the spring, and it gave everyone in her family the opportunity to get on the same page about how each day would go. \"We all need to be on the same page regarding when math or humanities Zoom classes are starting versus when we've agreed on video games or outdoor time,\" said Murphy, who has a 12-year-old son. \"Otherwise it's a constant negotiation, particularly when both parents are working and trading off as remote school 'supervisors.'\" Murphy added that her plan for the fall is to buy a whiteboard to hang in the corner of the family room. Air purifier  Finally, some parents said they are considering purchasing air purifiers to help protect their kids while they learn from home during the coming school year. These devices work to remove most contaminants from the air in a room. While none of the tools have been proven to eliminate coronavirus, many of them have received positive ratings from the US Environmental Protection Agency, and work to improve overall air quality by a significant percent.  For Dana Freeman, who lives in Burlington, Vermont, any improvement to the air her kids breathe is worth the investment. \"I'm just trying to do everything I can to help protect my kids,\" said Freeman, who purchased one purifier for each of her children to take to their respective college apartments. \"If a portable air purifier helps to keep the air in their rooms a little cleaner, then I am all for it.\" Matt Villano is a freelance writer and editor based in Northern California. \n",
            "Text: Cats can infect other cats with coronavirus, researchers find  (CNN)Cats can infect other cats with the novel coronavirus, but they may not show any symptoms, according to a study published Wednesday.  The findings add to a growing body of research showing how cats, big and small, can contract the virus. But experts say there is no evidence felines are contributing to the spread of Covid-19. In the study, researchers infected three cats and found that all of them were shedding the virus after three days. When the infected cats were paired with healthy ones -- housed together for a few days -- the healthy cats developed the virus, too. None of the animals in the study showed any symptoms such as abnormal temperatures or substantial weight loss. The first two cats in the United States to test positive -- both New Yorkers -- showed mild respiratory symptoms, although both were expected to make a full recovery. Eight lions and tigers at the Bronx Zoo also tested positive. The team behind the new study, led by international virus expert Yoshihiro Kawaoka of the University of Tokyo and scientists from the University of Wisconsin, said more research is needed to better understand whether cats could transmit the virus to humans as well. So far, there is no evidence that they can. \"Given the need to stop the coronavirus disease 2019 pandemic through various mechanisms ... a better understanding of the role cats may play in the transmission of SARS-CoV-2 to humans is needed,\" they wrote in a letter to the New England Journal of Medicine. The American Veterinary Medical Association noted that the new research was conducted in a lab -- and it's unclear whether cats can be as easily infected in the real world. A small number of animals worldwide are confirmed to have the virus, the group said in a statement. \"There is no evidence to date that these relatively few naturally infected animals have played any role in transmitting COVID-19 to humans,\" it said. While officials are still learning more about coronavirus and pets, the US Centers for Disease Control and Prevention recommends limiting interactions between pets and people or animals outside of a household. Keep cats indoors whenever possible, the CDC says, and walk dogs on a leash, maintaining a distance of at least six feet from other people and animals. The agency also recommends keeping dogs away from public places where large numbers of people and animals gather, such as dog parks. If someone is ill with Covid-19 -- whether suspected or confirmed -- officials recommend another member of the household care for pets. If that's not possible, people should wear cloth face coverings around animals, making sure to wash their hands before and after any interactions. And when people are sick, officials say they should refrain from petting or snuggling with their pets -- and avoid being kissed or licked by them.  \n",
            "Text: Covid-19's effects include seizures and movement disorders -- even in some moderate cases, study finds  (CNN)Covid-19 can lead to neurological complications, including strokes, seizures and movement disorders, researchers have found. The complications, which go well beyond cognitive impairment, can occur even in moderate cases, according to a study published Wednesday in the journal Neurology: Clinical Practice. \"These particular complications of Covid, and neurological disorders more generally, are about your ability to interact meaningfully with the world,\" said lead study author Dr. Pria Anand, an assistant professor of neurology at Boston University School of Medicine.  \"I think that's one of the unique and devastating things about this (virus).\" A range of dysfunction While Covid-19 can cause headaches and altered mental status in a large number of patients, there are also more serious complications that can require specialized management by neurologists, the study found.  The current study looked at data from 921 adults hospitalized at Boston Medical Center for Covid-19 from April 15 to July 1, with 74 requiring examination by a neurologist. The patients involved in the study were  average age of 64 years, and 47 already had a history of neurologic disease. Focusing on patients with existing neurological manifestations, the researchers found that 18 had been admitted to the hospital due to strokes after contracting Covid-19, 15 had seizures and 26 had a form of brain dysfunction causing confusion and delirium. Another seven had movement disorders, and three patients had suffered traumatic brain injuries related to falls at home after coming down with Covid-19. Ten of the people in the study group died, from causes including multi-organ failure. Many of the survivors who had entered the hospital with a mild neurological disability were discharged with moderately severe disability, the study found. A study in a low-income community One important aspect of the study was in portraying how Covid-19 and its aftermath impact low-income areas and communities of color, said Anand, who is a member of the American Academy of Neurology. Boston Medical Center, which is located in the city's South End, serves a neighborhood where over half of patients live in households with income less than $25,000, two-thirds are racial or ethnic minorities and 72% of hospital visits are by low-income or elderly patients who rely on government-provided insurance coverage. \"We were in the unique position of caring for patients who were disproportionately affected by Covid-19 and just wanted to paint a fuller picture of what the neurologic complications are in this critical set of patients,\" Anand said. During the time covered by the study, the hospital had the second-highest Covid-19 case count of any hospital  in Massachusetts, a state that itself was third in the nation for overall cases and cases per capita. \"Neurological complications of Covid-19 may arise from direct effects of the virus, but are more typically a reflection of the nervous system's response to the infection,\" said Dr. Orly Avitzur, the president-elect of the American Academy of Neurology and editor in chief of the organization's Brain & Life magazine, via email. She was not involved in the study. For instance, low oxygen levels, which are common in Covid-19 patients, can cause encephalopathy, or brain damage that could prove permanent, she explained. And those with severe cases of Covid-19 cases can have surges of immune signaling proteins called cytokines, which can cause alteration of consciousness of confusion with effects lasting months, if not longer, after the initial infection. Avitzur noted that the study at Boston Medical Center only analyzed neurological patients during their hospitalization or 30 days prior to admission, so future research is required to assess the long-term consequences of these effects on Covid-19 survivors.  \"With nine months into this pandemic, we cannot yet predict the course of the long-term effects,\" she said. \"We are likely to be gathering these data for years to come.\" She cited a similar study published by Spanish researchers in August showing that 57% of those with Covid-19 experienced at least one form of neurologic symptom, including myalgias, headaches and disorders of consciousness. Disorders that change you as a person Of the 64 survivors with neurological complications that were discharged from the hospital in the Boston study, 27 of them returned home. Some 20 patients required ongoing care at skilled nursing facilities, including 11 who had been living at home prior to hospitalization. Another nine were sent to acute rehab centers, three needed care at long-term acute hospitals and five patients entered hospice care. \"A lot of patients had Covid-caused complications of critical illness systemically,\" Anand said. \"People's journey is not over when they leave the hospital.\" And it's unclear how long these alterations to their lives might last. \"Beyond just the question of surviving or not surviving, there's this kind of vast grey area of when do you get to be the person you were before you were ill?\" Anand said.  It's unclear whether some will get their life as they knew it back again. \"For so many people, that's just as important as the question of survival or not,\" she said.  \n",
            "Text: You can't hide your stress from your kids, study says  (CNN)Parenting in the age of coronavirus is packed with stress. After all, you're juggling home schooling, work (or the lack of it) and the new realities of social distancing and isolation while trying to keep your family healthy and safe. But if you're trying to hide that stress from your children -- even with the best intentions of protecting them from the pressure -- it's not going to work, according to a new study published Wednesday in the journal Family Psychology. \"If you're stressed and just say, 'Oh, I'm fine,' that only makes you less available to your child,\" said study author Sara Waters, an assistant professor in the department of human development at Washington State University. We found that the kids picked up on that and reciprocated, which becomes a self-fulfilling dynamic,\" Waters said in a statement. \"These are fascinating findings about the way our bodies' physiology links up with our children's -- for good or bad,\" said Dr. Jenny Radesky, a developmental behavioral pediatrician who teaches at the University of Michigan.  \"These are the unspoken ways that children feed off of us, sense our emotional states, and react emotionally themselves,\" she said, which are \"incredibly relevant\" to stress from today's Covid-19 pandemic. \"There are so many things about Covid-19-related stresses that we may not want to express to our children, such as worries about relatives' health or finances,\" Radesky added.  \"These results suggest that stifling emotions don't get rid of them -- they stay under our skin in the form of changes in our heart and nervous system functioning,\" she said. \"And as most parents know, they can pop out later in the form of irritability, overreacting to our children or yelling.\" What lies beneath The study put sensors on the bodies of 107 parents, nearly half of whom were dads, and their 7 to 11-year-old children. Parents were asked to list five topics of frequent conflict with their kids, and then they were given activities designed to create stress, such as public speaking. Once back in the room with their child, parents were asked to talk about one of the family's top conflicts: Half of the 107 parents were asked to suppress their feelings of stress; the other half were told not to do so. Interactions were recorded on video and scored by reviewers who did not know which group the parents had been assigned. Results showed that when parents repressed their stressful feelings, both the parents and the children were rated as \"less warm\" and \"less engaged\" with each other. \"That makes sense for a parent distracted by trying to keep their stress hidden, but the kids very quickly changed their behavior to match the parent,\" Waters said.  In fact, sensors on the child's body recorded a physical response when the parent hid their emotions, the study found. \"The response happens under the skin,\" Waters said. Differences in parent-child dynamics One interesting finding was a difference between mothers and fathers. When moms were told to hide their emotions, their children showed even more signs of stress on the physiological sensor and in their outward behavior. That didn't happen with dads, however. \"We were looking for a physiological response, but there wasn't one in either the control or the experimental condition where dads transmitted stress to their kids,\" Waters said. Perhaps that's because dads may suppress emotions around their children more than mothers do, Waters said.  \"The kids have experience with their dad saying things are fine even when they're not,\" she said. \"But it was more abnormal for kids to see their mom suppressing their emotions, and they reacted to that.\" Don't guilt yourself over stress The takeaway from the study for parents, Waters said, is to not stress about your stress. \"Honor your feelings and your child's feelings,\" she said. \"Kids will work their way through it; they're good at it. Giving yourself permission to feel opens up your mind to more and better problem solving. It's a good thing.\" Radesky agreed: \"It's important for parents to know that this isn't meant to 'blame' them, but to give them the power to know that children can feed off of parents' emotional state in positive ways, too.\"   \"When we cope in a healthy way, they see us,\" she said. \"When we express our emotions and show that they are mentionable and manageable, as Mister Rogers said, we teach them that they can do the same. \"  \n",
            "Text: US tops 1,000 coronavirus deaths 4 days in a row as experts urge the country to shut down  (CNN)As more Covid-19 records get broken, debates on whether to send kids back to school or to shut down the economy again are coming to a head. More than 1,000 people died every day for four straight days last week due to Covid-19. That brings the total US death toll  from the virus to more than 146,000 as of Sunday, according to data from Johns Hopkins University.  And researchers project up to 175,000 deaths linked to the virus by August 15, according to an ensemble forecast published by the US Centers for Disease Control and Prevention.  With overwhelmed hospitals and lengthy delays in testing, some local leaders -- including Houston Mayor Sylvester Turner and Los Angeles Mayor Eric Garcetti -- said a second stay-at-home order might be possible. That kind of drastic measure is supported by more than 150 prominent medical experts, scientists, teachers, nurses and other experts who signed a letter urging leaders to shut the country down and start over to contain the rampant spread of the virus.  \"Right now, we are on a path to lose more than 200,000 American lives by November 1st. Yet, in many states people can drink in bars, get a haircut, eat inside a restaurant, get a tattoo, get a massage, and do myriad other normal, pleasant, but non-essential activities,\" read the letter, which was sent to the Trump administration, members of Congress and state governors.  What we can learn from states that got Covid-19 under control  In the past two days, these states broke records:  As the country's caseload and death toll climbs, at least four states reported record-breaking numbers since Friday.  California, which is leading the nation with the most recorded coronavirus cases, reported 159 deaths linked to the virus Friday -- the highest number recorded in a single day since the start of the pandemic. More than half of all virus-related deaths in the state come from Los Angeles County, where more than 4,260 deaths have been reported. The state has had more than 446,450 reported infections, according to Johns Hopkins.  Georgia also broke a new single-day record Friday, reporting at least 4,813 new coronavirus cases. Health officials reported 3,787 new cases Saturday. More than 165,180 people have tested positive in the state, according to Johns Hopkins.  Oregon reported nine new coronavirus-related deaths Friday, breaking its record for most reported fatalities in a single day since the pandemic began. Health officials in the state reported 396 new cases, bringing the state's total to more than 16,100.  For the second day in a row, Hawaii reported a record number of new cases, identifying 60 new positive tests Friday, according to health officials. On Thursday, Hawaii reported 55 new cases. the state has had at least 1,620 reported infections, according to Johns Hopkins. Track the virus in your state and across the US Florida's youngest victim was a 9-year-old girl In Florida, a state that's broken its record of new cases several times in recent weeks, Covid-19 hospitalizations have jumped by nearly 80% since July 4, according to data from the state's Agency for Health Care Administration. Across the state, at least 50 hospitals have no ICU beds available. Last week, a 9-year-old girl with no pre-existing conditions became the state's youngest coronavirus victim. Kimora \"Kimmie\" Lynum was taken to a local hospital to treat a \"very high\" fever, her family said. Kimmie's cousin and family spokesman Dejeon Cain said the hospital told the family to return home. After doing so, the young girl complained of not feeling well and collapsed, Cain said. She didn't have a detectable heartbeat.  Her family said they don't know how Kimmie contracted the virus, as she had appeared healthy and had spent the summer at home.  Texas hospital could send patients home to die In Texas, which broke a record for virus-related deaths last week, doctors inside one hospital may decide to send patients home to \"die by their loved ones\" due to limited resources, officials said.  Officials in Starr County announced they're creating committees to review patients' cases at the Starr County Memorial Hospital -- where at least 50% of patients admitted to the hospital's emergency room have tested positive for coronavirus.  \"Unfortunately, Starr County Memorial Hospital has limited resources and our doctors are going to have to decide who receives treatment, and who is sent home to die by their loved ones,\" Starr County Judge Eloy Vera wrote in a Facebook post on Thursday. \"This is what we did not want our community to experience.\" Earlier this month, the governor ordered a statewide mask mandate and urged residents to heed the precautions in order for businesses and the economy to remain open.  As the state grapples with coronavirus, Gov. Greg Abbott also had to issue a disaster declaration for 32 counties after Hurricane Hanna made landfall Saturday evening.  CDC in favor of reopening schools  Many teachers and staff members across the US have strongly opposed returning to classrooms next month as the virus runs uncontrolled across American communities.  But some parents -- including some in a Georgia county where coronavirus numbers are among the highest in the state -- are demanding schools reopen.  President Donald Trump has said he's putting pressure on governors to reopen schools in a push to get the US back to business as usual.  In new guidelines posted last week on education and childcare, the CDC came down hard in favor of reopening schools, saying children don't suffer much from coronavirus and are less likely to spread it.  But research from South Korea found that older children (between the ages of 10 and 19) can transmit the coronavirus within a household just as much as adults.  The CDC guidelines recommended local officials consider closing schools -- or keeping them closed -- if there is substantial, uncontrolled spread of the virus.  \"It is critically important for our public health to open schools this fall,\" CDC Director Dr. Robert Redfield said.  \"School closures have disrupted normal ways of life for children and parents, and they have had negative health consequences on our youth. CDC is prepared to work with K-12 schools to safely reopen while protecting the most vulnerable.\" Your top coronavirus questions, answered CNN's Andy Rose, Nicole Chavez, Kay Jones, Alta Spells, Sarah Moon, Rosa Flores, Denise Royal, Natasha Chen and Chandler Thornton contributed to this report.  \n",
            "Text: Technology companies can help fight Covid-19 Dr. Farzad Mostashari is co-founder and CEO of Aledade. He is former National Coordinator for Health IT at the Department of Health and Human Services. Dr. Tom Frieden, former director of the US Centers for Disease Control and Prevention, is currently president and CEO of Resolve to Save Lives, a global non-profit initiative that is part of the global public health organization Vital Strategies. The views expressed in this commentary are solely those of the authors.  (CNN)The Covid-19 pandemic is a global, all-hands-on-deck moment. Every day, it asks a great deal from all of us, from policymakers and epidemiologists to health care professionals to every person who stays at home to protect others. It's forcing us to find new ways to work together to flatten the curve, protect our health care workers, strengthen public health and bring us all closer to the end of this crisis. It's only natural that the biggest tech companies, including Amazon, Apple, Google, Facebook and Microsoft, are stepping up as well, not only by donating to Covid-19 relief efforts, but also by harnessing their unique ability to rapidly solve problems and scale solutions. In the pandemic, the commitment to apply technology solutions to societal problems can help save lives and restore the economy, if it is channeled into the right solutions. That means these tech titans should focus on their expertise and share what they know. They should provide solutions that support our existing public health infrastructure. And most fundamentally, they should know when not to step up, sometimes resisting the temptation to help in order to follow that age-old promise in the Hippocratic oath, do no harm -- especially to the public trust that is crucial for effective response to the pandemic. Crises can provide fertile soil for a bias toward action, even when an action isn't needed. In a global pandemic, that bias often takes the form of an overreaction of surveillance. Ideas such as using apps for proximity-based automated contact tracing, as attempted in China and South Korea, and as Google and Apple have begun to explore, make assumptions about uptake and accuracy that are implausible. Worse, to make them more feasible could mean making participation hidden or coercive, threatening the very trust that an effective and democratic public health system needs. We've learned that lesson of surveillance too many times in the post-9/11 world. Proximity-based tracing applications may have some role supporting comprehensive contact tracing programs in the future, but only if they avoid over-promising, address privacy and feasibility barriers, and demonstrate accuracy and value. What tech companies can do is navigate the waters they know and focus on what they do best. Facebook, Twitter and Google, for example, have become not just ways to stay connected to people -- especially important in the midst of physical isolation -- but also places people turn to for information. That's why we were pleased to see these companies quickly elevate information from trusted sources to the top of news feeds and search pages, and for YouTube to aggressively take down harmful misinformation. Pinterest, Apple and others have released apps that facilitate health education and self assessment. There is still room for improvement, but these have been promising steps. For the next steps, tech companies can help by telling us what they've learned. The expertise tech companies bring to the fight against Covid-19 is powered by data insights that could be transformational if opened to the public. Google and Facebook, for example, recently announced their work to make Community Mobility Reports and a Mobility Dashboard available to the public, providing de-identified, aggregate data on how communities are responding to shelter-at-home orders and physical distancing. Big tech is learning more and benefits us all by sharing what it knows freely and publicly. These companies can also help by empowering us to do our jobs better. Not by creating something new, but by empowering the people who have been doing this work for decades. Carnegie Mellon University's Delphi epidemiological research center worked to develop a way to forecast where Covid-19 may hit next. They searched for a survey tool broad enough to launch their new symptom mapping project and found a partner in Facebook, which opened the survey to users of its platform. With this massive community of users, these epidemiologists were able to connect with a wealth of information that can inform our responses on the front lines and help us prepare for and possibly prevent future outbreaks. As epidemiologists, we are enthusiastic about this new data feed. It has the potential to serve as a crucial early warning system that can help save lives and preserve economic activity. One of our most important public health activities moving forward will be contact tracing. Apple, Google and Microsoft can contribute by helping public health workers do their job more effectively. Partnerships between our public health experts and our nation's leading technologists can be transformational in ways that will continue improving our health long after Covid-19 is no longer the emergency it is today. We are at a unique moment in human history, but not just because of this pandemic. Outbreaks of disease have left their scars throughout history. What makes this time unique is that we have, at our fingertips, a wealth of information, data and insights that would have been unimaginable in pandemics of the past. If we and the companies that hold this data use it well by building on expertise, sharing de-identified data widely, supporting public health and focusing on doing no harm, we can turn a new chapter in how humanity fights these invisible viral enemies with more interconnected human intelligence.  \n",
            "Text: FDA authorizes first rapid Covid-19 self-testing kit for at-home diagnosis  (CNN)The US Food and Drug Administration has issued an emergency use authorization for the first self-test for Covid-19 that can provide rapid results at home. The Lucira COVID-19 All-In-One Test Kit is a molecular single-use test available by prescription for self-diagnosis of the coronavirus, the agency said Tuesday. The rapid test utilizes a molecular amplification technology to detect the virus in people with known or suspected Covid-19 and can return results in 30 minutes, the FDA said. A molecular Covid-19 test searches for signs of the coronavirus genetic material. \"While COVID-19 diagnostic tests have been authorized for at-home collection, this is the first that can be fully self-administered and provide results at home,\" FDA Commissioner Dr. Stephen Hahn said in a statement. The new test, which uses self-collected nasal swab samples, is authorized for people 14 and older with suspected Covid-19 and people under 13 when performed by a health care provider. It is also authorized for use in point-of-care settings, such as doctor's offices, hospitals, urgent care centers and emergency rooms for all ages but must be collected by a health care provider, the FDA said. \"This new testing option is an important diagnostic advancement to address the pandemic and reduce the public burden of disease transmission,\" Hahn added. Health and Human Services Secretary Alex Azar agreed. \"Making it possible for Americans to do their own rapid COVID-19 self-test at home by prescription is the latest addition to our constantly expanding arsenal of COVID-19 testing options,\" Azar said in a statement. But some health experts urged caution. \"The data is just still emerging, Tom Bollyky, the director of the global health program and senior fellow for global health, economics, and development at the Council on Foreign Relations, told CNN. \"Obviously with some past emergency use authorizations it pays to be cautious with what the FDA has put out here, but it's certainly a promising sign.\"  The self Covid-19 home test could be one more step that gets the country closer to a new normality. \"Expanded testing, rapid testing really could be one more tool that brings us back to a life that approaches more normalcy. If we're able to identify at least on, perhaps even a daily basis, what our current viral load is and it helps us make ourselves safer and others,\" he said. The new self-testing kit includes a sterile swab, a sample vial, a test unit, batteries and a plastic disposal bag. The sample collected on the nasal swab is inserted into the vial which then enters the test unit where it is analyzed. The results are displayed on the test unit by a color change in the LED indicators, according to the FDA. Instructions on how to use the test are included with the prescription.  \n",
            "Text: Health care workers and long-term care facility residents should get Covid-19 vaccine first, CDC vaccine advisers say  (CNN)Vaccine advisers to the US Centers for Disease Control and Prevention voted 13-1 on Tuesday to recommend that both health care workers and residents of long-term care facilities be first in line for any coronavirus vaccines that get emergency authorization from the US Food and Drug Administration.   The Advisory Committee for Immunization Practices voted to include both groups in what they're calling Phase 1a of the CDC's coronavirus vaccine distribution plan.  They are at \"exceptionally high risk,\" Dr. Jose Romero, who chairs ACIP, said.   \"Long term care facility residents are defined as adults who reside in facilities that provide a variety of services, including medical and personal care, to persons who are unable to live independently,\" the CDC said.   These very frail people account for 40% of coronavirus deaths in the US and the ACIP committee members felt strongly they need to be protected. So far, the CDC's Sara Oliver told the meeting, 100,000 long term care facility residents have died from Covid-19.  ACIP members also agreed it would be efficient to vaccinate the staff working in nursing homes and similar long term care facilities and the residents at the same time.  And no one had doubts about the need to protect health care workers.  More than 240,000 health care workers have been infected with coronavirus and 858 have died, the CDC says. \"Anybody that works within a health care institution that could have contact with an individual who has Covid should receive vaccination,\" Romero  told CNN before the meeting started. \"That includes individuals such as the persons delivering food, those persons in housekeeping who rapidly turn over rooms in the emergency room or who perform cleaning in the patient's rooms. Those individuals will be included.\"  Just before the vote, the American Health Care Association and National Center for Assisted Living released a report showing nursing homes have recorded their highest weekly count of coronavirus cases since the spring. \"Given the asymptomatic and pre-symptomatic spread of this virus combined with the explosion of community spread across the U.S., we are extremely hopeful this vaccine will literally be a lifesaver for thousands of residents and expedite the reopening of our facilities to family members and loved ones,\" Mark Parkinson, president and CEO of AHCA/NCAL, said in a statement after the vote. The single vote against the recommendation came from Dr. Helen Keipp Talbot of Vanderbilt University, who said she was worried that the vaccine had not been studied in residents of long-term care facilities. \"We hope it works and we hope it's safe. That concerns me on many levels,\" Talbot told the meeting.  Later, she added: \"I have no reservations for health care workers taking this vaccine.\"  Early data on the Pfizer and Moderna vaccines suggest both are safe and highly effective, with each preventing 95% of symptomatic infections in the people who have volunteered to test them according to the companies. \"Our discussions have been transparent and our motives have been clear,\" Romero said after the vote. \"We see the growing number of health care providers that have become infected, some of which have, unfortunately, passed away,\" added Romero, who is secretary for health for the Arkansas Department of Health.  \"I believe my vote reflects maximum benefit, minimum harm, promoting justice and mitigating that health inequalities that exist with regard to distribution of this vaccine.\" Dr. Robert Atmar of the Baylor College of Medicine said he initially had qualms about putting long-term care facility residents in the first group. \"Ultimately, I was persuaded by the tremendous burden in terms of mortality and hospitalizations that the residents of these facilities bear, the remarkable efficacy that has initially been reported and that ultimately we will have a chance to review ... and the plans for monitoring of safety in this population and the extra mile that will be pursued to make sure that the residents and their families will be fully informed about the amount of evidence that is available before the residents receive the vaccine.\"  The next meeting will come after the FDA's advisers, known as the Vaccines and Related Biological Products Advisory Committee or VRBPAC, meet on December 10 to decide on Pfizer's application for an EUA, said ACIP's executive secretary, Dr. Amanda Cohn. \"We anticipate that the next ACIP meeting will occur sometime after the VRPBAC meeting,\" Cohn said. ACIP will vote to recommend whether any vaccine the FDA authorizes should actually be given to anyone in the United States. The CDC and ACIP are considering a four-phase plan for allocating vaccines eventually. Phases 1b and 1c will likely include essential workers such as food production workers who are at high risk of infection, as well as emergency personnel and perhaps people at highest risk of coronavirus complications and death. The federal government anticipates that 40 million doses of vaccine could be available in the United States by the end of December if both the Pfizer and Moderna vaccines are approved.   But all 40 million doses would not be available right away, Oliver told Tuesday's meeting. \"We expect a constrained supply environment,\" Oliver said. Oliver said the CDC expects between 5 million and 10 million doses will become available each week for the first few months as vaccine makers ramp up manufacturing.  \n"
          ]
        }
      ]
    },
    {
      "cell_type": "code",
      "source": [
        "# Load tokenizer\n",
        "tokenizer = AutoTokenizer.from_pretrained(\"distilgpt2\")\n",
        "\n",
        "# Tokenize data\n",
        "training_data_tokenized = []\n",
        "for data in training_data:\n",
        "  tokenized_text = tokenizer.encode(data)\n",
        "  training_data_tokenized.append(tokenized_text)\n",
        "\n",
        "print(len(training_data_tokenized))\n",
        "print(len(training_data_tokenized[0]),training_data_tokenized[0][:20])"
      ],
      "metadata": {
        "colab": {
          "base_uri": "https://localhost:8080/"
        },
        "id": "6wiNKGMrekIx",
        "outputId": "942147b6-35d9-4af1-d411-d92c4fb96771"
      },
      "execution_count": null,
      "outputs": [
        {
          "output_type": "stream",
          "name": "stderr",
          "text": [
            "Token indices sequence length is longer than the specified maximum sequence length for this model (1611 > 1024). Running this sequence through the model will result in indexing errors\n"
          ]
        },
        {
          "output_type": "stream",
          "name": "stdout",
          "text": [
            "300\n",
            "593 [31439, 64, 13423, 12319, 481, 307, 14153, 1028, 17670, 11, 475, 481, 1332, 47949, 284, 2987, 16989, 220, 357, 18474]\n"
          ]
        }
      ]
    },
    {
      "cell_type": "code",
      "source": [
        "# Split into blocks\n",
        "training_chunks = []\n",
        "block_size = 100\n",
        "for tokenized_text in training_data_tokenized:\n",
        "  for i in range(0, len(tokenized_text) - block_size + 1, block_size):  # Truncate in block of block_size\n",
        "      training_chunks.append(tokenized_text[i:i + block_size])\n",
        "\n",
        "# Generate inputs and labels\n",
        "inputs = []\n",
        "labels = []\n",
        "for ex in training_chunks:\n",
        "    inputs.append(ex[:-1])\n",
        "    labels.append(ex[1:])\n",
        "\n",
        "print(\"inputs length:\",len(inputs))\n",
        "print(\"labels length:\",len(labels))"
      ],
      "metadata": {
        "colab": {
          "base_uri": "https://localhost:8080/"
        },
        "id": "gabMwrVeesf1",
        "outputId": "b549c8f1-53c7-4080-a040-b2466c32a692"
      },
      "execution_count": null,
      "outputs": [
        {
          "output_type": "stream",
          "name": "stdout",
          "text": [
            "inputs length: 3788\n",
            "labels length: 3788\n"
          ]
        }
      ]
    },
    {
      "cell_type": "code",
      "source": [
        "print(\"input:\",len(inputs[0]),inputs[0][:20])\n",
        "print(\"labels:\",len(labels[0]),labels[0][:20])"
      ],
      "metadata": {
        "colab": {
          "base_uri": "https://localhost:8080/"
        },
        "id": "I7om_xVjewug",
        "outputId": "d88c0c5d-3c4f-48ab-9906-b59d536b3d64"
      },
      "execution_count": null,
      "outputs": [
        {
          "output_type": "stream",
          "name": "stdout",
          "text": [
            "input: 99 [31439, 64, 13423, 12319, 481, 307, 14153, 1028, 17670, 11, 475, 481, 1332, 47949, 284, 2987, 16989, 220, 357, 18474]\n",
            "labels: 99 [64, 13423, 12319, 481, 307, 14153, 1028, 17670, 11, 475, 481, 1332, 47949, 284, 2987, 16989, 220, 357, 18474, 8]\n"
          ]
        }
      ]
    },
    {
      "cell_type": "code",
      "source": [
        "BATCH_SIZE = 12\n",
        "TRAIN_SHUFFLE_BUFFER_SIZE = len(inputs)\n",
        "\n",
        "# Create TF Dataset\n",
        "train_data = tf.data.Dataset.from_tensor_slices((inputs, labels))\n",
        "\n",
        "#############\n",
        "# Train data\n",
        "#############\n",
        "train_data = train_data.shuffle(buffer_size=TRAIN_SHUFFLE_BUFFER_SIZE)\n",
        "train_data = train_data.batch(BATCH_SIZE, drop_remainder=True)\n",
        "train_data = train_data.prefetch(buffer_size=tf.data.experimental.AUTOTUNE)\n",
        "\n",
        "print(\"train_data\",train_data)"
      ],
      "metadata": {
        "colab": {
          "base_uri": "https://localhost:8080/"
        },
        "id": "5HInr8mweyEp",
        "outputId": "5496be07-a3e2-4eb5-9f10-adf76b08bdd8"
      },
      "execution_count": null,
      "outputs": [
        {
          "output_type": "stream",
          "name": "stdout",
          "text": [
            "train_data <_PrefetchDataset element_spec=(TensorSpec(shape=(12, 99), dtype=tf.int32, name=None), TensorSpec(shape=(12, 99), dtype=tf.int32, name=None))>\n"
          ]
        }
      ]
    },
    {
      "cell_type": "code",
      "source": [
        "from transformers import TFAutoModelWithLMHead\n",
        "############################\n",
        "# Training Params\n",
        "############################\n",
        "learning_rate = 3e-5\n",
        "epsilon=1e-08\n",
        "clipnorm=1.0\n",
        "epochs = 30\n",
        "\n",
        "# Free up memory\n",
        "K.clear_session()\n",
        "\n",
        "# Build the model\n",
        "model = TFAutoModelWithLMHead.from_pretrained(\"distilgpt2\")\n",
        "\n",
        "# Print the model architecture\n",
        "print(model.summary())\n",
        "\n",
        "# Optimizer\n",
        "optimizer = tf.keras.optimizers.Adam(learning_rate=learning_rate, epsilon=epsilon, clipnorm=clipnorm)\n",
        "# Loss\n",
        "loss = tf.keras.losses.SparseCategoricalCrossentropy(from_logits=True)\n",
        "metric = tf.keras.metrics.SparseCategoricalAccuracy('accuracy')\n",
        "\n",
        "# Compile\n",
        "model.compile(loss=[loss, *[None] * model.config.n_layer],\n",
        "                  optimizer=optimizer,\n",
        "                  metrics=[metric])\n",
        "\n",
        "# Train model\n",
        "start_time = time.time()\n",
        "training_results = model.fit(\n",
        "        train_data, # train_data.take(1000) for testing\n",
        "        epochs=epochs,\n",
        "        verbose=1)\n",
        "execution_time = (time.time() - start_time)/60.0\n",
        "print(\"Training execution time (mins)\",execution_time)"
      ],
      "metadata": {
        "colab": {
          "base_uri": "https://localhost:8080/",
          "height": 1000,
          "referenced_widgets": [
            "256db42191074e088700bcd91ab6806e",
            "9bff89d6196d4b2fa03b9b7a4bc1fe11",
            "8662c747c5c245f0be04920157220207",
            "c350e8fd93d94ec98176d3478b3ee466",
            "cacf2894023c40d096973f4cacb3c362",
            "34adce56001c41fabfb4d1716b429f06",
            "89ff48a748ad4492b60ef261226cebed",
            "3e1260c562574a878e5b9b12d015b017",
            "36e8e74970ba41efa4264e20577c4984",
            "fa2f0350c6444083bbdff7f54b6e3a92",
            "da68a6387c9c4986b396fcc01cf42751"
          ]
        },
        "id": "jqTQ095fezco",
        "outputId": "c3486ea9-cd28-4c57-d45d-ae9dd6df079e"
      },
      "execution_count": null,
      "outputs": [
        {
          "output_type": "stream",
          "name": "stderr",
          "text": [
            "/usr/local/lib/python3.11/dist-packages/transformers/models/auto/modeling_tf_auto.py:721: FutureWarning: The class `TFAutoModelWithLMHead` is deprecated and will be removed in a future version. Please use `TFAutoModelForCausalLM` for causal language models, `TFAutoModelForMaskedLM` for masked language models and `TFAutoModelForSeq2SeqLM` for encoder-decoder models.\n",
            "  warnings.warn(\n",
            "Xet Storage is enabled for this repo, but the 'hf_xet' package is not installed. Falling back to regular HTTP download. For better performance, install the package with: `pip install huggingface_hub[hf_xet]` or `pip install hf_xet`\n",
            "WARNING:huggingface_hub.file_download:Xet Storage is enabled for this repo, but the 'hf_xet' package is not installed. Falling back to regular HTTP download. For better performance, install the package with: `pip install huggingface_hub[hf_xet]` or `pip install hf_xet`\n"
          ]
        },
        {
          "output_type": "display_data",
          "data": {
            "text/plain": [
              "model.safetensors:   0%|          | 0.00/353M [00:00<?, ?B/s]"
            ],
            "application/vnd.jupyter.widget-view+json": {
              "version_major": 2,
              "version_minor": 0,
              "model_id": "256db42191074e088700bcd91ab6806e"
            }
          },
          "metadata": {}
        },
        {
          "output_type": "stream",
          "name": "stderr",
          "text": [
            "All PyTorch model weights were used when initializing TFGPT2LMHeadModel.\n",
            "\n",
            "All the weights of TFGPT2LMHeadModel were initialized from the PyTorch model.\n",
            "If your task is similar to the task the model of the checkpoint was trained on, you can already use TFGPT2LMHeadModel for predictions without further training.\n"
          ]
        },
        {
          "output_type": "stream",
          "name": "stdout",
          "text": [
            "Model: \"tfgpt2lm_head_model\"\n",
            "_________________________________________________________________\n",
            " Layer (type)                Output Shape              Param #   \n",
            "=================================================================\n",
            " transformer (TFGPT2MainLay  multiple                  81912576  \n",
            " er)                                                             \n",
            "                                                                 \n",
            "=================================================================\n",
            "Total params: 81912576 (312.47 MB)\n",
            "Trainable params: 81912576 (312.47 MB)\n",
            "Non-trainable params: 0 (0.00 Byte)\n",
            "_________________________________________________________________\n",
            "None\n",
            "Epoch 1/30\n",
            "315/315 [==============================] - 121s 328ms/step - loss: 3.5611 - accuracy: 0.3340\n",
            "Epoch 2/30\n",
            "315/315 [==============================] - 102s 325ms/step - loss: 3.3356 - accuracy: 0.3553\n",
            "Epoch 3/30\n",
            "315/315 [==============================] - 102s 325ms/step - loss: 3.2254 - accuracy: 0.3678\n",
            "Epoch 4/30\n",
            "315/315 [==============================] - 102s 324ms/step - loss: 3.1388 - accuracy: 0.3773\n",
            "Epoch 5/30\n",
            "315/315 [==============================] - 103s 327ms/step - loss: 3.0625 - accuracy: 0.3860\n",
            "Epoch 6/30\n",
            "315/315 [==============================] - 102s 325ms/step - loss: 2.9919 - accuracy: 0.3948\n",
            "Epoch 7/30\n",
            "315/315 [==============================] - 102s 325ms/step - loss: 2.9237 - accuracy: 0.4027\n",
            "Epoch 8/30\n",
            "315/315 [==============================] - 103s 327ms/step - loss: 2.8617 - accuracy: 0.4108\n",
            "Epoch 9/30\n",
            "315/315 [==============================] - 102s 325ms/step - loss: 2.8011 - accuracy: 0.4180\n",
            "Epoch 10/30\n",
            "315/315 [==============================] - 102s 325ms/step - loss: 2.7408 - accuracy: 0.4258\n",
            "Epoch 11/30\n",
            "315/315 [==============================] - 102s 324ms/step - loss: 2.6874 - accuracy: 0.4332\n",
            "Epoch 12/30\n",
            "315/315 [==============================] - 102s 324ms/step - loss: 2.6312 - accuracy: 0.4395\n",
            "Epoch 13/30\n",
            "315/315 [==============================] - 103s 327ms/step - loss: 2.5783 - accuracy: 0.4468\n",
            "Epoch 14/30\n",
            "315/315 [==============================] - 102s 325ms/step - loss: 2.5262 - accuracy: 0.4550\n",
            "Epoch 15/30\n",
            "315/315 [==============================] - 102s 324ms/step - loss: 2.4739 - accuracy: 0.4612\n",
            "Epoch 16/30\n",
            "315/315 [==============================] - 103s 327ms/step - loss: 2.4238 - accuracy: 0.4689\n",
            "Epoch 17/30\n",
            "315/315 [==============================] - 103s 327ms/step - loss: 2.3756 - accuracy: 0.4763\n",
            "Epoch 18/30\n",
            "315/315 [==============================] - 102s 325ms/step - loss: 2.3257 - accuracy: 0.4831\n",
            "Epoch 19/30\n",
            "315/315 [==============================] - 103s 327ms/step - loss: 2.2784 - accuracy: 0.4908\n",
            "Epoch 20/30\n",
            "315/315 [==============================] - 102s 324ms/step - loss: 2.2303 - accuracy: 0.4976\n",
            "Epoch 21/30\n",
            "315/315 [==============================] - 102s 325ms/step - loss: 2.1847 - accuracy: 0.5051\n",
            "Epoch 22/30\n",
            "315/315 [==============================] - 102s 324ms/step - loss: 2.1389 - accuracy: 0.5117\n",
            "Epoch 23/30\n",
            "315/315 [==============================] - 102s 324ms/step - loss: 2.0922 - accuracy: 0.5192\n",
            "Epoch 24/30\n",
            "315/315 [==============================] - 102s 324ms/step - loss: 2.0499 - accuracy: 0.5259\n",
            "Epoch 25/30\n",
            "315/315 [==============================] - 102s 324ms/step - loss: 2.0057 - accuracy: 0.5335\n",
            "Epoch 26/30\n",
            "315/315 [==============================] - 103s 327ms/step - loss: 1.9628 - accuracy: 0.5407\n",
            "Epoch 27/30\n",
            "315/315 [==============================] - 102s 325ms/step - loss: 1.9213 - accuracy: 0.5477\n",
            "Epoch 28/30\n",
            "315/315 [==============================] - 103s 327ms/step - loss: 1.8775 - accuracy: 0.5547\n",
            "Epoch 29/30\n",
            "315/315 [==============================] - 102s 325ms/step - loss: 1.8365 - accuracy: 0.5629\n",
            "Epoch 30/30\n",
            "315/315 [==============================] - 103s 327ms/step - loss: 1.7979 - accuracy: 0.5697\n",
            "Training execution time (mins) 58.151370477676394\n"
          ]
        }
      ]
    },
    {
      "cell_type": "code",
      "source": [
        "# Input text\n",
        "input_text = \"how is covid affecting\"\n",
        "\n",
        "# Tokenize Input\n",
        "input_ids = tokenizer.encode(input_text, return_tensors='tf')\n",
        "print(\"input_ids\",input_ids)\n",
        "\n",
        "# Generate outout\n",
        "outputs = model.generate(\n",
        "    input_ids,\n",
        "    do_sample=True,\n",
        "    max_length=75,\n",
        "    top_p=0.80,\n",
        "    top_k=0\n",
        ")\n",
        "\n",
        "print(\"Generated text:\")\n",
        "display(tokenizer.decode(outputs[0], skip_special_tokens=True))"
      ],
      "metadata": {
        "colab": {
          "base_uri": "https://localhost:8080/",
          "height": 142
        },
        "id": "Gmdy1KBmfkig",
        "outputId": "956fdbce-91f2-4020-f471-dfe272da1ad8"
      },
      "execution_count": null,
      "outputs": [
        {
          "output_type": "stream",
          "name": "stderr",
          "text": [
            "The attention mask and the pad token id were not set. As a consequence, you may observe unexpected behavior. Please pass your input's `attention_mask` to obtain reliable results.\n"
          ]
        },
        {
          "output_type": "stream",
          "name": "stdout",
          "text": [
            "input_ids tf.Tensor([[ 4919   318 39849   312 13891]], shape=(1, 5), dtype=int32)\n",
            "Generated text:\n"
          ]
        },
        {
          "output_type": "display_data",
          "data": {
            "text/plain": [
              "'how is covid affecting children? The key is not to politicize the conversation, but to really politicize the conversation.\"  The study \"explained the impact of covid in young children, adolescents and young adults in different settings,\" said Jenni Wiley, a research assistant professor at the University of Minnesota.  Wiley said the researchers found that Black children were the \"'"
            ],
            "application/vnd.google.colaboratory.intrinsic+json": {
              "type": "string"
            }
          },
          "metadata": {}
        }
      ]
    },
    {
      "cell_type": "code",
      "source": [
        "# Input text\n",
        "input_text = \"the global pandemic\"\n",
        "\n",
        "# Tokenize Input\n",
        "input_ids = tokenizer.encode(input_text, return_tensors='tf')\n",
        "\n",
        "# Generate outout\n",
        "outputs = model.generate(\n",
        "    input_ids,\n",
        "    do_sample=True,\n",
        "    max_length=75,\n",
        "    top_p=0.8,\n",
        "    top_k=0\n",
        ")\n",
        "\n",
        "print(\"Generated text:\")\n",
        "display(tokenizer.decode(outputs[0], skip_special_tokens=True))"
      ],
      "metadata": {
        "colab": {
          "base_uri": "https://localhost:8080/",
          "height": 124
        },
        "id": "f3wR39RZflnY",
        "outputId": "f6f4d7ce-85e9-413b-d4c7-828e99236ac9"
      },
      "execution_count": null,
      "outputs": [
        {
          "output_type": "stream",
          "name": "stderr",
          "text": [
            "The attention mask and the pad token id were not set. As a consequence, you may observe unexpected behavior. Please pass your input's `attention_mask` to obtain reliable results.\n"
          ]
        },
        {
          "output_type": "stream",
          "name": "stdout",
          "text": [
            "Generated text:\n"
          ]
        },
        {
          "output_type": "display_data",
          "data": {
            "text/plain": [
              "'the global pandemic,\" Francis said in a media briefing on Friday. \"It is in our national interest to open our economy to the best of our ability and to prevent further spread of this virus in our communities.\" Francis also said that although he had not personally contracted the virus, he still had a close relationship with the woman.  \"I would urge all US citizens to'"
            ],
            "application/vnd.google.colaboratory.intrinsic+json": {
              "type": "string"
            }
          },
          "metadata": {}
        }
      ]
    },
    {
      "cell_type": "markdown",
      "source": [
        "# 🚽 Pipelines\n",
        "\n",
        "| **Task**                     | **Description**                                                                                              | **Modality**    |\n",
        "|------------------------------|--------------------------------------------------------------------------------------------------------------|-----------------|\n",
        "| Text classification          | assign a label to a given sequence of text                                                                   | NLP             |\n",
        "| Text generation              | generate text given a prompt                                                                                 | NLP             |\n",
        "| Summarization                | generate a summary of a sequence of text or document                                                         | NLP             |\n",
        "\n",
        "<Tip>\n",
        "\n",
        "For a complete list of available tasks, check out the [pipeline API reference](https://huggingface.co/docs/transformers/main/en/./main_classes/pipelines).\n",
        "\n",
        "</Tip>"
      ],
      "metadata": {
        "id": "oowf-aFOnwtQ"
      }
    },
    {
      "cell_type": "code",
      "source": [
        "from transformers import pipeline"
      ],
      "metadata": {
        "id": "L0410g1OfnuD"
      },
      "execution_count": null,
      "outputs": []
    },
    {
      "cell_type": "code",
      "source": [
        "cls = pipeline('ner')"
      ],
      "metadata": {
        "colab": {
          "base_uri": "https://localhost:8080/",
          "height": 304,
          "referenced_widgets": [
            "b174a8bbc0bb434b9afb38ae8f76722a",
            "fc5d72e2f6eb411fa9428b7b67387e80",
            "2479fe19eada4482aacaf08cf9fae412",
            "1cdc9cd7d23e41c0906381bae172aac8",
            "2c00fc903a1441a482dcdaab3b2838d0",
            "c0c23d8532ce4e53a89e2283ad442d82",
            "c5f838014c304a72a8fef05679ec6d52",
            "9562d0b1455c4fdc90292590b1487336",
            "3fb4a92bc26849c390f72b3e0429083c",
            "e0ef5a6f99d74420b5360ab16548f269",
            "725376ff73574b9fb2ab125d8d175f7d",
            "deef137d2ca34ed390ffcde72b669fa0",
            "76764e8c12594d3c9a2b371e7acae375",
            "871614e81f364317932fb8a817afb406",
            "37e8007808054fedb862c9013ef4b2a9",
            "8066918117e4489d9128723b83047474",
            "6acf5c7e0458492eb73d6837e1cda691",
            "05c57bfb108b4513835417558671d5fb",
            "33a02a30336548c2a20244b2cf056bb2",
            "184561bd6c484fefae1c5b8b5810a8e4",
            "1824a259c694415d9d865415abe6b8b1",
            "9967707719014d719d29b45f9da337d9",
            "0c7571318823472292affe7b2550cf11",
            "f2b903db56164d4c8ce40dd133b4631e",
            "364fb326fa8d47c4a375f9874c036770",
            "89ca973215b74797ad7aed7a41b626fa",
            "0bd6916038574698891b4f07a290f5bb",
            "996b42f909154e63a15003f570e6126e",
            "fdf084a16abd4b60942f4f6b70929ebf",
            "34c892e298de432b99ffb301cc506ff3",
            "ab395a0d232f4cb88997e9acfda8d819",
            "1cccbb556e01490b82892759e76aee67",
            "bb48f2c8a53f4f9fbc96b66cd3a9a6cd",
            "dd61c4aababb440f8f474dd17f808cba",
            "df614718f43a4b229381cbab65d9f95f",
            "021ffbfd6581461b82805053127f4c47",
            "6cbcf0434a814a7eb0fc8a717251267c",
            "9a58435ef3ae4f458c647a3f3a4f94c7",
            "f610303dcc30485fb9071003c7190e8a",
            "81fcc4f188474cf6a9659ba7d5e2d9e4",
            "73d1ab38a11a446698b643549941c6fc",
            "9ccb2f00d5d14cc9b216df1634649fee",
            "5f75be3250444d61bf4a37c160726746",
            "6217a68e9301412fb32560f21f8112b4"
          ]
        },
        "id": "iX-W4BhEWhfX",
        "outputId": "df4be255-b668-4cea-d92b-172778a43486"
      },
      "execution_count": null,
      "outputs": [
        {
          "output_type": "stream",
          "name": "stderr",
          "text": [
            "No model was supplied, defaulted to dbmdz/bert-large-cased-finetuned-conll03-english and revision 4c53496 (https://huggingface.co/dbmdz/bert-large-cased-finetuned-conll03-english).\n",
            "Using a pipeline without specifying a model name and revision in production is not recommended.\n"
          ]
        },
        {
          "output_type": "display_data",
          "data": {
            "text/plain": [
              "config.json:   0%|          | 0.00/998 [00:00<?, ?B/s]"
            ],
            "application/vnd.jupyter.widget-view+json": {
              "version_major": 2,
              "version_minor": 0,
              "model_id": "b174a8bbc0bb434b9afb38ae8f76722a"
            }
          },
          "metadata": {}
        },
        {
          "output_type": "stream",
          "name": "stderr",
          "text": [
            "Xet Storage is enabled for this repo, but the 'hf_xet' package is not installed. Falling back to regular HTTP download. For better performance, install the package with: `pip install huggingface_hub[hf_xet]` or `pip install hf_xet`\n",
            "WARNING:huggingface_hub.file_download:Xet Storage is enabled for this repo, but the 'hf_xet' package is not installed. Falling back to regular HTTP download. For better performance, install the package with: `pip install huggingface_hub[hf_xet]` or `pip install hf_xet`\n"
          ]
        },
        {
          "output_type": "display_data",
          "data": {
            "text/plain": [
              "model.safetensors:   0%|          | 0.00/1.33G [00:00<?, ?B/s]"
            ],
            "application/vnd.jupyter.widget-view+json": {
              "version_major": 2,
              "version_minor": 0,
              "model_id": "deef137d2ca34ed390ffcde72b669fa0"
            }
          },
          "metadata": {}
        },
        {
          "output_type": "stream",
          "name": "stderr",
          "text": [
            "Some weights of the model checkpoint at dbmdz/bert-large-cased-finetuned-conll03-english were not used when initializing BertForTokenClassification: ['bert.pooler.dense.bias', 'bert.pooler.dense.weight']\n",
            "- This IS expected if you are initializing BertForTokenClassification from the checkpoint of a model trained on another task or with another architecture (e.g. initializing a BertForSequenceClassification model from a BertForPreTraining model).\n",
            "- This IS NOT expected if you are initializing BertForTokenClassification from the checkpoint of a model that you expect to be exactly identical (initializing a BertForSequenceClassification model from a BertForSequenceClassification model).\n"
          ]
        },
        {
          "output_type": "display_data",
          "data": {
            "text/plain": [
              "tokenizer_config.json:   0%|          | 0.00/60.0 [00:00<?, ?B/s]"
            ],
            "application/vnd.jupyter.widget-view+json": {
              "version_major": 2,
              "version_minor": 0,
              "model_id": "0c7571318823472292affe7b2550cf11"
            }
          },
          "metadata": {}
        },
        {
          "output_type": "display_data",
          "data": {
            "text/plain": [
              "vocab.txt:   0%|          | 0.00/213k [00:00<?, ?B/s]"
            ],
            "application/vnd.jupyter.widget-view+json": {
              "version_major": 2,
              "version_minor": 0,
              "model_id": "dd61c4aababb440f8f474dd17f808cba"
            }
          },
          "metadata": {}
        },
        {
          "output_type": "stream",
          "name": "stderr",
          "text": [
            "Device set to use cuda:0\n"
          ]
        }
      ]
    },
    {
      "cell_type": "code",
      "source": [
        "cls(\"Pavlos is one of the teachers here at Harvard\")"
      ],
      "metadata": {
        "colab": {
          "base_uri": "https://localhost:8080/"
        },
        "id": "cjALJJ78WlT4",
        "outputId": "77d9206c-43b9-488a-9c03-8f9c01c8d24f"
      },
      "execution_count": null,
      "outputs": [
        {
          "output_type": "execute_result",
          "data": {
            "text/plain": [
              "[{'entity': 'I-PER',\n",
              "  'score': np.float32(0.9992362),\n",
              "  'index': 1,\n",
              "  'word': 'Pa',\n",
              "  'start': 0,\n",
              "  'end': 2},\n",
              " {'entity': 'I-PER',\n",
              "  'score': np.float32(0.99177223),\n",
              "  'index': 2,\n",
              "  'word': '##v',\n",
              "  'start': 2,\n",
              "  'end': 3},\n",
              " {'entity': 'I-PER',\n",
              "  'score': np.float32(0.995366),\n",
              "  'index': 3,\n",
              "  'word': '##los',\n",
              "  'start': 3,\n",
              "  'end': 6},\n",
              " {'entity': 'I-ORG',\n",
              "  'score': np.float32(0.972195),\n",
              "  'index': 11,\n",
              "  'word': 'Harvard',\n",
              "  'start': 38,\n",
              "  'end': 45}]"
            ]
          },
          "metadata": {},
          "execution_count": 42
        }
      ]
    },
    {
      "cell_type": "code",
      "source": [
        "time_end = time.time()\n",
        "print(f\"It took {(time_end - time_start)/60:.2f} minutes for this notebook to run\")"
      ],
      "metadata": {
        "id": "iCOedqOQWt1N",
        "colab": {
          "base_uri": "https://localhost:8080/"
        },
        "outputId": "12182048-fa1e-4fa3-f1b8-147e057a1432"
      },
      "execution_count": null,
      "outputs": [
        {
          "output_type": "stream",
          "name": "stdout",
          "text": [
            "It took 65.27 minutes for this notebook to run\n"
          ]
        }
      ]
    }
  ]
}